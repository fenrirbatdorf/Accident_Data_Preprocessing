{
 "cells": [
  {
   "cell_type": "code",
   "execution_count": 1,
   "id": "3e725d01",
   "metadata": {},
   "outputs": [],
   "source": [
    "import numpy as np\n",
    "from sklearn.model_selection import train_test_split\n",
    "import pandas as pd\n"
   ]
  },
  {
   "cell_type": "code",
   "execution_count": 2,
   "id": "737039f7",
   "metadata": {},
   "outputs": [],
   "source": [
    "df = pd.read_csv('../Accident_Data_Preprocessing/Data_Raw/full_data/mdtraffic.csv')"
   ]
  },
  {
   "cell_type": "code",
   "execution_count": 3,
   "id": "db98883f",
   "metadata": {},
   "outputs": [],
   "source": [
    "df.head()\n",
    "df.columns\n",
    "df_new = df[['Severity', 'ID', 'Source', 'Start_Time', 'End_Time', 'Start_Lat',\n",
    "       'Start_Lng', 'End_Lat', 'End_Lng', 'Distance(mi)', 'Description',\n",
    "       'Street', 'City', 'County', 'State', 'Zipcode', 'Country', 'Timezone',\n",
    "       'Airport_Code', 'Weather_Timestamp', 'Temperature(F)', 'Wind_Chill(F)',\n",
    "       'Humidity(%)', 'Pressure(in)', 'Visibility(mi)', 'Wind_Direction',\n",
    "       'Wind_Speed(mph)', 'Precipitation(in)', 'Weather_Condition', 'Amenity',\n",
    "       'Bump', 'Crossing', 'Give_Way', 'Junction', 'No_Exit', 'Railway',\n",
    "       'Roundabout', 'Station', 'Stop', 'Traffic_Calming', 'Traffic_Signal',\n",
    "       'Turning_Loop', 'Sunrise_Sunset', 'Civil_Twilight', 'Nautical_Twilight',\n",
    "       'Astronomical_Twilight']]\n",
    "\n",
    "X = df_new.iloc[:, 1:]\n",
    "y = df_new.Severity\n",
    "\n",
    "X_train, X_test, y_train, y_test = train_test_split(X, y, \n",
    "                                                    test_size = 0.2, \n",
    "                                                    random_state = 49209)\n",
    "\n"
   ]
  },
  {
   "cell_type": "code",
   "execution_count": 4,
   "id": "aa0b2564",
   "metadata": {},
   "outputs": [],
   "source": [
    "\n",
    "X_train.to_csv('../Accident_Data_Preprocessing/Data_Raw/train_data/X_train.csv', index = False)\n",
    "y_train.to_csv('../Accident_Data_Preprocessing/Data_Raw/train_data/y_train.csv', index = False)\n",
    "    \n",
    "\n",
    "X_test.to_csv('../Accident_Data_Preprocessing/Data_Raw/test_data/X_test.csv', index = False)\n",
    "y_test.to_csv('../Accident_Data_Preprocessing/Data_Raw/test_data/y_test.csv', index = False)\n"
   ]
  }
 ],
 "metadata": {
  "kernelspec": {
   "display_name": "base",
   "language": "python",
   "name": "python3"
  },
  "language_info": {
   "codemirror_mode": {
    "name": "ipython",
    "version": 3
   },
   "file_extension": ".py",
   "mimetype": "text/x-python",
   "name": "python",
   "nbconvert_exporter": "python",
   "pygments_lexer": "ipython3",
   "version": "3.13.4"
  }
 },
 "nbformat": 4,
 "nbformat_minor": 5
}
