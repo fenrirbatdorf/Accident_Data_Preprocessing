{
 "cells": [
  {
   "cell_type": "code",
   "execution_count": 1,
   "id": "6bb410a6",
   "metadata": {},
   "outputs": [],
   "source": [
    "import pandas as pd\n",
    "import numpy as np"
   ]
  },
  {
   "cell_type": "code",
   "execution_count": 2,
   "id": "a166a3e4",
   "metadata": {},
   "outputs": [
    {
     "data": {
      "application/vnd.microsoft.datawrangler.viewer.v0+json": {
       "columns": [
        {
         "name": "index",
         "rawType": "int64",
         "type": "integer"
        },
        {
         "name": "Type",
         "rawType": "object",
         "type": "string"
        },
        {
         "name": "Class",
         "rawType": "int64",
         "type": "integer"
        },
        {
         "name": "Variable1",
         "rawType": "object",
         "type": "string"
        },
        {
         "name": "Variable2",
         "rawType": "object",
         "type": "string"
        },
        {
         "name": "Variable3",
         "rawType": "object",
         "type": "string"
        },
        {
         "name": "Frequency",
         "rawType": "float64",
         "type": "float"
        },
        {
         "name": "Frequency_Difference",
         "rawType": "float64",
         "type": "float"
        },
        {
         "name": "Unnamed: 7",
         "rawType": "float64",
         "type": "float"
        }
       ],
       "ref": "27e80e00-7c11-426b-a335-ffd461635bfb",
       "rows": [
        [
         "0",
         "U",
         "1",
         "(Humidity(_%), '\\'(69.5-83.5]\\'')",
         "(Wind_Direction, N)",
         "(Crossing, True)",
         "0.001",
         null,
         null
        ],
        [
         "1",
         "U",
         "1",
         "(Street, Highway)",
         "(Humidity(_%), '\\'(93.5-inf)\\'')",
         "(Weather_Condition, 'Wintry Mix')",
         "0.001",
         null,
         null
        ],
        [
         "2",
         "U",
         "1",
         "(Street, large_local)",
         "(Wind_Direction, NW)",
         "(Amenity, True)",
         "0.0",
         null,
         null
        ],
        [
         "3",
         "U",
         "0",
         "(Visibility(mi), '\\'(-inf-9.5]\\'')",
         "(Wind_Direction, S)",
         "(Weather_Condition, 'Scattered Clouds')",
         "0.0",
         null,
         null
        ],
        [
         "4",
         "U",
         "1",
         "(Street, Highway)",
         "(Weather_Condition, 'Partly Cloudy')",
         "(Crossing, True)",
         "0.0",
         null,
         null
        ]
       ],
       "shape": {
        "columns": 8,
        "rows": 5
       }
      },
      "text/html": [
       "<div>\n",
       "<style scoped>\n",
       "    .dataframe tbody tr th:only-of-type {\n",
       "        vertical-align: middle;\n",
       "    }\n",
       "\n",
       "    .dataframe tbody tr th {\n",
       "        vertical-align: top;\n",
       "    }\n",
       "\n",
       "    .dataframe thead th {\n",
       "        text-align: right;\n",
       "    }\n",
       "</style>\n",
       "<table border=\"1\" class=\"dataframe\">\n",
       "  <thead>\n",
       "    <tr style=\"text-align: right;\">\n",
       "      <th></th>\n",
       "      <th>Type</th>\n",
       "      <th>Class</th>\n",
       "      <th>Variable1</th>\n",
       "      <th>Variable2</th>\n",
       "      <th>Variable3</th>\n",
       "      <th>Frequency</th>\n",
       "      <th>Frequency_Difference</th>\n",
       "      <th>Unnamed: 7</th>\n",
       "    </tr>\n",
       "  </thead>\n",
       "  <tbody>\n",
       "    <tr>\n",
       "      <th>0</th>\n",
       "      <td>U</td>\n",
       "      <td>1</td>\n",
       "      <td>(Humidity(_%), '\\'(69.5-83.5]\\'')</td>\n",
       "      <td>(Wind_Direction, N)</td>\n",
       "      <td>(Crossing, True)</td>\n",
       "      <td>0.001</td>\n",
       "      <td>NaN</td>\n",
       "      <td>NaN</td>\n",
       "    </tr>\n",
       "    <tr>\n",
       "      <th>1</th>\n",
       "      <td>U</td>\n",
       "      <td>1</td>\n",
       "      <td>(Street, Highway)</td>\n",
       "      <td>(Humidity(_%), '\\'(93.5-inf)\\'')</td>\n",
       "      <td>(Weather_Condition, 'Wintry Mix')</td>\n",
       "      <td>0.001</td>\n",
       "      <td>NaN</td>\n",
       "      <td>NaN</td>\n",
       "    </tr>\n",
       "    <tr>\n",
       "      <th>2</th>\n",
       "      <td>U</td>\n",
       "      <td>1</td>\n",
       "      <td>(Street, large_local)</td>\n",
       "      <td>(Wind_Direction, NW)</td>\n",
       "      <td>(Amenity, True)</td>\n",
       "      <td>0.000</td>\n",
       "      <td>NaN</td>\n",
       "      <td>NaN</td>\n",
       "    </tr>\n",
       "    <tr>\n",
       "      <th>3</th>\n",
       "      <td>U</td>\n",
       "      <td>0</td>\n",
       "      <td>(Visibility(mi), '\\'(-inf-9.5]\\'')</td>\n",
       "      <td>(Wind_Direction, S)</td>\n",
       "      <td>(Weather_Condition, 'Scattered Clouds')</td>\n",
       "      <td>0.000</td>\n",
       "      <td>NaN</td>\n",
       "      <td>NaN</td>\n",
       "    </tr>\n",
       "    <tr>\n",
       "      <th>4</th>\n",
       "      <td>U</td>\n",
       "      <td>1</td>\n",
       "      <td>(Street, Highway)</td>\n",
       "      <td>(Weather_Condition, 'Partly Cloudy')</td>\n",
       "      <td>(Crossing, True)</td>\n",
       "      <td>0.000</td>\n",
       "      <td>NaN</td>\n",
       "      <td>NaN</td>\n",
       "    </tr>\n",
       "  </tbody>\n",
       "</table>\n",
       "</div>"
      ],
      "text/plain": [
       "  Type  Class                           Variable1  \\\n",
       "0    U      1   (Humidity(_%), '\\'(69.5-83.5]\\'')   \n",
       "1    U      1                   (Street, Highway)   \n",
       "2    U      1               (Street, large_local)   \n",
       "3    U      0  (Visibility(mi), '\\'(-inf-9.5]\\'')   \n",
       "4    U      1                   (Street, Highway)   \n",
       "\n",
       "                              Variable2  \\\n",
       "0                   (Wind_Direction, N)   \n",
       "1      (Humidity(_%), '\\'(93.5-inf)\\'')   \n",
       "2                  (Wind_Direction, NW)   \n",
       "3                   (Wind_Direction, S)   \n",
       "4  (Weather_Condition, 'Partly Cloudy')   \n",
       "\n",
       "                                 Variable3  Frequency  Frequency_Difference  \\\n",
       "0                         (Crossing, True)      0.001                   NaN   \n",
       "1        (Weather_Condition, 'Wintry Mix')      0.001                   NaN   \n",
       "2                          (Amenity, True)      0.000                   NaN   \n",
       "3  (Weather_Condition, 'Scattered Clouds')      0.000                   NaN   \n",
       "4                         (Crossing, True)      0.000                   NaN   \n",
       "\n",
       "   Unnamed: 7  \n",
       "0         NaN  \n",
       "1         NaN  \n",
       "2         NaN  \n",
       "3         NaN  \n",
       "4         NaN  "
      ]
     },
     "execution_count": 2,
     "metadata": {},
     "output_type": "execute_result"
    }
   ],
   "source": [
    "csv_path_c1_3way = \"../Accident_Data_Preprocessing/CFD_Results/control_class1_bin-control_class234_bin-5.0/CSVs/3-ways-control_class1_bin-control_class234_bin-5.0.csv\"\n",
    "csv_path_c1_2way = \"../Accident_Data_Preprocessing/CFD_Results/control_class1_bin-control_class234_bin-5.0/CSVs/2-ways-control_class1_bin-control_class234_bin-5.0.csv\"\n",
    "csv_path_c1_1way = \"../Accident_Data_Preprocessing/CFD_Results/control_class1_bin-control_class234_bin-5.0/CSVs/1-ways-control_class1_bin-control_class234_bin-5.0.csv\"\n",
    "csv_path_c2_3way = \"../Accident_Data_Preprocessing/CFD_Results/control_class2_bin-control_class134_bin-5.0/CSVs/3-ways-control_class2_bin-control_class134_bin-5.0.csv\"\n",
    "csv_path_c2_2way = \"../Accident_Data_Preprocessing/CFD_Results/control_class2_bin-control_class134_bin-5.0/CSVs/2-ways-control_class2_bin-control_class134_bin-5.0.csv\"\n",
    "csv_path_c2_1way = \"../Accident_Data_Preprocessing/CFD_Results/control_class2_bin-control_class134_bin-5.0/CSVs/1-ways-control_class2_bin-control_class134_bin-5.0.csv\"\n",
    "csv_path_c3_3way = \"../Accident_Data_Preprocessing/CFD_Results/control_class3_bin-control_class124_bin-5.0/CSVs/3-ways-control_class3_bin-control_class124_bin-5.0.csv\"\n",
    "csv_path_c3_2way = \"../Accident_Data_Preprocessing/CFD_Results/control_class3_bin-control_class124_bin-5.0/CSVs/2-ways-control_class3_bin-control_class124_bin-5.0.csv\"\n",
    "csv_path_c3_1way = \"../Accident_Data_Preprocessing/CFD_Results/control_class3_bin-control_class124_bin-5.0/CSVs/1-ways-control_class3_bin-control_class124_bin-5.0.csv\"\n",
    "csv_path_c4_3way = \"../Accident_Data_Preprocessing/CFD_Results/control_class4_bin-control_class123_bin-5.0/CSVs/3-ways-control_class4_bin-control_class123_bin-5.0.csv\"\n",
    "csv_path_c4_2way = \"../Accident_Data_Preprocessing/CFD_Results/control_class4_bin-control_class123_bin-5.0/CSVs/2-ways-control_class4_bin-control_class123_bin-5.0.csv\"\n",
    "csv_path_c4_1way = \"../Accident_Data_Preprocessing/CFD_Results/control_class4_bin-control_class123_bin-5.0/CSVs/1-ways-control_class4_bin-control_class123_bin-5.0.csv\"\n",
    "\n",
    "df1 = pd.read_csv(csv_path_c2_1way, sep = ';')\n",
    "df2 = pd.read_csv(csv_path_c2_2way, sep = ';')\n",
    "df3 = pd.read_csv(csv_path_c2_3way, sep = ';')\n",
    "\n",
    "df3.head()\n",
    "\n"
   ]
  },
  {
   "cell_type": "code",
   "execution_count": 3,
   "id": "ebca51cd",
   "metadata": {},
   "outputs": [
    {
     "name": "stdout",
     "output_type": "stream",
     "text": [
      "                                    Variable1                 Variable2  \\\n",
      "1386            (Weather_Condition, Overcast)         (Crossing, False)   \n",
      "1388               (Weather_Condition, Clear)   (Traffic_Signal, False)   \n",
      "1516            (Weather_Condition, Overcast)          (Station, False)   \n",
      "1522            (Weather_Condition, Overcast)  (Traffic_Calming, False)   \n",
      "1523            (Weather_Condition, Overcast)             (Stop, False)   \n",
      "1524            (Weather_Condition, Overcast)          (Amenity, False)   \n",
      "1528            (Weather_Condition, Overcast)          (Railway, False)   \n",
      "1530  (Weather_Condition, 'Scattered Clouds')         (Crossing, False)   \n",
      "\n",
      "                    Variable3  Frequency  \n",
      "1386  (Sunrise_Sunset, Night)      0.041  \n",
      "1388  (Sunrise_Sunset, Night)      0.056  \n",
      "1516  (Sunrise_Sunset, Night)      0.042  \n",
      "1522  (Sunrise_Sunset, Night)      0.042  \n",
      "1523  (Sunrise_Sunset, Night)      0.042  \n",
      "1524  (Sunrise_Sunset, Night)      0.042  \n",
      "1528  (Sunrise_Sunset, Night)      0.042  \n",
      "1530            (Stop, False)      0.064  \n"
     ]
    }
   ],
   "source": [
    "def clean_data_3way(df):\n",
    "    # Filter rows based on column: 'Type'\n",
    "    df = df[df['Type'] == \"D\"]\n",
    "    # Filter rows based on column: 'Frequency'\n",
    "    df = df[df['Frequency'] >= 0.04]\n",
    "    # Drop columns: 'Type', 'Class' and 2 other columns\n",
    "    df = df.drop(columns=['Type', 'Class', 'Frequency_Difference', \"Unnamed: 7\"])\n",
    "    return df\n",
    "\n",
    "df3_clean = clean_data_3way(df3.copy())\n",
    "print(df3_clean)\n",
    "df3_clean.to_csv(\"../Accident_Data_Preprocessing/Data_Cleaned/control_datasets_bin/control_data_merge_bin/control_class2_3way_DCs.csv\", index = None, sep = ',')"
   ]
  },
  {
   "cell_type": "code",
   "execution_count": 4,
   "id": "dedf5777",
   "metadata": {},
   "outputs": [
    {
     "name": "stdout",
     "output_type": "stream",
     "text": [
      "                                   Variable1                Variable2  \\\n",
      "121  (Weather_Condition, 'Scattered Clouds')  (Traffic_Signal, False)   \n",
      "124            (Weather_Condition, Overcast)  (Traffic_Signal, False)   \n",
      "\n",
      "     Frequency  \n",
      "121      0.061  \n",
      "124      0.113  \n"
     ]
    }
   ],
   "source": [
    "def clean_data_2way(df):\n",
    "    # Filter rows based on column: 'Type'\n",
    "    df = df[df['Type'] == \"D\"]\n",
    "    # Filter rows based on column: 'Frequency'\n",
    "    df = df[df['Frequency'] >= 0.04]\n",
    "    # Drop columns: 'Type', 'Class' and 2 other columns\n",
    "    df = df.drop(columns=['Type', 'Class', 'Frequency_Difference', \"Unnamed: 6\"])\n",
    "    return df\n",
    "\n",
    "df2_clean = clean_data_2way(df2.copy())\n",
    "print(df2_clean)\n",
    "df2_clean.to_csv(\"../Accident_Data_Preprocessing/Data_Cleaned/control_datasets_bin/control_data_merge_bin/control_class2_2way_DCs.csv\", index = None, sep = ',')"
   ]
  },
  {
   "cell_type": "code",
   "execution_count": 5,
   "id": "0c68fb6e",
   "metadata": {},
   "outputs": [
    {
     "name": "stdout",
     "output_type": "stream",
     "text": [
      "Empty DataFrame\n",
      "Columns: [Variable1, Frequency]\n",
      "Index: []\n"
     ]
    }
   ],
   "source": [
    "def clean_data_1way(df):\n",
    "    # Filter rows based on column: 'Type'\n",
    "    df = df[df['Type'] == \"D\"]\n",
    "    # Filter rows based on column: 'Frequency'\n",
    "    df = df[df['Frequency'] >= 0.04]\n",
    "    # Drop columns: 'Type', 'Class' and 2 other columns\n",
    "    df = df.drop(columns=['Type', 'Class', 'Frequency_Difference', \"Unnamed: 5\"])\n",
    "    return df\n",
    "\n",
    "df1_clean = clean_data_1way(df1.copy())\n",
    "print(df1_clean)\n",
    "df1_clean.to_csv(\"../Accident_Data_Preprocessing/Data_Cleaned/control_datasets_bin/control_data_merge_bin/control_class2_1way_DCs.csv\", index = None, sep = ',')"
   ]
  },
  {
   "cell_type": "code",
   "execution_count": 6,
   "id": "5409c85d",
   "metadata": {},
   "outputs": [],
   "source": [
    "df2[\"Variable3\"] = \"\"\n",
    "df1[\"Variable2\"] = \"\"\n",
    "df1[\"Variable3\"] = \"\"\n",
    "df = pd.concat([df3_clean,df2_clean,df1_clean], axis = 0)\n",
    "df.to_csv(\"../Accident_Data_Preprocessing/Data_Cleaned/control_datasets_bin/control_data_merge_bin/control_class2_DCs.csv\", index = False, sep = ',')"
   ]
  }
 ],
 "metadata": {
  "kernelspec": {
   "display_name": "base",
   "language": "python",
   "name": "python3"
  },
  "language_info": {
   "codemirror_mode": {
    "name": "ipython",
    "version": 3
   },
   "file_extension": ".py",
   "mimetype": "text/x-python",
   "name": "python",
   "nbconvert_exporter": "python",
   "pygments_lexer": "ipython3",
   "version": "3.13.4"
  }
 },
 "nbformat": 4,
 "nbformat_minor": 5
}
