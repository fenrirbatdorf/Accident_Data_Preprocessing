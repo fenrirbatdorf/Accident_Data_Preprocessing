{
 "cells": [
  {
   "cell_type": "code",
   "execution_count": 1,
   "id": "6bb410a6",
   "metadata": {},
   "outputs": [],
   "source": [
    "import pandas as pd\n",
    "import numpy as np"
   ]
  },
  {
   "cell_type": "code",
   "execution_count": 2,
   "id": "a166a3e4",
   "metadata": {},
   "outputs": [],
   "source": [
    "csv_path_c1_3way = \"../Accident_Data_Preprocessing/CFD_Results/control_class1_bin-control_class234_bin-5.0/CSVs/3-ways-control_class1_bin-control_class234_bin-5.0.csv\"\n",
    "csv_path_c1_2way = \"../Accident_Data_Preprocessing/CFD_Results/control_class1_bin-control_class234_bin-5.0/CSVs/2-ways-control_class1_bin-control_class234_bin-5.0.csv\"\n",
    "csv_path_c1_1way = \"../Accident_Data_Preprocessing/CFD_Results/control_class1_bin-control_class234_bin-5.0/CSVs/1-ways-control_class1_bin-control_class234_bin-5.0.csv\"\n",
    "csv_path_c2_3way = \"../Accident_Data_Preprocessing/CFD_Results/control_class2_bin-control_class134_bin-5.0/CSVs/3-ways-control_class2_bin-control_class134_bin-5.0.csv\"\n",
    "csv_path_c2_2way = \"../Accident_Data_Preprocessing/CFD_Results/control_class2_bin-control_class134_bin-5.0/CSVs/2-ways-control_class2_bin-control_class134_bin-5.0.csv\"\n",
    "csv_path_c2_1way = \"../Accident_Data_Preprocessing/CFD_Results/control_class2_bin-control_class134_bin-5.0/CSVs/1-ways-control_class2_bin-control_class134_bin-5.0.csv\"\n",
    "csv_path_c3_3way = \"../Accident_Data_Preprocessing/CFD_Results/control_class3_bin-control_class124_bin-5.0/CSVs/3-ways-control_class3_bin-control_class124_bin-5.0.csv\"\n",
    "csv_path_c3_2way = \"../Accident_Data_Preprocessing/CFD_Results/control_class3_bin-control_class124_bin-5.0/CSVs/2-ways-control_class3_bin-control_class124_bin-5.0.csv\"\n",
    "csv_path_c3_1way = \"../Accident_Data_Preprocessing/CFD_Results/control_class3_bin-control_class124_bin-5.0/CSVs/1-ways-control_class3_bin-control_class124_bin-5.0.csv\"\n",
    "csv_path_c4_3way = \"../Accident_Data_Preprocessing/CFD_Results/control_class4_bin-control_class123_bin-5.0/CSVs/3-ways-control_class4_bin-control_class123_bin-5.0.csv\"\n",
    "csv_path_c4_2way = \"../Accident_Data_Preprocessing/CFD_Results/control_class4_bin-control_class123_bin-5.0/CSVs/2-ways-control_class4_bin-control_class123_bin-5.0.csv\"\n",
    "csv_path_c4_1way = \"../Accident_Data_Preprocessing/CFD_Results/control_class4_bin-control_class123_bin-5.0/CSVs/1-ways-control_class4_bin-control_class123_bin-5.0.csv\"\n",
    "\n",
    "df1 = pd.read_csv(csv_path_c4_1way, sep = ';')\n",
    "df2 = pd.read_csv(csv_path_c4_2way, sep = ';')\n",
    "df3 = pd.read_csv(csv_path_c4_3way, sep = ';')\n",
    "\n"
   ]
  },
  {
   "cell_type": "code",
   "execution_count": 3,
   "id": "ebca51cd",
   "metadata": {},
   "outputs": [
    {
     "name": "stdout",
     "output_type": "stream",
     "text": [
      "Empty DataFrame\n",
      "Columns: [Variable1, Variable2, Variable3, Frequency]\n",
      "Index: []\n"
     ]
    }
   ],
   "source": [
    "def clean_data_3way(df):\n",
    "    # Filter rows based on column: 'Type'\n",
    "    df = df[df['Type'] == \"D\"]\n",
    "    # Filter rows based on column: 'Frequency'\n",
    "    df = df[df['Frequency'] >= 0.1]\n",
    "    # Drop columns: 'Type', 'Class' and 2 other columns\n",
    "    df = df.drop(columns=['Type', 'Class', 'Frequency_Difference', \"Unnamed: 7\"])\n",
    "    return df\n",
    "\n",
    "df3_clean = clean_data_3way(df3.copy())\n",
    "print(df3_clean)\n",
    "#df3_clean.to_csv(\"../Accident_Data_Preprocessing/Data_Cleaned/control_datasets_bin/control_data_merge_bin/control_class2_3way_DCs.csv\", index = None, sep = ',')"
   ]
  },
  {
   "cell_type": "code",
   "execution_count": 4,
   "id": "dedf5777",
   "metadata": {},
   "outputs": [
    {
     "name": "stdout",
     "output_type": "stream",
     "text": [
      "Empty DataFrame\n",
      "Columns: [Variable1, Variable2, Frequency]\n",
      "Index: []\n"
     ]
    }
   ],
   "source": [
    "def clean_data_2way(df):\n",
    "    # Filter rows based on column: 'Type'\n",
    "    df = df[df['Type'] == \"D\"]\n",
    "    # Filter rows based on column: 'Frequency'\n",
    "    df = df[df['Frequency'] >= 0.1]\n",
    "    # Drop columns: 'Type', 'Class' and 2 other columns\n",
    "    df = df.drop(columns=['Type', 'Class', 'Frequency_Difference', \"Unnamed: 6\"])\n",
    "    return df\n",
    "\n",
    "df2_clean = clean_data_2way(df2.copy())\n",
    "print(df2_clean)\n",
    "#df2_clean.to_csv(\"../Accident_Data_Preprocessing/Data_Cleaned/control_datasets_bin/control_data_merge_bin/control_class2_2way_DCs.csv\", index = None, sep = ',')"
   ]
  },
  {
   "cell_type": "code",
   "execution_count": 5,
   "id": "0c68fb6e",
   "metadata": {},
   "outputs": [
    {
     "name": "stdout",
     "output_type": "stream",
     "text": [
      "Empty DataFrame\n",
      "Columns: [Variable1, Frequency]\n",
      "Index: []\n"
     ]
    }
   ],
   "source": [
    "def clean_data_1way(df):\n",
    "    # Filter rows based on column: 'Type'\n",
    "    df = df[df['Type'] == \"D\"]\n",
    "    # Filter rows based on column: 'Frequency'\n",
    "    df = df[df['Frequency'] >= 0.1]\n",
    "    # Drop columns: 'Type', 'Class' and 2 other columns\n",
    "    df = df.drop(columns=['Type', 'Class', 'Frequency_Difference', \"Unnamed: 5\"])\n",
    "    return df\n",
    "\n",
    "df1_clean = clean_data_1way(df1.copy())\n",
    "print(df1_clean)\n",
    "#df1_clean.to_csv(\"../Accident_Data_Preprocessing/Data_Cleaned/control_datasets_bin/control_data_merge_bin/control_class2_1way_DCs.csv\", index = None, sep = ',')"
   ]
  },
  {
   "cell_type": "code",
   "execution_count": 6,
   "id": "5409c85d",
   "metadata": {},
   "outputs": [],
   "source": [
    "df2[\"Variable3\"] = \"\"\n",
    "df1[\"Variable2\"] = \"\"\n",
    "df1[\"Variable3\"] = \"\"\n",
    "df = pd.concat([df3_clean,df2_clean,df1_clean], axis = 0)\n",
    "df.to_csv(\"../Accident_Data_Preprocessing/Data_Cleaned/control_datasets_bin/control_data_merge_bin/control_class4_DCs_0.1_freq.csv\", index = False, sep = ',')"
   ]
  }
 ],
 "metadata": {
  "kernelspec": {
   "display_name": "base",
   "language": "python",
   "name": "python3"
  },
  "language_info": {
   "codemirror_mode": {
    "name": "ipython",
    "version": 3
   },
   "file_extension": ".py",
   "mimetype": "text/x-python",
   "name": "python",
   "nbconvert_exporter": "python",
   "pygments_lexer": "ipython3",
   "version": "3.13.4"
  }
 },
 "nbformat": 4,
 "nbformat_minor": 5
}
