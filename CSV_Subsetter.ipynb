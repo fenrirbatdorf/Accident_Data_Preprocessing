{
 "cells": [
  {
   "cell_type": "code",
   "execution_count": 6,
   "id": "6bb410a6",
   "metadata": {},
   "outputs": [],
   "source": [
    "import pandas as pd\n",
    "import numpy as np"
   ]
  },
  {
   "cell_type": "code",
   "execution_count": 7,
   "id": "a166a3e4",
   "metadata": {},
   "outputs": [],
   "source": [
    "csv_path_c1_3way = \"../Accident_Data_Preprocessing/CFD_Results/control_class1_bin-control_class234_bin-5.0/CSVs/3-ways-control_class1_bin-control_class234_bin-5.0.csv\"\n",
    "csv_path_c1_2way = \"../Accident_Data_Preprocessing/CFD_Results/control_class1_bin-control_class234_bin-5.0/CSVs/2-ways-control_class1_bin-control_class234_bin-5.0.csv\"\n",
    "csv_path_c1_1way = \"../Accident_Data_Preprocessing/CFD_Results/control_class1_bin-control_class234_bin-5.0/CSVs/1-ways-control_class1_bin-control_class234_bin-5.0.csv\"\n",
    "csv_path_c2_3way = \"../Accident_Data_Preprocessing/CFD_Results/control_class2_bin-control_class134_bin-5.0/CSVs/3-ways-control_class2_bin-control_class134_bin-5.0.csv\"\n",
    "csv_path_c2_2way = \"../Accident_Data_Preprocessing/CFD_Results/control_class2_bin-control_class134_bin-5.0/CSVs/2-ways-control_class2_bin-control_class134_bin-5.0.csv\"\n",
    "csv_path_c2_1way = \"../Accident_Data_Preprocessing/CFD_Results/control_class2_bin-control_class134_bin-5.0/CSVs/1-ways-control_class2_bin-control_class134_bin-5.0.csv\"\n",
    "csv_path_c3_3way = \"../Accident_Data_Preprocessing/CFD_Results/control_class3_bin-control_class124_bin-5.0/CSVs/3-ways-control_class3_bin-control_class124_bin-5.0.csv\"\n",
    "csv_path_c3_2way = \"../Accident_Data_Preprocessing/CFD_Results/control_class3_bin-control_class124_bin-5.0/CSVs/2-ways-control_class3_bin-control_class124_bin-5.0.csv\"\n",
    "csv_path_c3_1way = \"../Accident_Data_Preprocessing/CFD_Results/control_class3_bin-control_class124_bin-5.0/CSVs/1-ways-control_class3_bin-control_class124_bin-5.0.csv\"\n",
    "csv_path_c4_3way = \"../Accident_Data_Preprocessing/CFD_Results/control_class4_bin-control_class123_bin-5.0/CSVs/3-ways-control_class4_bin-control_class123_bin-5.0.csv\"\n",
    "csv_path_c4_2way = \"../Accident_Data_Preprocessing/CFD_Results/control_class4_bin-control_class123_bin-5.0/CSVs/2-ways-control_class4_bin-control_class123_bin-5.0.csv\"\n",
    "csv_path_c4_1way = \"../Accident_Data_Preprocessing/CFD_Results/control_class4_bin-control_class123_bin-5.0/CSVs/1-ways-control_class4_bin-control_class123_bin-5.0.csv\"\n",
    "\n",
    "\n",
    "csv_path_c1_3way_samebin = \"../Accident_Data_Preprocessing/CFD_Results/control_class1_samebin-control_class234_merge_samebin-5.0/CSVs/3-ways-control_class1_samebin-control_class234_merge_samebin-5.0.csv\"\n",
    "csv_path_c1_2way_samebin = \"../Accident_Data_Preprocessing/CFD_Results/control_class1_samebin-control_class234_merge_samebin-5.0/CSVs/2-ways-control_class1_samebin-control_class234_merge_samebin-5.0.csv\"\n",
    "csv_path_c1_1way_samebin = \"../Accident_Data_Preprocessing/CFD_Results/control_class1_samebin-control_class234_merge_samebin-5.0/CSVs/1-ways-control_class1_samebin-control_class234_merge_samebin-5.0.csv\"\n",
    "csv_path_c2_3way_samebin = \"../Accident_Data_Preprocessing/CFD_Results/control_class2_samebin-control_class134_merge_samebin-5.0/CSVs/3-ways-control_class2_samebin-control_class134_merge_samebin-5.0.csv\"\n",
    "csv_path_c2_2way_samebin = \"../Accident_Data_Preprocessing/CFD_Results/control_class2_samebin-control_class134_merge_samebin-5.0/CSVs/2-ways-control_class2_samebin-control_class134_merge_samebin-5.0.csv\"\n",
    "csv_path_c2_1way_samebin = \"../Accident_Data_Preprocessing/CFD_Results/control_class2_samebin-control_class134_merge_samebin-5.0/CSVs/1-ways-control_class2_samebin-control_class134_merge_samebin-5.0.csv\"\n",
    "csv_path_c3_3way_samebin = \"../Accident_Data_Preprocessing/CFD_Results/control_class3_samebin-control_class124_merge_samebin-5.0/CSVs/3-ways-control_class3_samebin-control_class124_merge_samebin-5.0.csv\"\n",
    "csv_path_c3_2way_samebin = \"../Accident_Data_Preprocessing/CFD_Results/control_class3_samebin-control_class124_merge_samebin-5.0/CSVs/2-ways-control_class3_samebin-control_class124_merge_samebin-5.0.csv\"\n",
    "csv_path_c3_1way_samebin = \"../Accident_Data_Preprocessing/CFD_Results/control_class3_samebin-control_class124_merge_samebin-5.0/CSVs/1-ways-control_class3_samebin-control_class124_merge_samebin-5.0.csv\"\n",
    "csv_path_c4_3way_samebin = \"../Accident_Data_Preprocessing/CFD_Results/control_class4_samebin-control_class123_merge_samebin-5.0/CSVs/3-ways-control_class4_samebin-control_class123_merge_samebin-5.0.csv\"\n",
    "csv_path_c4_2way_samebin = \"../Accident_Data_Preprocessing/CFD_Results/control_class4_samebin-control_class123_merge_samebin-5.0/CSVs/2-ways-control_class4_samebin-control_class123_merge_samebin-5.0.csv\"\n",
    "csv_path_c4_1way_samebin = \"../Accident_Data_Preprocessing/CFD_Results/control_class4_samebin-control_class123_merge_samebin-5.0/CSVs/1-ways-control_class4_samebin-control_class123_merge_samebin-5.0.csv\"\n",
    "\n",
    "# df1 = pd.read_csv(csv_path_c1_1way_samebin, sep = ';')\n",
    "df2 = pd.read_csv(csv_path_c4_2way_samebin, sep = ';')\n",
    "# df3 = pd.read_csv(csv_path_c4_3way_samebin, sep = ';')\n",
    "\n"
   ]
  },
  {
   "cell_type": "code",
   "execution_count": 3,
   "id": "ebca51cd",
   "metadata": {},
   "outputs": [
    {
     "name": "stdout",
     "output_type": "stream",
     "text": [
      "     Type  Class                            Variable1  \\\n",
      "0       U      0                    (Street, Beltway)   \n",
      "1       U      0                    (Street, Beltway)   \n",
      "2       U      0                    (Street, Beltway)   \n",
      "3       U      0                    (Street, Beltway)   \n",
      "4       U      0                    (Street, Beltway)   \n",
      "...   ...    ...                                  ...   \n",
      "4222    D      0                    (Street, Beltway)   \n",
      "4226    D      1   (Distance(mi), '\\'(0.5225-inf)\\'')   \n",
      "4228    D      0                    (Street, Beltway)   \n",
      "4229    D      1     (Humidity(%), '\\'(82.5-93.5]\\'')   \n",
      "4231    D      0  (Pressure(in), '\\'(-inf-29.815]\\'')   \n",
      "\n",
      "                                Variable2  \\\n",
      "0                    (Wind_Direction, NW)   \n",
      "1      (Temperature(F), '\\'(76.9-inf)\\'')   \n",
      "2      (Temperature(F), '\\'(76.9-inf)\\'')   \n",
      "3     (Pressure(in), '\\'(-inf-29.815]\\'')   \n",
      "4                    (Wind_Direction, SE)   \n",
      "...                                   ...   \n",
      "4222   (Pressure(in), '\\'(30.055-inf)\\'')   \n",
      "4226                      (Street, local)   \n",
      "4228   (Temperature(F), '\\'(76.9-inf)\\'')   \n",
      "4229           (Weather_Condition, Clear)   \n",
      "4231   (Visibility(mi), '\\'(-inf-9.5]\\'')   \n",
      "\n",
      "                                 Variable3  Frequency  \n",
      "0               (Weather_Condition, Clear)      0.002  \n",
      "1                     (Wind_Direction, SE)      0.002  \n",
      "2               (Weather_Condition, Clear)      0.002  \n",
      "3            (Weather_Condition, Overcast)      0.002  \n",
      "4              (Weather_Condition, Cloudy)      0.002  \n",
      "...                                    ...        ...  \n",
      "4222  (Weather_Condition, 'Mostly Cloudy')      0.006  \n",
      "4226            (Wind_Direction, Variable)      0.004  \n",
      "4228      (Humidity(%), '\\'(55.5-68.5]\\'')      0.005  \n",
      "4229                (Traffic_Signal, True)      0.004  \n",
      "4231    (Weather_Condition, Thunderstorms)      0.002  \n",
      "\n",
      "[4156 rows x 6 columns]\n"
     ]
    }
   ],
   "source": [
    "def clean_data_3way(df):\n",
    "    # Filter rows based on column: 'Type'\n",
    "    #df = df[df['Type'] == \"D\"]\n",
    "    # Filter rows based on column: 'Frequency'\n",
    "    df = df[df['Frequency'] <= 0.01]\n",
    "    # Drop columns: 'Type', 'Class' and 2 other columns\n",
    "    df = df.drop(columns=['Frequency_Difference', \"Unnamed: 7\"])\n",
    "    return df\n",
    "\n",
    "df3_clean = clean_data_3way(df3.copy())\n",
    "print(df3_clean)\n",
    "df3_clean.to_csv(\"../Accident_Data_Preprocessing/Data_Cleaned/control_datasets_bin/control_data_merge_bin/control_data_CFD/control_data_DC_processing/control_class4_3way_samebin_0.01freq_DCs.csv\", index = None, sep = ',')"
   ]
  },
  {
   "cell_type": "code",
   "execution_count": 8,
   "id": "dedf5777",
   "metadata": {},
   "outputs": [
    {
     "name": "stdout",
     "output_type": "stream",
     "text": [
      "Empty DataFrame\n",
      "Columns: [Type, Class, Variable1, Variable2, Frequency]\n",
      "Index: []\n"
     ]
    }
   ],
   "source": [
    "def clean_data_2way(df):\n",
    "    # Filter rows based on column: 'Type'\n",
    "    # df = df[df['Type'] == \"D\"]\n",
    "    # Filter rows based on column: 'Frequency'\n",
    "    df = df[df['Frequency'] >= 0.1]\n",
    "    # Drop columns: 'Type', 'Class' and 2 other columns\n",
    "    df = df.drop(columns=['Frequency_Difference', \"Unnamed: 6\"])\n",
    "    return df\n",
    "\n",
    "df2_clean = clean_data_2way(df2.copy())\n",
    "print(df2_clean)\n",
    "df2_clean.to_csv(\"../Accident_Data_Preprocessing/Data_Cleaned/control_datasets_bin/control_data_merge_bin/control_data_CFD/control_data_DC_processing/control_class4_2way_samebin_0.1freq_DCs.csv\", index = None, sep = ',')"
   ]
  },
  {
   "cell_type": "code",
   "execution_count": 5,
   "id": "0c68fb6e",
   "metadata": {},
   "outputs": [
    {
     "name": "stdout",
     "output_type": "stream",
     "text": [
      "                                Variable1  Frequency\n",
      "54  (Distance(mi), '\\'(0.0135-0.5225]\\'')      0.320\n",
      "55   (Temperature(F), '\\'(-inf-36.95]\\'')      0.156\n",
      "56          (Weather_Condition, Overcast)      0.070\n"
     ]
    }
   ],
   "source": [
    "def clean_data_1way(df):\n",
    "    # Filter rows based on column: 'Type'\n",
    "    df = df[df['Type'] == \"D\"]\n",
    "    # Filter rows based on column: 'Frequency'\n",
    "    df = df[df['Frequency'] >= 0.05]\n",
    "    # Drop columns: 'Type', 'Class' and 2 other columns\n",
    "    df = df.drop(columns=['Type', 'Class', 'Frequency_Difference', \"Unnamed: 5\"])\n",
    "    return df\n",
    "\n",
    "df1_clean = clean_data_1way(df1.copy())\n",
    "print(df1_clean)\n",
    "#df1_clean.to_csv(\"../Accident_Data_Preprocessing/Data_Cleaned/control_datasets_bin/control_data_merge_bin/control_class2_1way_DCs.csv\", index = None, sep = ',')"
   ]
  },
  {
   "cell_type": "code",
   "execution_count": 6,
   "id": "5409c85d",
   "metadata": {},
   "outputs": [],
   "source": [
    "df2[\"Variable3\"] = \"\"\n",
    "df1[\"Variable2\"] = \"\"\n",
    "df1[\"Variable3\"] = \"\"\n",
    "df = pd.concat([df3_clean,df2_clean,df1_clean], axis = 0)\n",
    "df.to_csv(\"../Accident_Data_Preprocessing/Data_Cleaned/control_datasets_bin/control_data_merge_bin/control_class1_DCs_0.05_freq_samebin.csv\", index = False, sep = ',')"
   ]
  }
 ],
 "metadata": {
  "kernelspec": {
   "display_name": "base",
   "language": "python",
   "name": "python3"
  },
  "language_info": {
   "codemirror_mode": {
    "name": "ipython",
    "version": 3
   },
   "file_extension": ".py",
   "mimetype": "text/x-python",
   "name": "python",
   "nbconvert_exporter": "python",
   "pygments_lexer": "ipython3",
   "version": "3.13.4"
  }
 },
 "nbformat": 4,
 "nbformat_minor": 5
}
