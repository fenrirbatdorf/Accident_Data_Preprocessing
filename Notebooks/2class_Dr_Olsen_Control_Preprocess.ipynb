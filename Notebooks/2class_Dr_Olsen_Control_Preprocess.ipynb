{
 "cells": [
  {
   "cell_type": "markdown",
   "id": "144fc1fc",
   "metadata": {},
   "source": [
    "This variation of the dr olsen preprocessing is slightly modified to work with the 2 class merge version of the training data. It then cleans the 2 class version of the training data. Need to double check if this was before or after the downsampling."
   ]
  },
  {
   "cell_type": "markdown",
   "id": "8a0af2fc-fc93-4f5e-8773-fd2cf0783682",
   "metadata": {},
   "source": [
    "Creating another variation on the initial data"
   ]
  },
  {
   "cell_type": "code",
   "execution_count": 1,
   "id": "1c264cdf-75b0-41d1-b70e-0619dae705a8",
   "metadata": {},
   "outputs": [],
   "source": [
    "# Imports\n",
    "import pandas as pd\n",
    "import matplotlib.pyplot as plt\n",
    "import numpy as np"
   ]
  },
  {
   "cell_type": "code",
   "execution_count": 2,
   "id": "03be9ffe",
   "metadata": {},
   "outputs": [
    {
     "data": {
      "application/vnd.microsoft.datawrangler.viewer.v0+json": {
       "columns": [
        {
         "name": "index",
         "rawType": "int64",
         "type": "integer"
        },
        {
         "name": "ID",
         "rawType": "object",
         "type": "string"
        },
        {
         "name": "Source",
         "rawType": "object",
         "type": "string"
        },
        {
         "name": "Start_Time",
         "rawType": "object",
         "type": "string"
        },
        {
         "name": "End_Time",
         "rawType": "object",
         "type": "string"
        },
        {
         "name": "Start_Lat",
         "rawType": "float64",
         "type": "float"
        },
        {
         "name": "Start_Lng",
         "rawType": "float64",
         "type": "float"
        },
        {
         "name": "End_Lat",
         "rawType": "float64",
         "type": "float"
        },
        {
         "name": "End_Lng",
         "rawType": "float64",
         "type": "float"
        },
        {
         "name": "Distance(mi)",
         "rawType": "float64",
         "type": "float"
        },
        {
         "name": "Description",
         "rawType": "object",
         "type": "string"
        },
        {
         "name": "Street",
         "rawType": "object",
         "type": "string"
        },
        {
         "name": "City",
         "rawType": "object",
         "type": "string"
        },
        {
         "name": "County",
         "rawType": "object",
         "type": "string"
        },
        {
         "name": "State",
         "rawType": "object",
         "type": "string"
        },
        {
         "name": "Zipcode",
         "rawType": "object",
         "type": "string"
        },
        {
         "name": "Country",
         "rawType": "object",
         "type": "string"
        },
        {
         "name": "Timezone",
         "rawType": "object",
         "type": "string"
        },
        {
         "name": "Airport_Code",
         "rawType": "object",
         "type": "unknown"
        },
        {
         "name": "Weather_Timestamp",
         "rawType": "object",
         "type": "unknown"
        },
        {
         "name": "Temperature(F)",
         "rawType": "float64",
         "type": "float"
        },
        {
         "name": "Wind_Chill(F)",
         "rawType": "float64",
         "type": "float"
        },
        {
         "name": "Humidity(%)",
         "rawType": "float64",
         "type": "float"
        },
        {
         "name": "Pressure(in)",
         "rawType": "float64",
         "type": "float"
        },
        {
         "name": "Visibility(mi)",
         "rawType": "float64",
         "type": "float"
        },
        {
         "name": "Wind_Direction",
         "rawType": "object",
         "type": "unknown"
        },
        {
         "name": "Wind_Speed(mph)",
         "rawType": "float64",
         "type": "float"
        },
        {
         "name": "Precipitation(in)",
         "rawType": "float64",
         "type": "float"
        },
        {
         "name": "Weather_Condition",
         "rawType": "object",
         "type": "unknown"
        },
        {
         "name": "Amenity",
         "rawType": "bool",
         "type": "boolean"
        },
        {
         "name": "Bump",
         "rawType": "bool",
         "type": "boolean"
        },
        {
         "name": "Crossing",
         "rawType": "bool",
         "type": "boolean"
        },
        {
         "name": "Give_Way",
         "rawType": "bool",
         "type": "boolean"
        },
        {
         "name": "Junction",
         "rawType": "bool",
         "type": "boolean"
        },
        {
         "name": "No_Exit",
         "rawType": "bool",
         "type": "boolean"
        },
        {
         "name": "Railway",
         "rawType": "bool",
         "type": "boolean"
        },
        {
         "name": "Roundabout",
         "rawType": "bool",
         "type": "boolean"
        },
        {
         "name": "Station",
         "rawType": "bool",
         "type": "boolean"
        },
        {
         "name": "Stop",
         "rawType": "bool",
         "type": "boolean"
        },
        {
         "name": "Traffic_Calming",
         "rawType": "bool",
         "type": "boolean"
        },
        {
         "name": "Traffic_Signal",
         "rawType": "bool",
         "type": "boolean"
        },
        {
         "name": "Turning_Loop",
         "rawType": "bool",
         "type": "boolean"
        },
        {
         "name": "Sunrise_Sunset",
         "rawType": "object",
         "type": "unknown"
        },
        {
         "name": "Civil_Twilight",
         "rawType": "object",
         "type": "unknown"
        },
        {
         "name": "Nautical_Twilight",
         "rawType": "object",
         "type": "unknown"
        },
        {
         "name": "Astronomical_Twilight",
         "rawType": "object",
         "type": "unknown"
        },
        {
         "name": "Severity",
         "rawType": "int64",
         "type": "integer"
        }
       ],
       "ref": "90ff7589-6509-45d1-a290-21e35b644ecf",
       "rows": [
        [
         "0",
         "A-5408171",
         "Source1",
         "2022-03-02 06:47:00",
         "2022-03-02 07:08:30",
         "38.75584959965345",
         "-76.99307799302579",
         "38.76616959965345",
         "-76.9942679930258",
         "0.716",
         "Stationary traffic on MD-210 from Fort Washington Rd (MD-210) to Palmer Rd (MD-210) due to accident.",
         "Old Fort Rd",
         "Fort Washington",
         "Prince George's",
         "MD",
         "20744",
         "US",
         "US/Eastern",
         "KDCA",
         "2022-03-02 06:52:00",
         "41.0",
         "41.0",
         "73.0",
         "30.04",
         "10.0",
         "CALM",
         "0.0",
         "0.0",
         "Fair",
         "False",
         "False",
         "False",
         "False",
         "False",
         "False",
         "False",
         "False",
         "False",
         "False",
         "False",
         "True",
         "False",
         "Day",
         "Day",
         "Day",
         "Day",
         "0"
        ],
        [
         "1",
         "A-5026095",
         "Source1",
         "2022-08-16 04:19:09",
         "2022-08-16 05:36:19",
         "38.416005",
         "-75.566096",
         "38.41808",
         "-75.565457",
         "0.147",
         "Incident on US-13 NB near OLIPHANT DR Road closed. Take alternate route.",
         " North Pointe Dr",
         "Salisbury",
         "Wicomico",
         "MD",
         "21804",
         "US",
         "US/Eastern",
         "KSBY",
         "2022-08-16 03:54:00",
         "66.0",
         "66.0",
         "90.0",
         "29.87",
         "10.0",
         "NNE",
         "7.0",
         "0.0",
         "Fair",
         "False",
         "False",
         "False",
         "False",
         "False",
         "False",
         "False",
         "False",
         "False",
         "False",
         "False",
         "True",
         "False",
         "Night",
         "Night",
         "Night",
         "Night",
         "1"
        ],
        [
         "2",
         "A-6287866",
         "Source1",
         "2021-08-05 19:32:57",
         "2021-08-06 00:39:24",
         "38.1885",
         "-75.898168",
         "38.18836500000001",
         "-75.89703",
         "0.063",
         "Incident on MD-363 SB near RILEY ROBERTS RD Drive with caution.",
         " Deal Island Rd",
         "Deal Island",
         "Somerset",
         "MD",
         "21821-1162",
         "US",
         "US/Eastern",
         null,
         null,
         null,
         null,
         null,
         null,
         null,
         null,
         null,
         null,
         null,
         "False",
         "False",
         "False",
         "False",
         "False",
         "False",
         "False",
         "False",
         "False",
         "False",
         "False",
         "False",
         "False",
         null,
         null,
         null,
         null,
         "0"
        ],
        [
         "3",
         "A-5940856",
         "Source1",
         "2021-09-10 16:26:19",
         "2021-09-10 17:44:22",
         "38.93881916981249",
         "-76.91218256913703",
         "38.93886916981249",
         "-76.91316256913704",
         "0.053",
         "Incident on ANNAPOLIS RD near ANNAPOLIS RD Drive with caution.",
         "Annapolis Rd",
         "Hyattsville",
         "Prince George's",
         "MD",
         "20784",
         "US",
         "US/Eastern",
         "KCGS",
         "2021-09-10 16:35:00",
         "74.0",
         "74.0",
         "36.0",
         "29.97",
         "10.0",
         "NW",
         "6.0",
         "0.0",
         "Mostly Cloudy",
         "False",
         "False",
         "True",
         "False",
         "False",
         "False",
         "False",
         "False",
         "False",
         "False",
         "False",
         "False",
         "False",
         "Day",
         "Day",
         "Day",
         "Day",
         "0"
        ],
        [
         "4",
         "A-5750691",
         "Source1",
         "2021-12-22 05:34:00",
         "2021-12-22 07:35:58",
         "39.26079153995866",
         "-76.70339941941879",
         "39.26359153995866",
         "-76.7072894194188",
         "0.284",
         "I-695 INNER LOOP AT EXIT 12B MD 372 WILKENS AVE (NB)",
         "12B",
         "Halethorpe",
         "Baltimore",
         "MD",
         "21227",
         "US",
         "US/Eastern",
         "KBWI",
         "2021-12-22 05:54:00",
         "36.0",
         "36.0",
         "93.0",
         "29.5",
         "6.0",
         "CALM",
         "0.0",
         "0.0",
         "Mostly Cloudy",
         "False",
         "False",
         "False",
         "False",
         "True",
         "False",
         "False",
         "False",
         "False",
         "False",
         "False",
         "False",
         "False",
         "Night",
         "Night",
         "Night",
         "Night",
         "1"
        ]
       ],
       "shape": {
        "columns": 46,
        "rows": 5
       }
      },
      "text/html": [
       "<div>\n",
       "<style scoped>\n",
       "    .dataframe tbody tr th:only-of-type {\n",
       "        vertical-align: middle;\n",
       "    }\n",
       "\n",
       "    .dataframe tbody tr th {\n",
       "        vertical-align: top;\n",
       "    }\n",
       "\n",
       "    .dataframe thead th {\n",
       "        text-align: right;\n",
       "    }\n",
       "</style>\n",
       "<table border=\"1\" class=\"dataframe\">\n",
       "  <thead>\n",
       "    <tr style=\"text-align: right;\">\n",
       "      <th></th>\n",
       "      <th>ID</th>\n",
       "      <th>Source</th>\n",
       "      <th>Start_Time</th>\n",
       "      <th>End_Time</th>\n",
       "      <th>Start_Lat</th>\n",
       "      <th>Start_Lng</th>\n",
       "      <th>End_Lat</th>\n",
       "      <th>End_Lng</th>\n",
       "      <th>Distance(mi)</th>\n",
       "      <th>Description</th>\n",
       "      <th>...</th>\n",
       "      <th>Station</th>\n",
       "      <th>Stop</th>\n",
       "      <th>Traffic_Calming</th>\n",
       "      <th>Traffic_Signal</th>\n",
       "      <th>Turning_Loop</th>\n",
       "      <th>Sunrise_Sunset</th>\n",
       "      <th>Civil_Twilight</th>\n",
       "      <th>Nautical_Twilight</th>\n",
       "      <th>Astronomical_Twilight</th>\n",
       "      <th>Severity</th>\n",
       "    </tr>\n",
       "  </thead>\n",
       "  <tbody>\n",
       "    <tr>\n",
       "      <th>0</th>\n",
       "      <td>A-5408171</td>\n",
       "      <td>Source1</td>\n",
       "      <td>2022-03-02 06:47:00</td>\n",
       "      <td>2022-03-02 07:08:30</td>\n",
       "      <td>38.755850</td>\n",
       "      <td>-76.993078</td>\n",
       "      <td>38.766170</td>\n",
       "      <td>-76.994268</td>\n",
       "      <td>0.716</td>\n",
       "      <td>Stationary traffic on MD-210 from Fort Washing...</td>\n",
       "      <td>...</td>\n",
       "      <td>False</td>\n",
       "      <td>False</td>\n",
       "      <td>False</td>\n",
       "      <td>True</td>\n",
       "      <td>False</td>\n",
       "      <td>Day</td>\n",
       "      <td>Day</td>\n",
       "      <td>Day</td>\n",
       "      <td>Day</td>\n",
       "      <td>0</td>\n",
       "    </tr>\n",
       "    <tr>\n",
       "      <th>1</th>\n",
       "      <td>A-5026095</td>\n",
       "      <td>Source1</td>\n",
       "      <td>2022-08-16 04:19:09</td>\n",
       "      <td>2022-08-16 05:36:19</td>\n",
       "      <td>38.416005</td>\n",
       "      <td>-75.566096</td>\n",
       "      <td>38.418080</td>\n",
       "      <td>-75.565457</td>\n",
       "      <td>0.147</td>\n",
       "      <td>Incident on US-13 NB near OLIPHANT DR Road clo...</td>\n",
       "      <td>...</td>\n",
       "      <td>False</td>\n",
       "      <td>False</td>\n",
       "      <td>False</td>\n",
       "      <td>True</td>\n",
       "      <td>False</td>\n",
       "      <td>Night</td>\n",
       "      <td>Night</td>\n",
       "      <td>Night</td>\n",
       "      <td>Night</td>\n",
       "      <td>1</td>\n",
       "    </tr>\n",
       "    <tr>\n",
       "      <th>2</th>\n",
       "      <td>A-6287866</td>\n",
       "      <td>Source1</td>\n",
       "      <td>2021-08-05 19:32:57</td>\n",
       "      <td>2021-08-06 00:39:24</td>\n",
       "      <td>38.188500</td>\n",
       "      <td>-75.898168</td>\n",
       "      <td>38.188365</td>\n",
       "      <td>-75.897030</td>\n",
       "      <td>0.063</td>\n",
       "      <td>Incident on MD-363 SB near RILEY ROBERTS RD Dr...</td>\n",
       "      <td>...</td>\n",
       "      <td>False</td>\n",
       "      <td>False</td>\n",
       "      <td>False</td>\n",
       "      <td>False</td>\n",
       "      <td>False</td>\n",
       "      <td>NaN</td>\n",
       "      <td>NaN</td>\n",
       "      <td>NaN</td>\n",
       "      <td>NaN</td>\n",
       "      <td>0</td>\n",
       "    </tr>\n",
       "    <tr>\n",
       "      <th>3</th>\n",
       "      <td>A-5940856</td>\n",
       "      <td>Source1</td>\n",
       "      <td>2021-09-10 16:26:19</td>\n",
       "      <td>2021-09-10 17:44:22</td>\n",
       "      <td>38.938819</td>\n",
       "      <td>-76.912183</td>\n",
       "      <td>38.938869</td>\n",
       "      <td>-76.913163</td>\n",
       "      <td>0.053</td>\n",
       "      <td>Incident on ANNAPOLIS RD near ANNAPOLIS RD Dri...</td>\n",
       "      <td>...</td>\n",
       "      <td>False</td>\n",
       "      <td>False</td>\n",
       "      <td>False</td>\n",
       "      <td>False</td>\n",
       "      <td>False</td>\n",
       "      <td>Day</td>\n",
       "      <td>Day</td>\n",
       "      <td>Day</td>\n",
       "      <td>Day</td>\n",
       "      <td>0</td>\n",
       "    </tr>\n",
       "    <tr>\n",
       "      <th>4</th>\n",
       "      <td>A-5750691</td>\n",
       "      <td>Source1</td>\n",
       "      <td>2021-12-22 05:34:00</td>\n",
       "      <td>2021-12-22 07:35:58</td>\n",
       "      <td>39.260792</td>\n",
       "      <td>-76.703399</td>\n",
       "      <td>39.263592</td>\n",
       "      <td>-76.707289</td>\n",
       "      <td>0.284</td>\n",
       "      <td>I-695 INNER LOOP AT EXIT 12B MD 372 WILKENS AV...</td>\n",
       "      <td>...</td>\n",
       "      <td>False</td>\n",
       "      <td>False</td>\n",
       "      <td>False</td>\n",
       "      <td>False</td>\n",
       "      <td>False</td>\n",
       "      <td>Night</td>\n",
       "      <td>Night</td>\n",
       "      <td>Night</td>\n",
       "      <td>Night</td>\n",
       "      <td>1</td>\n",
       "    </tr>\n",
       "  </tbody>\n",
       "</table>\n",
       "<p>5 rows × 46 columns</p>\n",
       "</div>"
      ],
      "text/plain": [
       "          ID   Source           Start_Time             End_Time  Start_Lat  \\\n",
       "0  A-5408171  Source1  2022-03-02 06:47:00  2022-03-02 07:08:30  38.755850   \n",
       "1  A-5026095  Source1  2022-08-16 04:19:09  2022-08-16 05:36:19  38.416005   \n",
       "2  A-6287866  Source1  2021-08-05 19:32:57  2021-08-06 00:39:24  38.188500   \n",
       "3  A-5940856  Source1  2021-09-10 16:26:19  2021-09-10 17:44:22  38.938819   \n",
       "4  A-5750691  Source1  2021-12-22 05:34:00  2021-12-22 07:35:58  39.260792   \n",
       "\n",
       "   Start_Lng    End_Lat    End_Lng  Distance(mi)  \\\n",
       "0 -76.993078  38.766170 -76.994268         0.716   \n",
       "1 -75.566096  38.418080 -75.565457         0.147   \n",
       "2 -75.898168  38.188365 -75.897030         0.063   \n",
       "3 -76.912183  38.938869 -76.913163         0.053   \n",
       "4 -76.703399  39.263592 -76.707289         0.284   \n",
       "\n",
       "                                         Description  ... Station   Stop  \\\n",
       "0  Stationary traffic on MD-210 from Fort Washing...  ...   False  False   \n",
       "1  Incident on US-13 NB near OLIPHANT DR Road clo...  ...   False  False   \n",
       "2  Incident on MD-363 SB near RILEY ROBERTS RD Dr...  ...   False  False   \n",
       "3  Incident on ANNAPOLIS RD near ANNAPOLIS RD Dri...  ...   False  False   \n",
       "4  I-695 INNER LOOP AT EXIT 12B MD 372 WILKENS AV...  ...   False  False   \n",
       "\n",
       "  Traffic_Calming Traffic_Signal Turning_Loop Sunrise_Sunset Civil_Twilight  \\\n",
       "0           False           True        False            Day            Day   \n",
       "1           False           True        False          Night          Night   \n",
       "2           False          False        False            NaN            NaN   \n",
       "3           False          False        False            Day            Day   \n",
       "4           False          False        False          Night          Night   \n",
       "\n",
       "  Nautical_Twilight Astronomical_Twilight  Severity  \n",
       "0               Day                   Day         0  \n",
       "1             Night                 Night         1  \n",
       "2               NaN                   NaN         0  \n",
       "3               Day                   Day         0  \n",
       "4             Night                 Night         1  \n",
       "\n",
       "[5 rows x 46 columns]"
      ]
     },
     "execution_count": 2,
     "metadata": {},
     "output_type": "execute_result"
    }
   ],
   "source": [
    "\n",
    "X = pd.read_csv(\"../Data_Raw/Class4_vs_123_ML_Data/test/X_test_4_v_123.csv\")\n",
    "y = pd.read_csv(\"../Data_Raw/Class4_vs_123_ML_Data/test/y_test_4_v_123.csv\")\n",
    "df = pd.concat([X, y], axis=1)\n",
    "df.head()"
   ]
  },
  {
   "cell_type": "code",
   "execution_count": 3,
   "id": "a977570e",
   "metadata": {},
   "outputs": [],
   "source": [
    "# TRAIN SET INPUT\n",
    "#df = data_input(\"Data_Raw\", \"train_data\", \"X_train_2c_downsamp\", \"y_train_2c_downsamp\")\n",
    "#df.head()"
   ]
  },
  {
   "cell_type": "markdown",
   "id": "477f312b-4a81-4b30-a4ca-d5d077249036",
   "metadata": {},
   "source": [
    "## Drop columns unlikely to be useful\n",
    "\n",
    "Too focused on timing or too fine grained or unique"
   ]
  },
  {
   "cell_type": "code",
   "execution_count": 4,
   "id": "f66cbf70-dd6d-40a0-ac9b-6cae069ac21f",
   "metadata": {},
   "outputs": [
    {
     "data": {
      "text/plain": [
       "Index(['ID', 'Source', 'Start_Time', 'End_Time', 'Start_Lat', 'Start_Lng',\n",
       "       'End_Lat', 'End_Lng', 'Distance(mi)', 'Description', 'Street', 'City',\n",
       "       'County', 'State', 'Zipcode', 'Country', 'Timezone', 'Airport_Code',\n",
       "       'Weather_Timestamp', 'Temperature(F)', 'Wind_Chill(F)', 'Humidity(%)',\n",
       "       'Pressure(in)', 'Visibility(mi)', 'Wind_Direction', 'Wind_Speed(mph)',\n",
       "       'Precipitation(in)', 'Weather_Condition', 'Amenity', 'Bump', 'Crossing',\n",
       "       'Give_Way', 'Junction', 'No_Exit', 'Railway', 'Roundabout', 'Station',\n",
       "       'Stop', 'Traffic_Calming', 'Traffic_Signal', 'Turning_Loop',\n",
       "       'Sunrise_Sunset', 'Civil_Twilight', 'Nautical_Twilight',\n",
       "       'Astronomical_Twilight', 'Severity'],\n",
       "      dtype='object')"
      ]
     },
     "execution_count": 4,
     "metadata": {},
     "output_type": "execute_result"
    }
   ],
   "source": [
    "df.columns"
   ]
  },
  {
   "cell_type": "code",
   "execution_count": 5,
   "id": "a263d575-ba6d-4062-a883-77e2f1351f7f",
   "metadata": {},
   "outputs": [],
   "source": [
    "df.drop([\"ID\",\"Source\",\"Country\"],axis=1,inplace=True) # drop clearly unneeded columns"
   ]
  },
  {
   "cell_type": "code",
   "execution_count": 6,
   "id": "253123f7-3f79-4f37-8dbc-c68ac5a6cc4a",
   "metadata": {},
   "outputs": [],
   "source": [
    "df[\"Zipcode\"] = df.Zipcode.apply(lambda x: str(x).split(\"-\")[0]) # fix zipcodes so that they are all 5 digit"
   ]
  },
  {
   "cell_type": "code",
   "execution_count": 7,
   "id": "5676dde1-0dd8-42c7-ae2d-bba739b5261d",
   "metadata": {},
   "outputs": [],
   "source": [
    "df.drop([\"End_Time\",\"End_Lat\",\"End_Lng\"],axis=1,inplace=True) #can't know these things before it happens"
   ]
  },
  {
   "cell_type": "code",
   "execution_count": 8,
   "id": "f8490d26-3d72-4b4c-b7ec-f2241d14a849",
   "metadata": {},
   "outputs": [],
   "source": [
    "df.drop([\"Start_Lat\",\"Start_Lng\",\"State\",\"City\"],axis=1,inplace=True)# so much of location data is redundant and correlated"
   ]
  },
  {
   "cell_type": "code",
   "execution_count": 9,
   "id": "3997a3e0-f97e-48ae-b765-665dbeaabdcc",
   "metadata": {},
   "outputs": [],
   "source": [
    "df.drop([\"Timezone\",\"Weather_Timestamp\",\"Airport_Code\",\"Description\"],axis=1,inplace=True)"
   ]
  },
  {
   "cell_type": "code",
   "execution_count": 10,
   "id": "c1a48f8c-760e-42c7-a4e2-e2e27b3c1bed",
   "metadata": {},
   "outputs": [],
   "source": [
    "df.drop([\"Start_Time\",\"Zipcode\",\"County\"],axis=1,inplace=True)"
   ]
  },
  {
   "cell_type": "markdown",
   "id": "8834d156-764b-4af3-ad63-9f5640f80bdf",
   "metadata": {},
   "source": [
    "## Street Type"
   ]
  },
  {
   "cell_type": "code",
   "execution_count": 11,
   "id": "c9f523ac-61ee-4b5e-9601-51f58ec11f75",
   "metadata": {},
   "outputs": [],
   "source": [
    "df = df[~df.Street.str.contains(\"Francis Scott Key Bridge\",na=False)|~df.Street.str.contains(\"Alexandria - Gaylord\",na=False)]"
   ]
  },
  {
   "cell_type": "code",
   "execution_count": 12,
   "id": "ff3fe748-a1d9-4fd2-9bc1-308cd3cd550e",
   "metadata": {},
   "outputs": [
    {
     "name": "stdout",
     "output_type": "stream",
     "text": [
      "(1232,)\n"
     ]
    },
    {
     "data": {
      "application/vnd.microsoft.datawrangler.viewer.v0+json": {
       "columns": [
        {
         "name": "Street",
         "rawType": "object",
         "type": "string"
        },
        {
         "name": "count",
         "rawType": "int64",
         "type": "integer"
        }
       ],
       "ref": "6a93d1ec-97f3-4cbe-b3ca-1509b4f5f030",
       "rows": [
        [
         "I-95 N",
         "158"
        ],
        [
         "I-95 S",
         "144"
        ],
        [
         "Capital Beltway S",
         "87"
        ],
        [
         "I-695 E",
         "81"
        ],
        [
         "Capital Beltway E",
         "76"
        ],
        [
         "I-95",
         "70"
        ],
        [
         "Baltimore Washington Pkwy N",
         "69"
        ],
        [
         "I-70 E",
         "64"
        ],
        [
         "Capital Beltway W",
         "61"
        ],
        [
         "Capital Beltway N",
         "59"
        ],
        [
         "I-695",
         "54"
        ],
        [
         "I-695 N",
         "53"
        ],
        [
         "Baltimore Washington Pkwy S",
         "53"
        ],
        [
         "Dwight D Eisenhower Hwy N",
         "51"
        ],
        [
         "I-695 S",
         "45"
        ],
        [
         "I-695 W",
         "45"
        ],
        [
         "I-70 W",
         "44"
        ],
        [
         "Dwight D Eisenhower Hwy S",
         "42"
        ],
        [
         " Crain Hwy",
         "39"
        ],
        [
         "Capital Beltway",
         "39"
        ],
        [
         " Ocean Gtwy",
         "36"
        ],
        [
         "I-83 N",
         "31"
        ],
        [
         "Ocean Gtwy",
         "29"
        ],
        [
         "I-83 S",
         "28"
        ],
        [
         "I-70",
         "25"
        ],
        [
         "John Hanson Hwy E",
         "24"
        ],
        [
         "Crain Hwy",
         "22"
        ],
        [
         "Baltimore Washington Pkwy",
         "21"
        ],
        [
         "I-270 N",
         "20"
        ],
        [
         " Pulaski Hwy",
         "20"
        ],
        [
         " Indian Head Hwy",
         "19"
        ],
        [
         "Harbor Tunnel Trwy W",
         "19"
        ],
        [
         "US-50",
         "18"
        ],
        [
         "Baltimore National Pike E",
         "17"
        ],
        [
         " Liberty Rd",
         "17"
        ],
        [
         " Conowingo Rd",
         "17"
        ],
        [
         "Indian Head Hwy",
         "17"
        ],
        [
         " New Hampshire Ave",
         "16"
        ],
        [
         " University Blvd W",
         "16"
        ],
        [
         " Branch Ave",
         "16"
        ],
        [
         "Blue Star Memorial Hwy",
         "15"
        ],
        [
         "I-270",
         "15"
        ],
        [
         "William Preston Lane Jr Memorial Brg",
         "15"
        ],
        [
         "Washington National Pike S",
         "15"
        ],
        [
         "Catoctin Mountain Hwy",
         "13"
        ],
        [
         " Baltimore National Pike",
         "13"
        ],
        [
         "John Hanson Hwy W",
         "13"
        ],
        [
         "MD-100 W",
         "13"
        ],
        [
         " Baltimore Ave",
         "13"
        ],
        [
         "I-81 N",
         "13"
        ]
       ],
       "shape": {
        "columns": 1,
        "rows": 1232
       }
      },
      "text/plain": [
       "Street\n",
       "I-95 N                  158\n",
       "I-95 S                  144\n",
       "Capital Beltway S        87\n",
       "I-695 E                  81\n",
       "Capital Beltway E        76\n",
       "                       ... \n",
       " W Mount Harmony Rd       1\n",
       " Bradley Ln               1\n",
       "Bel Pre Rd                1\n",
       " Dominion Rd              1\n",
       "Old Westminster Pike      1\n",
       "Name: count, Length: 1232, dtype: int64"
      ]
     },
     "execution_count": 12,
     "metadata": {},
     "output_type": "execute_result"
    }
   ],
   "source": [
    "print(df.Street.value_counts().shape)\n",
    "df.Street.value_counts()"
   ]
  },
  {
   "cell_type": "code",
   "execution_count": 13,
   "id": "83ffea59-2519-4549-bd58-6076a30b7ed9",
   "metadata": {},
   "outputs": [],
   "source": [
    "def nsew(x,r):\n",
    "    if x[-1] in [\"N\",\"S\",\"E\",\"W\"]:\n",
    "        r= r+x[-1]\n",
    "    return r"
   ]
  },
  {
   "cell_type": "code",
   "execution_count": 14,
   "id": "1ac7e240-c085-45f8-a3f7-d78193f00e38",
   "metadata": {},
   "outputs": [],
   "source": [
    "def street_type(x):\n",
    "    if \"Tunl\" in x or \"Tunnel\" in x:\n",
    "        return \"Tunnel\"#nsew(x,\"Tunnel\")\n",
    "    if \"I-\" in x or \"I \" in x:\n",
    "        return \"Interstate\"\n",
    "    if \" Dr \" in x or \" Ave \" in x or \" Rd \" in x or \" Xing\" in x or \" Way \" in x:\n",
    "        return \"local\"\n",
    "    if \"Beltway\" in x:\n",
    "        return \"Beltway\"\n",
    "    if \"US-\" in x[:4] or \"US \" in x or \"MD-\" in x[:4] or \"Expy\" in x:\n",
    "        return \"Highway\"\n",
    "    if \"Hwy\" in x or \"Fwy\" in x or \"Highway\" in x or \"Route\" in x or \"Connector\" in x or \"Byp\" in x \\\n",
    "        or \"Bypass\" in x or \"Gtwy\" in x or \"Brg\" in x or \"Trwy\" in x or \"Rt\" in x or \"Conn\" in x or \"Exp\" in x \\\n",
    "        or \"Thwy\" in x:\n",
    "        return \"Highway\"\n",
    "    if x[-2:] in [\"St\",\"Pl\",\"Dr\",\"Sq\"]:\n",
    "        return \"local\"\n",
    "    if \"Ln\" in x or \"Rd\" in x or \"Ct\" in x:\n",
    "        return \"local\"\n",
    "    if x[-3:] in [\"Way\",\"Cir\",\"Ter\",\"Trl\",\"Plz\",\"Aly\",\"Grn\",\"way\",\"Ext\"]:\n",
    "        return \"local\"\n",
    "    if x[-3:] in [\"-A\", \"-B\", \"-11\", \"-33\"]:\n",
    "        return \"on_off_ramp\"\n",
    "    if x[-1] in [\"A\", \"B\", \"C\"]:\n",
    "        return \"on_off_ramp\"\n",
    "    if \"Ave\" in x[-5:] or \" Blvd\" in x or \" Pike\" in x or \"Pkwy\" in x or \"Crse\" in x or \"Alameda\" in x:\n",
    "        return \"large_local\"\n",
    "    if \"Garth\" in x or \"Spell\" in x or \"Psge\" in x or \"Chase\" in x or \"Cutoff\" in x or \"Spire\" in x:\n",
    "        return \"local\"\n",
    "    if \"Overlook\" in x or \"Battlefield\" in x or \"Cemetery\" in x or \"Park\" in x or \"Base\" in x or \"Concourse\" in x \\\n",
    "        or \"Memorial\" in x or \"Booth's\" in x or \"Bywy\" in x or \"Underground\" in x:\n",
    "        return \"special\"\n",
    "    if \"Loop\" in x or \"Greenway\" in x or \"West\" in x or \"ville\" in x or \"wood\" in x:\n",
    "        return \"local\"\n",
    "    if \"St\" in x or \"Mnr\" in x or \"Pass\" in x or \"Run\" in x or \"Mall\" in x or \"Row\" in x or \"Grv\":\n",
    "        return \"local\"\n",
    "    return x"
   ]
  },
  {
   "cell_type": "code",
   "execution_count": 15,
   "id": "0d3ebea3",
   "metadata": {},
   "outputs": [],
   "source": [
    "df[\"Street\"] = df[\"Street\"].astype(str)\n",
    "df[\"Street\"] = df.Street.apply(street_type)"
   ]
  },
  {
   "cell_type": "code",
   "execution_count": 16,
   "id": "b3258126-dde4-4315-9823-0529d3f907ff",
   "metadata": {},
   "outputs": [],
   "source": [
    "df=df.loc[~df.Street.str.contains(\"special\")]\n"
   ]
  },
  {
   "cell_type": "code",
   "execution_count": 17,
   "id": "c6a52b5f-8f2c-4121-87b0-72c10b097833",
   "metadata": {},
   "outputs": [
    {
     "data": {
      "application/vnd.microsoft.datawrangler.viewer.v0+json": {
       "columns": [
        {
         "name": "Street",
         "rawType": "object",
         "type": "string"
        },
        {
         "name": "count",
         "rawType": "int64",
         "type": "integer"
        }
       ],
       "ref": "701d5609-0115-471b-85fd-8e7c61e83807",
       "rows": [
        [
         "local",
         "1320"
        ],
        [
         "Interstate",
         "1046"
        ],
        [
         "Highway",
         "821"
        ],
        [
         "large_local",
         "770"
        ],
        [
         "Beltway",
         "325"
        ],
        [
         "Tunnel",
         "50"
        ],
        [
         "on_off_ramp",
         "20"
        ]
       ],
       "shape": {
        "columns": 1,
        "rows": 7
       }
      },
      "text/plain": [
       "Street\n",
       "local          1320\n",
       "Interstate     1046\n",
       "Highway         821\n",
       "large_local     770\n",
       "Beltway         325\n",
       "Tunnel           50\n",
       "on_off_ramp      20\n",
       "Name: count, dtype: int64"
      ]
     },
     "execution_count": 17,
     "metadata": {},
     "output_type": "execute_result"
    }
   ],
   "source": [
    "df.Street.value_counts()\n",
    "# added Intercounty conn as highway\n",
    "# added rt 100 as highway\n",
    "# added ocean city exp as highway\n",
    "# byway as special\n",
    "# added on_off_ramp\n",
    "# aberdeen thwy as highway\n",
    "# east c st 2 as local\n",
    "# prettyman manor is trailer park, made local\n",
    "# alexandria-gaylord is bridge, remove\n",
    "# Urbana Church Pass is local\n",
    "# olde mill run as local\n",
    "# harriet tubman byway as special\n",
    "# poncabird pass as local\n",
    "# Thompson creek mall as local"
   ]
  },
  {
   "cell_type": "markdown",
   "id": "31fc26bf-c479-4dba-a358-d67540cca1ce",
   "metadata": {},
   "source": [
    "## Weather Condition"
   ]
  },
  {
   "cell_type": "code",
   "execution_count": 18,
   "id": "9012d61c-12f5-4ba6-8a31-acc907447bf8",
   "metadata": {},
   "outputs": [
    {
     "data": {
      "application/vnd.microsoft.datawrangler.viewer.v0+json": {
       "columns": [
        {
         "name": "Weather_Condition",
         "rawType": "object",
         "type": "string"
        },
        {
         "name": "count",
         "rawType": "int64",
         "type": "integer"
        }
       ],
       "ref": "91309329-7630-4919-901b-9d46834ee436",
       "rows": [
        [
         "Fair",
         "1179"
        ],
        [
         "Cloudy",
         "534"
        ],
        [
         "Mostly Cloudy",
         "436"
        ],
        [
         "Clear",
         "382"
        ],
        [
         "Partly Cloudy",
         "295"
        ],
        [
         "Overcast",
         "233"
        ],
        [
         "Light Rain",
         "150"
        ],
        [
         "Scattered Clouds",
         "120"
        ],
        [
         "Light Snow",
         "60"
        ],
        [
         "Fog",
         "52"
        ],
        [
         "Rain",
         "40"
        ],
        [
         "Light Drizzle",
         "24"
        ],
        [
         "Fair / Windy",
         "15"
        ],
        [
         "Heavy Rain",
         "11"
        ],
        [
         "Haze",
         "11"
        ],
        [
         "Mostly Cloudy / Windy",
         "10"
        ],
        [
         "Light Freezing Rain",
         "8"
        ],
        [
         "Wintry Mix",
         "8"
        ],
        [
         "T-Storm",
         "6"
        ],
        [
         "Partly Cloudy / Windy",
         "6"
        ],
        [
         "Cloudy / Windy",
         "4"
        ],
        [
         "Snow",
         "4"
        ],
        [
         "N/A Precipitation",
         "3"
        ],
        [
         "Light Rain with Thunder",
         "3"
        ],
        [
         "Drizzle",
         "2"
        ],
        [
         "Shallow Fog",
         "2"
        ],
        [
         "Light Ice Pellets",
         "1"
        ],
        [
         "Small Hail",
         "1"
        ],
        [
         "Light Rain Shower",
         "1"
        ],
        [
         "Thunder in the Vicinity",
         "1"
        ],
        [
         "Rain / Windy",
         "1"
        ],
        [
         "Thunderstorm",
         "1"
        ],
        [
         "Wintry Mix / Windy",
         "1"
        ],
        [
         "Snow and Sleet",
         "1"
        ],
        [
         "Heavy T-Storm",
         "1"
        ],
        [
         "Sleet",
         "1"
        ],
        [
         "Sand",
         "1"
        ],
        [
         "Thunder",
         "1"
        ]
       ],
       "shape": {
        "columns": 1,
        "rows": 38
       }
      },
      "text/plain": [
       "Weather_Condition\n",
       "Fair                       1179\n",
       "Cloudy                      534\n",
       "Mostly Cloudy               436\n",
       "Clear                       382\n",
       "Partly Cloudy               295\n",
       "Overcast                    233\n",
       "Light Rain                  150\n",
       "Scattered Clouds            120\n",
       "Light Snow                   60\n",
       "Fog                          52\n",
       "Rain                         40\n",
       "Light Drizzle                24\n",
       "Fair / Windy                 15\n",
       "Heavy Rain                   11\n",
       "Haze                         11\n",
       "Mostly Cloudy / Windy        10\n",
       "Light Freezing Rain           8\n",
       "Wintry Mix                    8\n",
       "T-Storm                       6\n",
       "Partly Cloudy / Windy         6\n",
       "Cloudy / Windy                4\n",
       "Snow                          4\n",
       "N/A Precipitation             3\n",
       "Light Rain with Thunder       3\n",
       "Drizzle                       2\n",
       "Shallow Fog                   2\n",
       "Light Ice Pellets             1\n",
       "Small Hail                    1\n",
       "Light Rain Shower             1\n",
       "Thunder in the Vicinity       1\n",
       "Rain / Windy                  1\n",
       "Thunderstorm                  1\n",
       "Wintry Mix / Windy            1\n",
       "Snow and Sleet                1\n",
       "Heavy T-Storm                 1\n",
       "Sleet                         1\n",
       "Sand                          1\n",
       "Thunder                       1\n",
       "Name: count, dtype: int64"
      ]
     },
     "execution_count": 18,
     "metadata": {},
     "output_type": "execute_result"
    }
   ],
   "source": [
    "df[\"Weather_Condition\"].value_counts()"
   ]
  },
  {
   "cell_type": "code",
   "execution_count": 19,
   "id": "28a20b2d-f507-4290-a1dc-6a28e82c29d8",
   "metadata": {},
   "outputs": [],
   "source": [
    "df = df.loc[(df.Weather_Condition != \"Sand\")] # too few values"
   ]
  },
  {
   "cell_type": "code",
   "execution_count": 20,
   "id": "1170e7a9-e558-4c33-881c-af8bdeb06ea8",
   "metadata": {},
   "outputs": [],
   "source": [
    "# missing values count as a float\n",
    "# change to \"unknown\" instead. Later we can decide if we want to keep\n",
    "df[\"Weather_Condition\"] = df[\"Weather_Condition\"].fillna(\"unknown\")"
   ]
  },
  {
   "cell_type": "code",
   "execution_count": 21,
   "id": "e7f348e8-5930-4444-8069-7f7b046b6de6",
   "metadata": {},
   "outputs": [],
   "source": [
    "df[\"Weather_Condition\"] = df[\"Weather_Condition\"].apply(lambda x: \"None\" if \"N/A\" in x else x)"
   ]
  },
  {
   "cell_type": "code",
   "execution_count": 22,
   "id": "a3742bfd-971d-4716-bfce-b29019d27290",
   "metadata": {},
   "outputs": [],
   "source": [
    "df[\"Weather_Condition\"]=df[\"Weather_Condition\"].apply(lambda x: \"Windy\" if \"Windy\" in x else x)"
   ]
  },
  {
   "cell_type": "code",
   "execution_count": 23,
   "id": "ff510354-b176-4f22-af77-2f87ffbf8d3a",
   "metadata": {},
   "outputs": [],
   "source": [
    "def mapping_1(x):\n",
    "    tomap = {\"Light Drizzle\":\"Drizzle\",\n",
    "            \"Light Rain with Thunder\":\"Light Thunderstorms and Rain\",\n",
    "            \"Thunder in the Vicinity\":\"Thunder\",\n",
    "            \"Heavy Drizzle\":\"Rain\",\n",
    "            \"Mist\":\"Fog\",\n",
    "            \"Light Freezing Drizzle\":\"Light Freezing Rain\"}\n",
    "    if x in tomap:\n",
    "        return tomap[x]\n",
    "    return x"
   ]
  },
  {
   "cell_type": "code",
   "execution_count": 24,
   "id": "32284e8f-d495-40f0-8689-0743084121b6",
   "metadata": {},
   "outputs": [],
   "source": [
    "def mapping_2(x):\n",
    "    tomap = {\"Light Rain Shower\":\"Drizzle\",\n",
    "             \"Light Rain\":\"Drizzle\",\n",
    "            \"Light Ice Pellets\":\"Ice Pellets\",\n",
    "            \"Shallow Fog\":\"Fog\"}\n",
    "    if x in tomap:\n",
    "        return tomap[x]\n",
    "    return x"
   ]
  },
  {
   "cell_type": "code",
   "execution_count": 25,
   "id": "724633ef-a3b0-41a3-aab8-b1fbc65dc635",
   "metadata": {},
   "outputs": [],
   "source": [
    "def mapping_3(x):\n",
    "    tomap = {\"Heavy Ice Pellets\":\"Ice Pellets\",\n",
    "            \"Drizzle and Fog\":\"Fog\",\n",
    "            \"Patches of Fog\":\"Fog\",\n",
    "            \"Heavy Snow\":\"Snow\",\n",
    "            \"Heavy Thunderstorms and Rain\":\"Thunderstorms\",\n",
    "            \"T-Storm\":\"Thunderstorms\",\n",
    "            \"Heavy T-Storm\":\"Thunderstorms\",\n",
    "            \"Thunderstorms and Rain\":\"Thunderstorms\"}\n",
    "    if x in tomap:\n",
    "        return tomap[x]\n",
    "    return x"
   ]
  },
  {
   "cell_type": "code",
   "execution_count": 26,
   "id": "a5743b07-fb57-4deb-9669-795c49f28a7b",
   "metadata": {},
   "outputs": [],
   "source": [
    "def mapping_4(x):\n",
    "    tomap = {\"Light Snow Shower\":\"Snow\",\n",
    "            \"Light Snow\":\"Snow\",\n",
    "            \"Light Rain Showers\":\"Drizzle\",\n",
    "            \"Light Thunderstorms and Rain\":\"Thunderstorms\"}\n",
    "    if x in tomap:\n",
    "        return tomap[x]\n",
    "    return x"
   ]
  },
  {
   "cell_type": "code",
   "execution_count": 27,
   "id": "5a059f29-da8f-475c-aca4-c73da0ddaeb9",
   "metadata": {},
   "outputs": [],
   "source": [
    "df[\"Weather_Condition\"]=df[\"Weather_Condition\"].apply(mapping_1)                        "
   ]
  },
  {
   "cell_type": "code",
   "execution_count": 28,
   "id": "85bd3cf8-b404-46f8-8fbb-abf69763461e",
   "metadata": {},
   "outputs": [],
   "source": [
    "df[\"Weather_Condition\"]=df[\"Weather_Condition\"].apply(mapping_2)"
   ]
  },
  {
   "cell_type": "code",
   "execution_count": 29,
   "id": "dad0bcb1-a5d9-484a-b81e-e05adb9d130d",
   "metadata": {},
   "outputs": [],
   "source": [
    "df[\"Weather_Condition\"]=df[\"Weather_Condition\"].apply(mapping_3)"
   ]
  },
  {
   "cell_type": "code",
   "execution_count": 30,
   "id": "408da93d-cf4c-420c-a4ba-60dce1fe22b0",
   "metadata": {},
   "outputs": [],
   "source": [
    "df[\"Weather_Condition\"]=df[\"Weather_Condition\"].apply(mapping_4)"
   ]
  },
  {
   "cell_type": "code",
   "execution_count": 31,
   "id": "0efd2235-3d11-4863-9268-15f13984b53b",
   "metadata": {},
   "outputs": [
    {
     "data": {
      "application/vnd.microsoft.datawrangler.viewer.v0+json": {
       "columns": [
        {
         "name": "Weather_Condition",
         "rawType": "object",
         "type": "string"
        },
        {
         "name": "count",
         "rawType": "int64",
         "type": "integer"
        }
       ],
       "ref": "e5857efb-1e30-45e1-8889-a3c556059f52",
       "rows": [
        [
         "Fair",
         "1179"
        ],
        [
         "unknown",
         "742"
        ],
        [
         "Cloudy",
         "534"
        ],
        [
         "Mostly Cloudy",
         "436"
        ],
        [
         "Clear",
         "382"
        ],
        [
         "Partly Cloudy",
         "295"
        ],
        [
         "Overcast",
         "233"
        ],
        [
         "Drizzle",
         "177"
        ],
        [
         "Scattered Clouds",
         "120"
        ],
        [
         "Snow",
         "64"
        ],
        [
         "Fog",
         "54"
        ],
        [
         "Rain",
         "40"
        ],
        [
         "Windy",
         "37"
        ],
        [
         "Heavy Rain",
         "11"
        ],
        [
         "Haze",
         "11"
        ],
        [
         "Thunderstorms",
         "10"
        ],
        [
         "Wintry Mix",
         "8"
        ],
        [
         "Light Freezing Rain",
         "8"
        ],
        [
         "None",
         "3"
        ],
        [
         "Thunder",
         "2"
        ],
        [
         "Ice Pellets",
         "1"
        ],
        [
         "Small Hail",
         "1"
        ],
        [
         "Thunderstorm",
         "1"
        ],
        [
         "Snow and Sleet",
         "1"
        ],
        [
         "Sleet",
         "1"
        ]
       ],
       "shape": {
        "columns": 1,
        "rows": 25
       }
      },
      "text/plain": [
       "Weather_Condition\n",
       "Fair                   1179\n",
       "unknown                 742\n",
       "Cloudy                  534\n",
       "Mostly Cloudy           436\n",
       "Clear                   382\n",
       "Partly Cloudy           295\n",
       "Overcast                233\n",
       "Drizzle                 177\n",
       "Scattered Clouds        120\n",
       "Snow                     64\n",
       "Fog                      54\n",
       "Rain                     40\n",
       "Windy                    37\n",
       "Heavy Rain               11\n",
       "Haze                     11\n",
       "Thunderstorms            10\n",
       "Wintry Mix                8\n",
       "Light Freezing Rain       8\n",
       "None                      3\n",
       "Thunder                   2\n",
       "Ice Pellets               1\n",
       "Small Hail                1\n",
       "Thunderstorm              1\n",
       "Snow and Sleet            1\n",
       "Sleet                     1\n",
       "Name: count, dtype: int64"
      ]
     },
     "execution_count": 31,
     "metadata": {},
     "output_type": "execute_result"
    }
   ],
   "source": [
    "df.Weather_Condition.value_counts()"
   ]
  },
  {
   "cell_type": "markdown",
   "id": "aa8c051e-75ed-40c6-891e-ab82a6e76461",
   "metadata": {},
   "source": [
    "None and Light Sleet have almost no rows will values, drop them.\n",
    "Light Freezing Fog has 10 rows. Change to Fog.\n",
    "Leave others for now. Will need to decide if further combinations are necessary."
   ]
  },
  {
   "cell_type": "code",
   "execution_count": 32,
   "id": "0a94cf27-8b4f-4a1f-b8da-ae25f2fdbb12",
   "metadata": {},
   "outputs": [],
   "source": [
    "df = df.loc[(df.Weather_Condition != \"None\") & (df.Weather_Condition != \"Light Sleet\")]"
   ]
  },
  {
   "cell_type": "code",
   "execution_count": 33,
   "id": "13dd0f0f-0108-4471-8ad4-52158f2921fe",
   "metadata": {},
   "outputs": [],
   "source": [
    "df=df.reset_index(drop=True)"
   ]
  },
  {
   "cell_type": "code",
   "execution_count": 34,
   "id": "ca74de56-9432-4559-b5d1-b020a3e31d86",
   "metadata": {},
   "outputs": [
    {
     "data": {
      "text/plain": [
       "(4348, 29)"
      ]
     },
     "execution_count": 34,
     "metadata": {},
     "output_type": "execute_result"
    }
   ],
   "source": [
    "df.shape"
   ]
  },
  {
   "cell_type": "markdown",
   "id": "6f2cd5a8-84eb-4bcd-95a0-f0cc1fe27ffa",
   "metadata": {},
   "source": [
    "## Wind Direction"
   ]
  },
  {
   "cell_type": "code",
   "execution_count": 35,
   "id": "0f20db52-83a9-4a67-9964-2cf6b09b3156",
   "metadata": {},
   "outputs": [],
   "source": [
    "# Can decide later whether to keep or remove rows with unknown values\n",
    "df[\"Wind_Direction\"] = df.Wind_Direction.fillna(\"unknown\")"
   ]
  },
  {
   "cell_type": "code",
   "execution_count": 36,
   "id": "84715317-3782-4f7b-87f3-13aa14176b88",
   "metadata": {},
   "outputs": [
    {
     "data": {
      "application/vnd.microsoft.datawrangler.viewer.v0+json": {
       "columns": [
        {
         "name": "Wind_Direction",
         "rawType": "object",
         "type": "string"
        },
        {
         "name": "count",
         "rawType": "int64",
         "type": "integer"
        }
       ],
       "ref": "584685ba-7850-4d97-83c7-7810fc3119e0",
       "rows": [
        [
         "CALM",
         "689"
        ],
        [
         "unknown",
         "574"
        ],
        [
         "Calm",
         "286"
        ],
        [
         "NW",
         "256"
        ],
        [
         "WNW",
         "249"
        ],
        [
         "North",
         "218"
        ],
        [
         "S",
         "186"
        ],
        [
         "W",
         "173"
        ],
        [
         "NNW",
         "171"
        ],
        [
         "SSW",
         "163"
        ],
        [
         "SSE",
         "143"
        ],
        [
         "SW",
         "143"
        ],
        [
         "SE",
         "131"
        ],
        [
         "N",
         "123"
        ],
        [
         "WSW",
         "108"
        ],
        [
         "NNE",
         "107"
        ],
        [
         "NE",
         "104"
        ],
        [
         "ENE",
         "99"
        ],
        [
         "E",
         "90"
        ],
        [
         "ESE",
         "76"
        ],
        [
         "West",
         "75"
        ],
        [
         "South",
         "67"
        ],
        [
         "VAR",
         "54"
        ],
        [
         "East",
         "34"
        ],
        [
         "Variable",
         "29"
        ]
       ],
       "shape": {
        "columns": 1,
        "rows": 25
       }
      },
      "text/plain": [
       "Wind_Direction\n",
       "CALM        689\n",
       "unknown     574\n",
       "Calm        286\n",
       "NW          256\n",
       "WNW         249\n",
       "North       218\n",
       "S           186\n",
       "W           173\n",
       "NNW         171\n",
       "SSW         163\n",
       "SSE         143\n",
       "SW          143\n",
       "SE          131\n",
       "N           123\n",
       "WSW         108\n",
       "NNE         107\n",
       "NE          104\n",
       "ENE          99\n",
       "E            90\n",
       "ESE          76\n",
       "West         75\n",
       "South        67\n",
       "VAR          54\n",
       "East         34\n",
       "Variable     29\n",
       "Name: count, dtype: int64"
      ]
     },
     "execution_count": 36,
     "metadata": {},
     "output_type": "execute_result"
    }
   ],
   "source": [
    "df.Wind_Direction.value_counts()"
   ]
  },
  {
   "cell_type": "code",
   "execution_count": 37,
   "id": "0f9c7e05-1f82-417c-b5db-7c0630886e50",
   "metadata": {},
   "outputs": [],
   "source": [
    "# Basic cleanup of alternative spellings\n",
    "def wind_map(x):\n",
    "    tomap = {\"CALM\":\"Calm\",\"South\":\"S\",\"West\":\"W\",\"North\":\"N\",\"East\":\"E\",\"VAR\":\"Variable\"}\n",
    "    if x in tomap:\n",
    "        return tomap[x]\n",
    "    return x"
   ]
  },
  {
   "cell_type": "code",
   "execution_count": 38,
   "id": "20439a21-5f52-4b84-a42b-f530a90e001e",
   "metadata": {},
   "outputs": [],
   "source": [
    "# Less fine grained values\n",
    "def wind_2(x):\n",
    "    tomap = {\"WNW\":\"NW\",\"NNW\":\"NW\",\"SSW\":\"SW\",\"SSE\":\"SE\",\"WSW\":\"SW\",\"NNE\":\"NE\",\"ENE\":\"NE\",\"ESE\":\"SE\"}\n",
    "    if x in tomap:\n",
    "        return tomap[x]\n",
    "    return x"
   ]
  },
  {
   "cell_type": "code",
   "execution_count": 39,
   "id": "c187d0a7-d878-431f-9255-ee634b35c9d5",
   "metadata": {},
   "outputs": [],
   "source": [
    "df[\"Wind_Direction\"] = df.Wind_Direction.apply(wind_map)"
   ]
  },
  {
   "cell_type": "code",
   "execution_count": 40,
   "id": "66522fcd-1da9-467e-bf96-a18a2ecd190d",
   "metadata": {},
   "outputs": [],
   "source": [
    "df[\"Wind_Direction\"] = df.Wind_Direction.apply(wind_2)"
   ]
  },
  {
   "cell_type": "code",
   "execution_count": 41,
   "id": "4205ec9a-82ce-4514-8fa7-d33303ff093e",
   "metadata": {},
   "outputs": [
    {
     "data": {
      "application/vnd.microsoft.datawrangler.viewer.v0+json": {
       "columns": [
        {
         "name": "Wind_Direction",
         "rawType": "object",
         "type": "string"
        },
        {
         "name": "count",
         "rawType": "int64",
         "type": "integer"
        }
       ],
       "ref": "d503eb35-7e2b-4233-9f29-fb524a991c79",
       "rows": [
        [
         "Calm",
         "975"
        ],
        [
         "NW",
         "676"
        ],
        [
         "unknown",
         "574"
        ],
        [
         "SW",
         "414"
        ],
        [
         "SE",
         "350"
        ],
        [
         "N",
         "341"
        ],
        [
         "NE",
         "310"
        ],
        [
         "S",
         "253"
        ],
        [
         "W",
         "248"
        ],
        [
         "E",
         "124"
        ],
        [
         "Variable",
         "83"
        ]
       ],
       "shape": {
        "columns": 1,
        "rows": 11
       }
      },
      "text/plain": [
       "Wind_Direction\n",
       "Calm        975\n",
       "NW          676\n",
       "unknown     574\n",
       "SW          414\n",
       "SE          350\n",
       "N           341\n",
       "NE          310\n",
       "S           253\n",
       "W           248\n",
       "E           124\n",
       "Variable     83\n",
       "Name: count, dtype: int64"
      ]
     },
     "execution_count": 41,
     "metadata": {},
     "output_type": "execute_result"
    }
   ],
   "source": [
    "df.Wind_Direction.value_counts()"
   ]
  },
  {
   "cell_type": "markdown",
   "id": "3d9d0801-d6fe-4e2c-bead-981a89b654d7",
   "metadata": {},
   "source": [
    "## Missing Values: drop columns"
   ]
  },
  {
   "cell_type": "code",
   "execution_count": 42,
   "id": "a999d4bc-5e53-427a-84a7-d750377629d2",
   "metadata": {},
   "outputs": [
    {
     "data": {
      "text/plain": [
       "Index(['Distance(mi)', 'Street', 'Temperature(F)', 'Wind_Chill(F)',\n",
       "       'Humidity(%)', 'Pressure(in)', 'Visibility(mi)', 'Wind_Direction',\n",
       "       'Wind_Speed(mph)', 'Precipitation(in)', 'Weather_Condition', 'Amenity',\n",
       "       'Bump', 'Crossing', 'Give_Way', 'Junction', 'No_Exit', 'Railway',\n",
       "       'Roundabout', 'Station', 'Stop', 'Traffic_Calming', 'Traffic_Signal',\n",
       "       'Turning_Loop', 'Sunrise_Sunset', 'Civil_Twilight', 'Nautical_Twilight',\n",
       "       'Astronomical_Twilight', 'Severity'],\n",
       "      dtype='object')"
      ]
     },
     "execution_count": 42,
     "metadata": {},
     "output_type": "execute_result"
    }
   ],
   "source": [
    "df.columns"
   ]
  },
  {
   "cell_type": "code",
   "execution_count": 43,
   "id": "a2d9933c-c4b7-44db-9e5f-b934335270b9",
   "metadata": {},
   "outputs": [
    {
     "data": {
      "text/plain": [
       "(4348, 29)"
      ]
     },
     "execution_count": 43,
     "metadata": {},
     "output_type": "execute_result"
    }
   ],
   "source": [
    "df.shape"
   ]
  },
  {
   "cell_type": "code",
   "execution_count": 44,
   "id": "07a28390-71a4-465f-a8b9-f45c40400847",
   "metadata": {},
   "outputs": [
    {
     "data": {
      "application/vnd.microsoft.datawrangler.viewer.v0+json": {
       "columns": [
        {
         "name": "index",
         "rawType": "object",
         "type": "string"
        },
        {
         "name": "0",
         "rawType": "int64",
         "type": "integer"
        }
       ],
       "ref": "5027c3f7-d07e-4d8c-b2ec-28a58606d2e6",
       "rows": [
        [
         "Distance(mi)",
         "0"
        ],
        [
         "Street",
         "0"
        ],
        [
         "Temperature(F)",
         "468"
        ],
        [
         "Wind_Chill(F)",
         "1530"
        ],
        [
         "Humidity(%)",
         "470"
        ],
        [
         "Pressure(in)",
         "434"
        ],
        [
         "Visibility(mi)",
         "751"
        ],
        [
         "Wind_Direction",
         "0"
        ],
        [
         "Wind_Speed(mph)",
         "1021"
        ],
        [
         "Precipitation(in)",
         "1668"
        ],
        [
         "Weather_Condition",
         "0"
        ],
        [
         "Amenity",
         "0"
        ],
        [
         "Bump",
         "0"
        ],
        [
         "Crossing",
         "0"
        ],
        [
         "Give_Way",
         "0"
        ],
        [
         "Junction",
         "0"
        ],
        [
         "No_Exit",
         "0"
        ],
        [
         "Railway",
         "0"
        ],
        [
         "Roundabout",
         "0"
        ],
        [
         "Station",
         "0"
        ],
        [
         "Stop",
         "0"
        ],
        [
         "Traffic_Calming",
         "0"
        ],
        [
         "Traffic_Signal",
         "0"
        ],
        [
         "Turning_Loop",
         "0"
        ],
        [
         "Sunrise_Sunset",
         "13"
        ],
        [
         "Civil_Twilight",
         "13"
        ],
        [
         "Nautical_Twilight",
         "13"
        ],
        [
         "Astronomical_Twilight",
         "13"
        ],
        [
         "Severity",
         "0"
        ]
       ],
       "shape": {
        "columns": 1,
        "rows": 29
       }
      },
      "text/plain": [
       "Distance(mi)                0\n",
       "Street                      0\n",
       "Temperature(F)            468\n",
       "Wind_Chill(F)            1530\n",
       "Humidity(%)               470\n",
       "Pressure(in)              434\n",
       "Visibility(mi)            751\n",
       "Wind_Direction              0\n",
       "Wind_Speed(mph)          1021\n",
       "Precipitation(in)        1668\n",
       "Weather_Condition           0\n",
       "Amenity                     0\n",
       "Bump                        0\n",
       "Crossing                    0\n",
       "Give_Way                    0\n",
       "Junction                    0\n",
       "No_Exit                     0\n",
       "Railway                     0\n",
       "Roundabout                  0\n",
       "Station                     0\n",
       "Stop                        0\n",
       "Traffic_Calming             0\n",
       "Traffic_Signal              0\n",
       "Turning_Loop                0\n",
       "Sunrise_Sunset             13\n",
       "Civil_Twilight             13\n",
       "Nautical_Twilight          13\n",
       "Astronomical_Twilight      13\n",
       "Severity                    0\n",
       "dtype: int64"
      ]
     },
     "execution_count": 44,
     "metadata": {},
     "output_type": "execute_result"
    }
   ],
   "source": [
    "df.isna().sum()"
   ]
  },
  {
   "cell_type": "code",
   "execution_count": 45,
   "id": "088f87dc-684a-484d-ad58-b1c04b6b9da7",
   "metadata": {},
   "outputs": [],
   "source": [
    "# half of the rows are missing wind chill. Better to just drop the column\n",
    "df.drop([\"Wind_Chill(F)\"],axis=1,inplace=True)"
   ]
  },
  {
   "cell_type": "code",
   "execution_count": 46,
   "id": "92a78a94-a5d5-4566-aa30-ff734412f416",
   "metadata": {},
   "outputs": [],
   "source": [
    "# half of the rows are missing precipitation, and weather condition already\n",
    "# covers that situation more or less. So drop\n",
    "df.drop([\"Precipitation(in)\"],axis=1,inplace=True)"
   ]
  },
  {
   "cell_type": "code",
   "execution_count": 47,
   "id": "76c3262e-0843-4fdd-b6a3-deb91368fd40",
   "metadata": {},
   "outputs": [
    {
     "data": {
      "text/plain": [
       "<Axes: >"
      ]
     },
     "execution_count": 47,
     "metadata": {},
     "output_type": "execute_result"
    },
    {
     "data": {
      "image/png": "[encoded data removed]",
      "text/plain": [
       "<Figure size 640x480 with 1 Axes>"
      ]
     },
     "metadata": {},
     "output_type": "display_data"
    }
   ],
   "source": [
    "df[\"Wind_Speed(mph)\"].hist(bins=30)"
   ]
  },
  {
   "cell_type": "code",
   "execution_count": 48,
   "id": "7c7f056f-33f7-45a9-9808-5c93a5e5833a",
   "metadata": {},
   "outputs": [
    {
     "data": {
      "text/plain": [
       "2"
      ]
     },
     "execution_count": 48,
     "metadata": {},
     "output_type": "execute_result"
    }
   ],
   "source": [
    "df[df[\"Wind_Speed(mph)\"] > 40].shape[0]"
   ]
  },
  {
   "cell_type": "markdown",
   "id": "fd3f4c3f-4c9f-450a-bb4d-d8a6d871ee87",
   "metadata": {},
   "source": [
    "Wind speed has a significant number of missing values. It is also a fairly tight distribution other than 11 values that are larger. Although wind speed could be useful in predicting severity, it may not be worth keeping in this situation. I think we try without it first."
   ]
  },
  {
   "cell_type": "code",
   "execution_count": 49,
   "id": "9924ce03-3f75-4d11-832d-cc0cac99295f",
   "metadata": {},
   "outputs": [],
   "source": [
    "df.drop([\"Wind_Speed(mph)\"],inplace=True,axis=1)"
   ]
  },
  {
   "cell_type": "code",
   "execution_count": 50,
   "id": "f31c7493-043a-4c96-b6a6-b6e70187f83d",
   "metadata": {},
   "outputs": [
    {
     "data": {
      "application/vnd.microsoft.datawrangler.viewer.v0+json": {
       "columns": [
        {
         "name": "index",
         "rawType": "object",
         "type": "string"
        },
        {
         "name": "0",
         "rawType": "int64",
         "type": "integer"
        }
       ],
       "ref": "2a677dd1-a177-4579-9f80-fa876d1bc474",
       "rows": [
        [
         "Distance(mi)",
         "0"
        ],
        [
         "Street",
         "0"
        ],
        [
         "Temperature(F)",
         "468"
        ],
        [
         "Humidity(%)",
         "470"
        ],
        [
         "Pressure(in)",
         "434"
        ],
        [
         "Visibility(mi)",
         "751"
        ],
        [
         "Wind_Direction",
         "0"
        ],
        [
         "Weather_Condition",
         "0"
        ],
        [
         "Amenity",
         "0"
        ],
        [
         "Bump",
         "0"
        ],
        [
         "Crossing",
         "0"
        ],
        [
         "Give_Way",
         "0"
        ],
        [
         "Junction",
         "0"
        ],
        [
         "No_Exit",
         "0"
        ],
        [
         "Railway",
         "0"
        ],
        [
         "Roundabout",
         "0"
        ],
        [
         "Station",
         "0"
        ],
        [
         "Stop",
         "0"
        ],
        [
         "Traffic_Calming",
         "0"
        ],
        [
         "Traffic_Signal",
         "0"
        ],
        [
         "Turning_Loop",
         "0"
        ],
        [
         "Sunrise_Sunset",
         "13"
        ],
        [
         "Civil_Twilight",
         "13"
        ],
        [
         "Nautical_Twilight",
         "13"
        ],
        [
         "Astronomical_Twilight",
         "13"
        ],
        [
         "Severity",
         "0"
        ]
       ],
       "shape": {
        "columns": 1,
        "rows": 26
       }
      },
      "text/plain": [
       "Distance(mi)               0\n",
       "Street                     0\n",
       "Temperature(F)           468\n",
       "Humidity(%)              470\n",
       "Pressure(in)             434\n",
       "Visibility(mi)           751\n",
       "Wind_Direction             0\n",
       "Weather_Condition          0\n",
       "Amenity                    0\n",
       "Bump                       0\n",
       "Crossing                   0\n",
       "Give_Way                   0\n",
       "Junction                   0\n",
       "No_Exit                    0\n",
       "Railway                    0\n",
       "Roundabout                 0\n",
       "Station                    0\n",
       "Stop                       0\n",
       "Traffic_Calming            0\n",
       "Traffic_Signal             0\n",
       "Turning_Loop               0\n",
       "Sunrise_Sunset            13\n",
       "Civil_Twilight            13\n",
       "Nautical_Twilight         13\n",
       "Astronomical_Twilight     13\n",
       "Severity                   0\n",
       "dtype: int64"
      ]
     },
     "execution_count": 50,
     "metadata": {},
     "output_type": "execute_result"
    }
   ],
   "source": [
    "df.isna().sum()"
   ]
  },
  {
   "cell_type": "code",
   "execution_count": 51,
   "id": "ce8dd527-25b4-4ef6-b79f-72de9da790eb",
   "metadata": {},
   "outputs": [
    {
     "data": {
      "text/plain": [
       "(3545, 26)"
      ]
     },
     "execution_count": 51,
     "metadata": {},
     "output_type": "execute_result"
    }
   ],
   "source": [
    "df.dropna().shape"
   ]
  },
  {
   "cell_type": "markdown",
   "id": "ecbbbdb4-c2b7-40d0-b0e1-c5f4f98471a3",
   "metadata": {},
   "source": [
    "It looks like dropping NA values doesn't remove too many rows, there must be rows with multiple NA values. So let's drop NA rows."
   ]
  },
  {
   "cell_type": "code",
   "execution_count": 52,
   "id": "6864932f-351e-400a-8413-77d7a328413e",
   "metadata": {},
   "outputs": [],
   "source": [
    "df.dropna(inplace=True)"
   ]
  },
  {
   "cell_type": "markdown",
   "id": "d482d59f-83cf-40cd-8668-341974756279",
   "metadata": {},
   "source": [
    "## Twilights\n",
    "\n",
    "We don't need four different twilights."
   ]
  },
  {
   "cell_type": "code",
   "execution_count": 53,
   "id": "68a2192d-d6d1-4441-9d92-2bf0863976c1",
   "metadata": {},
   "outputs": [
    {
     "data": {
      "text/plain": [
       "Index(['Distance(mi)', 'Street', 'Temperature(F)', 'Humidity(%)',\n",
       "       'Pressure(in)', 'Visibility(mi)', 'Wind_Direction', 'Weather_Condition',\n",
       "       'Amenity', 'Bump', 'Crossing', 'Give_Way', 'Junction', 'No_Exit',\n",
       "       'Railway', 'Roundabout', 'Station', 'Stop', 'Traffic_Calming',\n",
       "       'Traffic_Signal', 'Turning_Loop', 'Sunrise_Sunset', 'Civil_Twilight',\n",
       "       'Nautical_Twilight', 'Astronomical_Twilight', 'Severity'],\n",
       "      dtype='object')"
      ]
     },
     "execution_count": 53,
     "metadata": {},
     "output_type": "execute_result"
    }
   ],
   "source": [
    "df.columns"
   ]
  },
  {
   "cell_type": "code",
   "execution_count": 54,
   "id": "f17843bb-22a8-476e-bb99-d1b2653c9cdc",
   "metadata": {},
   "outputs": [],
   "source": [
    "df.drop(['Civil_Twilight','Nautical_Twilight', 'Astronomical_Twilight'],inplace=True,axis=1)"
   ]
  },
  {
   "cell_type": "markdown",
   "id": "6643f7c5-ca45-4bf3-9088-3b6cade45229",
   "metadata": {},
   "source": [
    "## Any columns have too little info?"
   ]
  },
  {
   "cell_type": "code",
   "execution_count": 55,
   "id": "1cd7b877-9200-4e00-80eb-e593096c0112",
   "metadata": {},
   "outputs": [
    {
     "name": "stdout",
     "output_type": "stream",
     "text": [
      "Amenity\n",
      "False    3524\n",
      "True       21\n",
      "Name: count, dtype: int64\n",
      "Bump\n",
      "False    3544\n",
      "True        1\n",
      "Name: count, dtype: int64\n",
      "Crossing\n",
      "False    3331\n",
      "True      214\n",
      "Name: count, dtype: int64\n",
      "Give_Way\n",
      "False    3536\n",
      "True        9\n",
      "Name: count, dtype: int64\n",
      "Junction\n",
      "False    3201\n",
      "True      344\n",
      "Name: count, dtype: int64\n",
      "No_Exit\n",
      "False    3543\n",
      "True        2\n",
      "Name: count, dtype: int64\n",
      "Railway\n",
      "False    3536\n",
      "True        9\n",
      "Name: count, dtype: int64\n",
      "Roundabout\n",
      "False    3545\n",
      "Name: count, dtype: int64\n",
      "Station\n",
      "False    3518\n",
      "True       27\n",
      "Name: count, dtype: int64\n",
      "Stop\n",
      "False    3484\n",
      "True       61\n",
      "Name: count, dtype: int64\n",
      "Traffic_Calming\n",
      "False    3533\n",
      "True       12\n",
      "Name: count, dtype: int64\n",
      "Traffic_Signal\n",
      "False    3087\n",
      "True      458\n",
      "Name: count, dtype: int64\n",
      "Turning_Loop\n",
      "False    3545\n",
      "Name: count, dtype: int64\n"
     ]
    }
   ],
   "source": [
    "for col in ['Amenity', 'Bump', 'Crossing', 'Give_Way', 'Junction', 'No_Exit',\n",
    "       'Railway', 'Roundabout', 'Station', 'Stop', 'Traffic_Calming',\n",
    "       'Traffic_Signal', 'Turning_Loop']:\n",
    "    print(df[col].value_counts())"
   ]
  },
  {
   "cell_type": "markdown",
   "id": "e687dc74-13b1-4117-b5b8-8e04f54a3b9d",
   "metadata": {},
   "source": [
    "Bump, Give_Way, No_Exit, Roundabout, have almost no True values, so drop.\n",
    "All values in Turning_Loop are identical, so drop."
   ]
  },
  {
   "cell_type": "code",
   "execution_count": 56,
   "id": "5afbd469-6197-4289-8403-f67f44e9bb4a",
   "metadata": {},
   "outputs": [],
   "source": [
    "df.drop(['Bump', 'Give_Way', 'No_Exit', 'Roundabout','Turning_Loop'],inplace=True,axis=1)"
   ]
  },
  {
   "cell_type": "markdown",
   "id": "e5244108-49a6-4503-b1f4-ac4571884a6f",
   "metadata": {},
   "source": [
    "Will need to consider if it is worth keeping all of these or combining in some way."
   ]
  },
  {
   "cell_type": "code",
   "execution_count": 57,
   "id": "32591322-30f0-4130-b8d2-8d117a0aded3",
   "metadata": {},
   "outputs": [
    {
     "data": {
      "text/plain": [
       "Index(['Distance(mi)', 'Street', 'Temperature(F)', 'Humidity(%)',\n",
       "       'Pressure(in)', 'Visibility(mi)', 'Wind_Direction', 'Weather_Condition',\n",
       "       'Amenity', 'Crossing', 'Junction', 'Railway', 'Station', 'Stop',\n",
       "       'Traffic_Calming', 'Traffic_Signal', 'Sunrise_Sunset', 'Severity'],\n",
       "      dtype='object')"
      ]
     },
     "execution_count": 57,
     "metadata": {},
     "output_type": "execute_result"
    }
   ],
   "source": [
    "df.columns"
   ]
  },
  {
   "cell_type": "code",
   "execution_count": 58,
   "id": "92e9f955-107d-4c81-97d0-70f14f579632",
   "metadata": {},
   "outputs": [
    {
     "data": {
      "text/plain": [
       "(3545, 18)"
      ]
     },
     "execution_count": 58,
     "metadata": {},
     "output_type": "execute_result"
    }
   ],
   "source": [
    "df.shape"
   ]
  },
  {
   "cell_type": "code",
   "execution_count": 59,
   "id": "ed00a3e9",
   "metadata": {},
   "outputs": [
    {
     "data": {
      "application/vnd.microsoft.datawrangler.viewer.v0+json": {
       "columns": [
        {
         "name": "index",
         "rawType": "int64",
         "type": "integer"
        },
        {
         "name": "Distance(mi)",
         "rawType": "float64",
         "type": "float"
        },
        {
         "name": "Street",
         "rawType": "object",
         "type": "string"
        },
        {
         "name": "Temperature(F)",
         "rawType": "float64",
         "type": "float"
        },
        {
         "name": "Humidity(%)",
         "rawType": "float64",
         "type": "float"
        },
        {
         "name": "Pressure(in)",
         "rawType": "float64",
         "type": "float"
        },
        {
         "name": "Visibility(mi)",
         "rawType": "float64",
         "type": "float"
        },
        {
         "name": "Wind_Direction",
         "rawType": "object",
         "type": "string"
        },
        {
         "name": "Weather_Condition",
         "rawType": "object",
         "type": "string"
        },
        {
         "name": "Amenity",
         "rawType": "bool",
         "type": "boolean"
        },
        {
         "name": "Crossing",
         "rawType": "bool",
         "type": "boolean"
        },
        {
         "name": "Junction",
         "rawType": "bool",
         "type": "boolean"
        },
        {
         "name": "Railway",
         "rawType": "bool",
         "type": "boolean"
        },
        {
         "name": "Station",
         "rawType": "bool",
         "type": "boolean"
        },
        {
         "name": "Stop",
         "rawType": "bool",
         "type": "boolean"
        },
        {
         "name": "Traffic_Calming",
         "rawType": "bool",
         "type": "boolean"
        },
        {
         "name": "Traffic_Signal",
         "rawType": "bool",
         "type": "boolean"
        },
        {
         "name": "Sunrise_Sunset",
         "rawType": "object",
         "type": "string"
        },
        {
         "name": "Severity",
         "rawType": "int64",
         "type": "integer"
        }
       ],
       "ref": "0a4df8ba-8ebc-472a-b130-16606c2eafc9",
       "rows": [
        [
         "0",
         "0.716",
         "local",
         "41.0",
         "73.0",
         "30.04",
         "10.0",
         "Calm",
         "Fair",
         "False",
         "False",
         "False",
         "False",
         "False",
         "False",
         "False",
         "True",
         "Day",
         "0"
        ],
        [
         "1",
         "0.147",
         "local",
         "66.0",
         "90.0",
         "29.87",
         "10.0",
         "NE",
         "Fair",
         "False",
         "False",
         "False",
         "False",
         "False",
         "False",
         "False",
         "True",
         "Night",
         "1"
        ],
        [
         "3",
         "0.053",
         "local",
         "74.0",
         "36.0",
         "29.97",
         "10.0",
         "NW",
         "Mostly Cloudy",
         "False",
         "True",
         "False",
         "False",
         "False",
         "False",
         "False",
         "False",
         "Day",
         "0"
        ],
        [
         "4",
         "0.284",
         "on_off_ramp",
         "36.0",
         "93.0",
         "29.5",
         "6.0",
         "Calm",
         "Mostly Cloudy",
         "False",
         "False",
         "True",
         "False",
         "False",
         "False",
         "False",
         "False",
         "Night",
         "1"
        ],
        [
         "5",
         "0.014",
         "local",
         "44.1",
         "38.0",
         "30.19",
         "10.0",
         "NW",
         "Clear",
         "False",
         "True",
         "False",
         "False",
         "False",
         "False",
         "False",
         "True",
         "Day",
         "1"
        ],
        [
         "6",
         "0.194",
         "Beltway",
         "39.0",
         "94.0",
         "29.82",
         "10.0",
         "Calm",
         "Partly Cloudy",
         "False",
         "False",
         "True",
         "False",
         "False",
         "False",
         "False",
         "False",
         "Night",
         "0"
        ],
        [
         "8",
         "0.331",
         "large_local",
         "87.1",
         "53.0",
         "29.97",
         "10.0",
         "N",
         "Clear",
         "False",
         "False",
         "False",
         "False",
         "False",
         "False",
         "False",
         "False",
         "Day",
         "1"
        ],
        [
         "9",
         "2.748",
         "local",
         "82.0",
         "70.0",
         "29.85",
         "10.0",
         "S",
         "Fair",
         "False",
         "False",
         "False",
         "False",
         "False",
         "False",
         "False",
         "False",
         "Day",
         "0"
        ],
        [
         "10",
         "1.7200000286102295",
         "large_local",
         "76.5",
         "87.0",
         "30.12",
         "10.0",
         "S",
         "Clear",
         "False",
         "False",
         "True",
         "False",
         "False",
         "False",
         "False",
         "False",
         "Day",
         "1"
        ],
        [
         "11",
         "0.072",
         "large_local",
         "74.0",
         "91.0",
         "30.06",
         "7.0",
         "Calm",
         "Fair",
         "True",
         "True",
         "False",
         "False",
         "False",
         "False",
         "False",
         "False",
         "Day",
         "0"
        ],
        [
         "12",
         "0.219",
         "local",
         "69.8",
         "56.0",
         "30.26",
         "10.0",
         "Calm",
         "Clear",
         "False",
         "False",
         "False",
         "False",
         "False",
         "False",
         "False",
         "True",
         "Night",
         "1"
        ],
        [
         "13",
         "0.065",
         "local",
         "72.0",
         "100.0",
         "29.67",
         "7.0",
         "Calm",
         "Fair",
         "False",
         "False",
         "False",
         "False",
         "False",
         "False",
         "False",
         "False",
         "Night",
         "0"
        ],
        [
         "14",
         "0.073",
         "Highway",
         "66.0",
         "40.0",
         "29.82",
         "10.0",
         "SW",
         "Cloudy",
         "False",
         "False",
         "False",
         "False",
         "False",
         "False",
         "False",
         "False",
         "Day",
         "1"
        ],
        [
         "15",
         "0.398",
         "local",
         "78.1",
         "66.0",
         "30.24",
         "10.0",
         "E",
         "Clear",
         "False",
         "False",
         "False",
         "False",
         "False",
         "False",
         "False",
         "False",
         "Day",
         "1"
        ],
        [
         "16",
         "0.0",
         "Interstate",
         "59.0",
         "100.0",
         "30.11",
         "0.5",
         "Calm",
         "Fog",
         "False",
         "False",
         "False",
         "False",
         "False",
         "False",
         "False",
         "False",
         "Day",
         "0"
        ],
        [
         "17",
         "0.038",
         "local",
         "77.0",
         "82.0",
         "29.79",
         "9.0",
         "S",
         "Drizzle",
         "False",
         "False",
         "False",
         "False",
         "False",
         "False",
         "False",
         "False",
         "Day",
         "1"
        ],
        [
         "18",
         "0.855",
         "Interstate",
         "23.0",
         "63.0",
         "30.26",
         "10.0",
         "NW",
         "Overcast",
         "False",
         "False",
         "False",
         "False",
         "False",
         "False",
         "False",
         "False",
         "Day",
         "0"
        ],
        [
         "19",
         "1.7799999713897705",
         "local",
         "79.0",
         "82.0",
         "29.7",
         "10.0",
         "SW",
         "Fair",
         "False",
         "False",
         "False",
         "False",
         "False",
         "False",
         "False",
         "False",
         "Day",
         "0"
        ],
        [
         "20",
         "0.0",
         "Highway",
         "28.0",
         "93.0",
         "30.15",
         "10.0",
         "Calm",
         "Fair",
         "False",
         "False",
         "False",
         "False",
         "False",
         "False",
         "False",
         "False",
         "Day",
         "0"
        ],
        [
         "21",
         "0.639",
         "large_local",
         "69.0",
         "88.0",
         "30.16",
         "10.0",
         "S",
         "Drizzle",
         "False",
         "False",
         "True",
         "False",
         "False",
         "False",
         "False",
         "False",
         "Day",
         "0"
        ],
        [
         "22",
         "0.652",
         "local",
         "44.0",
         "53.0",
         "29.68",
         "10.0",
         "SW",
         "Fair",
         "False",
         "False",
         "False",
         "False",
         "False",
         "False",
         "False",
         "False",
         "Night",
         "1"
        ],
        [
         "23",
         "0.4970000000000001",
         "large_local",
         "52.0",
         "94.0",
         "29.31",
         "1.0",
         "NW",
         "Fog",
         "False",
         "False",
         "False",
         "False",
         "False",
         "False",
         "False",
         "False",
         "Day",
         "0"
        ],
        [
         "24",
         "3.901",
         "Interstate",
         "65.0",
         "70.0",
         "29.6",
         "10.0",
         "Calm",
         "Cloudy",
         "False",
         "False",
         "False",
         "False",
         "False",
         "False",
         "False",
         "False",
         "Night",
         "1"
        ],
        [
         "25",
         "3.579",
         "Highway",
         "63.0",
         "52.0",
         "29.5",
         "10.0",
         "SW",
         "Mostly Cloudy",
         "False",
         "False",
         "False",
         "False",
         "False",
         "False",
         "False",
         "False",
         "Day",
         "1"
        ],
        [
         "26",
         "0.0",
         "Highway",
         "86.0",
         "94.0",
         "30.02",
         "10.0",
         "Calm",
         "Fair",
         "False",
         "False",
         "False",
         "False",
         "False",
         "True",
         "False",
         "False",
         "Day",
         "0"
        ],
        [
         "27",
         "0.478",
         "local",
         "38.0",
         "50.0",
         "30.26",
         "8.0",
         "SE",
         "Fair",
         "False",
         "False",
         "False",
         "False",
         "False",
         "True",
         "False",
         "False",
         "Day",
         "0"
        ],
        [
         "28",
         "5.836",
         "Interstate",
         "62.0",
         "72.0",
         "29.0",
         "10.0",
         "W",
         "Cloudy",
         "False",
         "False",
         "False",
         "False",
         "False",
         "False",
         "False",
         "False",
         "Day",
         "1"
        ],
        [
         "30",
         "0.119",
         "large_local",
         "38.0",
         "51.0",
         "29.13",
         "10.0",
         "W",
         "Fair",
         "False",
         "False",
         "False",
         "False",
         "False",
         "False",
         "False",
         "True",
         "Night",
         "1"
        ],
        [
         "31",
         "0.0",
         "local",
         "75.9",
         "68.0",
         "30.02",
         "7.0",
         "SE",
         "Scattered Clouds",
         "False",
         "False",
         "False",
         "False",
         "False",
         "False",
         "False",
         "False",
         "Day",
         "1"
        ],
        [
         "32",
         "0.29",
         "Highway",
         "57.0",
         "82.0",
         "29.73",
         "10.0",
         "N",
         "Mostly Cloudy",
         "False",
         "False",
         "False",
         "False",
         "False",
         "False",
         "False",
         "False",
         "Day",
         "1"
        ],
        [
         "33",
         "0.934",
         "Highway",
         "32.9",
         "30.0",
         "30.09",
         "10.0",
         "Calm",
         "Clear",
         "False",
         "False",
         "False",
         "False",
         "False",
         "False",
         "False",
         "False",
         "Day",
         "1"
        ],
        [
         "34",
         "0.022",
         "Highway",
         "83.0",
         "56.0",
         "29.9",
         "10.0",
         "SE",
         "Mostly Cloudy",
         "False",
         "False",
         "True",
         "False",
         "False",
         "False",
         "False",
         "False",
         "Day",
         "1"
        ],
        [
         "35",
         "0.051",
         "local",
         "72.0",
         "88.0",
         "29.69",
         "10.0",
         "Calm",
         "Cloudy",
         "False",
         "False",
         "False",
         "False",
         "False",
         "False",
         "False",
         "False",
         "Night",
         "0"
        ],
        [
         "36",
         "0.127",
         "Highway",
         "57.2",
         "72.0",
         "29.28",
         "7.0",
         "W",
         "Clear",
         "False",
         "False",
         "False",
         "False",
         "False",
         "False",
         "False",
         "False",
         "Day",
         "0"
        ],
        [
         "38",
         "0.088",
         "local",
         "90.5",
         "61.0",
         "29.96",
         "10.0",
         "SE",
         "Clear",
         "False",
         "False",
         "False",
         "False",
         "False",
         "False",
         "False",
         "True",
         "Day",
         "1"
        ],
        [
         "40",
         "0.309",
         "Interstate",
         "52.0",
         "93.0",
         "29.86",
         "0.0",
         "Calm",
         "Fog",
         "False",
         "False",
         "False",
         "False",
         "False",
         "False",
         "False",
         "False",
         "Day",
         "1"
        ],
        [
         "41",
         "0.0",
         "local",
         "51.0",
         "96.0",
         "28.89",
         "10.0",
         "Calm",
         "Fair",
         "False",
         "True",
         "False",
         "False",
         "False",
         "False",
         "False",
         "True",
         "Day",
         "0"
        ],
        [
         "43",
         "0.02",
         "local",
         "57.0",
         "44.0",
         "30.52",
         "10.0",
         "N",
         "Fair",
         "False",
         "False",
         "False",
         "False",
         "False",
         "False",
         "False",
         "False",
         "Day",
         "1"
        ],
        [
         "44",
         "0.207",
         "large_local",
         "27.0",
         "100.0",
         "29.08",
         "4.0",
         "NE",
         "Snow",
         "False",
         "False",
         "False",
         "False",
         "False",
         "False",
         "False",
         "False",
         "Night",
         "0"
        ],
        [
         "45",
         "0.0",
         "Interstate",
         "68.0",
         "83.0",
         "30.26",
         "10.0",
         "Calm",
         "Scattered Clouds",
         "False",
         "False",
         "False",
         "False",
         "False",
         "False",
         "False",
         "False",
         "Day",
         "0"
        ],
        [
         "46",
         "0.174",
         "Interstate",
         "66.2",
         "83.0",
         "30.03",
         "10.0",
         "Calm",
         "Overcast",
         "False",
         "False",
         "False",
         "False",
         "False",
         "False",
         "False",
         "False",
         "Day",
         "1"
        ],
        [
         "47",
         "0.063",
         "local",
         "59.0",
         "94.0",
         "29.7",
         "7.0",
         "SW",
         "Cloudy",
         "False",
         "False",
         "False",
         "False",
         "False",
         "False",
         "False",
         "False",
         "Day",
         "1"
        ],
        [
         "48",
         "0.7090000000000001",
         "Interstate",
         "31.0",
         "42.0",
         "29.5",
         "10.0",
         "S",
         "Fair",
         "False",
         "False",
         "True",
         "False",
         "False",
         "False",
         "False",
         "False",
         "Day",
         "0"
        ],
        [
         "49",
         "0.0",
         "large_local",
         "63.0",
         "68.0",
         "29.91",
         "10.0",
         "Calm",
         "Fair",
         "False",
         "False",
         "False",
         "False",
         "False",
         "False",
         "False",
         "False",
         "Night",
         "0"
        ],
        [
         "51",
         "0.3229999999999999",
         "Interstate",
         "42.8",
         "49.0",
         "29.71",
         "10.0",
         "NW",
         "Clear",
         "False",
         "False",
         "False",
         "False",
         "False",
         "False",
         "False",
         "False",
         "Night",
         "1"
        ],
        [
         "52",
         "0.616",
         "Highway",
         "53.0",
         "100.0",
         "29.98",
         "0.0",
         "SW",
         "Fog",
         "False",
         "False",
         "False",
         "False",
         "False",
         "False",
         "False",
         "False",
         "Day",
         "0"
        ],
        [
         "53",
         "0.157",
         "local",
         "56.0",
         "87.0",
         "29.93",
         "10.0",
         "Calm",
         "Mostly Cloudy",
         "False",
         "False",
         "False",
         "False",
         "False",
         "False",
         "False",
         "False",
         "Night",
         "1"
        ],
        [
         "54",
         "10.361",
         "Interstate",
         "91.0",
         "38.0",
         "29.39",
         "10.0",
         "W",
         "Windy",
         "False",
         "False",
         "False",
         "False",
         "False",
         "False",
         "False",
         "False",
         "Day",
         "1"
        ],
        [
         "55",
         "2.714",
         "Beltway",
         "41.0",
         "32.0",
         "30.3",
         "10.0",
         "S",
         "Fair",
         "False",
         "False",
         "True",
         "False",
         "False",
         "False",
         "False",
         "False",
         "Day",
         "0"
        ],
        [
         "56",
         "0.025",
         "local",
         "46.4",
         "100.0",
         "30.19",
         "4.0",
         "Calm",
         "Overcast",
         "False",
         "False",
         "False",
         "False",
         "False",
         "False",
         "False",
         "False",
         "Day",
         "1"
        ]
       ],
       "shape": {
        "columns": 18,
        "rows": 50
       }
      },
      "text/html": [
       "<div>\n",
       "<style scoped>\n",
       "    .dataframe tbody tr th:only-of-type {\n",
       "        vertical-align: middle;\n",
       "    }\n",
       "\n",
       "    .dataframe tbody tr th {\n",
       "        vertical-align: top;\n",
       "    }\n",
       "\n",
       "    .dataframe thead th {\n",
       "        text-align: right;\n",
       "    }\n",
       "</style>\n",
       "<table border=\"1\" class=\"dataframe\">\n",
       "  <thead>\n",
       "    <tr style=\"text-align: right;\">\n",
       "      <th></th>\n",
       "      <th>Distance(mi)</th>\n",
       "      <th>Street</th>\n",
       "      <th>Temperature(F)</th>\n",
       "      <th>Humidity(%)</th>\n",
       "      <th>Pressure(in)</th>\n",
       "      <th>Visibility(mi)</th>\n",
       "      <th>Wind_Direction</th>\n",
       "      <th>Weather_Condition</th>\n",
       "      <th>Amenity</th>\n",
       "      <th>Crossing</th>\n",
       "      <th>Junction</th>\n",
       "      <th>Railway</th>\n",
       "      <th>Station</th>\n",
       "      <th>Stop</th>\n",
       "      <th>Traffic_Calming</th>\n",
       "      <th>Traffic_Signal</th>\n",
       "      <th>Sunrise_Sunset</th>\n",
       "      <th>Severity</th>\n",
       "    </tr>\n",
       "  </thead>\n",
       "  <tbody>\n",
       "    <tr>\n",
       "      <th>0</th>\n",
       "      <td>0.716</td>\n",
       "      <td>local</td>\n",
       "      <td>41.0</td>\n",
       "      <td>73.0</td>\n",
       "      <td>30.04</td>\n",
       "      <td>10.0</td>\n",
       "      <td>Calm</td>\n",
       "      <td>Fair</td>\n",
       "      <td>False</td>\n",
       "      <td>False</td>\n",
       "      <td>False</td>\n",
       "      <td>False</td>\n",
       "      <td>False</td>\n",
       "      <td>False</td>\n",
       "      <td>False</td>\n",
       "      <td>True</td>\n",
       "      <td>Day</td>\n",
       "      <td>0</td>\n",
       "    </tr>\n",
       "    <tr>\n",
       "      <th>1</th>\n",
       "      <td>0.147</td>\n",
       "      <td>local</td>\n",
       "      <td>66.0</td>\n",
       "      <td>90.0</td>\n",
       "      <td>29.87</td>\n",
       "      <td>10.0</td>\n",
       "      <td>NE</td>\n",
       "      <td>Fair</td>\n",
       "      <td>False</td>\n",
       "      <td>False</td>\n",
       "      <td>False</td>\n",
       "      <td>False</td>\n",
       "      <td>False</td>\n",
       "      <td>False</td>\n",
       "      <td>False</td>\n",
       "      <td>True</td>\n",
       "      <td>Night</td>\n",
       "      <td>1</td>\n",
       "    </tr>\n",
       "    <tr>\n",
       "      <th>3</th>\n",
       "      <td>0.053</td>\n",
       "      <td>local</td>\n",
       "      <td>74.0</td>\n",
       "      <td>36.0</td>\n",
       "      <td>29.97</td>\n",
       "      <td>10.0</td>\n",
       "      <td>NW</td>\n",
       "      <td>Mostly Cloudy</td>\n",
       "      <td>False</td>\n",
       "      <td>True</td>\n",
       "      <td>False</td>\n",
       "      <td>False</td>\n",
       "      <td>False</td>\n",
       "      <td>False</td>\n",
       "      <td>False</td>\n",
       "      <td>False</td>\n",
       "      <td>Day</td>\n",
       "      <td>0</td>\n",
       "    </tr>\n",
       "    <tr>\n",
       "      <th>4</th>\n",
       "      <td>0.284</td>\n",
       "      <td>on_off_ramp</td>\n",
       "      <td>36.0</td>\n",
       "      <td>93.0</td>\n",
       "      <td>29.50</td>\n",
       "      <td>6.0</td>\n",
       "      <td>Calm</td>\n",
       "      <td>Mostly Cloudy</td>\n",
       "      <td>False</td>\n",
       "      <td>False</td>\n",
       "      <td>True</td>\n",
       "      <td>False</td>\n",
       "      <td>False</td>\n",
       "      <td>False</td>\n",
       "      <td>False</td>\n",
       "      <td>False</td>\n",
       "      <td>Night</td>\n",
       "      <td>1</td>\n",
       "    </tr>\n",
       "    <tr>\n",
       "      <th>5</th>\n",
       "      <td>0.014</td>\n",
       "      <td>local</td>\n",
       "      <td>44.1</td>\n",
       "      <td>38.0</td>\n",
       "      <td>30.19</td>\n",
       "      <td>10.0</td>\n",
       "      <td>NW</td>\n",
       "      <td>Clear</td>\n",
       "      <td>False</td>\n",
       "      <td>True</td>\n",
       "      <td>False</td>\n",
       "      <td>False</td>\n",
       "      <td>False</td>\n",
       "      <td>False</td>\n",
       "      <td>False</td>\n",
       "      <td>True</td>\n",
       "      <td>Day</td>\n",
       "      <td>1</td>\n",
       "    </tr>\n",
       "    <tr>\n",
       "      <th>6</th>\n",
       "      <td>0.194</td>\n",
       "      <td>Beltway</td>\n",
       "      <td>39.0</td>\n",
       "      <td>94.0</td>\n",
       "      <td>29.82</td>\n",
       "      <td>10.0</td>\n",
       "      <td>Calm</td>\n",
       "      <td>Partly Cloudy</td>\n",
       "      <td>False</td>\n",
       "      <td>False</td>\n",
       "      <td>True</td>\n",
       "      <td>False</td>\n",
       "      <td>False</td>\n",
       "      <td>False</td>\n",
       "      <td>False</td>\n",
       "      <td>False</td>\n",
       "      <td>Night</td>\n",
       "      <td>0</td>\n",
       "    </tr>\n",
       "    <tr>\n",
       "      <th>8</th>\n",
       "      <td>0.331</td>\n",
       "      <td>large_local</td>\n",
       "      <td>87.1</td>\n",
       "      <td>53.0</td>\n",
       "      <td>29.97</td>\n",
       "      <td>10.0</td>\n",
       "      <td>N</td>\n",
       "      <td>Clear</td>\n",
       "      <td>False</td>\n",
       "      <td>False</td>\n",
       "      <td>False</td>\n",
       "      <td>False</td>\n",
       "      <td>False</td>\n",
       "      <td>False</td>\n",
       "      <td>False</td>\n",
       "      <td>False</td>\n",
       "      <td>Day</td>\n",
       "      <td>1</td>\n",
       "    </tr>\n",
       "    <tr>\n",
       "      <th>9</th>\n",
       "      <td>2.748</td>\n",
       "      <td>local</td>\n",
       "      <td>82.0</td>\n",
       "      <td>70.0</td>\n",
       "      <td>29.85</td>\n",
       "      <td>10.0</td>\n",
       "      <td>S</td>\n",
       "      <td>Fair</td>\n",
       "      <td>False</td>\n",
       "      <td>False</td>\n",
       "      <td>False</td>\n",
       "      <td>False</td>\n",
       "      <td>False</td>\n",
       "      <td>False</td>\n",
       "      <td>False</td>\n",
       "      <td>False</td>\n",
       "      <td>Day</td>\n",
       "      <td>0</td>\n",
       "    </tr>\n",
       "    <tr>\n",
       "      <th>10</th>\n",
       "      <td>1.720</td>\n",
       "      <td>large_local</td>\n",
       "      <td>76.5</td>\n",
       "      <td>87.0</td>\n",
       "      <td>30.12</td>\n",
       "      <td>10.0</td>\n",
       "      <td>S</td>\n",
       "      <td>Clear</td>\n",
       "      <td>False</td>\n",
       "      <td>False</td>\n",
       "      <td>True</td>\n",
       "      <td>False</td>\n",
       "      <td>False</td>\n",
       "      <td>False</td>\n",
       "      <td>False</td>\n",
       "      <td>False</td>\n",
       "      <td>Day</td>\n",
       "      <td>1</td>\n",
       "    </tr>\n",
       "    <tr>\n",
       "      <th>11</th>\n",
       "      <td>0.072</td>\n",
       "      <td>large_local</td>\n",
       "      <td>74.0</td>\n",
       "      <td>91.0</td>\n",
       "      <td>30.06</td>\n",
       "      <td>7.0</td>\n",
       "      <td>Calm</td>\n",
       "      <td>Fair</td>\n",
       "      <td>True</td>\n",
       "      <td>True</td>\n",
       "      <td>False</td>\n",
       "      <td>False</td>\n",
       "      <td>False</td>\n",
       "      <td>False</td>\n",
       "      <td>False</td>\n",
       "      <td>False</td>\n",
       "      <td>Day</td>\n",
       "      <td>0</td>\n",
       "    </tr>\n",
       "    <tr>\n",
       "      <th>12</th>\n",
       "      <td>0.219</td>\n",
       "      <td>local</td>\n",
       "      <td>69.8</td>\n",
       "      <td>56.0</td>\n",
       "      <td>30.26</td>\n",
       "      <td>10.0</td>\n",
       "      <td>Calm</td>\n",
       "      <td>Clear</td>\n",
       "      <td>False</td>\n",
       "      <td>False</td>\n",
       "      <td>False</td>\n",
       "      <td>False</td>\n",
       "      <td>False</td>\n",
       "      <td>False</td>\n",
       "      <td>False</td>\n",
       "      <td>True</td>\n",
       "      <td>Night</td>\n",
       "      <td>1</td>\n",
       "    </tr>\n",
       "    <tr>\n",
       "      <th>13</th>\n",
       "      <td>0.065</td>\n",
       "      <td>local</td>\n",
       "      <td>72.0</td>\n",
       "      <td>100.0</td>\n",
       "      <td>29.67</td>\n",
       "      <td>7.0</td>\n",
       "      <td>Calm</td>\n",
       "      <td>Fair</td>\n",
       "      <td>False</td>\n",
       "      <td>False</td>\n",
       "      <td>False</td>\n",
       "      <td>False</td>\n",
       "      <td>False</td>\n",
       "      <td>False</td>\n",
       "      <td>False</td>\n",
       "      <td>False</td>\n",
       "      <td>Night</td>\n",
       "      <td>0</td>\n",
       "    </tr>\n",
       "    <tr>\n",
       "      <th>14</th>\n",
       "      <td>0.073</td>\n",
       "      <td>Highway</td>\n",
       "      <td>66.0</td>\n",
       "      <td>40.0</td>\n",
       "      <td>29.82</td>\n",
       "      <td>10.0</td>\n",
       "      <td>SW</td>\n",
       "      <td>Cloudy</td>\n",
       "      <td>False</td>\n",
       "      <td>False</td>\n",
       "      <td>False</td>\n",
       "      <td>False</td>\n",
       "      <td>False</td>\n",
       "      <td>False</td>\n",
       "      <td>False</td>\n",
       "      <td>False</td>\n",
       "      <td>Day</td>\n",
       "      <td>1</td>\n",
       "    </tr>\n",
       "    <tr>\n",
       "      <th>15</th>\n",
       "      <td>0.398</td>\n",
       "      <td>local</td>\n",
       "      <td>78.1</td>\n",
       "      <td>66.0</td>\n",
       "      <td>30.24</td>\n",
       "      <td>10.0</td>\n",
       "      <td>E</td>\n",
       "      <td>Clear</td>\n",
       "      <td>False</td>\n",
       "      <td>False</td>\n",
       "      <td>False</td>\n",
       "      <td>False</td>\n",
       "      <td>False</td>\n",
       "      <td>False</td>\n",
       "      <td>False</td>\n",
       "      <td>False</td>\n",
       "      <td>Day</td>\n",
       "      <td>1</td>\n",
       "    </tr>\n",
       "    <tr>\n",
       "      <th>16</th>\n",
       "      <td>0.000</td>\n",
       "      <td>Interstate</td>\n",
       "      <td>59.0</td>\n",
       "      <td>100.0</td>\n",
       "      <td>30.11</td>\n",
       "      <td>0.5</td>\n",
       "      <td>Calm</td>\n",
       "      <td>Fog</td>\n",
       "      <td>False</td>\n",
       "      <td>False</td>\n",
       "      <td>False</td>\n",
       "      <td>False</td>\n",
       "      <td>False</td>\n",
       "      <td>False</td>\n",
       "      <td>False</td>\n",
       "      <td>False</td>\n",
       "      <td>Day</td>\n",
       "      <td>0</td>\n",
       "    </tr>\n",
       "    <tr>\n",
       "      <th>17</th>\n",
       "      <td>0.038</td>\n",
       "      <td>local</td>\n",
       "      <td>77.0</td>\n",
       "      <td>82.0</td>\n",
       "      <td>29.79</td>\n",
       "      <td>9.0</td>\n",
       "      <td>S</td>\n",
       "      <td>Drizzle</td>\n",
       "      <td>False</td>\n",
       "      <td>False</td>\n",
       "      <td>False</td>\n",
       "      <td>False</td>\n",
       "      <td>False</td>\n",
       "      <td>False</td>\n",
       "      <td>False</td>\n",
       "      <td>False</td>\n",
       "      <td>Day</td>\n",
       "      <td>1</td>\n",
       "    </tr>\n",
       "    <tr>\n",
       "      <th>18</th>\n",
       "      <td>0.855</td>\n",
       "      <td>Interstate</td>\n",
       "      <td>23.0</td>\n",
       "      <td>63.0</td>\n",
       "      <td>30.26</td>\n",
       "      <td>10.0</td>\n",
       "      <td>NW</td>\n",
       "      <td>Overcast</td>\n",
       "      <td>False</td>\n",
       "      <td>False</td>\n",
       "      <td>False</td>\n",
       "      <td>False</td>\n",
       "      <td>False</td>\n",
       "      <td>False</td>\n",
       "      <td>False</td>\n",
       "      <td>False</td>\n",
       "      <td>Day</td>\n",
       "      <td>0</td>\n",
       "    </tr>\n",
       "    <tr>\n",
       "      <th>19</th>\n",
       "      <td>1.780</td>\n",
       "      <td>local</td>\n",
       "      <td>79.0</td>\n",
       "      <td>82.0</td>\n",
       "      <td>29.70</td>\n",
       "      <td>10.0</td>\n",
       "      <td>SW</td>\n",
       "      <td>Fair</td>\n",
       "      <td>False</td>\n",
       "      <td>False</td>\n",
       "      <td>False</td>\n",
       "      <td>False</td>\n",
       "      <td>False</td>\n",
       "      <td>False</td>\n",
       "      <td>False</td>\n",
       "      <td>False</td>\n",
       "      <td>Day</td>\n",
       "      <td>0</td>\n",
       "    </tr>\n",
       "    <tr>\n",
       "      <th>20</th>\n",
       "      <td>0.000</td>\n",
       "      <td>Highway</td>\n",
       "      <td>28.0</td>\n",
       "      <td>93.0</td>\n",
       "      <td>30.15</td>\n",
       "      <td>10.0</td>\n",
       "      <td>Calm</td>\n",
       "      <td>Fair</td>\n",
       "      <td>False</td>\n",
       "      <td>False</td>\n",
       "      <td>False</td>\n",
       "      <td>False</td>\n",
       "      <td>False</td>\n",
       "      <td>False</td>\n",
       "      <td>False</td>\n",
       "      <td>False</td>\n",
       "      <td>Day</td>\n",
       "      <td>0</td>\n",
       "    </tr>\n",
       "    <tr>\n",
       "      <th>21</th>\n",
       "      <td>0.639</td>\n",
       "      <td>large_local</td>\n",
       "      <td>69.0</td>\n",
       "      <td>88.0</td>\n",
       "      <td>30.16</td>\n",
       "      <td>10.0</td>\n",
       "      <td>S</td>\n",
       "      <td>Drizzle</td>\n",
       "      <td>False</td>\n",
       "      <td>False</td>\n",
       "      <td>True</td>\n",
       "      <td>False</td>\n",
       "      <td>False</td>\n",
       "      <td>False</td>\n",
       "      <td>False</td>\n",
       "      <td>False</td>\n",
       "      <td>Day</td>\n",
       "      <td>0</td>\n",
       "    </tr>\n",
       "    <tr>\n",
       "      <th>22</th>\n",
       "      <td>0.652</td>\n",
       "      <td>local</td>\n",
       "      <td>44.0</td>\n",
       "      <td>53.0</td>\n",
       "      <td>29.68</td>\n",
       "      <td>10.0</td>\n",
       "      <td>SW</td>\n",
       "      <td>Fair</td>\n",
       "      <td>False</td>\n",
       "      <td>False</td>\n",
       "      <td>False</td>\n",
       "      <td>False</td>\n",
       "      <td>False</td>\n",
       "      <td>False</td>\n",
       "      <td>False</td>\n",
       "      <td>False</td>\n",
       "      <td>Night</td>\n",
       "      <td>1</td>\n",
       "    </tr>\n",
       "    <tr>\n",
       "      <th>23</th>\n",
       "      <td>0.497</td>\n",
       "      <td>large_local</td>\n",
       "      <td>52.0</td>\n",
       "      <td>94.0</td>\n",
       "      <td>29.31</td>\n",
       "      <td>1.0</td>\n",
       "      <td>NW</td>\n",
       "      <td>Fog</td>\n",
       "      <td>False</td>\n",
       "      <td>False</td>\n",
       "      <td>False</td>\n",
       "      <td>False</td>\n",
       "      <td>False</td>\n",
       "      <td>False</td>\n",
       "      <td>False</td>\n",
       "      <td>False</td>\n",
       "      <td>Day</td>\n",
       "      <td>0</td>\n",
       "    </tr>\n",
       "    <tr>\n",
       "      <th>24</th>\n",
       "      <td>3.901</td>\n",
       "      <td>Interstate</td>\n",
       "      <td>65.0</td>\n",
       "      <td>70.0</td>\n",
       "      <td>29.60</td>\n",
       "      <td>10.0</td>\n",
       "      <td>Calm</td>\n",
       "      <td>Cloudy</td>\n",
       "      <td>False</td>\n",
       "      <td>False</td>\n",
       "      <td>False</td>\n",
       "      <td>False</td>\n",
       "      <td>False</td>\n",
       "      <td>False</td>\n",
       "      <td>False</td>\n",
       "      <td>False</td>\n",
       "      <td>Night</td>\n",
       "      <td>1</td>\n",
       "    </tr>\n",
       "    <tr>\n",
       "      <th>25</th>\n",
       "      <td>3.579</td>\n",
       "      <td>Highway</td>\n",
       "      <td>63.0</td>\n",
       "      <td>52.0</td>\n",
       "      <td>29.50</td>\n",
       "      <td>10.0</td>\n",
       "      <td>SW</td>\n",
       "      <td>Mostly Cloudy</td>\n",
       "      <td>False</td>\n",
       "      <td>False</td>\n",
       "      <td>False</td>\n",
       "      <td>False</td>\n",
       "      <td>False</td>\n",
       "      <td>False</td>\n",
       "      <td>False</td>\n",
       "      <td>False</td>\n",
       "      <td>Day</td>\n",
       "      <td>1</td>\n",
       "    </tr>\n",
       "    <tr>\n",
       "      <th>26</th>\n",
       "      <td>0.000</td>\n",
       "      <td>Highway</td>\n",
       "      <td>86.0</td>\n",
       "      <td>94.0</td>\n",
       "      <td>30.02</td>\n",
       "      <td>10.0</td>\n",
       "      <td>Calm</td>\n",
       "      <td>Fair</td>\n",
       "      <td>False</td>\n",
       "      <td>False</td>\n",
       "      <td>False</td>\n",
       "      <td>False</td>\n",
       "      <td>False</td>\n",
       "      <td>True</td>\n",
       "      <td>False</td>\n",
       "      <td>False</td>\n",
       "      <td>Day</td>\n",
       "      <td>0</td>\n",
       "    </tr>\n",
       "    <tr>\n",
       "      <th>27</th>\n",
       "      <td>0.478</td>\n",
       "      <td>local</td>\n",
       "      <td>38.0</td>\n",
       "      <td>50.0</td>\n",
       "      <td>30.26</td>\n",
       "      <td>8.0</td>\n",
       "      <td>SE</td>\n",
       "      <td>Fair</td>\n",
       "      <td>False</td>\n",
       "      <td>False</td>\n",
       "      <td>False</td>\n",
       "      <td>False</td>\n",
       "      <td>False</td>\n",
       "      <td>True</td>\n",
       "      <td>False</td>\n",
       "      <td>False</td>\n",
       "      <td>Day</td>\n",
       "      <td>0</td>\n",
       "    </tr>\n",
       "    <tr>\n",
       "      <th>28</th>\n",
       "      <td>5.836</td>\n",
       "      <td>Interstate</td>\n",
       "      <td>62.0</td>\n",
       "      <td>72.0</td>\n",
       "      <td>29.00</td>\n",
       "      <td>10.0</td>\n",
       "      <td>W</td>\n",
       "      <td>Cloudy</td>\n",
       "      <td>False</td>\n",
       "      <td>False</td>\n",
       "      <td>False</td>\n",
       "      <td>False</td>\n",
       "      <td>False</td>\n",
       "      <td>False</td>\n",
       "      <td>False</td>\n",
       "      <td>False</td>\n",
       "      <td>Day</td>\n",
       "      <td>1</td>\n",
       "    </tr>\n",
       "    <tr>\n",
       "      <th>30</th>\n",
       "      <td>0.119</td>\n",
       "      <td>large_local</td>\n",
       "      <td>38.0</td>\n",
       "      <td>51.0</td>\n",
       "      <td>29.13</td>\n",
       "      <td>10.0</td>\n",
       "      <td>W</td>\n",
       "      <td>Fair</td>\n",
       "      <td>False</td>\n",
       "      <td>False</td>\n",
       "      <td>False</td>\n",
       "      <td>False</td>\n",
       "      <td>False</td>\n",
       "      <td>False</td>\n",
       "      <td>False</td>\n",
       "      <td>True</td>\n",
       "      <td>Night</td>\n",
       "      <td>1</td>\n",
       "    </tr>\n",
       "    <tr>\n",
       "      <th>31</th>\n",
       "      <td>0.000</td>\n",
       "      <td>local</td>\n",
       "      <td>75.9</td>\n",
       "      <td>68.0</td>\n",
       "      <td>30.02</td>\n",
       "      <td>7.0</td>\n",
       "      <td>SE</td>\n",
       "      <td>Scattered Clouds</td>\n",
       "      <td>False</td>\n",
       "      <td>False</td>\n",
       "      <td>False</td>\n",
       "      <td>False</td>\n",
       "      <td>False</td>\n",
       "      <td>False</td>\n",
       "      <td>False</td>\n",
       "      <td>False</td>\n",
       "      <td>Day</td>\n",
       "      <td>1</td>\n",
       "    </tr>\n",
       "    <tr>\n",
       "      <th>32</th>\n",
       "      <td>0.290</td>\n",
       "      <td>Highway</td>\n",
       "      <td>57.0</td>\n",
       "      <td>82.0</td>\n",
       "      <td>29.73</td>\n",
       "      <td>10.0</td>\n",
       "      <td>N</td>\n",
       "      <td>Mostly Cloudy</td>\n",
       "      <td>False</td>\n",
       "      <td>False</td>\n",
       "      <td>False</td>\n",
       "      <td>False</td>\n",
       "      <td>False</td>\n",
       "      <td>False</td>\n",
       "      <td>False</td>\n",
       "      <td>False</td>\n",
       "      <td>Day</td>\n",
       "      <td>1</td>\n",
       "    </tr>\n",
       "    <tr>\n",
       "      <th>33</th>\n",
       "      <td>0.934</td>\n",
       "      <td>Highway</td>\n",
       "      <td>32.9</td>\n",
       "      <td>30.0</td>\n",
       "      <td>30.09</td>\n",
       "      <td>10.0</td>\n",
       "      <td>Calm</td>\n",
       "      <td>Clear</td>\n",
       "      <td>False</td>\n",
       "      <td>False</td>\n",
       "      <td>False</td>\n",
       "      <td>False</td>\n",
       "      <td>False</td>\n",
       "      <td>False</td>\n",
       "      <td>False</td>\n",
       "      <td>False</td>\n",
       "      <td>Day</td>\n",
       "      <td>1</td>\n",
       "    </tr>\n",
       "    <tr>\n",
       "      <th>34</th>\n",
       "      <td>0.022</td>\n",
       "      <td>Highway</td>\n",
       "      <td>83.0</td>\n",
       "      <td>56.0</td>\n",
       "      <td>29.90</td>\n",
       "      <td>10.0</td>\n",
       "      <td>SE</td>\n",
       "      <td>Mostly Cloudy</td>\n",
       "      <td>False</td>\n",
       "      <td>False</td>\n",
       "      <td>True</td>\n",
       "      <td>False</td>\n",
       "      <td>False</td>\n",
       "      <td>False</td>\n",
       "      <td>False</td>\n",
       "      <td>False</td>\n",
       "      <td>Day</td>\n",
       "      <td>1</td>\n",
       "    </tr>\n",
       "    <tr>\n",
       "      <th>35</th>\n",
       "      <td>0.051</td>\n",
       "      <td>local</td>\n",
       "      <td>72.0</td>\n",
       "      <td>88.0</td>\n",
       "      <td>29.69</td>\n",
       "      <td>10.0</td>\n",
       "      <td>Calm</td>\n",
       "      <td>Cloudy</td>\n",
       "      <td>False</td>\n",
       "      <td>False</td>\n",
       "      <td>False</td>\n",
       "      <td>False</td>\n",
       "      <td>False</td>\n",
       "      <td>False</td>\n",
       "      <td>False</td>\n",
       "      <td>False</td>\n",
       "      <td>Night</td>\n",
       "      <td>0</td>\n",
       "    </tr>\n",
       "    <tr>\n",
       "      <th>36</th>\n",
       "      <td>0.127</td>\n",
       "      <td>Highway</td>\n",
       "      <td>57.2</td>\n",
       "      <td>72.0</td>\n",
       "      <td>29.28</td>\n",
       "      <td>7.0</td>\n",
       "      <td>W</td>\n",
       "      <td>Clear</td>\n",
       "      <td>False</td>\n",
       "      <td>False</td>\n",
       "      <td>False</td>\n",
       "      <td>False</td>\n",
       "      <td>False</td>\n",
       "      <td>False</td>\n",
       "      <td>False</td>\n",
       "      <td>False</td>\n",
       "      <td>Day</td>\n",
       "      <td>0</td>\n",
       "    </tr>\n",
       "    <tr>\n",
       "      <th>38</th>\n",
       "      <td>0.088</td>\n",
       "      <td>local</td>\n",
       "      <td>90.5</td>\n",
       "      <td>61.0</td>\n",
       "      <td>29.96</td>\n",
       "      <td>10.0</td>\n",
       "      <td>SE</td>\n",
       "      <td>Clear</td>\n",
       "      <td>False</td>\n",
       "      <td>False</td>\n",
       "      <td>False</td>\n",
       "      <td>False</td>\n",
       "      <td>False</td>\n",
       "      <td>False</td>\n",
       "      <td>False</td>\n",
       "      <td>True</td>\n",
       "      <td>Day</td>\n",
       "      <td>1</td>\n",
       "    </tr>\n",
       "    <tr>\n",
       "      <th>40</th>\n",
       "      <td>0.309</td>\n",
       "      <td>Interstate</td>\n",
       "      <td>52.0</td>\n",
       "      <td>93.0</td>\n",
       "      <td>29.86</td>\n",
       "      <td>0.0</td>\n",
       "      <td>Calm</td>\n",
       "      <td>Fog</td>\n",
       "      <td>False</td>\n",
       "      <td>False</td>\n",
       "      <td>False</td>\n",
       "      <td>False</td>\n",
       "      <td>False</td>\n",
       "      <td>False</td>\n",
       "      <td>False</td>\n",
       "      <td>False</td>\n",
       "      <td>Day</td>\n",
       "      <td>1</td>\n",
       "    </tr>\n",
       "    <tr>\n",
       "      <th>41</th>\n",
       "      <td>0.000</td>\n",
       "      <td>local</td>\n",
       "      <td>51.0</td>\n",
       "      <td>96.0</td>\n",
       "      <td>28.89</td>\n",
       "      <td>10.0</td>\n",
       "      <td>Calm</td>\n",
       "      <td>Fair</td>\n",
       "      <td>False</td>\n",
       "      <td>True</td>\n",
       "      <td>False</td>\n",
       "      <td>False</td>\n",
       "      <td>False</td>\n",
       "      <td>False</td>\n",
       "      <td>False</td>\n",
       "      <td>True</td>\n",
       "      <td>Day</td>\n",
       "      <td>0</td>\n",
       "    </tr>\n",
       "    <tr>\n",
       "      <th>43</th>\n",
       "      <td>0.020</td>\n",
       "      <td>local</td>\n",
       "      <td>57.0</td>\n",
       "      <td>44.0</td>\n",
       "      <td>30.52</td>\n",
       "      <td>10.0</td>\n",
       "      <td>N</td>\n",
       "      <td>Fair</td>\n",
       "      <td>False</td>\n",
       "      <td>False</td>\n",
       "      <td>False</td>\n",
       "      <td>False</td>\n",
       "      <td>False</td>\n",
       "      <td>False</td>\n",
       "      <td>False</td>\n",
       "      <td>False</td>\n",
       "      <td>Day</td>\n",
       "      <td>1</td>\n",
       "    </tr>\n",
       "    <tr>\n",
       "      <th>44</th>\n",
       "      <td>0.207</td>\n",
       "      <td>large_local</td>\n",
       "      <td>27.0</td>\n",
       "      <td>100.0</td>\n",
       "      <td>29.08</td>\n",
       "      <td>4.0</td>\n",
       "      <td>NE</td>\n",
       "      <td>Snow</td>\n",
       "      <td>False</td>\n",
       "      <td>False</td>\n",
       "      <td>False</td>\n",
       "      <td>False</td>\n",
       "      <td>False</td>\n",
       "      <td>False</td>\n",
       "      <td>False</td>\n",
       "      <td>False</td>\n",
       "      <td>Night</td>\n",
       "      <td>0</td>\n",
       "    </tr>\n",
       "    <tr>\n",
       "      <th>45</th>\n",
       "      <td>0.000</td>\n",
       "      <td>Interstate</td>\n",
       "      <td>68.0</td>\n",
       "      <td>83.0</td>\n",
       "      <td>30.26</td>\n",
       "      <td>10.0</td>\n",
       "      <td>Calm</td>\n",
       "      <td>Scattered Clouds</td>\n",
       "      <td>False</td>\n",
       "      <td>False</td>\n",
       "      <td>False</td>\n",
       "      <td>False</td>\n",
       "      <td>False</td>\n",
       "      <td>False</td>\n",
       "      <td>False</td>\n",
       "      <td>False</td>\n",
       "      <td>Day</td>\n",
       "      <td>0</td>\n",
       "    </tr>\n",
       "    <tr>\n",
       "      <th>46</th>\n",
       "      <td>0.174</td>\n",
       "      <td>Interstate</td>\n",
       "      <td>66.2</td>\n",
       "      <td>83.0</td>\n",
       "      <td>30.03</td>\n",
       "      <td>10.0</td>\n",
       "      <td>Calm</td>\n",
       "      <td>Overcast</td>\n",
       "      <td>False</td>\n",
       "      <td>False</td>\n",
       "      <td>False</td>\n",
       "      <td>False</td>\n",
       "      <td>False</td>\n",
       "      <td>False</td>\n",
       "      <td>False</td>\n",
       "      <td>False</td>\n",
       "      <td>Day</td>\n",
       "      <td>1</td>\n",
       "    </tr>\n",
       "    <tr>\n",
       "      <th>47</th>\n",
       "      <td>0.063</td>\n",
       "      <td>local</td>\n",
       "      <td>59.0</td>\n",
       "      <td>94.0</td>\n",
       "      <td>29.70</td>\n",
       "      <td>7.0</td>\n",
       "      <td>SW</td>\n",
       "      <td>Cloudy</td>\n",
       "      <td>False</td>\n",
       "      <td>False</td>\n",
       "      <td>False</td>\n",
       "      <td>False</td>\n",
       "      <td>False</td>\n",
       "      <td>False</td>\n",
       "      <td>False</td>\n",
       "      <td>False</td>\n",
       "      <td>Day</td>\n",
       "      <td>1</td>\n",
       "    </tr>\n",
       "    <tr>\n",
       "      <th>48</th>\n",
       "      <td>0.709</td>\n",
       "      <td>Interstate</td>\n",
       "      <td>31.0</td>\n",
       "      <td>42.0</td>\n",
       "      <td>29.50</td>\n",
       "      <td>10.0</td>\n",
       "      <td>S</td>\n",
       "      <td>Fair</td>\n",
       "      <td>False</td>\n",
       "      <td>False</td>\n",
       "      <td>True</td>\n",
       "      <td>False</td>\n",
       "      <td>False</td>\n",
       "      <td>False</td>\n",
       "      <td>False</td>\n",
       "      <td>False</td>\n",
       "      <td>Day</td>\n",
       "      <td>0</td>\n",
       "    </tr>\n",
       "    <tr>\n",
       "      <th>49</th>\n",
       "      <td>0.000</td>\n",
       "      <td>large_local</td>\n",
       "      <td>63.0</td>\n",
       "      <td>68.0</td>\n",
       "      <td>29.91</td>\n",
       "      <td>10.0</td>\n",
       "      <td>Calm</td>\n",
       "      <td>Fair</td>\n",
       "      <td>False</td>\n",
       "      <td>False</td>\n",
       "      <td>False</td>\n",
       "      <td>False</td>\n",
       "      <td>False</td>\n",
       "      <td>False</td>\n",
       "      <td>False</td>\n",
       "      <td>False</td>\n",
       "      <td>Night</td>\n",
       "      <td>0</td>\n",
       "    </tr>\n",
       "    <tr>\n",
       "      <th>51</th>\n",
       "      <td>0.323</td>\n",
       "      <td>Interstate</td>\n",
       "      <td>42.8</td>\n",
       "      <td>49.0</td>\n",
       "      <td>29.71</td>\n",
       "      <td>10.0</td>\n",
       "      <td>NW</td>\n",
       "      <td>Clear</td>\n",
       "      <td>False</td>\n",
       "      <td>False</td>\n",
       "      <td>False</td>\n",
       "      <td>False</td>\n",
       "      <td>False</td>\n",
       "      <td>False</td>\n",
       "      <td>False</td>\n",
       "      <td>False</td>\n",
       "      <td>Night</td>\n",
       "      <td>1</td>\n",
       "    </tr>\n",
       "    <tr>\n",
       "      <th>52</th>\n",
       "      <td>0.616</td>\n",
       "      <td>Highway</td>\n",
       "      <td>53.0</td>\n",
       "      <td>100.0</td>\n",
       "      <td>29.98</td>\n",
       "      <td>0.0</td>\n",
       "      <td>SW</td>\n",
       "      <td>Fog</td>\n",
       "      <td>False</td>\n",
       "      <td>False</td>\n",
       "      <td>False</td>\n",
       "      <td>False</td>\n",
       "      <td>False</td>\n",
       "      <td>False</td>\n",
       "      <td>False</td>\n",
       "      <td>False</td>\n",
       "      <td>Day</td>\n",
       "      <td>0</td>\n",
       "    </tr>\n",
       "    <tr>\n",
       "      <th>53</th>\n",
       "      <td>0.157</td>\n",
       "      <td>local</td>\n",
       "      <td>56.0</td>\n",
       "      <td>87.0</td>\n",
       "      <td>29.93</td>\n",
       "      <td>10.0</td>\n",
       "      <td>Calm</td>\n",
       "      <td>Mostly Cloudy</td>\n",
       "      <td>False</td>\n",
       "      <td>False</td>\n",
       "      <td>False</td>\n",
       "      <td>False</td>\n",
       "      <td>False</td>\n",
       "      <td>False</td>\n",
       "      <td>False</td>\n",
       "      <td>False</td>\n",
       "      <td>Night</td>\n",
       "      <td>1</td>\n",
       "    </tr>\n",
       "    <tr>\n",
       "      <th>54</th>\n",
       "      <td>10.361</td>\n",
       "      <td>Interstate</td>\n",
       "      <td>91.0</td>\n",
       "      <td>38.0</td>\n",
       "      <td>29.39</td>\n",
       "      <td>10.0</td>\n",
       "      <td>W</td>\n",
       "      <td>Windy</td>\n",
       "      <td>False</td>\n",
       "      <td>False</td>\n",
       "      <td>False</td>\n",
       "      <td>False</td>\n",
       "      <td>False</td>\n",
       "      <td>False</td>\n",
       "      <td>False</td>\n",
       "      <td>False</td>\n",
       "      <td>Day</td>\n",
       "      <td>1</td>\n",
       "    </tr>\n",
       "    <tr>\n",
       "      <th>55</th>\n",
       "      <td>2.714</td>\n",
       "      <td>Beltway</td>\n",
       "      <td>41.0</td>\n",
       "      <td>32.0</td>\n",
       "      <td>30.30</td>\n",
       "      <td>10.0</td>\n",
       "      <td>S</td>\n",
       "      <td>Fair</td>\n",
       "      <td>False</td>\n",
       "      <td>False</td>\n",
       "      <td>True</td>\n",
       "      <td>False</td>\n",
       "      <td>False</td>\n",
       "      <td>False</td>\n",
       "      <td>False</td>\n",
       "      <td>False</td>\n",
       "      <td>Day</td>\n",
       "      <td>0</td>\n",
       "    </tr>\n",
       "    <tr>\n",
       "      <th>56</th>\n",
       "      <td>0.025</td>\n",
       "      <td>local</td>\n",
       "      <td>46.4</td>\n",
       "      <td>100.0</td>\n",
       "      <td>30.19</td>\n",
       "      <td>4.0</td>\n",
       "      <td>Calm</td>\n",
       "      <td>Overcast</td>\n",
       "      <td>False</td>\n",
       "      <td>False</td>\n",
       "      <td>False</td>\n",
       "      <td>False</td>\n",
       "      <td>False</td>\n",
       "      <td>False</td>\n",
       "      <td>False</td>\n",
       "      <td>False</td>\n",
       "      <td>Day</td>\n",
       "      <td>1</td>\n",
       "    </tr>\n",
       "  </tbody>\n",
       "</table>\n",
       "</div>"
      ],
      "text/plain": [
       "    Distance(mi)       Street  Temperature(F)  Humidity(%)  Pressure(in)  \\\n",
       "0          0.716        local            41.0         73.0         30.04   \n",
       "1          0.147        local            66.0         90.0         29.87   \n",
       "3          0.053        local            74.0         36.0         29.97   \n",
       "4          0.284  on_off_ramp            36.0         93.0         29.50   \n",
       "5          0.014        local            44.1         38.0         30.19   \n",
       "6          0.194      Beltway            39.0         94.0         29.82   \n",
       "8          0.331  large_local            87.1         53.0         29.97   \n",
       "9          2.748        local            82.0         70.0         29.85   \n",
       "10         1.720  large_local            76.5         87.0         30.12   \n",
       "11         0.072  large_local            74.0         91.0         30.06   \n",
       "12         0.219        local            69.8         56.0         30.26   \n",
       "13         0.065        local            72.0        100.0         29.67   \n",
       "14         0.073      Highway            66.0         40.0         29.82   \n",
       "15         0.398        local            78.1         66.0         30.24   \n",
       "16         0.000   Interstate            59.0        100.0         30.11   \n",
       "17         0.038        local            77.0         82.0         29.79   \n",
       "18         0.855   Interstate            23.0         63.0         30.26   \n",
       "19         1.780        local            79.0         82.0         29.70   \n",
       "20         0.000      Highway            28.0         93.0         30.15   \n",
       "21         0.639  large_local            69.0         88.0         30.16   \n",
       "22         0.652        local            44.0         53.0         29.68   \n",
       "23         0.497  large_local            52.0         94.0         29.31   \n",
       "24         3.901   Interstate            65.0         70.0         29.60   \n",
       "25         3.579      Highway            63.0         52.0         29.50   \n",
       "26         0.000      Highway            86.0         94.0         30.02   \n",
       "27         0.478        local            38.0         50.0         30.26   \n",
       "28         5.836   Interstate            62.0         72.0         29.00   \n",
       "30         0.119  large_local            38.0         51.0         29.13   \n",
       "31         0.000        local            75.9         68.0         30.02   \n",
       "32         0.290      Highway            57.0         82.0         29.73   \n",
       "33         0.934      Highway            32.9         30.0         30.09   \n",
       "34         0.022      Highway            83.0         56.0         29.90   \n",
       "35         0.051        local            72.0         88.0         29.69   \n",
       "36         0.127      Highway            57.2         72.0         29.28   \n",
       "38         0.088        local            90.5         61.0         29.96   \n",
       "40         0.309   Interstate            52.0         93.0         29.86   \n",
       "41         0.000        local            51.0         96.0         28.89   \n",
       "43         0.020        local            57.0         44.0         30.52   \n",
       "44         0.207  large_local            27.0        100.0         29.08   \n",
       "45         0.000   Interstate            68.0         83.0         30.26   \n",
       "46         0.174   Interstate            66.2         83.0         30.03   \n",
       "47         0.063        local            59.0         94.0         29.70   \n",
       "48         0.709   Interstate            31.0         42.0         29.50   \n",
       "49         0.000  large_local            63.0         68.0         29.91   \n",
       "51         0.323   Interstate            42.8         49.0         29.71   \n",
       "52         0.616      Highway            53.0        100.0         29.98   \n",
       "53         0.157        local            56.0         87.0         29.93   \n",
       "54        10.361   Interstate            91.0         38.0         29.39   \n",
       "55         2.714      Beltway            41.0         32.0         30.30   \n",
       "56         0.025        local            46.4        100.0         30.19   \n",
       "\n",
       "    Visibility(mi) Wind_Direction Weather_Condition  Amenity  Crossing  \\\n",
       "0             10.0           Calm              Fair    False     False   \n",
       "1             10.0             NE              Fair    False     False   \n",
       "3             10.0             NW     Mostly Cloudy    False      True   \n",
       "4              6.0           Calm     Mostly Cloudy    False     False   \n",
       "5             10.0             NW             Clear    False      True   \n",
       "6             10.0           Calm     Partly Cloudy    False     False   \n",
       "8             10.0              N             Clear    False     False   \n",
       "9             10.0              S              Fair    False     False   \n",
       "10            10.0              S             Clear    False     False   \n",
       "11             7.0           Calm              Fair     True      True   \n",
       "12            10.0           Calm             Clear    False     False   \n",
       "13             7.0           Calm              Fair    False     False   \n",
       "14            10.0             SW            Cloudy    False     False   \n",
       "15            10.0              E             Clear    False     False   \n",
       "16             0.5           Calm               Fog    False     False   \n",
       "17             9.0              S           Drizzle    False     False   \n",
       "18            10.0             NW          Overcast    False     False   \n",
       "19            10.0             SW              Fair    False     False   \n",
       "20            10.0           Calm              Fair    False     False   \n",
       "21            10.0              S           Drizzle    False     False   \n",
       "22            10.0             SW              Fair    False     False   \n",
       "23             1.0             NW               Fog    False     False   \n",
       "24            10.0           Calm            Cloudy    False     False   \n",
       "25            10.0             SW     Mostly Cloudy    False     False   \n",
       "26            10.0           Calm              Fair    False     False   \n",
       "27             8.0             SE              Fair    False     False   \n",
       "28            10.0              W            Cloudy    False     False   \n",
       "30            10.0              W              Fair    False     False   \n",
       "31             7.0             SE  Scattered Clouds    False     False   \n",
       "32            10.0              N     Mostly Cloudy    False     False   \n",
       "33            10.0           Calm             Clear    False     False   \n",
       "34            10.0             SE     Mostly Cloudy    False     False   \n",
       "35            10.0           Calm            Cloudy    False     False   \n",
       "36             7.0              W             Clear    False     False   \n",
       "38            10.0             SE             Clear    False     False   \n",
       "40             0.0           Calm               Fog    False     False   \n",
       "41            10.0           Calm              Fair    False      True   \n",
       "43            10.0              N              Fair    False     False   \n",
       "44             4.0             NE              Snow    False     False   \n",
       "45            10.0           Calm  Scattered Clouds    False     False   \n",
       "46            10.0           Calm          Overcast    False     False   \n",
       "47             7.0             SW            Cloudy    False     False   \n",
       "48            10.0              S              Fair    False     False   \n",
       "49            10.0           Calm              Fair    False     False   \n",
       "51            10.0             NW             Clear    False     False   \n",
       "52             0.0             SW               Fog    False     False   \n",
       "53            10.0           Calm     Mostly Cloudy    False     False   \n",
       "54            10.0              W             Windy    False     False   \n",
       "55            10.0              S              Fair    False     False   \n",
       "56             4.0           Calm          Overcast    False     False   \n",
       "\n",
       "    Junction  Railway  Station   Stop  Traffic_Calming  Traffic_Signal  \\\n",
       "0      False    False    False  False            False            True   \n",
       "1      False    False    False  False            False            True   \n",
       "3      False    False    False  False            False           False   \n",
       "4       True    False    False  False            False           False   \n",
       "5      False    False    False  False            False            True   \n",
       "6       True    False    False  False            False           False   \n",
       "8      False    False    False  False            False           False   \n",
       "9      False    False    False  False            False           False   \n",
       "10      True    False    False  False            False           False   \n",
       "11     False    False    False  False            False           False   \n",
       "12     False    False    False  False            False            True   \n",
       "13     False    False    False  False            False           False   \n",
       "14     False    False    False  False            False           False   \n",
       "15     False    False    False  False            False           False   \n",
       "16     False    False    False  False            False           False   \n",
       "17     False    False    False  False            False           False   \n",
       "18     False    False    False  False            False           False   \n",
       "19     False    False    False  False            False           False   \n",
       "20     False    False    False  False            False           False   \n",
       "21      True    False    False  False            False           False   \n",
       "22     False    False    False  False            False           False   \n",
       "23     False    False    False  False            False           False   \n",
       "24     False    False    False  False            False           False   \n",
       "25     False    False    False  False            False           False   \n",
       "26     False    False    False   True            False           False   \n",
       "27     False    False    False   True            False           False   \n",
       "28     False    False    False  False            False           False   \n",
       "30     False    False    False  False            False            True   \n",
       "31     False    False    False  False            False           False   \n",
       "32     False    False    False  False            False           False   \n",
       "33     False    False    False  False            False           False   \n",
       "34      True    False    False  False            False           False   \n",
       "35     False    False    False  False            False           False   \n",
       "36     False    False    False  False            False           False   \n",
       "38     False    False    False  False            False            True   \n",
       "40     False    False    False  False            False           False   \n",
       "41     False    False    False  False            False            True   \n",
       "43     False    False    False  False            False           False   \n",
       "44     False    False    False  False            False           False   \n",
       "45     False    False    False  False            False           False   \n",
       "46     False    False    False  False            False           False   \n",
       "47     False    False    False  False            False           False   \n",
       "48      True    False    False  False            False           False   \n",
       "49     False    False    False  False            False           False   \n",
       "51     False    False    False  False            False           False   \n",
       "52     False    False    False  False            False           False   \n",
       "53     False    False    False  False            False           False   \n",
       "54     False    False    False  False            False           False   \n",
       "55      True    False    False  False            False           False   \n",
       "56     False    False    False  False            False           False   \n",
       "\n",
       "   Sunrise_Sunset  Severity  \n",
       "0             Day         0  \n",
       "1           Night         1  \n",
       "3             Day         0  \n",
       "4           Night         1  \n",
       "5             Day         1  \n",
       "6           Night         0  \n",
       "8             Day         1  \n",
       "9             Day         0  \n",
       "10            Day         1  \n",
       "11            Day         0  \n",
       "12          Night         1  \n",
       "13          Night         0  \n",
       "14            Day         1  \n",
       "15            Day         1  \n",
       "16            Day         0  \n",
       "17            Day         1  \n",
       "18            Day         0  \n",
       "19            Day         0  \n",
       "20            Day         0  \n",
       "21            Day         0  \n",
       "22          Night         1  \n",
       "23            Day         0  \n",
       "24          Night         1  \n",
       "25            Day         1  \n",
       "26            Day         0  \n",
       "27            Day         0  \n",
       "28            Day         1  \n",
       "30          Night         1  \n",
       "31            Day         1  \n",
       "32            Day         1  \n",
       "33            Day         1  \n",
       "34            Day         1  \n",
       "35          Night         0  \n",
       "36            Day         0  \n",
       "38            Day         1  \n",
       "40            Day         1  \n",
       "41            Day         0  \n",
       "43            Day         1  \n",
       "44          Night         0  \n",
       "45            Day         0  \n",
       "46            Day         1  \n",
       "47            Day         1  \n",
       "48            Day         0  \n",
       "49          Night         0  \n",
       "51          Night         1  \n",
       "52            Day         0  \n",
       "53          Night         1  \n",
       "54            Day         1  \n",
       "55            Day         0  \n",
       "56            Day         1  "
      ]
     },
     "execution_count": 59,
     "metadata": {},
     "output_type": "execute_result"
    }
   ],
   "source": [
    "df.head(50)"
   ]
  },
  {
   "cell_type": "code",
   "execution_count": 60,
   "id": "098518ed",
   "metadata": {},
   "outputs": [
    {
     "data": {
      "text/plain": [
       "Index(['Distance(mi)', 'Street', 'Temperature(F)', 'Humidity(%)',\n",
       "       'Pressure(in)', 'Visibility(mi)', 'Wind_Direction', 'Weather_Condition',\n",
       "       'Amenity', 'Crossing', 'Junction', 'Railway', 'Station', 'Stop',\n",
       "       'Traffic_Calming', 'Traffic_Signal', 'Sunrise_Sunset', 'Severity'],\n",
       "      dtype='object')"
      ]
     },
     "execution_count": 60,
     "metadata": {},
     "output_type": "execute_result"
    }
   ],
   "source": [
    "df.columns"
   ]
  },
  {
   "cell_type": "code",
   "execution_count": 61,
   "id": "6f6cd90c",
   "metadata": {},
   "outputs": [
    {
     "name": "stdout",
     "output_type": "stream",
     "text": [
      "(3545, 18)\n",
      "(3489, 18)\n"
     ]
    }
   ],
   "source": [
    "print(df.shape)\n",
    "df = df.drop_duplicates()\n",
    "print(df.shape)"
   ]
  },
  {
   "cell_type": "code",
   "execution_count": 62,
   "id": "5a6270e6",
   "metadata": {},
   "outputs": [
    {
     "data": {
      "application/vnd.microsoft.datawrangler.viewer.v0+json": {
       "columns": [
        {
         "name": "index",
         "rawType": "int64",
         "type": "integer"
        },
        {
         "name": "Distance(mi)",
         "rawType": "float64",
         "type": "float"
        },
        {
         "name": "Street",
         "rawType": "object",
         "type": "string"
        },
        {
         "name": "Temperature(F)",
         "rawType": "float64",
         "type": "float"
        },
        {
         "name": "Humidity(%)",
         "rawType": "float64",
         "type": "float"
        },
        {
         "name": "Pressure(in)",
         "rawType": "float64",
         "type": "float"
        },
        {
         "name": "Visibility(mi)",
         "rawType": "float64",
         "type": "float"
        },
        {
         "name": "Wind_Direction",
         "rawType": "object",
         "type": "string"
        },
        {
         "name": "Weather_Condition",
         "rawType": "object",
         "type": "string"
        },
        {
         "name": "Amenity",
         "rawType": "bool",
         "type": "boolean"
        },
        {
         "name": "Crossing",
         "rawType": "bool",
         "type": "boolean"
        },
        {
         "name": "Junction",
         "rawType": "bool",
         "type": "boolean"
        },
        {
         "name": "Railway",
         "rawType": "bool",
         "type": "boolean"
        },
        {
         "name": "Station",
         "rawType": "bool",
         "type": "boolean"
        },
        {
         "name": "Stop",
         "rawType": "bool",
         "type": "boolean"
        },
        {
         "name": "Traffic_Calming",
         "rawType": "bool",
         "type": "boolean"
        },
        {
         "name": "Traffic_Signal",
         "rawType": "bool",
         "type": "boolean"
        },
        {
         "name": "Sunrise_Sunset",
         "rawType": "object",
         "type": "string"
        },
        {
         "name": "Severity",
         "rawType": "int64",
         "type": "integer"
        }
       ],
       "ref": "7c324547-a605-4cb7-ae27-2a73e733a0bf",
       "rows": [
        [
         "0",
         "0.716",
         "local",
         "41.0",
         "73.0",
         "30.04",
         "10.0",
         "Calm",
         "Fair",
         "False",
         "False",
         "False",
         "False",
         "False",
         "False",
         "False",
         "True",
         "Day",
         "0"
        ],
        [
         "1",
         "0.147",
         "local",
         "66.0",
         "90.0",
         "29.87",
         "10.0",
         "NE",
         "Fair",
         "False",
         "False",
         "False",
         "False",
         "False",
         "False",
         "False",
         "True",
         "Night",
         "1"
        ],
        [
         "3",
         "0.053",
         "local",
         "74.0",
         "36.0",
         "29.97",
         "10.0",
         "NW",
         "Mostly Cloudy",
         "False",
         "True",
         "False",
         "False",
         "False",
         "False",
         "False",
         "False",
         "Day",
         "0"
        ],
        [
         "4",
         "0.284",
         "on_off_ramp",
         "36.0",
         "93.0",
         "29.5",
         "6.0",
         "Calm",
         "Mostly Cloudy",
         "False",
         "False",
         "True",
         "False",
         "False",
         "False",
         "False",
         "False",
         "Night",
         "1"
        ],
        [
         "5",
         "0.014",
         "local",
         "44.1",
         "38.0",
         "30.19",
         "10.0",
         "NW",
         "Clear",
         "False",
         "True",
         "False",
         "False",
         "False",
         "False",
         "False",
         "True",
         "Day",
         "1"
        ]
       ],
       "shape": {
        "columns": 18,
        "rows": 5
       }
      },
      "text/html": [
       "<div>\n",
       "<style scoped>\n",
       "    .dataframe tbody tr th:only-of-type {\n",
       "        vertical-align: middle;\n",
       "    }\n",
       "\n",
       "    .dataframe tbody tr th {\n",
       "        vertical-align: top;\n",
       "    }\n",
       "\n",
       "    .dataframe thead th {\n",
       "        text-align: right;\n",
       "    }\n",
       "</style>\n",
       "<table border=\"1\" class=\"dataframe\">\n",
       "  <thead>\n",
       "    <tr style=\"text-align: right;\">\n",
       "      <th></th>\n",
       "      <th>Distance(mi)</th>\n",
       "      <th>Street</th>\n",
       "      <th>Temperature(F)</th>\n",
       "      <th>Humidity(%)</th>\n",
       "      <th>Pressure(in)</th>\n",
       "      <th>Visibility(mi)</th>\n",
       "      <th>Wind_Direction</th>\n",
       "      <th>Weather_Condition</th>\n",
       "      <th>Amenity</th>\n",
       "      <th>Crossing</th>\n",
       "      <th>Junction</th>\n",
       "      <th>Railway</th>\n",
       "      <th>Station</th>\n",
       "      <th>Stop</th>\n",
       "      <th>Traffic_Calming</th>\n",
       "      <th>Traffic_Signal</th>\n",
       "      <th>Sunrise_Sunset</th>\n",
       "      <th>Severity</th>\n",
       "    </tr>\n",
       "  </thead>\n",
       "  <tbody>\n",
       "    <tr>\n",
       "      <th>0</th>\n",
       "      <td>0.716</td>\n",
       "      <td>local</td>\n",
       "      <td>41.0</td>\n",
       "      <td>73.0</td>\n",
       "      <td>30.04</td>\n",
       "      <td>10.0</td>\n",
       "      <td>Calm</td>\n",
       "      <td>Fair</td>\n",
       "      <td>False</td>\n",
       "      <td>False</td>\n",
       "      <td>False</td>\n",
       "      <td>False</td>\n",
       "      <td>False</td>\n",
       "      <td>False</td>\n",
       "      <td>False</td>\n",
       "      <td>True</td>\n",
       "      <td>Day</td>\n",
       "      <td>0</td>\n",
       "    </tr>\n",
       "    <tr>\n",
       "      <th>1</th>\n",
       "      <td>0.147</td>\n",
       "      <td>local</td>\n",
       "      <td>66.0</td>\n",
       "      <td>90.0</td>\n",
       "      <td>29.87</td>\n",
       "      <td>10.0</td>\n",
       "      <td>NE</td>\n",
       "      <td>Fair</td>\n",
       "      <td>False</td>\n",
       "      <td>False</td>\n",
       "      <td>False</td>\n",
       "      <td>False</td>\n",
       "      <td>False</td>\n",
       "      <td>False</td>\n",
       "      <td>False</td>\n",
       "      <td>True</td>\n",
       "      <td>Night</td>\n",
       "      <td>1</td>\n",
       "    </tr>\n",
       "    <tr>\n",
       "      <th>3</th>\n",
       "      <td>0.053</td>\n",
       "      <td>local</td>\n",
       "      <td>74.0</td>\n",
       "      <td>36.0</td>\n",
       "      <td>29.97</td>\n",
       "      <td>10.0</td>\n",
       "      <td>NW</td>\n",
       "      <td>Mostly Cloudy</td>\n",
       "      <td>False</td>\n",
       "      <td>True</td>\n",
       "      <td>False</td>\n",
       "      <td>False</td>\n",
       "      <td>False</td>\n",
       "      <td>False</td>\n",
       "      <td>False</td>\n",
       "      <td>False</td>\n",
       "      <td>Day</td>\n",
       "      <td>0</td>\n",
       "    </tr>\n",
       "    <tr>\n",
       "      <th>4</th>\n",
       "      <td>0.284</td>\n",
       "      <td>on_off_ramp</td>\n",
       "      <td>36.0</td>\n",
       "      <td>93.0</td>\n",
       "      <td>29.50</td>\n",
       "      <td>6.0</td>\n",
       "      <td>Calm</td>\n",
       "      <td>Mostly Cloudy</td>\n",
       "      <td>False</td>\n",
       "      <td>False</td>\n",
       "      <td>True</td>\n",
       "      <td>False</td>\n",
       "      <td>False</td>\n",
       "      <td>False</td>\n",
       "      <td>False</td>\n",
       "      <td>False</td>\n",
       "      <td>Night</td>\n",
       "      <td>1</td>\n",
       "    </tr>\n",
       "    <tr>\n",
       "      <th>5</th>\n",
       "      <td>0.014</td>\n",
       "      <td>local</td>\n",
       "      <td>44.1</td>\n",
       "      <td>38.0</td>\n",
       "      <td>30.19</td>\n",
       "      <td>10.0</td>\n",
       "      <td>NW</td>\n",
       "      <td>Clear</td>\n",
       "      <td>False</td>\n",
       "      <td>True</td>\n",
       "      <td>False</td>\n",
       "      <td>False</td>\n",
       "      <td>False</td>\n",
       "      <td>False</td>\n",
       "      <td>False</td>\n",
       "      <td>True</td>\n",
       "      <td>Day</td>\n",
       "      <td>1</td>\n",
       "    </tr>\n",
       "  </tbody>\n",
       "</table>\n",
       "</div>"
      ],
      "text/plain": [
       "   Distance(mi)       Street  Temperature(F)  Humidity(%)  Pressure(in)  \\\n",
       "0         0.716        local            41.0         73.0         30.04   \n",
       "1         0.147        local            66.0         90.0         29.87   \n",
       "3         0.053        local            74.0         36.0         29.97   \n",
       "4         0.284  on_off_ramp            36.0         93.0         29.50   \n",
       "5         0.014        local            44.1         38.0         30.19   \n",
       "\n",
       "   Visibility(mi) Wind_Direction Weather_Condition  Amenity  Crossing  \\\n",
       "0            10.0           Calm              Fair    False     False   \n",
       "1            10.0             NE              Fair    False     False   \n",
       "3            10.0             NW     Mostly Cloudy    False      True   \n",
       "4             6.0           Calm     Mostly Cloudy    False     False   \n",
       "5            10.0             NW             Clear    False      True   \n",
       "\n",
       "   Junction  Railway  Station   Stop  Traffic_Calming  Traffic_Signal  \\\n",
       "0     False    False    False  False            False            True   \n",
       "1     False    False    False  False            False            True   \n",
       "3     False    False    False  False            False           False   \n",
       "4      True    False    False  False            False           False   \n",
       "5     False    False    False  False            False            True   \n",
       "\n",
       "  Sunrise_Sunset  Severity  \n",
       "0            Day         0  \n",
       "1          Night         1  \n",
       "3            Day         0  \n",
       "4          Night         1  \n",
       "5            Day         1  "
      ]
     },
     "execution_count": 62,
     "metadata": {},
     "output_type": "execute_result"
    }
   ],
   "source": [
    "df.head()"
   ]
  },
  {
   "cell_type": "code",
   "execution_count": 63,
   "id": "5d5b489f",
   "metadata": {},
   "outputs": [
    {
     "data": {
      "text/plain": [
       "Index(['Distance(mi)', 'Street', 'Temperature(F)', 'Humidity(%)',\n",
       "       'Pressure(in)', 'Visibility(mi)', 'Wind_Direction', 'Weather_Condition',\n",
       "       'Amenity', 'Crossing', 'Junction', 'Railway', 'Station', 'Stop',\n",
       "       'Traffic_Calming', 'Traffic_Signal', 'Sunrise_Sunset', 'Severity'],\n",
       "      dtype='object')"
      ]
     },
     "execution_count": 63,
     "metadata": {},
     "output_type": "execute_result"
    }
   ],
   "source": [
    "df.columns"
   ]
  },
  {
   "cell_type": "code",
   "execution_count": 64,
   "id": "439a279b",
   "metadata": {},
   "outputs": [],
   "source": [
    "# Train data needs Data_Cleaned, train_data, X_train_control, y_train_control\n",
    "# Test data needs Data_Cleaned, test_data, X_test_control, y_test_control\n",
    "col_class = ['Class']\n",
    "col_data = ['Street', 'Temperature(F)', 'Humidity(%)',\n",
    "            'Pressure(in)', 'Visibility(mi)', 'Wind_Direction', 'Weather_Condition',\n",
    "            'Amenity', 'Crossing', 'Junction', 'Railway', 'Station', 'Stop',\n",
    "            'Traffic_Calming', 'Traffic_Signal', 'Sunrise_Sunset']\n",
    "\n",
    "df = df.rename(columns={'Severity' : 'Class'})\n",
    "df = df.drop_duplicates()\n",
    "\n",
    "X = df.iloc[:,:-1]\n",
    "y = df.Class\n",
    "\n"
   ]
  },
  {
   "cell_type": "code",
   "execution_count": 65,
   "id": "f7e26127",
   "metadata": {},
   "outputs": [],
   "source": [
    "X.to_csv('../Data_Cleaned/Class4_vs_123_ML_Data/test/X_test_4_v_123.csv', columns = col_data, index = False)\n",
    "y.to_csv('../Data_Cleaned/Class4_vs_123_ML_Data/test/y_test_4_v_123.csv', columns = col_class, index = False)\n",
    "\n",
    "# TESTING\n",
    "#X.to_csv('../Data_Cleaned/test_data/control_2class_X_test.csv', columns = col_data, index = False)\n",
    "#y.to_csv('../Data_Cleaned/test_data/control_2class_y_test.csv', columns = col_class, index = False)"
   ]
  }
 ],
 "metadata": {
  "kernelspec": {
   "display_name": "base",
   "language": "python",
   "name": "python3"
  },
  "language_info": {
   "codemirror_mode": {
    "name": "ipython",
    "version": 3
   },
   "file_extension": ".py",
   "mimetype": "text/x-python",
   "name": "python",
   "nbconvert_exporter": "python",
   "pygments_lexer": "ipython3",
   "version": "3.13.4"
  }
 },
 "nbformat": 4,
 "nbformat_minor": 5
}
