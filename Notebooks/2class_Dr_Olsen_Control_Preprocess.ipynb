{
 "cells": [
  {
   "cell_type": "markdown",
   "id": "144fc1fc",
   "metadata": {},
   "source": [
    "This variation of the dr olsen preprocessing is slightly modified to work with the 2 class merge version of the training data. It then cleans the 2 class version of the training data. Need to double check if this was before or after the downsampling."
   ]
  },
  {
   "cell_type": "markdown",
   "id": "8a0af2fc-fc93-4f5e-8773-fd2cf0783682",
   "metadata": {},
   "source": [
    "Creating another variation on the initial data"
   ]
  },
  {
   "cell_type": "code",
   "execution_count": 1,
   "id": "1c264cdf-75b0-41d1-b70e-0619dae705a8",
   "metadata": {},
   "outputs": [],
   "source": [
    "# Imports\n",
    "import pandas as pd\n",
    "import matplotlib.pyplot as plt\n",
    "import numpy as np"
   ]
  },
  {
   "cell_type": "code",
   "execution_count": 2,
   "id": "82b7ccb2-ccbc-4a4d-8f27-3f697904e436",
   "metadata": {},
   "outputs": [],
   "source": [
    "# Train data needs params Data_Raw, train_data, X_train_2c_downsamp, y_train_2c_downsamp\n",
    "# Test data needs params Data_Raw, test_data, X_test_2c_downsamp, y_test_2c_downsamp\n",
    "def data_input(folder1, folder2, file_x, file_y):\n",
    "    X = pd.read_csv(f\"../{folder1}/{folder2}/{file_x}.csv\")\n",
    "    y = pd.read_csv(f\"../{folder1}/{folder2}/{file_y}.csv\")\n",
    "    df = pd.concat([X, y], axis=1)\n",
    "    return df\n"
   ]
  },
  {
   "cell_type": "code",
   "execution_count": 3,
   "id": "03be9ffe",
   "metadata": {},
   "outputs": [
    {
     "data": {
      "application/vnd.microsoft.datawrangler.viewer.v0+json": {
       "columns": [
        {
         "name": "index",
         "rawType": "int64",
         "type": "integer"
        },
        {
         "name": "ID",
         "rawType": "object",
         "type": "string"
        },
        {
         "name": "Source",
         "rawType": "object",
         "type": "string"
        },
        {
         "name": "Start_Time",
         "rawType": "object",
         "type": "string"
        },
        {
         "name": "End_Time",
         "rawType": "object",
         "type": "string"
        },
        {
         "name": "Start_Lat",
         "rawType": "float64",
         "type": "float"
        },
        {
         "name": "Start_Lng",
         "rawType": "float64",
         "type": "float"
        },
        {
         "name": "End_Lat",
         "rawType": "float64",
         "type": "float"
        },
        {
         "name": "End_Lng",
         "rawType": "float64",
         "type": "float"
        },
        {
         "name": "Distance(mi)",
         "rawType": "float64",
         "type": "float"
        },
        {
         "name": "Description",
         "rawType": "object",
         "type": "string"
        },
        {
         "name": "Street",
         "rawType": "object",
         "type": "string"
        },
        {
         "name": "City",
         "rawType": "object",
         "type": "string"
        },
        {
         "name": "County",
         "rawType": "object",
         "type": "string"
        },
        {
         "name": "State",
         "rawType": "object",
         "type": "string"
        },
        {
         "name": "Zipcode",
         "rawType": "object",
         "type": "string"
        },
        {
         "name": "Country",
         "rawType": "object",
         "type": "string"
        },
        {
         "name": "Timezone",
         "rawType": "object",
         "type": "string"
        },
        {
         "name": "Airport_Code",
         "rawType": "object",
         "type": "string"
        },
        {
         "name": "Weather_Timestamp",
         "rawType": "object",
         "type": "string"
        },
        {
         "name": "Temperature(F)",
         "rawType": "float64",
         "type": "float"
        },
        {
         "name": "Wind_Chill(F)",
         "rawType": "float64",
         "type": "float"
        },
        {
         "name": "Humidity(%)",
         "rawType": "float64",
         "type": "float"
        },
        {
         "name": "Pressure(in)",
         "rawType": "float64",
         "type": "float"
        },
        {
         "name": "Visibility(mi)",
         "rawType": "float64",
         "type": "float"
        },
        {
         "name": "Wind_Direction",
         "rawType": "object",
         "type": "string"
        },
        {
         "name": "Wind_Speed(mph)",
         "rawType": "float64",
         "type": "float"
        },
        {
         "name": "Precipitation(in)",
         "rawType": "float64",
         "type": "float"
        },
        {
         "name": "Weather_Condition",
         "rawType": "object",
         "type": "string"
        },
        {
         "name": "Amenity",
         "rawType": "bool",
         "type": "boolean"
        },
        {
         "name": "Bump",
         "rawType": "bool",
         "type": "boolean"
        },
        {
         "name": "Crossing",
         "rawType": "bool",
         "type": "boolean"
        },
        {
         "name": "Give_Way",
         "rawType": "bool",
         "type": "boolean"
        },
        {
         "name": "Junction",
         "rawType": "bool",
         "type": "boolean"
        },
        {
         "name": "No_Exit",
         "rawType": "bool",
         "type": "boolean"
        },
        {
         "name": "Railway",
         "rawType": "bool",
         "type": "boolean"
        },
        {
         "name": "Roundabout",
         "rawType": "bool",
         "type": "boolean"
        },
        {
         "name": "Station",
         "rawType": "bool",
         "type": "boolean"
        },
        {
         "name": "Stop",
         "rawType": "bool",
         "type": "boolean"
        },
        {
         "name": "Traffic_Calming",
         "rawType": "bool",
         "type": "boolean"
        },
        {
         "name": "Traffic_Signal",
         "rawType": "bool",
         "type": "boolean"
        },
        {
         "name": "Turning_Loop",
         "rawType": "bool",
         "type": "boolean"
        },
        {
         "name": "Sunrise_Sunset",
         "rawType": "object",
         "type": "string"
        },
        {
         "name": "Civil_Twilight",
         "rawType": "object",
         "type": "string"
        },
        {
         "name": "Nautical_Twilight",
         "rawType": "object",
         "type": "string"
        },
        {
         "name": "Astronomical_Twilight",
         "rawType": "object",
         "type": "string"
        },
        {
         "name": "Severity",
         "rawType": "int64",
         "type": "integer"
        }
       ],
       "ref": "1900b6ba-ae59-4895-bcc7-1aaa7d50ea0f",
       "rows": [
        [
         "0",
         "A-572015",
         "Source2",
         "2022-07-08 08:30:26",
         "2022-07-08 09:00:05",
         "39.223404",
         "-76.805908",
         null,
         null,
         "0.0",
         "Crash on MD-100 Eastbound at Exit 2 MD-108.",
         "MD-100",
         "Ellicott City",
         "Howard",
         "MD",
         "21043",
         "US",
         "US/Eastern",
         "KBWI",
         "2022-07-08 08:54:00",
         "75.0",
         "75.0",
         "82.0",
         "29.88",
         "10.0",
         "VAR",
         "3.0",
         "0.0",
         "Mostly Cloudy",
         "False",
         "False",
         "False",
         "False",
         "False",
         "False",
         "False",
         "False",
         "False",
         "False",
         "False",
         "False",
         "False",
         "Day",
         "Day",
         "Day",
         "Day",
         "0"
        ],
        [
         "1",
         "A-4521402",
         "Source1",
         "2023-01-19 14:09:43.000000000",
         "2023-01-19 15:24:43.000000000",
         "38.672599",
         "-76.87619000000002",
         "38.671519",
         "-76.87625",
         "0.075",
         "Incident on CRAIN HWY near CRAIN HWY Drive with caution.",
         " Crain Hwy",
         "Brandywine",
         "Prince George's",
         "MD",
         "20613-8078",
         "US",
         "US/Eastern",
         "KADW",
         "2023-01-19 13:55:00",
         "45.0",
         "45.0",
         "89.0",
         "29.44",
         "10.0",
         "CALM",
         "0.0",
         "0.0",
         "Light Drizzle",
         "False",
         "False",
         "False",
         "False",
         "False",
         "False",
         "False",
         "False",
         "False",
         "False",
         "False",
         "False",
         "False",
         "Day",
         "Day",
         "Day",
         "Day",
         "0"
        ],
        [
         "2",
         "A-5988633",
         "Source1",
         "2021-06-30 16:25:51",
         "2021-06-30 18:06:33",
         "39.34512019138649",
         "-76.50948643647901",
         "39.32285019138649",
         "-76.53014643647904",
         "1.894",
         "I-95 SOUTH PRIOR TO EXIT 62 I 895 HARBOR TUNNEL THRUWAY (SB) MM 61.8",
         "I-95",
         "Baltimore",
         "Baltimore",
         "MD",
         "21206",
         "US",
         "US/Eastern",
         "KMTN",
         "2021-06-30 15:55:00",
         "91.0",
         "91.0",
         "66.0",
         "29.95",
         "10.0",
         "SSE",
         "17.0",
         "0.0",
         "Partly Cloudy",
         "False",
         "False",
         "False",
         "False",
         "False",
         "False",
         "False",
         "False",
         "False",
         "False",
         "False",
         "False",
         "False",
         "Day",
         "Day",
         "Day",
         "Day",
         "0"
        ],
        [
         "3",
         "A-7576332",
         "Source1",
         "2018-06-28 09:32:30",
         "2018-06-28 15:32:30",
         "39.353038",
         "-77.01567",
         "39.33668",
         "-77.013648",
         "1.135",
         "Closed at Mt Airy - Road closed due to accident.",
         " Old Washington Rd",
         "Woodbine",
         "Howard",
         "MD",
         "21797-9105",
         "US",
         "US/Eastern",
         "KGAI",
         "2018-06-28 09:56:00",
         "80.1",
         null,
         "71.0",
         "29.91",
         "10.0",
         "NW",
         "8.1",
         null,
         "Partly Cloudy",
         "False",
         "False",
         "True",
         "False",
         "False",
         "False",
         "True",
         "False",
         "False",
         "True",
         "False",
         "False",
         "False",
         "Day",
         "Day",
         "Day",
         "Day",
         "1"
        ],
        [
         "4",
         "A-3054320",
         "Source2",
         "2018-01-09 19:04:26",
         "2018-01-09 19:33:45",
         "39.110779",
         "-77.187241",
         null,
         null,
         "0.0",
         "Lane blocked and right hand shoulder blocked due to accident on I-270 Northbound at Exits 8 9&10 Shady Grove Rd.",
         "I-270 N",
         "Rockville",
         "Montgomery",
         "MD",
         "20850",
         "US",
         "US/Eastern",
         "KGAI",
         "2018-01-09 18:56:00",
         "37.0",
         null,
         "62.0",
         "30.4",
         "10.0",
         "Calm",
         null,
         null,
         "Clear",
         "False",
         "False",
         "False",
         "False",
         "False",
         "False",
         "False",
         "False",
         "False",
         "False",
         "False",
         "False",
         "False",
         "Night",
         "Night",
         "Night",
         "Night",
         "1"
        ]
       ],
       "shape": {
        "columns": 46,
        "rows": 5
       }
      },
      "text/html": [
       "<div>\n",
       "<style scoped>\n",
       "    .dataframe tbody tr th:only-of-type {\n",
       "        vertical-align: middle;\n",
       "    }\n",
       "\n",
       "    .dataframe tbody tr th {\n",
       "        vertical-align: top;\n",
       "    }\n",
       "\n",
       "    .dataframe thead th {\n",
       "        text-align: right;\n",
       "    }\n",
       "</style>\n",
       "<table border=\"1\" class=\"dataframe\">\n",
       "  <thead>\n",
       "    <tr style=\"text-align: right;\">\n",
       "      <th></th>\n",
       "      <th>ID</th>\n",
       "      <th>Source</th>\n",
       "      <th>Start_Time</th>\n",
       "      <th>End_Time</th>\n",
       "      <th>Start_Lat</th>\n",
       "      <th>Start_Lng</th>\n",
       "      <th>End_Lat</th>\n",
       "      <th>End_Lng</th>\n",
       "      <th>Distance(mi)</th>\n",
       "      <th>Description</th>\n",
       "      <th>...</th>\n",
       "      <th>Station</th>\n",
       "      <th>Stop</th>\n",
       "      <th>Traffic_Calming</th>\n",
       "      <th>Traffic_Signal</th>\n",
       "      <th>Turning_Loop</th>\n",
       "      <th>Sunrise_Sunset</th>\n",
       "      <th>Civil_Twilight</th>\n",
       "      <th>Nautical_Twilight</th>\n",
       "      <th>Astronomical_Twilight</th>\n",
       "      <th>Severity</th>\n",
       "    </tr>\n",
       "  </thead>\n",
       "  <tbody>\n",
       "    <tr>\n",
       "      <th>0</th>\n",
       "      <td>A-572015</td>\n",
       "      <td>Source2</td>\n",
       "      <td>2022-07-08 08:30:26</td>\n",
       "      <td>2022-07-08 09:00:05</td>\n",
       "      <td>39.223404</td>\n",
       "      <td>-76.805908</td>\n",
       "      <td>NaN</td>\n",
       "      <td>NaN</td>\n",
       "      <td>0.000</td>\n",
       "      <td>Crash on MD-100 Eastbound at Exit 2 MD-108.</td>\n",
       "      <td>...</td>\n",
       "      <td>False</td>\n",
       "      <td>False</td>\n",
       "      <td>False</td>\n",
       "      <td>False</td>\n",
       "      <td>False</td>\n",
       "      <td>Day</td>\n",
       "      <td>Day</td>\n",
       "      <td>Day</td>\n",
       "      <td>Day</td>\n",
       "      <td>0</td>\n",
       "    </tr>\n",
       "    <tr>\n",
       "      <th>1</th>\n",
       "      <td>A-4521402</td>\n",
       "      <td>Source1</td>\n",
       "      <td>2023-01-19 14:09:43.000000000</td>\n",
       "      <td>2023-01-19 15:24:43.000000000</td>\n",
       "      <td>38.672599</td>\n",
       "      <td>-76.876190</td>\n",
       "      <td>38.671519</td>\n",
       "      <td>-76.876250</td>\n",
       "      <td>0.075</td>\n",
       "      <td>Incident on CRAIN HWY near CRAIN HWY Drive wit...</td>\n",
       "      <td>...</td>\n",
       "      <td>False</td>\n",
       "      <td>False</td>\n",
       "      <td>False</td>\n",
       "      <td>False</td>\n",
       "      <td>False</td>\n",
       "      <td>Day</td>\n",
       "      <td>Day</td>\n",
       "      <td>Day</td>\n",
       "      <td>Day</td>\n",
       "      <td>0</td>\n",
       "    </tr>\n",
       "    <tr>\n",
       "      <th>2</th>\n",
       "      <td>A-5988633</td>\n",
       "      <td>Source1</td>\n",
       "      <td>2021-06-30 16:25:51</td>\n",
       "      <td>2021-06-30 18:06:33</td>\n",
       "      <td>39.345120</td>\n",
       "      <td>-76.509486</td>\n",
       "      <td>39.322850</td>\n",
       "      <td>-76.530146</td>\n",
       "      <td>1.894</td>\n",
       "      <td>I-95 SOUTH PRIOR TO EXIT 62 I 895 HARBOR TUNNE...</td>\n",
       "      <td>...</td>\n",
       "      <td>False</td>\n",
       "      <td>False</td>\n",
       "      <td>False</td>\n",
       "      <td>False</td>\n",
       "      <td>False</td>\n",
       "      <td>Day</td>\n",
       "      <td>Day</td>\n",
       "      <td>Day</td>\n",
       "      <td>Day</td>\n",
       "      <td>0</td>\n",
       "    </tr>\n",
       "    <tr>\n",
       "      <th>3</th>\n",
       "      <td>A-7576332</td>\n",
       "      <td>Source1</td>\n",
       "      <td>2018-06-28 09:32:30</td>\n",
       "      <td>2018-06-28 15:32:30</td>\n",
       "      <td>39.353038</td>\n",
       "      <td>-77.015670</td>\n",
       "      <td>39.336680</td>\n",
       "      <td>-77.013648</td>\n",
       "      <td>1.135</td>\n",
       "      <td>Closed at Mt Airy - Road closed due to accident.</td>\n",
       "      <td>...</td>\n",
       "      <td>False</td>\n",
       "      <td>True</td>\n",
       "      <td>False</td>\n",
       "      <td>False</td>\n",
       "      <td>False</td>\n",
       "      <td>Day</td>\n",
       "      <td>Day</td>\n",
       "      <td>Day</td>\n",
       "      <td>Day</td>\n",
       "      <td>1</td>\n",
       "    </tr>\n",
       "    <tr>\n",
       "      <th>4</th>\n",
       "      <td>A-3054320</td>\n",
       "      <td>Source2</td>\n",
       "      <td>2018-01-09 19:04:26</td>\n",
       "      <td>2018-01-09 19:33:45</td>\n",
       "      <td>39.110779</td>\n",
       "      <td>-77.187241</td>\n",
       "      <td>NaN</td>\n",
       "      <td>NaN</td>\n",
       "      <td>0.000</td>\n",
       "      <td>Lane blocked and right hand shoulder blocked d...</td>\n",
       "      <td>...</td>\n",
       "      <td>False</td>\n",
       "      <td>False</td>\n",
       "      <td>False</td>\n",
       "      <td>False</td>\n",
       "      <td>False</td>\n",
       "      <td>Night</td>\n",
       "      <td>Night</td>\n",
       "      <td>Night</td>\n",
       "      <td>Night</td>\n",
       "      <td>1</td>\n",
       "    </tr>\n",
       "  </tbody>\n",
       "</table>\n",
       "<p>5 rows × 46 columns</p>\n",
       "</div>"
      ],
      "text/plain": [
       "          ID   Source                     Start_Time  \\\n",
       "0   A-572015  Source2            2022-07-08 08:30:26   \n",
       "1  A-4521402  Source1  2023-01-19 14:09:43.000000000   \n",
       "2  A-5988633  Source1            2021-06-30 16:25:51   \n",
       "3  A-7576332  Source1            2018-06-28 09:32:30   \n",
       "4  A-3054320  Source2            2018-01-09 19:04:26   \n",
       "\n",
       "                        End_Time  Start_Lat  Start_Lng    End_Lat    End_Lng  \\\n",
       "0            2022-07-08 09:00:05  39.223404 -76.805908        NaN        NaN   \n",
       "1  2023-01-19 15:24:43.000000000  38.672599 -76.876190  38.671519 -76.876250   \n",
       "2            2021-06-30 18:06:33  39.345120 -76.509486  39.322850 -76.530146   \n",
       "3            2018-06-28 15:32:30  39.353038 -77.015670  39.336680 -77.013648   \n",
       "4            2018-01-09 19:33:45  39.110779 -77.187241        NaN        NaN   \n",
       "\n",
       "   Distance(mi)                                        Description  ...  \\\n",
       "0         0.000        Crash on MD-100 Eastbound at Exit 2 MD-108.  ...   \n",
       "1         0.075  Incident on CRAIN HWY near CRAIN HWY Drive wit...  ...   \n",
       "2         1.894  I-95 SOUTH PRIOR TO EXIT 62 I 895 HARBOR TUNNE...  ...   \n",
       "3         1.135   Closed at Mt Airy - Road closed due to accident.  ...   \n",
       "4         0.000  Lane blocked and right hand shoulder blocked d...  ...   \n",
       "\n",
       "  Station   Stop Traffic_Calming Traffic_Signal Turning_Loop Sunrise_Sunset  \\\n",
       "0   False  False           False          False        False            Day   \n",
       "1   False  False           False          False        False            Day   \n",
       "2   False  False           False          False        False            Day   \n",
       "3   False   True           False          False        False            Day   \n",
       "4   False  False           False          False        False          Night   \n",
       "\n",
       "  Civil_Twilight Nautical_Twilight Astronomical_Twilight  Severity  \n",
       "0            Day               Day                   Day         0  \n",
       "1            Day               Day                   Day         0  \n",
       "2            Day               Day                   Day         0  \n",
       "3            Day               Day                   Day         1  \n",
       "4          Night             Night                 Night         1  \n",
       "\n",
       "[5 rows x 46 columns]"
      ]
     },
     "execution_count": 3,
     "metadata": {},
     "output_type": "execute_result"
    }
   ],
   "source": [
    "# TEST SET INPUT\n",
    "df = data_input(\"Data_Raw\", \"train_data\", \"X_train_2c_downsamp\", \"y_train_2c_downsamp\")\n",
    "df.head()"
   ]
  },
  {
   "cell_type": "code",
   "execution_count": 4,
   "id": "a977570e",
   "metadata": {},
   "outputs": [],
   "source": [
    "# TRAIN SET INPUT\n",
    "#df = data_input(\"Data_Raw\", \"train_data\", \"X_train_2c_downsamp\", \"y_train_2c_downsamp\")\n",
    "#df.head()"
   ]
  },
  {
   "cell_type": "markdown",
   "id": "477f312b-4a81-4b30-a4ca-d5d077249036",
   "metadata": {},
   "source": [
    "## Drop columns unlikely to be useful\n",
    "\n",
    "Too focused on timing or too fine grained or unique"
   ]
  },
  {
   "cell_type": "code",
   "execution_count": 5,
   "id": "f66cbf70-dd6d-40a0-ac9b-6cae069ac21f",
   "metadata": {},
   "outputs": [
    {
     "data": {
      "text/plain": [
       "Index(['ID', 'Source', 'Start_Time', 'End_Time', 'Start_Lat', 'Start_Lng',\n",
       "       'End_Lat', 'End_Lng', 'Distance(mi)', 'Description', 'Street', 'City',\n",
       "       'County', 'State', 'Zipcode', 'Country', 'Timezone', 'Airport_Code',\n",
       "       'Weather_Timestamp', 'Temperature(F)', 'Wind_Chill(F)', 'Humidity(%)',\n",
       "       'Pressure(in)', 'Visibility(mi)', 'Wind_Direction', 'Wind_Speed(mph)',\n",
       "       'Precipitation(in)', 'Weather_Condition', 'Amenity', 'Bump', 'Crossing',\n",
       "       'Give_Way', 'Junction', 'No_Exit', 'Railway', 'Roundabout', 'Station',\n",
       "       'Stop', 'Traffic_Calming', 'Traffic_Signal', 'Turning_Loop',\n",
       "       'Sunrise_Sunset', 'Civil_Twilight', 'Nautical_Twilight',\n",
       "       'Astronomical_Twilight', 'Severity'],\n",
       "      dtype='object')"
      ]
     },
     "execution_count": 5,
     "metadata": {},
     "output_type": "execute_result"
    }
   ],
   "source": [
    "df.columns"
   ]
  },
  {
   "cell_type": "code",
   "execution_count": 6,
   "id": "a263d575-ba6d-4062-a883-77e2f1351f7f",
   "metadata": {},
   "outputs": [],
   "source": [
    "df.drop([\"ID\",\"Source\",\"Country\"],axis=1,inplace=True) # drop clearly unneeded columns"
   ]
  },
  {
   "cell_type": "code",
   "execution_count": 7,
   "id": "253123f7-3f79-4f37-8dbc-c68ac5a6cc4a",
   "metadata": {},
   "outputs": [],
   "source": [
    "df[\"Zipcode\"] = df.Zipcode.apply(lambda x: str(x).split(\"-\")[0]) # fix zipcodes so that they are all 5 digit"
   ]
  },
  {
   "cell_type": "code",
   "execution_count": 8,
   "id": "5676dde1-0dd8-42c7-ae2d-bba739b5261d",
   "metadata": {},
   "outputs": [],
   "source": [
    "df.drop([\"End_Time\",\"End_Lat\",\"End_Lng\"],axis=1,inplace=True) #can't know these things before it happens"
   ]
  },
  {
   "cell_type": "code",
   "execution_count": 9,
   "id": "f8490d26-3d72-4b4c-b7ec-f2241d14a849",
   "metadata": {},
   "outputs": [],
   "source": [
    "df.drop([\"Start_Lat\",\"Start_Lng\",\"State\",\"City\"],axis=1,inplace=True)# so much of location data is redundant and correlated"
   ]
  },
  {
   "cell_type": "code",
   "execution_count": 10,
   "id": "3997a3e0-f97e-48ae-b765-665dbeaabdcc",
   "metadata": {},
   "outputs": [],
   "source": [
    "df.drop([\"Timezone\",\"Weather_Timestamp\",\"Airport_Code\",\"Description\"],axis=1,inplace=True)"
   ]
  },
  {
   "cell_type": "code",
   "execution_count": 11,
   "id": "c1a48f8c-760e-42c7-a4e2-e2e27b3c1bed",
   "metadata": {},
   "outputs": [],
   "source": [
    "df.drop([\"Start_Time\",\"Zipcode\",\"County\"],axis=1,inplace=True)"
   ]
  },
  {
   "cell_type": "markdown",
   "id": "8834d156-764b-4af3-ad63-9f5640f80bdf",
   "metadata": {},
   "source": [
    "## Street Type"
   ]
  },
  {
   "cell_type": "code",
   "execution_count": 12,
   "id": "c9f523ac-61ee-4b5e-9601-51f58ec11f75",
   "metadata": {},
   "outputs": [],
   "source": [
    "df = df[~df.Street.str.contains(\"Francis Scott Key Bridge\",na=False)|~df.Street.str.contains(\"Alexandria - Gaylord\",na=False)]"
   ]
  },
  {
   "cell_type": "code",
   "execution_count": 13,
   "id": "ff3fe748-a1d9-4fd2-9bc1-308cd3cd550e",
   "metadata": {},
   "outputs": [
    {
     "name": "stdout",
     "output_type": "stream",
     "text": [
      "(4449,)\n"
     ]
    },
    {
     "data": {
      "application/vnd.microsoft.datawrangler.viewer.v0+json": {
       "columns": [
        {
         "name": "Street",
         "rawType": "object",
         "type": "string"
        },
        {
         "name": "count",
         "rawType": "int64",
         "type": "integer"
        }
       ],
       "ref": "1f6e7b98-4c47-463d-a205-117a5732f780",
       "rows": [
        [
         "I-95 S",
         "2661"
        ],
        [
         "I-95 N",
         "2659"
        ],
        [
         "Capital Beltway S",
         "1798"
        ],
        [
         "Capital Beltway N",
         "1356"
        ],
        [
         "I-695 E",
         "1332"
        ],
        [
         "Capital Beltway W",
         "1303"
        ],
        [
         "I-70 E",
         "1261"
        ],
        [
         "I-695 W",
         "1201"
        ],
        [
         "Capital Beltway E",
         "1039"
        ],
        [
         "Baltimore Washington Pkwy N",
         "914"
        ],
        [
         "I-695 S",
         "884"
        ],
        [
         "I-70 W",
         "854"
        ],
        [
         "I-695 N",
         "828"
        ],
        [
         "Dwight D Eisenhower Hwy S",
         "769"
        ],
        [
         "Dwight D Eisenhower Hwy N",
         "766"
        ],
        [
         "I-95",
         "743"
        ],
        [
         "Baltimore Washington Pkwy S",
         "710"
        ],
        [
         "I-83 N",
         "660"
        ],
        [
         "I-270 N",
         "598"
        ],
        [
         "I-695",
         "585"
        ],
        [
         "Capital Beltway",
         "462"
        ],
        [
         "Harbor Tunnel Trwy E",
         "394"
        ],
        [
         "John F Kennedy Memorial Hwy S",
         "380"
        ],
        [
         " Crain Hwy",
         "366"
        ],
        [
         "I-70",
         "341"
        ],
        [
         "I-83 S",
         "321"
        ],
        [
         " Ocean Gtwy",
         "306"
        ],
        [
         "John Hanson Hwy E",
         "304"
        ],
        [
         "Washington National Pike S",
         "304"
        ],
        [
         "Baltimore National Pike E",
         "297"
        ],
        [
         "John Hanson Hwy W",
         "270"
        ],
        [
         "Crain Hwy",
         "260"
        ],
        [
         "I-97 S",
         "244"
        ],
        [
         "Glen Burnie Byp N",
         "238"
        ],
        [
         "Georgia Ave",
         "221"
        ],
        [
         "I-97 N",
         "220"
        ],
        [
         " Indian Head Hwy",
         "210"
        ],
        [
         "MD-100 E",
         "210"
        ],
        [
         "New Hampshire Ave",
         "204"
        ],
        [
         "Harbor Tunnel Trwy W",
         "197"
        ],
        [
         " New Hampshire Ave",
         "189"
        ],
        [
         "I-270",
         "187"
        ],
        [
         "Baltimore Washington Pkwy",
         "183"
        ],
        [
         "Ocean Gtwy",
         "183"
        ],
        [
         "US-40 W",
         "182"
        ],
        [
         "White Marsh Blvd",
         "182"
        ],
        [
         "Baltimore National Pike",
         "180"
        ],
        [
         "I-795 N",
         "178"
        ],
        [
         "Buckeystown Pike",
         "177"
        ],
        [
         "US-50",
         "171"
        ]
       ],
       "shape": {
        "columns": 1,
        "rows": 4449
       }
      },
      "text/plain": [
       "Street\n",
       "I-95 S               2661\n",
       "I-95 N               2659\n",
       "Capital Beltway S    1798\n",
       "Capital Beltway N    1356\n",
       "I-695 E              1332\n",
       "                     ... \n",
       " Bay Dale Dr            1\n",
       "Mason Springs Rd        1\n",
       " Potee St               1\n",
       "S Waterford Rd          1\n",
       " Henderson Ave          1\n",
       "Name: count, Length: 4449, dtype: int64"
      ]
     },
     "execution_count": 13,
     "metadata": {},
     "output_type": "execute_result"
    }
   ],
   "source": [
    "print(df.Street.value_counts().shape)\n",
    "df.Street.value_counts()"
   ]
  },
  {
   "cell_type": "code",
   "execution_count": 14,
   "id": "83ffea59-2519-4549-bd58-6076a30b7ed9",
   "metadata": {},
   "outputs": [],
   "source": [
    "def nsew(x,r):\n",
    "    if x[-1] in [\"N\",\"S\",\"E\",\"W\"]:\n",
    "        r= r+x[-1]\n",
    "    return r"
   ]
  },
  {
   "cell_type": "code",
   "execution_count": 15,
   "id": "1ac7e240-c085-45f8-a3f7-d78193f00e38",
   "metadata": {},
   "outputs": [],
   "source": [
    "def street_type(x):\n",
    "    if \"Tunl\" in x or \"Tunnel\" in x:\n",
    "        return \"Tunnel\"#nsew(x,\"Tunnel\")\n",
    "    if \"I-\" in x or \"I \" in x:\n",
    "        return \"Interstate\"\n",
    "    if \" Dr \" in x or \" Ave \" in x or \" Rd \" in x or \" Xing\" in x or \" Way \" in x:\n",
    "        return \"local\"\n",
    "    if \"Beltway\" in x:\n",
    "        return \"Beltway\"\n",
    "    if \"US-\" in x[:4] or \"US \" in x or \"MD-\" in x[:4] or \"Expy\" in x:\n",
    "        return \"Highway\"\n",
    "    if \"Hwy\" in x or \"Fwy\" in x or \"Highway\" in x or \"Route\" in x or \"Connector\" in x or \"Byp\" in x \\\n",
    "        or \"Bypass\" in x or \"Gtwy\" in x or \"Brg\" in x or \"Trwy\" in x or \"Rt\" in x or \"Conn\" in x or \"Exp\" in x \\\n",
    "        or \"Thwy\" in x:\n",
    "        return \"Highway\"\n",
    "    if x[-2:] in [\"St\",\"Pl\",\"Dr\",\"Sq\"]:\n",
    "        return \"local\"\n",
    "    if \"Ln\" in x or \"Rd\" in x or \"Ct\" in x:\n",
    "        return \"local\"\n",
    "    if x[-3:] in [\"Way\",\"Cir\",\"Ter\",\"Trl\",\"Plz\",\"Aly\",\"Grn\",\"way\",\"Ext\"]:\n",
    "        return \"local\"\n",
    "    if x[-3:] in [\"-A\", \"-B\", \"-11\", \"-33\"]:\n",
    "        return \"on_off_ramp\"\n",
    "    if x[-1] in [\"A\", \"B\", \"C\"]:\n",
    "        return \"on_off_ramp\"\n",
    "    if \"Ave\" in x[-5:] or \" Blvd\" in x or \" Pike\" in x or \"Pkwy\" in x or \"Crse\" in x or \"Alameda\" in x:\n",
    "        return \"large_local\"\n",
    "    if \"Garth\" in x or \"Spell\" in x or \"Psge\" in x or \"Chase\" in x or \"Cutoff\" in x or \"Spire\" in x:\n",
    "        return \"local\"\n",
    "    if \"Overlook\" in x or \"Battlefield\" in x or \"Cemetery\" in x or \"Park\" in x or \"Base\" in x or \"Concourse\" in x \\\n",
    "        or \"Memorial\" in x or \"Booth's\" in x or \"Bywy\" in x or \"Underground\" in x:\n",
    "        return \"special\"\n",
    "    if \"Loop\" in x or \"Greenway\" in x or \"West\" in x or \"ville\" in x or \"wood\" in x:\n",
    "        return \"local\"\n",
    "    if \"St\" in x or \"Mnr\" in x or \"Pass\" in x or \"Run\" in x or \"Mall\" in x or \"Row\" in x or \"Grv\":\n",
    "        return \"local\"\n",
    "    return x"
   ]
  },
  {
   "cell_type": "code",
   "execution_count": 16,
   "id": "0d3ebea3",
   "metadata": {},
   "outputs": [],
   "source": [
    "df[\"Street\"] = df[\"Street\"].astype(str)\n",
    "df[\"Street\"] = df.Street.apply(street_type)"
   ]
  },
  {
   "cell_type": "code",
   "execution_count": 17,
   "id": "b3258126-dde4-4315-9823-0529d3f907ff",
   "metadata": {},
   "outputs": [],
   "source": [
    "df=df.loc[~df.Street.str.contains(\"special\")]\n"
   ]
  },
  {
   "cell_type": "code",
   "execution_count": 18,
   "id": "c6a52b5f-8f2c-4121-87b0-72c10b097833",
   "metadata": {},
   "outputs": [
    {
     "data": {
      "application/vnd.microsoft.datawrangler.viewer.v0+json": {
       "columns": [
        {
         "name": "Street",
         "rawType": "object",
         "type": "string"
        },
        {
         "name": "count",
         "rawType": "int64",
         "type": "integer"
        }
       ],
       "ref": "73424bff-86b6-4994-897e-e4a591531d66",
       "rows": [
        [
         "Interstate",
         "17541"
        ],
        [
         "local",
         "13833"
        ],
        [
         "Highway",
         "9929"
        ],
        [
         "large_local",
         "9778"
        ],
        [
         "Beltway",
         "5970"
        ],
        [
         "Tunnel",
         "920"
        ],
        [
         "on_off_ramp",
         "144"
        ]
       ],
       "shape": {
        "columns": 1,
        "rows": 7
       }
      },
      "text/plain": [
       "Street\n",
       "Interstate     17541\n",
       "local          13833\n",
       "Highway         9929\n",
       "large_local     9778\n",
       "Beltway         5970\n",
       "Tunnel           920\n",
       "on_off_ramp      144\n",
       "Name: count, dtype: int64"
      ]
     },
     "execution_count": 18,
     "metadata": {},
     "output_type": "execute_result"
    }
   ],
   "source": [
    "df.Street.value_counts()\n",
    "# added Intercounty conn as highway\n",
    "# added rt 100 as highway\n",
    "# added ocean city exp as highway\n",
    "# byway as special\n",
    "# added on_off_ramp\n",
    "# aberdeen thwy as highway\n",
    "# east c st 2 as local\n",
    "# prettyman manor is trailer park, made local\n",
    "# alexandria-gaylord is bridge, remove\n",
    "# Urbana Church Pass is local\n",
    "# olde mill run as local\n",
    "# harriet tubman byway as special\n",
    "# poncabird pass as local\n",
    "# Thompson creek mall as local"
   ]
  },
  {
   "cell_type": "markdown",
   "id": "31fc26bf-c479-4dba-a358-d67540cca1ce",
   "metadata": {},
   "source": [
    "## Weather Condition"
   ]
  },
  {
   "cell_type": "code",
   "execution_count": 19,
   "id": "9012d61c-12f5-4ba6-8a31-acc907447bf8",
   "metadata": {},
   "outputs": [
    {
     "data": {
      "application/vnd.microsoft.datawrangler.viewer.v0+json": {
       "columns": [
        {
         "name": "Weather_Condition",
         "rawType": "object",
         "type": "string"
        },
        {
         "name": "count",
         "rawType": "int64",
         "type": "integer"
        }
       ],
       "ref": "f4adfab2-58de-48b1-b0fe-b0a6a9b2dbfd",
       "rows": [
        [
         "Fair",
         "13869"
        ],
        [
         "Cloudy",
         "6523"
        ],
        [
         "Mostly Cloudy",
         "6257"
        ],
        [
         "Clear",
         "5046"
        ],
        [
         "Partly Cloudy",
         "4010"
        ],
        [
         "Overcast",
         "3291"
        ],
        [
         "Light Rain",
         "1943"
        ],
        [
         "Scattered Clouds",
         "1776"
        ],
        [
         "Light Snow",
         "574"
        ],
        [
         "Fog",
         "559"
        ],
        [
         "Rain",
         "528"
        ],
        [
         "Light Drizzle",
         "272"
        ],
        [
         "Haze",
         "159"
        ],
        [
         "Heavy Rain",
         "149"
        ],
        [
         "Wintry Mix",
         "146"
        ],
        [
         "Fair / Windy",
         "124"
        ],
        [
         "Snow",
         "119"
        ],
        [
         "Partly Cloudy / Windy",
         "73"
        ],
        [
         "Mostly Cloudy / Windy",
         "69"
        ],
        [
         "T-Storm",
         "63"
        ],
        [
         "Light Freezing Rain",
         "52"
        ],
        [
         "Cloudy / Windy",
         "51"
        ],
        [
         "Drizzle",
         "48"
        ],
        [
         "Thunder",
         "33"
        ],
        [
         "Thunder in the Vicinity",
         "33"
        ],
        [
         "Shallow Fog",
         "33"
        ],
        [
         "Light Rain with Thunder",
         "30"
        ],
        [
         "Heavy Snow",
         "27"
        ],
        [
         "Snow and Sleet",
         "22"
        ],
        [
         "Light Rain / Windy",
         "20"
        ],
        [
         "Light Ice Pellets",
         "20"
        ],
        [
         "Thunderstorm",
         "17"
        ],
        [
         "Heavy T-Storm",
         "16"
        ],
        [
         "Light Rain Shower",
         "16"
        ],
        [
         "Rain / Windy",
         "14"
        ],
        [
         "Heavy Thunderstorms and Rain",
         "14"
        ],
        [
         "Light Thunderstorms and Rain",
         "12"
        ],
        [
         "Mist",
         "12"
        ],
        [
         "Patches of Fog",
         "11"
        ],
        [
         "Heavy Snow / Windy",
         "11"
        ],
        [
         "Light Rain Showers",
         "10"
        ],
        [
         "Small Hail",
         "10"
        ],
        [
         "Light Sleet",
         "8"
        ],
        [
         "Light Snow / Windy",
         "8"
        ],
        [
         "Thunderstorms and Rain",
         "7"
        ],
        [
         "N/A Precipitation",
         "7"
        ],
        [
         "Light Freezing Drizzle",
         "6"
        ],
        [
         "Hail",
         "5"
        ],
        [
         "Light Snow and Sleet",
         "5"
        ],
        [
         "Light Freezing Fog",
         "4"
        ]
       ],
       "shape": {
        "columns": 1,
        "rows": 66
       }
      },
      "text/plain": [
       "Weather_Condition\n",
       "Fair                    13869\n",
       "Cloudy                   6523\n",
       "Mostly Cloudy            6257\n",
       "Clear                    5046\n",
       "Partly Cloudy            4010\n",
       "                        ...  \n",
       "T-Storm / Windy             1\n",
       "Thunder / Windy             1\n",
       "Heavy Drizzle               1\n",
       "Blowing Snow / Windy        1\n",
       "Heavy Ice Pellets           1\n",
       "Name: count, Length: 66, dtype: int64"
      ]
     },
     "execution_count": 19,
     "metadata": {},
     "output_type": "execute_result"
    }
   ],
   "source": [
    "df[\"Weather_Condition\"].value_counts()"
   ]
  },
  {
   "cell_type": "code",
   "execution_count": 20,
   "id": "28a20b2d-f507-4290-a1dc-6a28e82c29d8",
   "metadata": {},
   "outputs": [],
   "source": [
    "df = df.loc[(df.Weather_Condition != \"Sand\")] # too few values"
   ]
  },
  {
   "cell_type": "code",
   "execution_count": 21,
   "id": "1170e7a9-e558-4c33-881c-af8bdeb06ea8",
   "metadata": {},
   "outputs": [],
   "source": [
    "# missing values count as a float\n",
    "# change to \"unknown\" instead. Later we can decide if we want to keep\n",
    "df[\"Weather_Condition\"] = df[\"Weather_Condition\"].fillna(\"unknown\")"
   ]
  },
  {
   "cell_type": "code",
   "execution_count": 22,
   "id": "e7f348e8-5930-4444-8069-7f7b046b6de6",
   "metadata": {},
   "outputs": [],
   "source": [
    "df[\"Weather_Condition\"] = df[\"Weather_Condition\"].apply(lambda x: \"None\" if \"N/A\" in x else x)"
   ]
  },
  {
   "cell_type": "code",
   "execution_count": 23,
   "id": "a3742bfd-971d-4716-bfce-b29019d27290",
   "metadata": {},
   "outputs": [],
   "source": [
    "df[\"Weather_Condition\"]=df[\"Weather_Condition\"].apply(lambda x: \"Windy\" if \"Windy\" in x else x)"
   ]
  },
  {
   "cell_type": "code",
   "execution_count": 24,
   "id": "ff510354-b176-4f22-af77-2f87ffbf8d3a",
   "metadata": {},
   "outputs": [],
   "source": [
    "def mapping_1(x):\n",
    "    tomap = {\"Light Drizzle\":\"Drizzle\",\n",
    "            \"Light Rain with Thunder\":\"Light Thunderstorms and Rain\",\n",
    "            \"Thunder in the Vicinity\":\"Thunder\",\n",
    "            \"Heavy Drizzle\":\"Rain\",\n",
    "            \"Mist\":\"Fog\",\n",
    "            \"Light Freezing Drizzle\":\"Light Freezing Rain\"}\n",
    "    if x in tomap:\n",
    "        return tomap[x]\n",
    "    return x"
   ]
  },
  {
   "cell_type": "code",
   "execution_count": 25,
   "id": "32284e8f-d495-40f0-8689-0743084121b6",
   "metadata": {},
   "outputs": [],
   "source": [
    "def mapping_2(x):\n",
    "    tomap = {\"Light Rain Shower\":\"Drizzle\",\n",
    "             \"Light Rain\":\"Drizzle\",\n",
    "            \"Light Ice Pellets\":\"Ice Pellets\",\n",
    "            \"Shallow Fog\":\"Fog\"}\n",
    "    if x in tomap:\n",
    "        return tomap[x]\n",
    "    return x"
   ]
  },
  {
   "cell_type": "code",
   "execution_count": 26,
   "id": "724633ef-a3b0-41a3-aab8-b1fbc65dc635",
   "metadata": {},
   "outputs": [],
   "source": [
    "def mapping_3(x):\n",
    "    tomap = {\"Heavy Ice Pellets\":\"Ice Pellets\",\n",
    "            \"Drizzle and Fog\":\"Fog\",\n",
    "            \"Patches of Fog\":\"Fog\",\n",
    "            \"Heavy Snow\":\"Snow\",\n",
    "            \"Heavy Thunderstorms and Rain\":\"Thunderstorms\",\n",
    "            \"T-Storm\":\"Thunderstorms\",\n",
    "            \"Heavy T-Storm\":\"Thunderstorms\",\n",
    "            \"Thunderstorms and Rain\":\"Thunderstorms\"}\n",
    "    if x in tomap:\n",
    "        return tomap[x]\n",
    "    return x"
   ]
  },
  {
   "cell_type": "code",
   "execution_count": 27,
   "id": "a5743b07-fb57-4deb-9669-795c49f28a7b",
   "metadata": {},
   "outputs": [],
   "source": [
    "def mapping_4(x):\n",
    "    tomap = {\"Light Snow Shower\":\"Snow\",\n",
    "            \"Light Snow\":\"Snow\",\n",
    "            \"Light Rain Showers\":\"Drizzle\",\n",
    "            \"Light Thunderstorms and Rain\":\"Thunderstorms\"}\n",
    "    if x in tomap:\n",
    "        return tomap[x]\n",
    "    return x"
   ]
  },
  {
   "cell_type": "code",
   "execution_count": 28,
   "id": "5a059f29-da8f-475c-aca4-c73da0ddaeb9",
   "metadata": {},
   "outputs": [],
   "source": [
    "df[\"Weather_Condition\"]=df[\"Weather_Condition\"].apply(mapping_1)                        "
   ]
  },
  {
   "cell_type": "code",
   "execution_count": 29,
   "id": "85bd3cf8-b404-46f8-8fbb-abf69763461e",
   "metadata": {},
   "outputs": [],
   "source": [
    "df[\"Weather_Condition\"]=df[\"Weather_Condition\"].apply(mapping_2)"
   ]
  },
  {
   "cell_type": "code",
   "execution_count": 30,
   "id": "dad0bcb1-a5d9-484a-b81e-e05adb9d130d",
   "metadata": {},
   "outputs": [],
   "source": [
    "df[\"Weather_Condition\"]=df[\"Weather_Condition\"].apply(mapping_3)"
   ]
  },
  {
   "cell_type": "code",
   "execution_count": 31,
   "id": "408da93d-cf4c-420c-a4ba-60dce1fe22b0",
   "metadata": {},
   "outputs": [],
   "source": [
    "df[\"Weather_Condition\"]=df[\"Weather_Condition\"].apply(mapping_4)"
   ]
  },
  {
   "cell_type": "code",
   "execution_count": 32,
   "id": "0efd2235-3d11-4863-9268-15f13984b53b",
   "metadata": {},
   "outputs": [
    {
     "data": {
      "application/vnd.microsoft.datawrangler.viewer.v0+json": {
       "columns": [
        {
         "name": "Weather_Condition",
         "rawType": "object",
         "type": "string"
        },
        {
         "name": "count",
         "rawType": "int64",
         "type": "integer"
        }
       ],
       "ref": "cbdce6be-1c9d-4d43-a98e-3965cc6bca1d",
       "rows": [
        [
         "Fair",
         "13869"
        ],
        [
         "unknown",
         "11976"
        ],
        [
         "Cloudy",
         "6523"
        ],
        [
         "Mostly Cloudy",
         "6257"
        ],
        [
         "Clear",
         "5046"
        ],
        [
         "Partly Cloudy",
         "4010"
        ],
        [
         "Overcast",
         "3291"
        ],
        [
         "Drizzle",
         "2289"
        ],
        [
         "Scattered Clouds",
         "1776"
        ],
        [
         "Snow",
         "721"
        ],
        [
         "Fog",
         "615"
        ],
        [
         "Rain",
         "529"
        ],
        [
         "Windy",
         "382"
        ],
        [
         "Haze",
         "159"
        ],
        [
         "Heavy Rain",
         "149"
        ],
        [
         "Wintry Mix",
         "146"
        ],
        [
         "Thunderstorms",
         "142"
        ],
        [
         "Thunder",
         "66"
        ],
        [
         "Light Freezing Rain",
         "58"
        ],
        [
         "Ice Pellets",
         "24"
        ],
        [
         "Snow and Sleet",
         "22"
        ],
        [
         "Thunderstorm",
         "17"
        ],
        [
         "Small Hail",
         "10"
        ],
        [
         "Light Sleet",
         "8"
        ],
        [
         "None",
         "7"
        ],
        [
         "Light Snow and Sleet",
         "5"
        ],
        [
         "Hail",
         "5"
        ],
        [
         "Light Freezing Fog",
         "4"
        ],
        [
         "Sleet",
         "3"
        ],
        [
         "Heavy Sleet",
         "2"
        ],
        [
         "Freezing Rain",
         "2"
        ]
       ],
       "shape": {
        "columns": 1,
        "rows": 31
       }
      },
      "text/plain": [
       "Weather_Condition\n",
       "Fair                    13869\n",
       "unknown                 11976\n",
       "Cloudy                   6523\n",
       "Mostly Cloudy            6257\n",
       "Clear                    5046\n",
       "Partly Cloudy            4010\n",
       "Overcast                 3291\n",
       "Drizzle                  2289\n",
       "Scattered Clouds         1776\n",
       "Snow                      721\n",
       "Fog                       615\n",
       "Rain                      529\n",
       "Windy                     382\n",
       "Haze                      159\n",
       "Heavy Rain                149\n",
       "Wintry Mix                146\n",
       "Thunderstorms             142\n",
       "Thunder                    66\n",
       "Light Freezing Rain        58\n",
       "Ice Pellets                24\n",
       "Snow and Sleet             22\n",
       "Thunderstorm               17\n",
       "Small Hail                 10\n",
       "Light Sleet                 8\n",
       "None                        7\n",
       "Light Snow and Sleet        5\n",
       "Hail                        5\n",
       "Light Freezing Fog          4\n",
       "Sleet                       3\n",
       "Heavy Sleet                 2\n",
       "Freezing Rain               2\n",
       "Name: count, dtype: int64"
      ]
     },
     "execution_count": 32,
     "metadata": {},
     "output_type": "execute_result"
    }
   ],
   "source": [
    "df.Weather_Condition.value_counts()"
   ]
  },
  {
   "cell_type": "markdown",
   "id": "aa8c051e-75ed-40c6-891e-ab82a6e76461",
   "metadata": {},
   "source": [
    "None and Light Sleet have almost no rows will values, drop them.\n",
    "Light Freezing Fog has 10 rows. Change to Fog.\n",
    "Leave others for now. Will need to decide if further combinations are necessary."
   ]
  },
  {
   "cell_type": "code",
   "execution_count": 33,
   "id": "0a94cf27-8b4f-4a1f-b8da-ae25f2fdbb12",
   "metadata": {},
   "outputs": [],
   "source": [
    "df = df.loc[(df.Weather_Condition != \"None\") & (df.Weather_Condition != \"Light Sleet\")]"
   ]
  },
  {
   "cell_type": "code",
   "execution_count": 34,
   "id": "13dd0f0f-0108-4471-8ad4-52158f2921fe",
   "metadata": {},
   "outputs": [],
   "source": [
    "df=df.reset_index(drop=True)"
   ]
  },
  {
   "cell_type": "code",
   "execution_count": 35,
   "id": "ca74de56-9432-4559-b5d1-b020a3e31d86",
   "metadata": {},
   "outputs": [
    {
     "data": {
      "text/plain": [
       "(58098, 29)"
      ]
     },
     "execution_count": 35,
     "metadata": {},
     "output_type": "execute_result"
    }
   ],
   "source": [
    "df.shape"
   ]
  },
  {
   "cell_type": "markdown",
   "id": "6f2cd5a8-84eb-4bcd-95a0-f0cc1fe27ffa",
   "metadata": {},
   "source": [
    "## Wind Direction"
   ]
  },
  {
   "cell_type": "code",
   "execution_count": 36,
   "id": "0f20db52-83a9-4a67-9964-2cf6b09b3156",
   "metadata": {},
   "outputs": [],
   "source": [
    "# Can decide later whether to keep or remove rows with unknown values\n",
    "df[\"Wind_Direction\"] = df.Wind_Direction.fillna(\"unknown\")"
   ]
  },
  {
   "cell_type": "code",
   "execution_count": 37,
   "id": "84715317-3782-4f7b-87f3-13aa14176b88",
   "metadata": {},
   "outputs": [
    {
     "data": {
      "application/vnd.microsoft.datawrangler.viewer.v0+json": {
       "columns": [
        {
         "name": "Wind_Direction",
         "rawType": "object",
         "type": "string"
        },
        {
         "name": "count",
         "rawType": "int64",
         "type": "integer"
        }
       ],
       "ref": "a3d76789-2786-4f58-ba4f-cf66275e341b",
       "rows": [
        [
         "CALM",
         "8111"
        ],
        [
         "unknown",
         "7909"
        ],
        [
         "North",
         "4669"
        ],
        [
         "Calm",
         "4175"
        ],
        [
         "WNW",
         "3406"
        ],
        [
         "NW",
         "3094"
        ],
        [
         "W",
         "2233"
        ],
        [
         "S",
         "2191"
        ],
        [
         "NNW",
         "2169"
        ],
        [
         "SSW",
         "2007"
        ],
        [
         "SW",
         "1796"
        ],
        [
         "SSE",
         "1687"
        ],
        [
         "N",
         "1630"
        ],
        [
         "SE",
         "1550"
        ],
        [
         "NNE",
         "1487"
        ],
        [
         "WSW",
         "1454"
        ],
        [
         "NE",
         "1283"
        ],
        [
         "ENE",
         "1222"
        ],
        [
         "West",
         "1160"
        ],
        [
         "ESE",
         "1067"
        ],
        [
         "E",
         "1057"
        ],
        [
         "South",
         "947"
        ],
        [
         "VAR",
         "824"
        ],
        [
         "East",
         "562"
        ],
        [
         "Variable",
         "408"
        ]
       ],
       "shape": {
        "columns": 1,
        "rows": 25
       }
      },
      "text/plain": [
       "Wind_Direction\n",
       "CALM        8111\n",
       "unknown     7909\n",
       "North       4669\n",
       "Calm        4175\n",
       "WNW         3406\n",
       "NW          3094\n",
       "W           2233\n",
       "S           2191\n",
       "NNW         2169\n",
       "SSW         2007\n",
       "SW          1796\n",
       "SSE         1687\n",
       "N           1630\n",
       "SE          1550\n",
       "NNE         1487\n",
       "WSW         1454\n",
       "NE          1283\n",
       "ENE         1222\n",
       "West        1160\n",
       "ESE         1067\n",
       "E           1057\n",
       "South        947\n",
       "VAR          824\n",
       "East         562\n",
       "Variable     408\n",
       "Name: count, dtype: int64"
      ]
     },
     "execution_count": 37,
     "metadata": {},
     "output_type": "execute_result"
    }
   ],
   "source": [
    "df.Wind_Direction.value_counts()"
   ]
  },
  {
   "cell_type": "code",
   "execution_count": 38,
   "id": "0f9c7e05-1f82-417c-b5db-7c0630886e50",
   "metadata": {},
   "outputs": [],
   "source": [
    "# Basic cleanup of alternative spellings\n",
    "def wind_map(x):\n",
    "    tomap = {\"CALM\":\"Calm\",\"South\":\"S\",\"West\":\"W\",\"North\":\"N\",\"East\":\"E\",\"VAR\":\"Variable\"}\n",
    "    if x in tomap:\n",
    "        return tomap[x]\n",
    "    return x"
   ]
  },
  {
   "cell_type": "code",
   "execution_count": 39,
   "id": "20439a21-5f52-4b84-a42b-f530a90e001e",
   "metadata": {},
   "outputs": [],
   "source": [
    "# Less fine grained values\n",
    "def wind_2(x):\n",
    "    tomap = {\"WNW\":\"NW\",\"NNW\":\"NW\",\"SSW\":\"SW\",\"SSE\":\"SE\",\"WSW\":\"SW\",\"NNE\":\"NE\",\"ENE\":\"NE\",\"ESE\":\"SE\"}\n",
    "    if x in tomap:\n",
    "        return tomap[x]\n",
    "    return x"
   ]
  },
  {
   "cell_type": "code",
   "execution_count": 40,
   "id": "c187d0a7-d878-431f-9255-ee634b35c9d5",
   "metadata": {},
   "outputs": [],
   "source": [
    "df[\"Wind_Direction\"] = df.Wind_Direction.apply(wind_map)"
   ]
  },
  {
   "cell_type": "code",
   "execution_count": 41,
   "id": "66522fcd-1da9-467e-bf96-a18a2ecd190d",
   "metadata": {},
   "outputs": [],
   "source": [
    "df[\"Wind_Direction\"] = df.Wind_Direction.apply(wind_2)"
   ]
  },
  {
   "cell_type": "code",
   "execution_count": 42,
   "id": "4205ec9a-82ce-4514-8fa7-d33303ff093e",
   "metadata": {},
   "outputs": [
    {
     "data": {
      "application/vnd.microsoft.datawrangler.viewer.v0+json": {
       "columns": [
        {
         "name": "Wind_Direction",
         "rawType": "object",
         "type": "string"
        },
        {
         "name": "count",
         "rawType": "int64",
         "type": "integer"
        }
       ],
       "ref": "509e7402-dff9-481d-b89c-f18bf29ce8cd",
       "rows": [
        [
         "Calm",
         "12286"
        ],
        [
         "NW",
         "8669"
        ],
        [
         "unknown",
         "7909"
        ],
        [
         "N",
         "6299"
        ],
        [
         "SW",
         "5257"
        ],
        [
         "SE",
         "4304"
        ],
        [
         "NE",
         "3992"
        ],
        [
         "W",
         "3393"
        ],
        [
         "S",
         "3138"
        ],
        [
         "E",
         "1619"
        ],
        [
         "Variable",
         "1232"
        ]
       ],
       "shape": {
        "columns": 1,
        "rows": 11
       }
      },
      "text/plain": [
       "Wind_Direction\n",
       "Calm        12286\n",
       "NW           8669\n",
       "unknown      7909\n",
       "N            6299\n",
       "SW           5257\n",
       "SE           4304\n",
       "NE           3992\n",
       "W            3393\n",
       "S            3138\n",
       "E            1619\n",
       "Variable     1232\n",
       "Name: count, dtype: int64"
      ]
     },
     "execution_count": 42,
     "metadata": {},
     "output_type": "execute_result"
    }
   ],
   "source": [
    "df.Wind_Direction.value_counts()"
   ]
  },
  {
   "cell_type": "markdown",
   "id": "3d9d0801-d6fe-4e2c-bead-981a89b654d7",
   "metadata": {},
   "source": [
    "## Missing Values: drop columns"
   ]
  },
  {
   "cell_type": "code",
   "execution_count": 43,
   "id": "a999d4bc-5e53-427a-84a7-d750377629d2",
   "metadata": {},
   "outputs": [
    {
     "data": {
      "text/plain": [
       "Index(['Distance(mi)', 'Street', 'Temperature(F)', 'Wind_Chill(F)',\n",
       "       'Humidity(%)', 'Pressure(in)', 'Visibility(mi)', 'Wind_Direction',\n",
       "       'Wind_Speed(mph)', 'Precipitation(in)', 'Weather_Condition', 'Amenity',\n",
       "       'Bump', 'Crossing', 'Give_Way', 'Junction', 'No_Exit', 'Railway',\n",
       "       'Roundabout', 'Station', 'Stop', 'Traffic_Calming', 'Traffic_Signal',\n",
       "       'Turning_Loop', 'Sunrise_Sunset', 'Civil_Twilight', 'Nautical_Twilight',\n",
       "       'Astronomical_Twilight', 'Severity'],\n",
       "      dtype='object')"
      ]
     },
     "execution_count": 43,
     "metadata": {},
     "output_type": "execute_result"
    }
   ],
   "source": [
    "df.columns"
   ]
  },
  {
   "cell_type": "code",
   "execution_count": 44,
   "id": "a2d9933c-c4b7-44db-9e5f-b934335270b9",
   "metadata": {},
   "outputs": [
    {
     "data": {
      "text/plain": [
       "(58098, 29)"
      ]
     },
     "execution_count": 44,
     "metadata": {},
     "output_type": "execute_result"
    }
   ],
   "source": [
    "df.shape"
   ]
  },
  {
   "cell_type": "code",
   "execution_count": 45,
   "id": "07a28390-71a4-465f-a8b9-f45c40400847",
   "metadata": {},
   "outputs": [
    {
     "data": {
      "application/vnd.microsoft.datawrangler.viewer.v0+json": {
       "columns": [
        {
         "name": "index",
         "rawType": "object",
         "type": "string"
        },
        {
         "name": "0",
         "rawType": "int64",
         "type": "integer"
        }
       ],
       "ref": "1277d4ad-b938-4406-bd24-55bf5675aae0",
       "rows": [
        [
         "Distance(mi)",
         "0"
        ],
        [
         "Street",
         "0"
        ],
        [
         "Temperature(F)",
         "6128"
        ],
        [
         "Wind_Chill(F)",
         "23368"
        ],
        [
         "Humidity(%)",
         "6173"
        ],
        [
         "Pressure(in)",
         "5649"
        ],
        [
         "Visibility(mi)",
         "12142"
        ],
        [
         "Wind_Direction",
         "0"
        ],
        [
         "Wind_Speed(mph)",
         "16115"
        ],
        [
         "Precipitation(in)",
         "24411"
        ],
        [
         "Weather_Condition",
         "0"
        ],
        [
         "Amenity",
         "0"
        ],
        [
         "Bump",
         "0"
        ],
        [
         "Crossing",
         "0"
        ],
        [
         "Give_Way",
         "0"
        ],
        [
         "Junction",
         "0"
        ],
        [
         "No_Exit",
         "0"
        ],
        [
         "Railway",
         "0"
        ],
        [
         "Roundabout",
         "0"
        ],
        [
         "Station",
         "0"
        ],
        [
         "Stop",
         "0"
        ],
        [
         "Traffic_Calming",
         "0"
        ],
        [
         "Traffic_Signal",
         "0"
        ],
        [
         "Turning_Loop",
         "0"
        ],
        [
         "Sunrise_Sunset",
         "110"
        ],
        [
         "Civil_Twilight",
         "110"
        ],
        [
         "Nautical_Twilight",
         "110"
        ],
        [
         "Astronomical_Twilight",
         "110"
        ],
        [
         "Severity",
         "0"
        ]
       ],
       "shape": {
        "columns": 1,
        "rows": 29
       }
      },
      "text/plain": [
       "Distance(mi)                 0\n",
       "Street                       0\n",
       "Temperature(F)            6128\n",
       "Wind_Chill(F)            23368\n",
       "Humidity(%)               6173\n",
       "Pressure(in)              5649\n",
       "Visibility(mi)           12142\n",
       "Wind_Direction               0\n",
       "Wind_Speed(mph)          16115\n",
       "Precipitation(in)        24411\n",
       "Weather_Condition            0\n",
       "Amenity                      0\n",
       "Bump                         0\n",
       "Crossing                     0\n",
       "Give_Way                     0\n",
       "Junction                     0\n",
       "No_Exit                      0\n",
       "Railway                      0\n",
       "Roundabout                   0\n",
       "Station                      0\n",
       "Stop                         0\n",
       "Traffic_Calming              0\n",
       "Traffic_Signal               0\n",
       "Turning_Loop                 0\n",
       "Sunrise_Sunset             110\n",
       "Civil_Twilight             110\n",
       "Nautical_Twilight          110\n",
       "Astronomical_Twilight      110\n",
       "Severity                     0\n",
       "dtype: int64"
      ]
     },
     "execution_count": 45,
     "metadata": {},
     "output_type": "execute_result"
    }
   ],
   "source": [
    "df.isna().sum()"
   ]
  },
  {
   "cell_type": "code",
   "execution_count": 46,
   "id": "088f87dc-684a-484d-ad58-b1c04b6b9da7",
   "metadata": {},
   "outputs": [],
   "source": [
    "# half of the rows are missing wind chill. Better to just drop the column\n",
    "df.drop([\"Wind_Chill(F)\"],axis=1,inplace=True)"
   ]
  },
  {
   "cell_type": "code",
   "execution_count": 47,
   "id": "92a78a94-a5d5-4566-aa30-ff734412f416",
   "metadata": {},
   "outputs": [],
   "source": [
    "# half of the rows are missing precipitation, and weather condition already\n",
    "# covers that situation more or less. So drop\n",
    "df.drop([\"Precipitation(in)\"],axis=1,inplace=True)"
   ]
  },
  {
   "cell_type": "code",
   "execution_count": 48,
   "id": "76c3262e-0843-4fdd-b6a3-deb91368fd40",
   "metadata": {},
   "outputs": [
    {
     "data": {
      "text/plain": [
       "<Axes: >"
      ]
     },
     "execution_count": 48,
     "metadata": {},
     "output_type": "execute_result"
    },
    {
     "data": {
      "image/png": "[encoded data removed]",
      "text/plain": [
       "<Figure size 640x480 with 1 Axes>"
      ]
     },
     "metadata": {},
     "output_type": "display_data"
    }
   ],
   "source": [
    "df[\"Wind_Speed(mph)\"].hist(bins=30)"
   ]
  },
  {
   "cell_type": "code",
   "execution_count": 49,
   "id": "7c7f056f-33f7-45a9-9808-5c93a5e5833a",
   "metadata": {},
   "outputs": [
    {
     "data": {
      "text/plain": [
       "4"
      ]
     },
     "execution_count": 49,
     "metadata": {},
     "output_type": "execute_result"
    }
   ],
   "source": [
    "df[df[\"Wind_Speed(mph)\"] > 40].shape[0]"
   ]
  },
  {
   "cell_type": "markdown",
   "id": "fd3f4c3f-4c9f-450a-bb4d-d8a6d871ee87",
   "metadata": {},
   "source": [
    "Wind speed has a significant number of missing values. It is also a fairly tight distribution other than 11 values that are larger. Although wind speed could be useful in predicting severity, it may not be worth keeping in this situation. I think we try without it first."
   ]
  },
  {
   "cell_type": "code",
   "execution_count": 50,
   "id": "9924ce03-3f75-4d11-832d-cc0cac99295f",
   "metadata": {},
   "outputs": [],
   "source": [
    "df.drop([\"Wind_Speed(mph)\"],inplace=True,axis=1)"
   ]
  },
  {
   "cell_type": "code",
   "execution_count": 51,
   "id": "f31c7493-043a-4c96-b6a6-b6e70187f83d",
   "metadata": {},
   "outputs": [
    {
     "data": {
      "application/vnd.microsoft.datawrangler.viewer.v0+json": {
       "columns": [
        {
         "name": "index",
         "rawType": "object",
         "type": "string"
        },
        {
         "name": "0",
         "rawType": "int64",
         "type": "integer"
        }
       ],
       "ref": "51e8791b-35c5-4ea3-bbba-5b610e1a4b11",
       "rows": [
        [
         "Distance(mi)",
         "0"
        ],
        [
         "Street",
         "0"
        ],
        [
         "Temperature(F)",
         "6128"
        ],
        [
         "Humidity(%)",
         "6173"
        ],
        [
         "Pressure(in)",
         "5649"
        ],
        [
         "Visibility(mi)",
         "12142"
        ],
        [
         "Wind_Direction",
         "0"
        ],
        [
         "Weather_Condition",
         "0"
        ],
        [
         "Amenity",
         "0"
        ],
        [
         "Bump",
         "0"
        ],
        [
         "Crossing",
         "0"
        ],
        [
         "Give_Way",
         "0"
        ],
        [
         "Junction",
         "0"
        ],
        [
         "No_Exit",
         "0"
        ],
        [
         "Railway",
         "0"
        ],
        [
         "Roundabout",
         "0"
        ],
        [
         "Station",
         "0"
        ],
        [
         "Stop",
         "0"
        ],
        [
         "Traffic_Calming",
         "0"
        ],
        [
         "Traffic_Signal",
         "0"
        ],
        [
         "Turning_Loop",
         "0"
        ],
        [
         "Sunrise_Sunset",
         "110"
        ],
        [
         "Civil_Twilight",
         "110"
        ],
        [
         "Nautical_Twilight",
         "110"
        ],
        [
         "Astronomical_Twilight",
         "110"
        ],
        [
         "Severity",
         "0"
        ]
       ],
       "shape": {
        "columns": 1,
        "rows": 26
       }
      },
      "text/plain": [
       "Distance(mi)                 0\n",
       "Street                       0\n",
       "Temperature(F)            6128\n",
       "Humidity(%)               6173\n",
       "Pressure(in)              5649\n",
       "Visibility(mi)           12142\n",
       "Wind_Direction               0\n",
       "Weather_Condition            0\n",
       "Amenity                      0\n",
       "Bump                         0\n",
       "Crossing                     0\n",
       "Give_Way                     0\n",
       "Junction                     0\n",
       "No_Exit                      0\n",
       "Railway                      0\n",
       "Roundabout                   0\n",
       "Station                      0\n",
       "Stop                         0\n",
       "Traffic_Calming              0\n",
       "Traffic_Signal               0\n",
       "Turning_Loop                 0\n",
       "Sunrise_Sunset             110\n",
       "Civil_Twilight             110\n",
       "Nautical_Twilight          110\n",
       "Astronomical_Twilight      110\n",
       "Severity                     0\n",
       "dtype: int64"
      ]
     },
     "execution_count": 51,
     "metadata": {},
     "output_type": "execute_result"
    }
   ],
   "source": [
    "df.isna().sum()"
   ]
  },
  {
   "cell_type": "code",
   "execution_count": 52,
   "id": "ce8dd527-25b4-4ef6-b79f-72de9da790eb",
   "metadata": {},
   "outputs": [
    {
     "data": {
      "text/plain": [
       "(45329, 26)"
      ]
     },
     "execution_count": 52,
     "metadata": {},
     "output_type": "execute_result"
    }
   ],
   "source": [
    "df.dropna().shape"
   ]
  },
  {
   "cell_type": "markdown",
   "id": "ecbbbdb4-c2b7-40d0-b0e1-c5f4f98471a3",
   "metadata": {},
   "source": [
    "It looks like dropping NA values doesn't remove too many rows, there must be rows with multiple NA values. So let's drop NA rows."
   ]
  },
  {
   "cell_type": "code",
   "execution_count": 53,
   "id": "6864932f-351e-400a-8413-77d7a328413e",
   "metadata": {},
   "outputs": [],
   "source": [
    "df.dropna(inplace=True)"
   ]
  },
  {
   "cell_type": "markdown",
   "id": "d482d59f-83cf-40cd-8668-341974756279",
   "metadata": {},
   "source": [
    "## Twilights\n",
    "\n",
    "We don't need four different twilights."
   ]
  },
  {
   "cell_type": "code",
   "execution_count": 54,
   "id": "68a2192d-d6d1-4441-9d92-2bf0863976c1",
   "metadata": {},
   "outputs": [
    {
     "data": {
      "text/plain": [
       "Index(['Distance(mi)', 'Street', 'Temperature(F)', 'Humidity(%)',\n",
       "       'Pressure(in)', 'Visibility(mi)', 'Wind_Direction', 'Weather_Condition',\n",
       "       'Amenity', 'Bump', 'Crossing', 'Give_Way', 'Junction', 'No_Exit',\n",
       "       'Railway', 'Roundabout', 'Station', 'Stop', 'Traffic_Calming',\n",
       "       'Traffic_Signal', 'Turning_Loop', 'Sunrise_Sunset', 'Civil_Twilight',\n",
       "       'Nautical_Twilight', 'Astronomical_Twilight', 'Severity'],\n",
       "      dtype='object')"
      ]
     },
     "execution_count": 54,
     "metadata": {},
     "output_type": "execute_result"
    }
   ],
   "source": [
    "df.columns"
   ]
  },
  {
   "cell_type": "code",
   "execution_count": 55,
   "id": "f17843bb-22a8-476e-bb99-d1b2653c9cdc",
   "metadata": {},
   "outputs": [],
   "source": [
    "df.drop(['Civil_Twilight','Nautical_Twilight', 'Astronomical_Twilight'],inplace=True,axis=1)"
   ]
  },
  {
   "cell_type": "markdown",
   "id": "6643f7c5-ca45-4bf3-9088-3b6cade45229",
   "metadata": {},
   "source": [
    "## Any columns have too little info?"
   ]
  },
  {
   "cell_type": "code",
   "execution_count": 56,
   "id": "1cd7b877-9200-4e00-80eb-e593096c0112",
   "metadata": {},
   "outputs": [
    {
     "name": "stdout",
     "output_type": "stream",
     "text": [
      "Amenity\n",
      "False    45113\n",
      "True       216\n",
      "Name: count, dtype: int64\n",
      "Bump\n",
      "False    45323\n",
      "True         6\n",
      "Name: count, dtype: int64\n",
      "Crossing\n",
      "False    43036\n",
      "True      2293\n",
      "Name: count, dtype: int64\n",
      "Give_Way\n",
      "False    45235\n",
      "True        94\n",
      "Name: count, dtype: int64\n",
      "Junction\n",
      "False    39282\n",
      "True      6047\n",
      "Name: count, dtype: int64\n",
      "No_Exit\n",
      "False    45274\n",
      "True        55\n",
      "Name: count, dtype: int64\n",
      "Railway\n",
      "False    45261\n",
      "True        68\n",
      "Name: count, dtype: int64\n",
      "Roundabout\n",
      "False    45327\n",
      "True         2\n",
      "Name: count, dtype: int64\n",
      "Station\n",
      "False    44937\n",
      "True       392\n",
      "Name: count, dtype: int64\n",
      "Stop\n",
      "False    44821\n",
      "True       508\n",
      "Name: count, dtype: int64\n",
      "Traffic_Calming\n",
      "False    45208\n",
      "True       121\n",
      "Name: count, dtype: int64\n",
      "Traffic_Signal\n",
      "False    40634\n",
      "True      4695\n",
      "Name: count, dtype: int64\n",
      "Turning_Loop\n",
      "False    45329\n",
      "Name: count, dtype: int64\n"
     ]
    }
   ],
   "source": [
    "for col in ['Amenity', 'Bump', 'Crossing', 'Give_Way', 'Junction', 'No_Exit',\n",
    "       'Railway', 'Roundabout', 'Station', 'Stop', 'Traffic_Calming',\n",
    "       'Traffic_Signal', 'Turning_Loop']:\n",
    "    print(df[col].value_counts())"
   ]
  },
  {
   "cell_type": "markdown",
   "id": "e687dc74-13b1-4117-b5b8-8e04f54a3b9d",
   "metadata": {},
   "source": [
    "Bump, Give_Way, No_Exit, Roundabout, have almost no True values, so drop.\n",
    "All values in Turning_Loop are identical, so drop."
   ]
  },
  {
   "cell_type": "code",
   "execution_count": 57,
   "id": "5afbd469-6197-4289-8403-f67f44e9bb4a",
   "metadata": {},
   "outputs": [],
   "source": [
    "df.drop(['Bump', 'Give_Way', 'No_Exit', 'Roundabout','Turning_Loop'],inplace=True,axis=1)"
   ]
  },
  {
   "cell_type": "markdown",
   "id": "e5244108-49a6-4503-b1f4-ac4571884a6f",
   "metadata": {},
   "source": [
    "Will need to consider if it is worth keeping all of these or combining in some way."
   ]
  },
  {
   "cell_type": "code",
   "execution_count": 58,
   "id": "32591322-30f0-4130-b8d2-8d117a0aded3",
   "metadata": {},
   "outputs": [
    {
     "data": {
      "text/plain": [
       "Index(['Distance(mi)', 'Street', 'Temperature(F)', 'Humidity(%)',\n",
       "       'Pressure(in)', 'Visibility(mi)', 'Wind_Direction', 'Weather_Condition',\n",
       "       'Amenity', 'Crossing', 'Junction', 'Railway', 'Station', 'Stop',\n",
       "       'Traffic_Calming', 'Traffic_Signal', 'Sunrise_Sunset', 'Severity'],\n",
       "      dtype='object')"
      ]
     },
     "execution_count": 58,
     "metadata": {},
     "output_type": "execute_result"
    }
   ],
   "source": [
    "df.columns"
   ]
  },
  {
   "cell_type": "code",
   "execution_count": 59,
   "id": "92e9f955-107d-4c81-97d0-70f14f579632",
   "metadata": {},
   "outputs": [
    {
     "data": {
      "text/plain": [
       "(45329, 18)"
      ]
     },
     "execution_count": 59,
     "metadata": {},
     "output_type": "execute_result"
    }
   ],
   "source": [
    "df.shape"
   ]
  },
  {
   "cell_type": "code",
   "execution_count": 60,
   "id": "ed00a3e9",
   "metadata": {},
   "outputs": [
    {
     "data": {
      "application/vnd.microsoft.datawrangler.viewer.v0+json": {
       "columns": [
        {
         "name": "index",
         "rawType": "int64",
         "type": "integer"
        },
        {
         "name": "Distance(mi)",
         "rawType": "float64",
         "type": "float"
        },
        {
         "name": "Street",
         "rawType": "object",
         "type": "string"
        },
        {
         "name": "Temperature(F)",
         "rawType": "float64",
         "type": "float"
        },
        {
         "name": "Humidity(%)",
         "rawType": "float64",
         "type": "float"
        },
        {
         "name": "Pressure(in)",
         "rawType": "float64",
         "type": "float"
        },
        {
         "name": "Visibility(mi)",
         "rawType": "float64",
         "type": "float"
        },
        {
         "name": "Wind_Direction",
         "rawType": "object",
         "type": "string"
        },
        {
         "name": "Weather_Condition",
         "rawType": "object",
         "type": "string"
        },
        {
         "name": "Amenity",
         "rawType": "bool",
         "type": "boolean"
        },
        {
         "name": "Crossing",
         "rawType": "bool",
         "type": "boolean"
        },
        {
         "name": "Junction",
         "rawType": "bool",
         "type": "boolean"
        },
        {
         "name": "Railway",
         "rawType": "bool",
         "type": "boolean"
        },
        {
         "name": "Station",
         "rawType": "bool",
         "type": "boolean"
        },
        {
         "name": "Stop",
         "rawType": "bool",
         "type": "boolean"
        },
        {
         "name": "Traffic_Calming",
         "rawType": "bool",
         "type": "boolean"
        },
        {
         "name": "Traffic_Signal",
         "rawType": "bool",
         "type": "boolean"
        },
        {
         "name": "Sunrise_Sunset",
         "rawType": "object",
         "type": "string"
        },
        {
         "name": "Severity",
         "rawType": "int64",
         "type": "integer"
        }
       ],
       "ref": "9696c24d-c364-4f4d-9f54-01d56eb02927",
       "rows": [
        [
         "0",
         "0.0",
         "Highway",
         "75.0",
         "82.0",
         "29.88",
         "10.0",
         "Variable",
         "Mostly Cloudy",
         "False",
         "False",
         "False",
         "False",
         "False",
         "False",
         "False",
         "False",
         "Day",
         "0"
        ],
        [
         "1",
         "0.075",
         "Highway",
         "45.0",
         "89.0",
         "29.44",
         "10.0",
         "Calm",
         "Drizzle",
         "False",
         "False",
         "False",
         "False",
         "False",
         "False",
         "False",
         "False",
         "Day",
         "0"
        ],
        [
         "2",
         "1.894",
         "Interstate",
         "91.0",
         "66.0",
         "29.95",
         "10.0",
         "SE",
         "Partly Cloudy",
         "False",
         "False",
         "False",
         "False",
         "False",
         "False",
         "False",
         "False",
         "Day",
         "0"
        ],
        [
         "3",
         "1.135",
         "local",
         "80.1",
         "71.0",
         "29.91",
         "10.0",
         "NW",
         "Partly Cloudy",
         "False",
         "True",
         "False",
         "True",
         "False",
         "True",
         "False",
         "False",
         "Day",
         "1"
        ],
        [
         "4",
         "0.0",
         "Interstate",
         "37.0",
         "62.0",
         "30.4",
         "10.0",
         "Calm",
         "Clear",
         "False",
         "False",
         "False",
         "False",
         "False",
         "False",
         "False",
         "False",
         "Night",
         "1"
        ],
        [
         "5",
         "0.0",
         "Highway",
         "32.0",
         "69.0",
         "29.66",
         "10.0",
         "NW",
         "Partly Cloudy",
         "False",
         "False",
         "False",
         "False",
         "False",
         "False",
         "False",
         "False",
         "Night",
         "1"
        ],
        [
         "6",
         "0.3229999999999999",
         "local",
         "81.0",
         "39.0",
         "29.66",
         "10.0",
         "NW",
         "Mostly Cloudy",
         "False",
         "False",
         "False",
         "False",
         "False",
         "False",
         "False",
         "False",
         "Day",
         "1"
        ],
        [
         "7",
         "0.0",
         "large_local",
         "85.5",
         "66.0",
         "30.12",
         "10.0",
         "SW",
         "Clear",
         "False",
         "False",
         "True",
         "False",
         "False",
         "False",
         "False",
         "False",
         "Day",
         "1"
        ],
        [
         "9",
         "0.0",
         "Interstate",
         "61.0",
         "41.0",
         "29.88",
         "10.0",
         "NW",
         "Mostly Cloudy",
         "False",
         "False",
         "False",
         "False",
         "False",
         "False",
         "False",
         "False",
         "Day",
         "1"
        ],
        [
         "13",
         "0.628",
         "Interstate",
         "57.0",
         "81.0",
         "29.55",
         "10.0",
         "Variable",
         "Cloudy",
         "False",
         "False",
         "False",
         "False",
         "False",
         "False",
         "False",
         "False",
         "Day",
         "0"
        ],
        [
         "15",
         "0.2",
         "large_local",
         "37.9",
         "30.0",
         "30.13",
         "10.0",
         "NW",
         "Clear",
         "False",
         "False",
         "False",
         "False",
         "False",
         "False",
         "False",
         "False",
         "Day",
         "1"
        ],
        [
         "16",
         "0.0",
         "Interstate",
         "45.0",
         "48.0",
         "29.73",
         "10.0",
         "NW",
         "Mostly Cloudy",
         "False",
         "False",
         "False",
         "False",
         "False",
         "False",
         "False",
         "False",
         "Day",
         "1"
        ],
        [
         "17",
         "0.2",
         "local",
         "46.0",
         "87.0",
         "30.13",
         "10.0",
         "Calm",
         "Partly Cloudy",
         "False",
         "False",
         "False",
         "False",
         "False",
         "False",
         "False",
         "False",
         "Night",
         "0"
        ],
        [
         "18",
         "0.221",
         "Interstate",
         "39.0",
         "56.0",
         "29.93",
         "10.0",
         "W",
         "Fair",
         "False",
         "False",
         "False",
         "False",
         "False",
         "False",
         "False",
         "False",
         "Night",
         "0"
        ],
        [
         "19",
         "0.0",
         "Beltway",
         "62.0",
         "70.0",
         "30.02",
         "10.0",
         "NE",
         "Mostly Cloudy",
         "False",
         "False",
         "True",
         "False",
         "False",
         "False",
         "False",
         "False",
         "Day",
         "0"
        ],
        [
         "20",
         "0.166",
         "local",
         "28.0",
         "80.0",
         "30.15",
         "3.0",
         "N",
         "Cloudy",
         "False",
         "False",
         "False",
         "False",
         "False",
         "False",
         "False",
         "False",
         "Day",
         "1"
        ],
        [
         "21",
         "2.305",
         "Interstate",
         "86.0",
         "55.0",
         "30.05",
         "10.0",
         "SE",
         "Fair",
         "False",
         "False",
         "False",
         "False",
         "False",
         "False",
         "False",
         "False",
         "Day",
         "0"
        ],
        [
         "22",
         "0.173",
         "large_local",
         "63.0",
         "75.0",
         "29.32",
         "10.0",
         "N",
         "Fair",
         "False",
         "True",
         "False",
         "False",
         "False",
         "False",
         "False",
         "True",
         "Day",
         "0"
        ],
        [
         "23",
         "0.0",
         "Beltway",
         "57.0",
         "94.0",
         "29.81",
         "7.0",
         "N",
         "Cloudy",
         "False",
         "False",
         "False",
         "False",
         "False",
         "False",
         "False",
         "False",
         "Day",
         "1"
        ],
        [
         "24",
         "0.0",
         "Interstate",
         "70.0",
         "35.0",
         "30.09",
         "10.0",
         "NW",
         "Partly Cloudy",
         "False",
         "False",
         "False",
         "False",
         "False",
         "False",
         "False",
         "False",
         "Day",
         "1"
        ],
        [
         "25",
         "0.138",
         "Highway",
         "40.0",
         "49.0",
         "29.5",
         "10.0",
         "NW",
         "Fair",
         "False",
         "False",
         "False",
         "False",
         "False",
         "False",
         "False",
         "False",
         "Day",
         "0"
        ],
        [
         "26",
         "0.37",
         "Highway",
         "51.8",
         "44.0",
         "29.77",
         "10.0",
         "NW",
         "Scattered Clouds",
         "False",
         "False",
         "True",
         "False",
         "False",
         "False",
         "False",
         "False",
         "Day",
         "0"
        ],
        [
         "27",
         "1.3869999999999998",
         "Beltway",
         "63.0",
         "90.0",
         "30.09",
         "10.0",
         "S",
         "Fair",
         "False",
         "False",
         "False",
         "False",
         "False",
         "False",
         "False",
         "False",
         "Night",
         "0"
        ],
        [
         "29",
         "0.0",
         "large_local",
         "40.0",
         "93.0",
         "29.88",
         "6.0",
         "E",
         "Drizzle",
         "False",
         "False",
         "False",
         "False",
         "False",
         "False",
         "False",
         "False",
         "Day",
         "0"
        ],
        [
         "30",
         "0.0",
         "Interstate",
         "35.0",
         "72.0",
         "30.22",
         "10.0",
         "NW",
         "Cloudy",
         "False",
         "False",
         "True",
         "False",
         "False",
         "False",
         "False",
         "False",
         "Day",
         "1"
        ],
        [
         "31",
         "0.0",
         "local",
         "75.9",
         "68.0",
         "30.02",
         "7.0",
         "SE",
         "Scattered Clouds",
         "False",
         "False",
         "False",
         "False",
         "False",
         "False",
         "False",
         "False",
         "Day",
         "1"
        ],
        [
         "32",
         "0.015",
         "large_local",
         "80.1",
         "36.0",
         "30.05",
         "10.0",
         "SW",
         "Scattered Clouds",
         "False",
         "False",
         "False",
         "False",
         "False",
         "False",
         "False",
         "True",
         "Day",
         "1"
        ],
        [
         "33",
         "0.0",
         "Highway",
         "32.0",
         "100.0",
         "29.88",
         "2.0",
         "Calm",
         "Cloudy",
         "False",
         "False",
         "False",
         "False",
         "False",
         "False",
         "False",
         "False",
         "Day",
         "0"
        ],
        [
         "34",
         "8.270000457763674",
         "Highway",
         "88.0",
         "58.0",
         "29.72",
         "10.0",
         "E",
         "Mostly Cloudy",
         "False",
         "False",
         "False",
         "False",
         "False",
         "False",
         "False",
         "False",
         "Day",
         "1"
        ],
        [
         "36",
         "0.918",
         "Interstate",
         "64.0",
         "25.0",
         "29.95",
         "10.0",
         "NW",
         "Partly Cloudy",
         "False",
         "False",
         "False",
         "False",
         "False",
         "False",
         "False",
         "False",
         "Night",
         "0"
        ],
        [
         "37",
         "1.374",
         "Highway",
         "62.0",
         "96.0",
         "29.52",
         "10.0",
         "E",
         "Drizzle",
         "False",
         "True",
         "False",
         "False",
         "False",
         "False",
         "False",
         "True",
         "Day",
         "1"
        ],
        [
         "38",
         "0.058",
         "large_local",
         "79.0",
         "72.0",
         "29.72",
         "10.0",
         "S",
         "Mostly Cloudy",
         "False",
         "False",
         "False",
         "False",
         "False",
         "False",
         "False",
         "True",
         "Day",
         "1"
        ],
        [
         "39",
         "0.0099999997764825",
         "Beltway",
         "67.8",
         "66.0",
         "30.24",
         "10.0",
         "E",
         "Overcast",
         "False",
         "False",
         "True",
         "False",
         "False",
         "False",
         "False",
         "False",
         "Day",
         "1"
        ],
        [
         "41",
         "0.726",
         "local",
         "32.0",
         "80.0",
         "30.01",
         "10.0",
         "SW",
         "Clear",
         "False",
         "False",
         "False",
         "False",
         "False",
         "False",
         "False",
         "False",
         "Night",
         "1"
        ],
        [
         "42",
         "3.447",
         "Interstate",
         "72.0",
         "99.0",
         "29.94",
         "6.0",
         "SE",
         "Partly Cloudy",
         "False",
         "False",
         "False",
         "False",
         "False",
         "False",
         "False",
         "False",
         "Day",
         "1"
        ],
        [
         "44",
         "0.72",
         "Interstate",
         "37.4",
         "60.0",
         "30.05",
         "10.0",
         "SW",
         "Clear",
         "False",
         "False",
         "False",
         "False",
         "False",
         "False",
         "False",
         "False",
         "Day",
         "1"
        ],
        [
         "45",
         "0.0",
         "Interstate",
         "91.9",
         "52.0",
         "29.88",
         "10.0",
         "NE",
         "Thunderstorm",
         "False",
         "False",
         "False",
         "False",
         "False",
         "False",
         "False",
         "False",
         "Day",
         "1"
        ],
        [
         "47",
         "7.039999961853027",
         "Interstate",
         "75.0",
         "93.0",
         "29.83",
         "10.0",
         "Calm",
         "Mostly Cloudy",
         "False",
         "False",
         "False",
         "False",
         "False",
         "False",
         "False",
         "False",
         "Day",
         "1"
        ],
        [
         "48",
         "0.01",
         "large_local",
         "28.4",
         "69.0",
         "30.12",
         "10.0",
         "Calm",
         "Clear",
         "False",
         "False",
         "False",
         "False",
         "False",
         "False",
         "False",
         "False",
         "Night",
         "1"
        ],
        [
         "49",
         "0.067",
         "large_local",
         "32.0",
         "100.0",
         "29.44",
         "2.0",
         "NE",
         "Snow",
         "False",
         "False",
         "False",
         "False",
         "False",
         "False",
         "False",
         "False",
         "Night",
         "0"
        ],
        [
         "50",
         "1.169",
         "Beltway",
         "37.0",
         "49.0",
         "30.15",
         "10.0",
         "W",
         "Fair",
         "False",
         "False",
         "False",
         "False",
         "False",
         "False",
         "False",
         "False",
         "Night",
         "0"
        ],
        [
         "52",
         "0.024",
         "Highway",
         "90.0",
         "33.0",
         "29.83",
         "10.0",
         "W",
         "Partly Cloudy",
         "False",
         "False",
         "False",
         "False",
         "False",
         "False",
         "False",
         "False",
         "Day",
         "0"
        ],
        [
         "53",
         "0.209",
         "local",
         "53.0",
         "51.0",
         "29.78",
         "10.0",
         "NW",
         "Fair",
         "False",
         "False",
         "False",
         "False",
         "False",
         "False",
         "False",
         "False",
         "Night",
         "0"
        ],
        [
         "54",
         "0.0",
         "large_local",
         "17.1",
         "56.0",
         "30.73",
         "10.0",
         "W",
         "Partly Cloudy",
         "False",
         "False",
         "False",
         "False",
         "False",
         "False",
         "False",
         "False",
         "Day",
         "1"
        ],
        [
         "57",
         "1.083",
         "local",
         "43.0",
         "93.0",
         "29.91",
         "1.0",
         "NE",
         "Heavy Rain",
         "False",
         "False",
         "False",
         "False",
         "False",
         "False",
         "False",
         "False",
         "Day",
         "0"
        ],
        [
         "58",
         "0.01",
         "local",
         "57.2",
         "82.0",
         "29.9",
         "10.0",
         "S",
         "Drizzle",
         "False",
         "False",
         "False",
         "False",
         "False",
         "False",
         "False",
         "False",
         "Day",
         "1"
        ],
        [
         "59",
         "0.21",
         "local",
         "64.4",
         "94.0",
         "30.07",
         "7.0",
         "Calm",
         "Clear",
         "False",
         "False",
         "False",
         "False",
         "False",
         "False",
         "False",
         "False",
         "Night",
         "1"
        ],
        [
         "60",
         "0.0",
         "large_local",
         "50.0",
         "96.0",
         "30.18",
         "4.0",
         "S",
         "Overcast",
         "False",
         "False",
         "False",
         "False",
         "False",
         "False",
         "False",
         "False",
         "Day",
         "1"
        ],
        [
         "61",
         "0.0",
         "Highway",
         "66.0",
         "93.0",
         "29.66",
         "10.0",
         "SE",
         "Fair",
         "False",
         "False",
         "False",
         "False",
         "False",
         "False",
         "False",
         "False",
         "Night",
         "1"
        ],
        [
         "62",
         "0.05",
         "large_local",
         "47.0",
         "32.0",
         "30.31",
         "10.0",
         "SW",
         "Fair",
         "False",
         "False",
         "False",
         "False",
         "False",
         "False",
         "False",
         "False",
         "Day",
         "0"
        ]
       ],
       "shape": {
        "columns": 18,
        "rows": 50
       }
      },
      "text/html": [
       "<div>\n",
       "<style scoped>\n",
       "    .dataframe tbody tr th:only-of-type {\n",
       "        vertical-align: middle;\n",
       "    }\n",
       "\n",
       "    .dataframe tbody tr th {\n",
       "        vertical-align: top;\n",
       "    }\n",
       "\n",
       "    .dataframe thead th {\n",
       "        text-align: right;\n",
       "    }\n",
       "</style>\n",
       "<table border=\"1\" class=\"dataframe\">\n",
       "  <thead>\n",
       "    <tr style=\"text-align: right;\">\n",
       "      <th></th>\n",
       "      <th>Distance(mi)</th>\n",
       "      <th>Street</th>\n",
       "      <th>Temperature(F)</th>\n",
       "      <th>Humidity(%)</th>\n",
       "      <th>Pressure(in)</th>\n",
       "      <th>Visibility(mi)</th>\n",
       "      <th>Wind_Direction</th>\n",
       "      <th>Weather_Condition</th>\n",
       "      <th>Amenity</th>\n",
       "      <th>Crossing</th>\n",
       "      <th>Junction</th>\n",
       "      <th>Railway</th>\n",
       "      <th>Station</th>\n",
       "      <th>Stop</th>\n",
       "      <th>Traffic_Calming</th>\n",
       "      <th>Traffic_Signal</th>\n",
       "      <th>Sunrise_Sunset</th>\n",
       "      <th>Severity</th>\n",
       "    </tr>\n",
       "  </thead>\n",
       "  <tbody>\n",
       "    <tr>\n",
       "      <th>0</th>\n",
       "      <td>0.000</td>\n",
       "      <td>Highway</td>\n",
       "      <td>75.0</td>\n",
       "      <td>82.0</td>\n",
       "      <td>29.88</td>\n",
       "      <td>10.0</td>\n",
       "      <td>Variable</td>\n",
       "      <td>Mostly Cloudy</td>\n",
       "      <td>False</td>\n",
       "      <td>False</td>\n",
       "      <td>False</td>\n",
       "      <td>False</td>\n",
       "      <td>False</td>\n",
       "      <td>False</td>\n",
       "      <td>False</td>\n",
       "      <td>False</td>\n",
       "      <td>Day</td>\n",
       "      <td>0</td>\n",
       "    </tr>\n",
       "    <tr>\n",
       "      <th>1</th>\n",
       "      <td>0.075</td>\n",
       "      <td>Highway</td>\n",
       "      <td>45.0</td>\n",
       "      <td>89.0</td>\n",
       "      <td>29.44</td>\n",
       "      <td>10.0</td>\n",
       "      <td>Calm</td>\n",
       "      <td>Drizzle</td>\n",
       "      <td>False</td>\n",
       "      <td>False</td>\n",
       "      <td>False</td>\n",
       "      <td>False</td>\n",
       "      <td>False</td>\n",
       "      <td>False</td>\n",
       "      <td>False</td>\n",
       "      <td>False</td>\n",
       "      <td>Day</td>\n",
       "      <td>0</td>\n",
       "    </tr>\n",
       "    <tr>\n",
       "      <th>2</th>\n",
       "      <td>1.894</td>\n",
       "      <td>Interstate</td>\n",
       "      <td>91.0</td>\n",
       "      <td>66.0</td>\n",
       "      <td>29.95</td>\n",
       "      <td>10.0</td>\n",
       "      <td>SE</td>\n",
       "      <td>Partly Cloudy</td>\n",
       "      <td>False</td>\n",
       "      <td>False</td>\n",
       "      <td>False</td>\n",
       "      <td>False</td>\n",
       "      <td>False</td>\n",
       "      <td>False</td>\n",
       "      <td>False</td>\n",
       "      <td>False</td>\n",
       "      <td>Day</td>\n",
       "      <td>0</td>\n",
       "    </tr>\n",
       "    <tr>\n",
       "      <th>3</th>\n",
       "      <td>1.135</td>\n",
       "      <td>local</td>\n",
       "      <td>80.1</td>\n",
       "      <td>71.0</td>\n",
       "      <td>29.91</td>\n",
       "      <td>10.0</td>\n",
       "      <td>NW</td>\n",
       "      <td>Partly Cloudy</td>\n",
       "      <td>False</td>\n",
       "      <td>True</td>\n",
       "      <td>False</td>\n",
       "      <td>True</td>\n",
       "      <td>False</td>\n",
       "      <td>True</td>\n",
       "      <td>False</td>\n",
       "      <td>False</td>\n",
       "      <td>Day</td>\n",
       "      <td>1</td>\n",
       "    </tr>\n",
       "    <tr>\n",
       "      <th>4</th>\n",
       "      <td>0.000</td>\n",
       "      <td>Interstate</td>\n",
       "      <td>37.0</td>\n",
       "      <td>62.0</td>\n",
       "      <td>30.40</td>\n",
       "      <td>10.0</td>\n",
       "      <td>Calm</td>\n",
       "      <td>Clear</td>\n",
       "      <td>False</td>\n",
       "      <td>False</td>\n",
       "      <td>False</td>\n",
       "      <td>False</td>\n",
       "      <td>False</td>\n",
       "      <td>False</td>\n",
       "      <td>False</td>\n",
       "      <td>False</td>\n",
       "      <td>Night</td>\n",
       "      <td>1</td>\n",
       "    </tr>\n",
       "    <tr>\n",
       "      <th>5</th>\n",
       "      <td>0.000</td>\n",
       "      <td>Highway</td>\n",
       "      <td>32.0</td>\n",
       "      <td>69.0</td>\n",
       "      <td>29.66</td>\n",
       "      <td>10.0</td>\n",
       "      <td>NW</td>\n",
       "      <td>Partly Cloudy</td>\n",
       "      <td>False</td>\n",
       "      <td>False</td>\n",
       "      <td>False</td>\n",
       "      <td>False</td>\n",
       "      <td>False</td>\n",
       "      <td>False</td>\n",
       "      <td>False</td>\n",
       "      <td>False</td>\n",
       "      <td>Night</td>\n",
       "      <td>1</td>\n",
       "    </tr>\n",
       "    <tr>\n",
       "      <th>6</th>\n",
       "      <td>0.323</td>\n",
       "      <td>local</td>\n",
       "      <td>81.0</td>\n",
       "      <td>39.0</td>\n",
       "      <td>29.66</td>\n",
       "      <td>10.0</td>\n",
       "      <td>NW</td>\n",
       "      <td>Mostly Cloudy</td>\n",
       "      <td>False</td>\n",
       "      <td>False</td>\n",
       "      <td>False</td>\n",
       "      <td>False</td>\n",
       "      <td>False</td>\n",
       "      <td>False</td>\n",
       "      <td>False</td>\n",
       "      <td>False</td>\n",
       "      <td>Day</td>\n",
       "      <td>1</td>\n",
       "    </tr>\n",
       "    <tr>\n",
       "      <th>7</th>\n",
       "      <td>0.000</td>\n",
       "      <td>large_local</td>\n",
       "      <td>85.5</td>\n",
       "      <td>66.0</td>\n",
       "      <td>30.12</td>\n",
       "      <td>10.0</td>\n",
       "      <td>SW</td>\n",
       "      <td>Clear</td>\n",
       "      <td>False</td>\n",
       "      <td>False</td>\n",
       "      <td>True</td>\n",
       "      <td>False</td>\n",
       "      <td>False</td>\n",
       "      <td>False</td>\n",
       "      <td>False</td>\n",
       "      <td>False</td>\n",
       "      <td>Day</td>\n",
       "      <td>1</td>\n",
       "    </tr>\n",
       "    <tr>\n",
       "      <th>9</th>\n",
       "      <td>0.000</td>\n",
       "      <td>Interstate</td>\n",
       "      <td>61.0</td>\n",
       "      <td>41.0</td>\n",
       "      <td>29.88</td>\n",
       "      <td>10.0</td>\n",
       "      <td>NW</td>\n",
       "      <td>Mostly Cloudy</td>\n",
       "      <td>False</td>\n",
       "      <td>False</td>\n",
       "      <td>False</td>\n",
       "      <td>False</td>\n",
       "      <td>False</td>\n",
       "      <td>False</td>\n",
       "      <td>False</td>\n",
       "      <td>False</td>\n",
       "      <td>Day</td>\n",
       "      <td>1</td>\n",
       "    </tr>\n",
       "    <tr>\n",
       "      <th>13</th>\n",
       "      <td>0.628</td>\n",
       "      <td>Interstate</td>\n",
       "      <td>57.0</td>\n",
       "      <td>81.0</td>\n",
       "      <td>29.55</td>\n",
       "      <td>10.0</td>\n",
       "      <td>Variable</td>\n",
       "      <td>Cloudy</td>\n",
       "      <td>False</td>\n",
       "      <td>False</td>\n",
       "      <td>False</td>\n",
       "      <td>False</td>\n",
       "      <td>False</td>\n",
       "      <td>False</td>\n",
       "      <td>False</td>\n",
       "      <td>False</td>\n",
       "      <td>Day</td>\n",
       "      <td>0</td>\n",
       "    </tr>\n",
       "    <tr>\n",
       "      <th>15</th>\n",
       "      <td>0.200</td>\n",
       "      <td>large_local</td>\n",
       "      <td>37.9</td>\n",
       "      <td>30.0</td>\n",
       "      <td>30.13</td>\n",
       "      <td>10.0</td>\n",
       "      <td>NW</td>\n",
       "      <td>Clear</td>\n",
       "      <td>False</td>\n",
       "      <td>False</td>\n",
       "      <td>False</td>\n",
       "      <td>False</td>\n",
       "      <td>False</td>\n",
       "      <td>False</td>\n",
       "      <td>False</td>\n",
       "      <td>False</td>\n",
       "      <td>Day</td>\n",
       "      <td>1</td>\n",
       "    </tr>\n",
       "    <tr>\n",
       "      <th>16</th>\n",
       "      <td>0.000</td>\n",
       "      <td>Interstate</td>\n",
       "      <td>45.0</td>\n",
       "      <td>48.0</td>\n",
       "      <td>29.73</td>\n",
       "      <td>10.0</td>\n",
       "      <td>NW</td>\n",
       "      <td>Mostly Cloudy</td>\n",
       "      <td>False</td>\n",
       "      <td>False</td>\n",
       "      <td>False</td>\n",
       "      <td>False</td>\n",
       "      <td>False</td>\n",
       "      <td>False</td>\n",
       "      <td>False</td>\n",
       "      <td>False</td>\n",
       "      <td>Day</td>\n",
       "      <td>1</td>\n",
       "    </tr>\n",
       "    <tr>\n",
       "      <th>17</th>\n",
       "      <td>0.200</td>\n",
       "      <td>local</td>\n",
       "      <td>46.0</td>\n",
       "      <td>87.0</td>\n",
       "      <td>30.13</td>\n",
       "      <td>10.0</td>\n",
       "      <td>Calm</td>\n",
       "      <td>Partly Cloudy</td>\n",
       "      <td>False</td>\n",
       "      <td>False</td>\n",
       "      <td>False</td>\n",
       "      <td>False</td>\n",
       "      <td>False</td>\n",
       "      <td>False</td>\n",
       "      <td>False</td>\n",
       "      <td>False</td>\n",
       "      <td>Night</td>\n",
       "      <td>0</td>\n",
       "    </tr>\n",
       "    <tr>\n",
       "      <th>18</th>\n",
       "      <td>0.221</td>\n",
       "      <td>Interstate</td>\n",
       "      <td>39.0</td>\n",
       "      <td>56.0</td>\n",
       "      <td>29.93</td>\n",
       "      <td>10.0</td>\n",
       "      <td>W</td>\n",
       "      <td>Fair</td>\n",
       "      <td>False</td>\n",
       "      <td>False</td>\n",
       "      <td>False</td>\n",
       "      <td>False</td>\n",
       "      <td>False</td>\n",
       "      <td>False</td>\n",
       "      <td>False</td>\n",
       "      <td>False</td>\n",
       "      <td>Night</td>\n",
       "      <td>0</td>\n",
       "    </tr>\n",
       "    <tr>\n",
       "      <th>19</th>\n",
       "      <td>0.000</td>\n",
       "      <td>Beltway</td>\n",
       "      <td>62.0</td>\n",
       "      <td>70.0</td>\n",
       "      <td>30.02</td>\n",
       "      <td>10.0</td>\n",
       "      <td>NE</td>\n",
       "      <td>Mostly Cloudy</td>\n",
       "      <td>False</td>\n",
       "      <td>False</td>\n",
       "      <td>True</td>\n",
       "      <td>False</td>\n",
       "      <td>False</td>\n",
       "      <td>False</td>\n",
       "      <td>False</td>\n",
       "      <td>False</td>\n",
       "      <td>Day</td>\n",
       "      <td>0</td>\n",
       "    </tr>\n",
       "    <tr>\n",
       "      <th>20</th>\n",
       "      <td>0.166</td>\n",
       "      <td>local</td>\n",
       "      <td>28.0</td>\n",
       "      <td>80.0</td>\n",
       "      <td>30.15</td>\n",
       "      <td>3.0</td>\n",
       "      <td>N</td>\n",
       "      <td>Cloudy</td>\n",
       "      <td>False</td>\n",
       "      <td>False</td>\n",
       "      <td>False</td>\n",
       "      <td>False</td>\n",
       "      <td>False</td>\n",
       "      <td>False</td>\n",
       "      <td>False</td>\n",
       "      <td>False</td>\n",
       "      <td>Day</td>\n",
       "      <td>1</td>\n",
       "    </tr>\n",
       "    <tr>\n",
       "      <th>21</th>\n",
       "      <td>2.305</td>\n",
       "      <td>Interstate</td>\n",
       "      <td>86.0</td>\n",
       "      <td>55.0</td>\n",
       "      <td>30.05</td>\n",
       "      <td>10.0</td>\n",
       "      <td>SE</td>\n",
       "      <td>Fair</td>\n",
       "      <td>False</td>\n",
       "      <td>False</td>\n",
       "      <td>False</td>\n",
       "      <td>False</td>\n",
       "      <td>False</td>\n",
       "      <td>False</td>\n",
       "      <td>False</td>\n",
       "      <td>False</td>\n",
       "      <td>Day</td>\n",
       "      <td>0</td>\n",
       "    </tr>\n",
       "    <tr>\n",
       "      <th>22</th>\n",
       "      <td>0.173</td>\n",
       "      <td>large_local</td>\n",
       "      <td>63.0</td>\n",
       "      <td>75.0</td>\n",
       "      <td>29.32</td>\n",
       "      <td>10.0</td>\n",
       "      <td>N</td>\n",
       "      <td>Fair</td>\n",
       "      <td>False</td>\n",
       "      <td>True</td>\n",
       "      <td>False</td>\n",
       "      <td>False</td>\n",
       "      <td>False</td>\n",
       "      <td>False</td>\n",
       "      <td>False</td>\n",
       "      <td>True</td>\n",
       "      <td>Day</td>\n",
       "      <td>0</td>\n",
       "    </tr>\n",
       "    <tr>\n",
       "      <th>23</th>\n",
       "      <td>0.000</td>\n",
       "      <td>Beltway</td>\n",
       "      <td>57.0</td>\n",
       "      <td>94.0</td>\n",
       "      <td>29.81</td>\n",
       "      <td>7.0</td>\n",
       "      <td>N</td>\n",
       "      <td>Cloudy</td>\n",
       "      <td>False</td>\n",
       "      <td>False</td>\n",
       "      <td>False</td>\n",
       "      <td>False</td>\n",
       "      <td>False</td>\n",
       "      <td>False</td>\n",
       "      <td>False</td>\n",
       "      <td>False</td>\n",
       "      <td>Day</td>\n",
       "      <td>1</td>\n",
       "    </tr>\n",
       "    <tr>\n",
       "      <th>24</th>\n",
       "      <td>0.000</td>\n",
       "      <td>Interstate</td>\n",
       "      <td>70.0</td>\n",
       "      <td>35.0</td>\n",
       "      <td>30.09</td>\n",
       "      <td>10.0</td>\n",
       "      <td>NW</td>\n",
       "      <td>Partly Cloudy</td>\n",
       "      <td>False</td>\n",
       "      <td>False</td>\n",
       "      <td>False</td>\n",
       "      <td>False</td>\n",
       "      <td>False</td>\n",
       "      <td>False</td>\n",
       "      <td>False</td>\n",
       "      <td>False</td>\n",
       "      <td>Day</td>\n",
       "      <td>1</td>\n",
       "    </tr>\n",
       "    <tr>\n",
       "      <th>25</th>\n",
       "      <td>0.138</td>\n",
       "      <td>Highway</td>\n",
       "      <td>40.0</td>\n",
       "      <td>49.0</td>\n",
       "      <td>29.50</td>\n",
       "      <td>10.0</td>\n",
       "      <td>NW</td>\n",
       "      <td>Fair</td>\n",
       "      <td>False</td>\n",
       "      <td>False</td>\n",
       "      <td>False</td>\n",
       "      <td>False</td>\n",
       "      <td>False</td>\n",
       "      <td>False</td>\n",
       "      <td>False</td>\n",
       "      <td>False</td>\n",
       "      <td>Day</td>\n",
       "      <td>0</td>\n",
       "    </tr>\n",
       "    <tr>\n",
       "      <th>26</th>\n",
       "      <td>0.370</td>\n",
       "      <td>Highway</td>\n",
       "      <td>51.8</td>\n",
       "      <td>44.0</td>\n",
       "      <td>29.77</td>\n",
       "      <td>10.0</td>\n",
       "      <td>NW</td>\n",
       "      <td>Scattered Clouds</td>\n",
       "      <td>False</td>\n",
       "      <td>False</td>\n",
       "      <td>True</td>\n",
       "      <td>False</td>\n",
       "      <td>False</td>\n",
       "      <td>False</td>\n",
       "      <td>False</td>\n",
       "      <td>False</td>\n",
       "      <td>Day</td>\n",
       "      <td>0</td>\n",
       "    </tr>\n",
       "    <tr>\n",
       "      <th>27</th>\n",
       "      <td>1.387</td>\n",
       "      <td>Beltway</td>\n",
       "      <td>63.0</td>\n",
       "      <td>90.0</td>\n",
       "      <td>30.09</td>\n",
       "      <td>10.0</td>\n",
       "      <td>S</td>\n",
       "      <td>Fair</td>\n",
       "      <td>False</td>\n",
       "      <td>False</td>\n",
       "      <td>False</td>\n",
       "      <td>False</td>\n",
       "      <td>False</td>\n",
       "      <td>False</td>\n",
       "      <td>False</td>\n",
       "      <td>False</td>\n",
       "      <td>Night</td>\n",
       "      <td>0</td>\n",
       "    </tr>\n",
       "    <tr>\n",
       "      <th>29</th>\n",
       "      <td>0.000</td>\n",
       "      <td>large_local</td>\n",
       "      <td>40.0</td>\n",
       "      <td>93.0</td>\n",
       "      <td>29.88</td>\n",
       "      <td>6.0</td>\n",
       "      <td>E</td>\n",
       "      <td>Drizzle</td>\n",
       "      <td>False</td>\n",
       "      <td>False</td>\n",
       "      <td>False</td>\n",
       "      <td>False</td>\n",
       "      <td>False</td>\n",
       "      <td>False</td>\n",
       "      <td>False</td>\n",
       "      <td>False</td>\n",
       "      <td>Day</td>\n",
       "      <td>0</td>\n",
       "    </tr>\n",
       "    <tr>\n",
       "      <th>30</th>\n",
       "      <td>0.000</td>\n",
       "      <td>Interstate</td>\n",
       "      <td>35.0</td>\n",
       "      <td>72.0</td>\n",
       "      <td>30.22</td>\n",
       "      <td>10.0</td>\n",
       "      <td>NW</td>\n",
       "      <td>Cloudy</td>\n",
       "      <td>False</td>\n",
       "      <td>False</td>\n",
       "      <td>True</td>\n",
       "      <td>False</td>\n",
       "      <td>False</td>\n",
       "      <td>False</td>\n",
       "      <td>False</td>\n",
       "      <td>False</td>\n",
       "      <td>Day</td>\n",
       "      <td>1</td>\n",
       "    </tr>\n",
       "    <tr>\n",
       "      <th>31</th>\n",
       "      <td>0.000</td>\n",
       "      <td>local</td>\n",
       "      <td>75.9</td>\n",
       "      <td>68.0</td>\n",
       "      <td>30.02</td>\n",
       "      <td>7.0</td>\n",
       "      <td>SE</td>\n",
       "      <td>Scattered Clouds</td>\n",
       "      <td>False</td>\n",
       "      <td>False</td>\n",
       "      <td>False</td>\n",
       "      <td>False</td>\n",
       "      <td>False</td>\n",
       "      <td>False</td>\n",
       "      <td>False</td>\n",
       "      <td>False</td>\n",
       "      <td>Day</td>\n",
       "      <td>1</td>\n",
       "    </tr>\n",
       "    <tr>\n",
       "      <th>32</th>\n",
       "      <td>0.015</td>\n",
       "      <td>large_local</td>\n",
       "      <td>80.1</td>\n",
       "      <td>36.0</td>\n",
       "      <td>30.05</td>\n",
       "      <td>10.0</td>\n",
       "      <td>SW</td>\n",
       "      <td>Scattered Clouds</td>\n",
       "      <td>False</td>\n",
       "      <td>False</td>\n",
       "      <td>False</td>\n",
       "      <td>False</td>\n",
       "      <td>False</td>\n",
       "      <td>False</td>\n",
       "      <td>False</td>\n",
       "      <td>True</td>\n",
       "      <td>Day</td>\n",
       "      <td>1</td>\n",
       "    </tr>\n",
       "    <tr>\n",
       "      <th>33</th>\n",
       "      <td>0.000</td>\n",
       "      <td>Highway</td>\n",
       "      <td>32.0</td>\n",
       "      <td>100.0</td>\n",
       "      <td>29.88</td>\n",
       "      <td>2.0</td>\n",
       "      <td>Calm</td>\n",
       "      <td>Cloudy</td>\n",
       "      <td>False</td>\n",
       "      <td>False</td>\n",
       "      <td>False</td>\n",
       "      <td>False</td>\n",
       "      <td>False</td>\n",
       "      <td>False</td>\n",
       "      <td>False</td>\n",
       "      <td>False</td>\n",
       "      <td>Day</td>\n",
       "      <td>0</td>\n",
       "    </tr>\n",
       "    <tr>\n",
       "      <th>34</th>\n",
       "      <td>8.270</td>\n",
       "      <td>Highway</td>\n",
       "      <td>88.0</td>\n",
       "      <td>58.0</td>\n",
       "      <td>29.72</td>\n",
       "      <td>10.0</td>\n",
       "      <td>E</td>\n",
       "      <td>Mostly Cloudy</td>\n",
       "      <td>False</td>\n",
       "      <td>False</td>\n",
       "      <td>False</td>\n",
       "      <td>False</td>\n",
       "      <td>False</td>\n",
       "      <td>False</td>\n",
       "      <td>False</td>\n",
       "      <td>False</td>\n",
       "      <td>Day</td>\n",
       "      <td>1</td>\n",
       "    </tr>\n",
       "    <tr>\n",
       "      <th>36</th>\n",
       "      <td>0.918</td>\n",
       "      <td>Interstate</td>\n",
       "      <td>64.0</td>\n",
       "      <td>25.0</td>\n",
       "      <td>29.95</td>\n",
       "      <td>10.0</td>\n",
       "      <td>NW</td>\n",
       "      <td>Partly Cloudy</td>\n",
       "      <td>False</td>\n",
       "      <td>False</td>\n",
       "      <td>False</td>\n",
       "      <td>False</td>\n",
       "      <td>False</td>\n",
       "      <td>False</td>\n",
       "      <td>False</td>\n",
       "      <td>False</td>\n",
       "      <td>Night</td>\n",
       "      <td>0</td>\n",
       "    </tr>\n",
       "    <tr>\n",
       "      <th>37</th>\n",
       "      <td>1.374</td>\n",
       "      <td>Highway</td>\n",
       "      <td>62.0</td>\n",
       "      <td>96.0</td>\n",
       "      <td>29.52</td>\n",
       "      <td>10.0</td>\n",
       "      <td>E</td>\n",
       "      <td>Drizzle</td>\n",
       "      <td>False</td>\n",
       "      <td>True</td>\n",
       "      <td>False</td>\n",
       "      <td>False</td>\n",
       "      <td>False</td>\n",
       "      <td>False</td>\n",
       "      <td>False</td>\n",
       "      <td>True</td>\n",
       "      <td>Day</td>\n",
       "      <td>1</td>\n",
       "    </tr>\n",
       "    <tr>\n",
       "      <th>38</th>\n",
       "      <td>0.058</td>\n",
       "      <td>large_local</td>\n",
       "      <td>79.0</td>\n",
       "      <td>72.0</td>\n",
       "      <td>29.72</td>\n",
       "      <td>10.0</td>\n",
       "      <td>S</td>\n",
       "      <td>Mostly Cloudy</td>\n",
       "      <td>False</td>\n",
       "      <td>False</td>\n",
       "      <td>False</td>\n",
       "      <td>False</td>\n",
       "      <td>False</td>\n",
       "      <td>False</td>\n",
       "      <td>False</td>\n",
       "      <td>True</td>\n",
       "      <td>Day</td>\n",
       "      <td>1</td>\n",
       "    </tr>\n",
       "    <tr>\n",
       "      <th>39</th>\n",
       "      <td>0.010</td>\n",
       "      <td>Beltway</td>\n",
       "      <td>67.8</td>\n",
       "      <td>66.0</td>\n",
       "      <td>30.24</td>\n",
       "      <td>10.0</td>\n",
       "      <td>E</td>\n",
       "      <td>Overcast</td>\n",
       "      <td>False</td>\n",
       "      <td>False</td>\n",
       "      <td>True</td>\n",
       "      <td>False</td>\n",
       "      <td>False</td>\n",
       "      <td>False</td>\n",
       "      <td>False</td>\n",
       "      <td>False</td>\n",
       "      <td>Day</td>\n",
       "      <td>1</td>\n",
       "    </tr>\n",
       "    <tr>\n",
       "      <th>41</th>\n",
       "      <td>0.726</td>\n",
       "      <td>local</td>\n",
       "      <td>32.0</td>\n",
       "      <td>80.0</td>\n",
       "      <td>30.01</td>\n",
       "      <td>10.0</td>\n",
       "      <td>SW</td>\n",
       "      <td>Clear</td>\n",
       "      <td>False</td>\n",
       "      <td>False</td>\n",
       "      <td>False</td>\n",
       "      <td>False</td>\n",
       "      <td>False</td>\n",
       "      <td>False</td>\n",
       "      <td>False</td>\n",
       "      <td>False</td>\n",
       "      <td>Night</td>\n",
       "      <td>1</td>\n",
       "    </tr>\n",
       "    <tr>\n",
       "      <th>42</th>\n",
       "      <td>3.447</td>\n",
       "      <td>Interstate</td>\n",
       "      <td>72.0</td>\n",
       "      <td>99.0</td>\n",
       "      <td>29.94</td>\n",
       "      <td>6.0</td>\n",
       "      <td>SE</td>\n",
       "      <td>Partly Cloudy</td>\n",
       "      <td>False</td>\n",
       "      <td>False</td>\n",
       "      <td>False</td>\n",
       "      <td>False</td>\n",
       "      <td>False</td>\n",
       "      <td>False</td>\n",
       "      <td>False</td>\n",
       "      <td>False</td>\n",
       "      <td>Day</td>\n",
       "      <td>1</td>\n",
       "    </tr>\n",
       "    <tr>\n",
       "      <th>44</th>\n",
       "      <td>0.720</td>\n",
       "      <td>Interstate</td>\n",
       "      <td>37.4</td>\n",
       "      <td>60.0</td>\n",
       "      <td>30.05</td>\n",
       "      <td>10.0</td>\n",
       "      <td>SW</td>\n",
       "      <td>Clear</td>\n",
       "      <td>False</td>\n",
       "      <td>False</td>\n",
       "      <td>False</td>\n",
       "      <td>False</td>\n",
       "      <td>False</td>\n",
       "      <td>False</td>\n",
       "      <td>False</td>\n",
       "      <td>False</td>\n",
       "      <td>Day</td>\n",
       "      <td>1</td>\n",
       "    </tr>\n",
       "    <tr>\n",
       "      <th>45</th>\n",
       "      <td>0.000</td>\n",
       "      <td>Interstate</td>\n",
       "      <td>91.9</td>\n",
       "      <td>52.0</td>\n",
       "      <td>29.88</td>\n",
       "      <td>10.0</td>\n",
       "      <td>NE</td>\n",
       "      <td>Thunderstorm</td>\n",
       "      <td>False</td>\n",
       "      <td>False</td>\n",
       "      <td>False</td>\n",
       "      <td>False</td>\n",
       "      <td>False</td>\n",
       "      <td>False</td>\n",
       "      <td>False</td>\n",
       "      <td>False</td>\n",
       "      <td>Day</td>\n",
       "      <td>1</td>\n",
       "    </tr>\n",
       "    <tr>\n",
       "      <th>47</th>\n",
       "      <td>7.040</td>\n",
       "      <td>Interstate</td>\n",
       "      <td>75.0</td>\n",
       "      <td>93.0</td>\n",
       "      <td>29.83</td>\n",
       "      <td>10.0</td>\n",
       "      <td>Calm</td>\n",
       "      <td>Mostly Cloudy</td>\n",
       "      <td>False</td>\n",
       "      <td>False</td>\n",
       "      <td>False</td>\n",
       "      <td>False</td>\n",
       "      <td>False</td>\n",
       "      <td>False</td>\n",
       "      <td>False</td>\n",
       "      <td>False</td>\n",
       "      <td>Day</td>\n",
       "      <td>1</td>\n",
       "    </tr>\n",
       "    <tr>\n",
       "      <th>48</th>\n",
       "      <td>0.010</td>\n",
       "      <td>large_local</td>\n",
       "      <td>28.4</td>\n",
       "      <td>69.0</td>\n",
       "      <td>30.12</td>\n",
       "      <td>10.0</td>\n",
       "      <td>Calm</td>\n",
       "      <td>Clear</td>\n",
       "      <td>False</td>\n",
       "      <td>False</td>\n",
       "      <td>False</td>\n",
       "      <td>False</td>\n",
       "      <td>False</td>\n",
       "      <td>False</td>\n",
       "      <td>False</td>\n",
       "      <td>False</td>\n",
       "      <td>Night</td>\n",
       "      <td>1</td>\n",
       "    </tr>\n",
       "    <tr>\n",
       "      <th>49</th>\n",
       "      <td>0.067</td>\n",
       "      <td>large_local</td>\n",
       "      <td>32.0</td>\n",
       "      <td>100.0</td>\n",
       "      <td>29.44</td>\n",
       "      <td>2.0</td>\n",
       "      <td>NE</td>\n",
       "      <td>Snow</td>\n",
       "      <td>False</td>\n",
       "      <td>False</td>\n",
       "      <td>False</td>\n",
       "      <td>False</td>\n",
       "      <td>False</td>\n",
       "      <td>False</td>\n",
       "      <td>False</td>\n",
       "      <td>False</td>\n",
       "      <td>Night</td>\n",
       "      <td>0</td>\n",
       "    </tr>\n",
       "    <tr>\n",
       "      <th>50</th>\n",
       "      <td>1.169</td>\n",
       "      <td>Beltway</td>\n",
       "      <td>37.0</td>\n",
       "      <td>49.0</td>\n",
       "      <td>30.15</td>\n",
       "      <td>10.0</td>\n",
       "      <td>W</td>\n",
       "      <td>Fair</td>\n",
       "      <td>False</td>\n",
       "      <td>False</td>\n",
       "      <td>False</td>\n",
       "      <td>False</td>\n",
       "      <td>False</td>\n",
       "      <td>False</td>\n",
       "      <td>False</td>\n",
       "      <td>False</td>\n",
       "      <td>Night</td>\n",
       "      <td>0</td>\n",
       "    </tr>\n",
       "    <tr>\n",
       "      <th>52</th>\n",
       "      <td>0.024</td>\n",
       "      <td>Highway</td>\n",
       "      <td>90.0</td>\n",
       "      <td>33.0</td>\n",
       "      <td>29.83</td>\n",
       "      <td>10.0</td>\n",
       "      <td>W</td>\n",
       "      <td>Partly Cloudy</td>\n",
       "      <td>False</td>\n",
       "      <td>False</td>\n",
       "      <td>False</td>\n",
       "      <td>False</td>\n",
       "      <td>False</td>\n",
       "      <td>False</td>\n",
       "      <td>False</td>\n",
       "      <td>False</td>\n",
       "      <td>Day</td>\n",
       "      <td>0</td>\n",
       "    </tr>\n",
       "    <tr>\n",
       "      <th>53</th>\n",
       "      <td>0.209</td>\n",
       "      <td>local</td>\n",
       "      <td>53.0</td>\n",
       "      <td>51.0</td>\n",
       "      <td>29.78</td>\n",
       "      <td>10.0</td>\n",
       "      <td>NW</td>\n",
       "      <td>Fair</td>\n",
       "      <td>False</td>\n",
       "      <td>False</td>\n",
       "      <td>False</td>\n",
       "      <td>False</td>\n",
       "      <td>False</td>\n",
       "      <td>False</td>\n",
       "      <td>False</td>\n",
       "      <td>False</td>\n",
       "      <td>Night</td>\n",
       "      <td>0</td>\n",
       "    </tr>\n",
       "    <tr>\n",
       "      <th>54</th>\n",
       "      <td>0.000</td>\n",
       "      <td>large_local</td>\n",
       "      <td>17.1</td>\n",
       "      <td>56.0</td>\n",
       "      <td>30.73</td>\n",
       "      <td>10.0</td>\n",
       "      <td>W</td>\n",
       "      <td>Partly Cloudy</td>\n",
       "      <td>False</td>\n",
       "      <td>False</td>\n",
       "      <td>False</td>\n",
       "      <td>False</td>\n",
       "      <td>False</td>\n",
       "      <td>False</td>\n",
       "      <td>False</td>\n",
       "      <td>False</td>\n",
       "      <td>Day</td>\n",
       "      <td>1</td>\n",
       "    </tr>\n",
       "    <tr>\n",
       "      <th>57</th>\n",
       "      <td>1.083</td>\n",
       "      <td>local</td>\n",
       "      <td>43.0</td>\n",
       "      <td>93.0</td>\n",
       "      <td>29.91</td>\n",
       "      <td>1.0</td>\n",
       "      <td>NE</td>\n",
       "      <td>Heavy Rain</td>\n",
       "      <td>False</td>\n",
       "      <td>False</td>\n",
       "      <td>False</td>\n",
       "      <td>False</td>\n",
       "      <td>False</td>\n",
       "      <td>False</td>\n",
       "      <td>False</td>\n",
       "      <td>False</td>\n",
       "      <td>Day</td>\n",
       "      <td>0</td>\n",
       "    </tr>\n",
       "    <tr>\n",
       "      <th>58</th>\n",
       "      <td>0.010</td>\n",
       "      <td>local</td>\n",
       "      <td>57.2</td>\n",
       "      <td>82.0</td>\n",
       "      <td>29.90</td>\n",
       "      <td>10.0</td>\n",
       "      <td>S</td>\n",
       "      <td>Drizzle</td>\n",
       "      <td>False</td>\n",
       "      <td>False</td>\n",
       "      <td>False</td>\n",
       "      <td>False</td>\n",
       "      <td>False</td>\n",
       "      <td>False</td>\n",
       "      <td>False</td>\n",
       "      <td>False</td>\n",
       "      <td>Day</td>\n",
       "      <td>1</td>\n",
       "    </tr>\n",
       "    <tr>\n",
       "      <th>59</th>\n",
       "      <td>0.210</td>\n",
       "      <td>local</td>\n",
       "      <td>64.4</td>\n",
       "      <td>94.0</td>\n",
       "      <td>30.07</td>\n",
       "      <td>7.0</td>\n",
       "      <td>Calm</td>\n",
       "      <td>Clear</td>\n",
       "      <td>False</td>\n",
       "      <td>False</td>\n",
       "      <td>False</td>\n",
       "      <td>False</td>\n",
       "      <td>False</td>\n",
       "      <td>False</td>\n",
       "      <td>False</td>\n",
       "      <td>False</td>\n",
       "      <td>Night</td>\n",
       "      <td>1</td>\n",
       "    </tr>\n",
       "    <tr>\n",
       "      <th>60</th>\n",
       "      <td>0.000</td>\n",
       "      <td>large_local</td>\n",
       "      <td>50.0</td>\n",
       "      <td>96.0</td>\n",
       "      <td>30.18</td>\n",
       "      <td>4.0</td>\n",
       "      <td>S</td>\n",
       "      <td>Overcast</td>\n",
       "      <td>False</td>\n",
       "      <td>False</td>\n",
       "      <td>False</td>\n",
       "      <td>False</td>\n",
       "      <td>False</td>\n",
       "      <td>False</td>\n",
       "      <td>False</td>\n",
       "      <td>False</td>\n",
       "      <td>Day</td>\n",
       "      <td>1</td>\n",
       "    </tr>\n",
       "    <tr>\n",
       "      <th>61</th>\n",
       "      <td>0.000</td>\n",
       "      <td>Highway</td>\n",
       "      <td>66.0</td>\n",
       "      <td>93.0</td>\n",
       "      <td>29.66</td>\n",
       "      <td>10.0</td>\n",
       "      <td>SE</td>\n",
       "      <td>Fair</td>\n",
       "      <td>False</td>\n",
       "      <td>False</td>\n",
       "      <td>False</td>\n",
       "      <td>False</td>\n",
       "      <td>False</td>\n",
       "      <td>False</td>\n",
       "      <td>False</td>\n",
       "      <td>False</td>\n",
       "      <td>Night</td>\n",
       "      <td>1</td>\n",
       "    </tr>\n",
       "    <tr>\n",
       "      <th>62</th>\n",
       "      <td>0.050</td>\n",
       "      <td>large_local</td>\n",
       "      <td>47.0</td>\n",
       "      <td>32.0</td>\n",
       "      <td>30.31</td>\n",
       "      <td>10.0</td>\n",
       "      <td>SW</td>\n",
       "      <td>Fair</td>\n",
       "      <td>False</td>\n",
       "      <td>False</td>\n",
       "      <td>False</td>\n",
       "      <td>False</td>\n",
       "      <td>False</td>\n",
       "      <td>False</td>\n",
       "      <td>False</td>\n",
       "      <td>False</td>\n",
       "      <td>Day</td>\n",
       "      <td>0</td>\n",
       "    </tr>\n",
       "  </tbody>\n",
       "</table>\n",
       "</div>"
      ],
      "text/plain": [
       "    Distance(mi)       Street  Temperature(F)  Humidity(%)  Pressure(in)  \\\n",
       "0          0.000      Highway            75.0         82.0         29.88   \n",
       "1          0.075      Highway            45.0         89.0         29.44   \n",
       "2          1.894   Interstate            91.0         66.0         29.95   \n",
       "3          1.135        local            80.1         71.0         29.91   \n",
       "4          0.000   Interstate            37.0         62.0         30.40   \n",
       "5          0.000      Highway            32.0         69.0         29.66   \n",
       "6          0.323        local            81.0         39.0         29.66   \n",
       "7          0.000  large_local            85.5         66.0         30.12   \n",
       "9          0.000   Interstate            61.0         41.0         29.88   \n",
       "13         0.628   Interstate            57.0         81.0         29.55   \n",
       "15         0.200  large_local            37.9         30.0         30.13   \n",
       "16         0.000   Interstate            45.0         48.0         29.73   \n",
       "17         0.200        local            46.0         87.0         30.13   \n",
       "18         0.221   Interstate            39.0         56.0         29.93   \n",
       "19         0.000      Beltway            62.0         70.0         30.02   \n",
       "20         0.166        local            28.0         80.0         30.15   \n",
       "21         2.305   Interstate            86.0         55.0         30.05   \n",
       "22         0.173  large_local            63.0         75.0         29.32   \n",
       "23         0.000      Beltway            57.0         94.0         29.81   \n",
       "24         0.000   Interstate            70.0         35.0         30.09   \n",
       "25         0.138      Highway            40.0         49.0         29.50   \n",
       "26         0.370      Highway            51.8         44.0         29.77   \n",
       "27         1.387      Beltway            63.0         90.0         30.09   \n",
       "29         0.000  large_local            40.0         93.0         29.88   \n",
       "30         0.000   Interstate            35.0         72.0         30.22   \n",
       "31         0.000        local            75.9         68.0         30.02   \n",
       "32         0.015  large_local            80.1         36.0         30.05   \n",
       "33         0.000      Highway            32.0        100.0         29.88   \n",
       "34         8.270      Highway            88.0         58.0         29.72   \n",
       "36         0.918   Interstate            64.0         25.0         29.95   \n",
       "37         1.374      Highway            62.0         96.0         29.52   \n",
       "38         0.058  large_local            79.0         72.0         29.72   \n",
       "39         0.010      Beltway            67.8         66.0         30.24   \n",
       "41         0.726        local            32.0         80.0         30.01   \n",
       "42         3.447   Interstate            72.0         99.0         29.94   \n",
       "44         0.720   Interstate            37.4         60.0         30.05   \n",
       "45         0.000   Interstate            91.9         52.0         29.88   \n",
       "47         7.040   Interstate            75.0         93.0         29.83   \n",
       "48         0.010  large_local            28.4         69.0         30.12   \n",
       "49         0.067  large_local            32.0        100.0         29.44   \n",
       "50         1.169      Beltway            37.0         49.0         30.15   \n",
       "52         0.024      Highway            90.0         33.0         29.83   \n",
       "53         0.209        local            53.0         51.0         29.78   \n",
       "54         0.000  large_local            17.1         56.0         30.73   \n",
       "57         1.083        local            43.0         93.0         29.91   \n",
       "58         0.010        local            57.2         82.0         29.90   \n",
       "59         0.210        local            64.4         94.0         30.07   \n",
       "60         0.000  large_local            50.0         96.0         30.18   \n",
       "61         0.000      Highway            66.0         93.0         29.66   \n",
       "62         0.050  large_local            47.0         32.0         30.31   \n",
       "\n",
       "    Visibility(mi) Wind_Direction Weather_Condition  Amenity  Crossing  \\\n",
       "0             10.0       Variable     Mostly Cloudy    False     False   \n",
       "1             10.0           Calm           Drizzle    False     False   \n",
       "2             10.0             SE     Partly Cloudy    False     False   \n",
       "3             10.0             NW     Partly Cloudy    False      True   \n",
       "4             10.0           Calm             Clear    False     False   \n",
       "5             10.0             NW     Partly Cloudy    False     False   \n",
       "6             10.0             NW     Mostly Cloudy    False     False   \n",
       "7             10.0             SW             Clear    False     False   \n",
       "9             10.0             NW     Mostly Cloudy    False     False   \n",
       "13            10.0       Variable            Cloudy    False     False   \n",
       "15            10.0             NW             Clear    False     False   \n",
       "16            10.0             NW     Mostly Cloudy    False     False   \n",
       "17            10.0           Calm     Partly Cloudy    False     False   \n",
       "18            10.0              W              Fair    False     False   \n",
       "19            10.0             NE     Mostly Cloudy    False     False   \n",
       "20             3.0              N            Cloudy    False     False   \n",
       "21            10.0             SE              Fair    False     False   \n",
       "22            10.0              N              Fair    False      True   \n",
       "23             7.0              N            Cloudy    False     False   \n",
       "24            10.0             NW     Partly Cloudy    False     False   \n",
       "25            10.0             NW              Fair    False     False   \n",
       "26            10.0             NW  Scattered Clouds    False     False   \n",
       "27            10.0              S              Fair    False     False   \n",
       "29             6.0              E           Drizzle    False     False   \n",
       "30            10.0             NW            Cloudy    False     False   \n",
       "31             7.0             SE  Scattered Clouds    False     False   \n",
       "32            10.0             SW  Scattered Clouds    False     False   \n",
       "33             2.0           Calm            Cloudy    False     False   \n",
       "34            10.0              E     Mostly Cloudy    False     False   \n",
       "36            10.0             NW     Partly Cloudy    False     False   \n",
       "37            10.0              E           Drizzle    False      True   \n",
       "38            10.0              S     Mostly Cloudy    False     False   \n",
       "39            10.0              E          Overcast    False     False   \n",
       "41            10.0             SW             Clear    False     False   \n",
       "42             6.0             SE     Partly Cloudy    False     False   \n",
       "44            10.0             SW             Clear    False     False   \n",
       "45            10.0             NE      Thunderstorm    False     False   \n",
       "47            10.0           Calm     Mostly Cloudy    False     False   \n",
       "48            10.0           Calm             Clear    False     False   \n",
       "49             2.0             NE              Snow    False     False   \n",
       "50            10.0              W              Fair    False     False   \n",
       "52            10.0              W     Partly Cloudy    False     False   \n",
       "53            10.0             NW              Fair    False     False   \n",
       "54            10.0              W     Partly Cloudy    False     False   \n",
       "57             1.0             NE        Heavy Rain    False     False   \n",
       "58            10.0              S           Drizzle    False     False   \n",
       "59             7.0           Calm             Clear    False     False   \n",
       "60             4.0              S          Overcast    False     False   \n",
       "61            10.0             SE              Fair    False     False   \n",
       "62            10.0             SW              Fair    False     False   \n",
       "\n",
       "    Junction  Railway  Station   Stop  Traffic_Calming  Traffic_Signal  \\\n",
       "0      False    False    False  False            False           False   \n",
       "1      False    False    False  False            False           False   \n",
       "2      False    False    False  False            False           False   \n",
       "3      False     True    False   True            False           False   \n",
       "4      False    False    False  False            False           False   \n",
       "5      False    False    False  False            False           False   \n",
       "6      False    False    False  False            False           False   \n",
       "7       True    False    False  False            False           False   \n",
       "9      False    False    False  False            False           False   \n",
       "13     False    False    False  False            False           False   \n",
       "15     False    False    False  False            False           False   \n",
       "16     False    False    False  False            False           False   \n",
       "17     False    False    False  False            False           False   \n",
       "18     False    False    False  False            False           False   \n",
       "19      True    False    False  False            False           False   \n",
       "20     False    False    False  False            False           False   \n",
       "21     False    False    False  False            False           False   \n",
       "22     False    False    False  False            False            True   \n",
       "23     False    False    False  False            False           False   \n",
       "24     False    False    False  False            False           False   \n",
       "25     False    False    False  False            False           False   \n",
       "26      True    False    False  False            False           False   \n",
       "27     False    False    False  False            False           False   \n",
       "29     False    False    False  False            False           False   \n",
       "30      True    False    False  False            False           False   \n",
       "31     False    False    False  False            False           False   \n",
       "32     False    False    False  False            False            True   \n",
       "33     False    False    False  False            False           False   \n",
       "34     False    False    False  False            False           False   \n",
       "36     False    False    False  False            False           False   \n",
       "37     False    False    False  False            False            True   \n",
       "38     False    False    False  False            False            True   \n",
       "39      True    False    False  False            False           False   \n",
       "41     False    False    False  False            False           False   \n",
       "42     False    False    False  False            False           False   \n",
       "44     False    False    False  False            False           False   \n",
       "45     False    False    False  False            False           False   \n",
       "47     False    False    False  False            False           False   \n",
       "48     False    False    False  False            False           False   \n",
       "49     False    False    False  False            False           False   \n",
       "50     False    False    False  False            False           False   \n",
       "52     False    False    False  False            False           False   \n",
       "53     False    False    False  False            False           False   \n",
       "54     False    False    False  False            False           False   \n",
       "57     False    False    False  False            False           False   \n",
       "58     False    False    False  False            False           False   \n",
       "59     False    False    False  False            False           False   \n",
       "60     False    False    False  False            False           False   \n",
       "61     False    False    False  False            False           False   \n",
       "62     False    False    False  False            False           False   \n",
       "\n",
       "   Sunrise_Sunset  Severity  \n",
       "0             Day         0  \n",
       "1             Day         0  \n",
       "2             Day         0  \n",
       "3             Day         1  \n",
       "4           Night         1  \n",
       "5           Night         1  \n",
       "6             Day         1  \n",
       "7             Day         1  \n",
       "9             Day         1  \n",
       "13            Day         0  \n",
       "15            Day         1  \n",
       "16            Day         1  \n",
       "17          Night         0  \n",
       "18          Night         0  \n",
       "19            Day         0  \n",
       "20            Day         1  \n",
       "21            Day         0  \n",
       "22            Day         0  \n",
       "23            Day         1  \n",
       "24            Day         1  \n",
       "25            Day         0  \n",
       "26            Day         0  \n",
       "27          Night         0  \n",
       "29            Day         0  \n",
       "30            Day         1  \n",
       "31            Day         1  \n",
       "32            Day         1  \n",
       "33            Day         0  \n",
       "34            Day         1  \n",
       "36          Night         0  \n",
       "37            Day         1  \n",
       "38            Day         1  \n",
       "39            Day         1  \n",
       "41          Night         1  \n",
       "42            Day         1  \n",
       "44            Day         1  \n",
       "45            Day         1  \n",
       "47            Day         1  \n",
       "48          Night         1  \n",
       "49          Night         0  \n",
       "50          Night         0  \n",
       "52            Day         0  \n",
       "53          Night         0  \n",
       "54            Day         1  \n",
       "57            Day         0  \n",
       "58            Day         1  \n",
       "59          Night         1  \n",
       "60            Day         1  \n",
       "61          Night         1  \n",
       "62            Day         0  "
      ]
     },
     "execution_count": 60,
     "metadata": {},
     "output_type": "execute_result"
    }
   ],
   "source": [
    "df.head(50)"
   ]
  },
  {
   "cell_type": "code",
   "execution_count": 61,
   "id": "098518ed",
   "metadata": {},
   "outputs": [
    {
     "data": {
      "text/plain": [
       "Index(['Distance(mi)', 'Street', 'Temperature(F)', 'Humidity(%)',\n",
       "       'Pressure(in)', 'Visibility(mi)', 'Wind_Direction', 'Weather_Condition',\n",
       "       'Amenity', 'Crossing', 'Junction', 'Railway', 'Station', 'Stop',\n",
       "       'Traffic_Calming', 'Traffic_Signal', 'Sunrise_Sunset', 'Severity'],\n",
       "      dtype='object')"
      ]
     },
     "execution_count": 61,
     "metadata": {},
     "output_type": "execute_result"
    }
   ],
   "source": [
    "df.columns"
   ]
  },
  {
   "cell_type": "code",
   "execution_count": 62,
   "id": "6f6cd90c",
   "metadata": {},
   "outputs": [
    {
     "name": "stdout",
     "output_type": "stream",
     "text": [
      "(45329, 18)\n",
      "(40340, 18)\n"
     ]
    }
   ],
   "source": [
    "print(df.shape)\n",
    "df = df.drop_duplicates()\n",
    "print(df.shape)"
   ]
  },
  {
   "cell_type": "code",
   "execution_count": 63,
   "id": "5a6270e6",
   "metadata": {},
   "outputs": [
    {
     "data": {
      "application/vnd.microsoft.datawrangler.viewer.v0+json": {
       "columns": [
        {
         "name": "index",
         "rawType": "int64",
         "type": "integer"
        },
        {
         "name": "Distance(mi)",
         "rawType": "float64",
         "type": "float"
        },
        {
         "name": "Street",
         "rawType": "object",
         "type": "string"
        },
        {
         "name": "Temperature(F)",
         "rawType": "float64",
         "type": "float"
        },
        {
         "name": "Humidity(%)",
         "rawType": "float64",
         "type": "float"
        },
        {
         "name": "Pressure(in)",
         "rawType": "float64",
         "type": "float"
        },
        {
         "name": "Visibility(mi)",
         "rawType": "float64",
         "type": "float"
        },
        {
         "name": "Wind_Direction",
         "rawType": "object",
         "type": "string"
        },
        {
         "name": "Weather_Condition",
         "rawType": "object",
         "type": "string"
        },
        {
         "name": "Amenity",
         "rawType": "bool",
         "type": "boolean"
        },
        {
         "name": "Crossing",
         "rawType": "bool",
         "type": "boolean"
        },
        {
         "name": "Junction",
         "rawType": "bool",
         "type": "boolean"
        },
        {
         "name": "Railway",
         "rawType": "bool",
         "type": "boolean"
        },
        {
         "name": "Station",
         "rawType": "bool",
         "type": "boolean"
        },
        {
         "name": "Stop",
         "rawType": "bool",
         "type": "boolean"
        },
        {
         "name": "Traffic_Calming",
         "rawType": "bool",
         "type": "boolean"
        },
        {
         "name": "Traffic_Signal",
         "rawType": "bool",
         "type": "boolean"
        },
        {
         "name": "Sunrise_Sunset",
         "rawType": "object",
         "type": "string"
        },
        {
         "name": "Severity",
         "rawType": "int64",
         "type": "integer"
        }
       ],
       "ref": "f147cb55-a3f6-45b2-b2e4-f7b9554de2e1",
       "rows": [
        [
         "0",
         "0.0",
         "Highway",
         "75.0",
         "82.0",
         "29.88",
         "10.0",
         "Variable",
         "Mostly Cloudy",
         "False",
         "False",
         "False",
         "False",
         "False",
         "False",
         "False",
         "False",
         "Day",
         "0"
        ],
        [
         "1",
         "0.075",
         "Highway",
         "45.0",
         "89.0",
         "29.44",
         "10.0",
         "Calm",
         "Drizzle",
         "False",
         "False",
         "False",
         "False",
         "False",
         "False",
         "False",
         "False",
         "Day",
         "0"
        ],
        [
         "2",
         "1.894",
         "Interstate",
         "91.0",
         "66.0",
         "29.95",
         "10.0",
         "SE",
         "Partly Cloudy",
         "False",
         "False",
         "False",
         "False",
         "False",
         "False",
         "False",
         "False",
         "Day",
         "0"
        ],
        [
         "3",
         "1.135",
         "local",
         "80.1",
         "71.0",
         "29.91",
         "10.0",
         "NW",
         "Partly Cloudy",
         "False",
         "True",
         "False",
         "True",
         "False",
         "True",
         "False",
         "False",
         "Day",
         "1"
        ],
        [
         "4",
         "0.0",
         "Interstate",
         "37.0",
         "62.0",
         "30.4",
         "10.0",
         "Calm",
         "Clear",
         "False",
         "False",
         "False",
         "False",
         "False",
         "False",
         "False",
         "False",
         "Night",
         "1"
        ]
       ],
       "shape": {
        "columns": 18,
        "rows": 5
       }
      },
      "text/html": [
       "<div>\n",
       "<style scoped>\n",
       "    .dataframe tbody tr th:only-of-type {\n",
       "        vertical-align: middle;\n",
       "    }\n",
       "\n",
       "    .dataframe tbody tr th {\n",
       "        vertical-align: top;\n",
       "    }\n",
       "\n",
       "    .dataframe thead th {\n",
       "        text-align: right;\n",
       "    }\n",
       "</style>\n",
       "<table border=\"1\" class=\"dataframe\">\n",
       "  <thead>\n",
       "    <tr style=\"text-align: right;\">\n",
       "      <th></th>\n",
       "      <th>Distance(mi)</th>\n",
       "      <th>Street</th>\n",
       "      <th>Temperature(F)</th>\n",
       "      <th>Humidity(%)</th>\n",
       "      <th>Pressure(in)</th>\n",
       "      <th>Visibility(mi)</th>\n",
       "      <th>Wind_Direction</th>\n",
       "      <th>Weather_Condition</th>\n",
       "      <th>Amenity</th>\n",
       "      <th>Crossing</th>\n",
       "      <th>Junction</th>\n",
       "      <th>Railway</th>\n",
       "      <th>Station</th>\n",
       "      <th>Stop</th>\n",
       "      <th>Traffic_Calming</th>\n",
       "      <th>Traffic_Signal</th>\n",
       "      <th>Sunrise_Sunset</th>\n",
       "      <th>Severity</th>\n",
       "    </tr>\n",
       "  </thead>\n",
       "  <tbody>\n",
       "    <tr>\n",
       "      <th>0</th>\n",
       "      <td>0.000</td>\n",
       "      <td>Highway</td>\n",
       "      <td>75.0</td>\n",
       "      <td>82.0</td>\n",
       "      <td>29.88</td>\n",
       "      <td>10.0</td>\n",
       "      <td>Variable</td>\n",
       "      <td>Mostly Cloudy</td>\n",
       "      <td>False</td>\n",
       "      <td>False</td>\n",
       "      <td>False</td>\n",
       "      <td>False</td>\n",
       "      <td>False</td>\n",
       "      <td>False</td>\n",
       "      <td>False</td>\n",
       "      <td>False</td>\n",
       "      <td>Day</td>\n",
       "      <td>0</td>\n",
       "    </tr>\n",
       "    <tr>\n",
       "      <th>1</th>\n",
       "      <td>0.075</td>\n",
       "      <td>Highway</td>\n",
       "      <td>45.0</td>\n",
       "      <td>89.0</td>\n",
       "      <td>29.44</td>\n",
       "      <td>10.0</td>\n",
       "      <td>Calm</td>\n",
       "      <td>Drizzle</td>\n",
       "      <td>False</td>\n",
       "      <td>False</td>\n",
       "      <td>False</td>\n",
       "      <td>False</td>\n",
       "      <td>False</td>\n",
       "      <td>False</td>\n",
       "      <td>False</td>\n",
       "      <td>False</td>\n",
       "      <td>Day</td>\n",
       "      <td>0</td>\n",
       "    </tr>\n",
       "    <tr>\n",
       "      <th>2</th>\n",
       "      <td>1.894</td>\n",
       "      <td>Interstate</td>\n",
       "      <td>91.0</td>\n",
       "      <td>66.0</td>\n",
       "      <td>29.95</td>\n",
       "      <td>10.0</td>\n",
       "      <td>SE</td>\n",
       "      <td>Partly Cloudy</td>\n",
       "      <td>False</td>\n",
       "      <td>False</td>\n",
       "      <td>False</td>\n",
       "      <td>False</td>\n",
       "      <td>False</td>\n",
       "      <td>False</td>\n",
       "      <td>False</td>\n",
       "      <td>False</td>\n",
       "      <td>Day</td>\n",
       "      <td>0</td>\n",
       "    </tr>\n",
       "    <tr>\n",
       "      <th>3</th>\n",
       "      <td>1.135</td>\n",
       "      <td>local</td>\n",
       "      <td>80.1</td>\n",
       "      <td>71.0</td>\n",
       "      <td>29.91</td>\n",
       "      <td>10.0</td>\n",
       "      <td>NW</td>\n",
       "      <td>Partly Cloudy</td>\n",
       "      <td>False</td>\n",
       "      <td>True</td>\n",
       "      <td>False</td>\n",
       "      <td>True</td>\n",
       "      <td>False</td>\n",
       "      <td>True</td>\n",
       "      <td>False</td>\n",
       "      <td>False</td>\n",
       "      <td>Day</td>\n",
       "      <td>1</td>\n",
       "    </tr>\n",
       "    <tr>\n",
       "      <th>4</th>\n",
       "      <td>0.000</td>\n",
       "      <td>Interstate</td>\n",
       "      <td>37.0</td>\n",
       "      <td>62.0</td>\n",
       "      <td>30.40</td>\n",
       "      <td>10.0</td>\n",
       "      <td>Calm</td>\n",
       "      <td>Clear</td>\n",
       "      <td>False</td>\n",
       "      <td>False</td>\n",
       "      <td>False</td>\n",
       "      <td>False</td>\n",
       "      <td>False</td>\n",
       "      <td>False</td>\n",
       "      <td>False</td>\n",
       "      <td>False</td>\n",
       "      <td>Night</td>\n",
       "      <td>1</td>\n",
       "    </tr>\n",
       "  </tbody>\n",
       "</table>\n",
       "</div>"
      ],
      "text/plain": [
       "   Distance(mi)      Street  Temperature(F)  Humidity(%)  Pressure(in)  \\\n",
       "0         0.000     Highway            75.0         82.0         29.88   \n",
       "1         0.075     Highway            45.0         89.0         29.44   \n",
       "2         1.894  Interstate            91.0         66.0         29.95   \n",
       "3         1.135       local            80.1         71.0         29.91   \n",
       "4         0.000  Interstate            37.0         62.0         30.40   \n",
       "\n",
       "   Visibility(mi) Wind_Direction Weather_Condition  Amenity  Crossing  \\\n",
       "0            10.0       Variable     Mostly Cloudy    False     False   \n",
       "1            10.0           Calm           Drizzle    False     False   \n",
       "2            10.0             SE     Partly Cloudy    False     False   \n",
       "3            10.0             NW     Partly Cloudy    False      True   \n",
       "4            10.0           Calm             Clear    False     False   \n",
       "\n",
       "   Junction  Railway  Station   Stop  Traffic_Calming  Traffic_Signal  \\\n",
       "0     False    False    False  False            False           False   \n",
       "1     False    False    False  False            False           False   \n",
       "2     False    False    False  False            False           False   \n",
       "3     False     True    False   True            False           False   \n",
       "4     False    False    False  False            False           False   \n",
       "\n",
       "  Sunrise_Sunset  Severity  \n",
       "0            Day         0  \n",
       "1            Day         0  \n",
       "2            Day         0  \n",
       "3            Day         1  \n",
       "4          Night         1  "
      ]
     },
     "execution_count": 63,
     "metadata": {},
     "output_type": "execute_result"
    }
   ],
   "source": [
    "df.head()"
   ]
  },
  {
   "cell_type": "code",
   "execution_count": 64,
   "id": "5d5b489f",
   "metadata": {},
   "outputs": [
    {
     "data": {
      "text/plain": [
       "Index(['Distance(mi)', 'Street', 'Temperature(F)', 'Humidity(%)',\n",
       "       'Pressure(in)', 'Visibility(mi)', 'Wind_Direction', 'Weather_Condition',\n",
       "       'Amenity', 'Crossing', 'Junction', 'Railway', 'Station', 'Stop',\n",
       "       'Traffic_Calming', 'Traffic_Signal', 'Sunrise_Sunset', 'Severity'],\n",
       "      dtype='object')"
      ]
     },
     "execution_count": 64,
     "metadata": {},
     "output_type": "execute_result"
    }
   ],
   "source": [
    "df.columns"
   ]
  },
  {
   "cell_type": "code",
   "execution_count": 67,
   "id": "439a279b",
   "metadata": {},
   "outputs": [],
   "source": [
    "# Train data needs Data_Cleaned, train_data, X_train_control, y_train_control\n",
    "# Test data needs Data_Cleaned, test_data, X_test_control, y_test_control\n",
    "col_class = ['Class']\n",
    "col_data = ['Street', 'Temperature(F)', 'Humidity(%)',\n",
    "            'Pressure(in)', 'Visibility(mi)', 'Wind_Direction', 'Weather_Condition',\n",
    "            'Amenity', 'Crossing', 'Junction', 'Railway', 'Station', 'Stop',\n",
    "            'Traffic_Calming', 'Traffic_Signal', 'Sunrise_Sunset']\n",
    "\n",
    "df = df.rename(columns={'Severity' : 'Class'})\n",
    "df = df.drop_duplicates()\n",
    "\n",
    "X = df.iloc[:,:-1]\n",
    "y = df.Class\n",
    "\n",
    "# TRAINING\n",
    "X.to_csv('../Data_Cleaned/train_data/control_2class_X_train.csv', columns = col_data, index = False)\n",
    "y.to_csv('../Data_Cleaned/train_data/control_2class_y_train.csv', columns = col_class, index = False)\n",
    "\n",
    "# TESTING\n",
    "#X.to_csv('../Data_Cleaned/test_data/control_2class_X_test.csv', columns = col_data, index = False)\n",
    "#y.to_csv('../Data_Cleaned/test_data/control_2class_y_test.csv', columns = col_class, index = False)"
   ]
  },
  {
   "cell_type": "code",
   "execution_count": 66,
   "id": "f7e26127",
   "metadata": {},
   "outputs": [],
   "source": [
    "# TRAIN OUTPUT\n"
   ]
  }
 ],
 "metadata": {
  "kernelspec": {
   "display_name": "base",
   "language": "python",
   "name": "python3"
  },
  "language_info": {
   "codemirror_mode": {
    "name": "ipython",
    "version": 3
   },
   "file_extension": ".py",
   "mimetype": "text/x-python",
   "name": "python",
   "nbconvert_exporter": "python",
   "pygments_lexer": "ipython3",
   "version": "3.13.4"
  }
 },
 "nbformat": 4,
 "nbformat_minor": 5
}
