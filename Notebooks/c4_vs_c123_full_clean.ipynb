{
 "cells": [
  {
   "cell_type": "code",
   "execution_count": 1,
   "id": "26f3158c",
   "metadata": {},
   "outputs": [],
   "source": [
    "import pandas as pd\n",
    "import numpy as np\n",
    "from sklearn.utils import resample"
   ]
  },
  {
   "cell_type": "code",
   "execution_count": 2,
   "id": "8c22d998",
   "metadata": {},
   "outputs": [],
   "source": [
    "df = pd.read_csv(\"../Data_Raw/full_data/mdtraffic.csv\")"
   ]
  },
  {
   "cell_type": "code",
   "execution_count": 3,
   "id": "47c53922",
   "metadata": {},
   "outputs": [],
   "source": [
    "col         = 'Severity'\n",
    "conditions  = [ df[col] == 1, df[col] == 2, df[col] == 3, df[col] == 4 ]\n",
    "choices     = [ 0, 0, 0, 1 ]\n",
    "df[\"Severity\"] = np.select(conditions, choices)"
   ]
  },
  {
   "cell_type": "code",
   "execution_count": 4,
   "id": "541b9261",
   "metadata": {},
   "outputs": [
    {
     "name": "stdout",
     "output_type": "stream",
     "text": [
      "(129525, 46)\n",
      "(10892, 46)\n"
     ]
    }
   ],
   "source": [
    "c1 = df[df[\"Severity\"] == 1]\n",
    "c0 = df[df[\"Severity\"] == 0]\n",
    "\n",
    "print(c0.shape)\n",
    "print(c1.shape)"
   ]
  },
  {
   "cell_type": "code",
   "execution_count": 5,
   "id": "b5350c85",
   "metadata": {},
   "outputs": [
    {
     "name": "stdout",
     "output_type": "stream",
     "text": [
      "(10892, 46)\n",
      "(10892, 46)\n"
     ]
    }
   ],
   "source": [
    "c0_downsamp = resample(c0,\n",
    "                       replace=True,\n",
    "                       n_samples=len(c1),\n",
    "                       random_state=49209)\n",
    "\n",
    "# Confirm class sizes are same size\n",
    "print(c0_downsamp.shape)\n",
    "print(c1.shape)"
   ]
  },
  {
   "cell_type": "code",
   "execution_count": 6,
   "id": "c16787b5",
   "metadata": {},
   "outputs": [],
   "source": [
    "df = pd.concat([c0_downsamp, c1])\n",
    "\n",
    "# reset index\n",
    "df.reset_index(drop=True, inplace=True)"
   ]
  },
  {
   "cell_type": "code",
   "execution_count": 10,
   "id": "ba9b3164",
   "metadata": {},
   "outputs": [],
   "source": [
    "from sklearn.model_selection import train_test_split\n",
    "df_new = df[['Severity', 'ID', 'Source', 'Start_Time', 'End_Time', 'Start_Lat',\n",
    "       'Start_Lng', 'End_Lat', 'End_Lng', 'Distance(mi)', 'Description',\n",
    "       'Street', 'City', 'County', 'State', 'Zipcode', 'Country', 'Timezone',\n",
    "       'Airport_Code', 'Weather_Timestamp', 'Temperature(F)', 'Wind_Chill(F)',\n",
    "       'Humidity(%)', 'Pressure(in)', 'Visibility(mi)', 'Wind_Direction',\n",
    "       'Wind_Speed(mph)', 'Precipitation(in)', 'Weather_Condition', 'Amenity',\n",
    "       'Bump', 'Crossing', 'Give_Way', 'Junction', 'No_Exit', 'Railway',\n",
    "       'Roundabout', 'Station', 'Stop', 'Traffic_Calming', 'Traffic_Signal',\n",
    "       'Turning_Loop', 'Sunrise_Sunset', 'Civil_Twilight', 'Nautical_Twilight',\n",
    "       'Astronomical_Twilight']]\n",
    "\n",
    "X = df_new.iloc[:, 1:]\n",
    "y = df_new.Severity\n",
    "\n",
    "X_train, X_test, y_train, y_test = train_test_split(X, y, \n",
    "                                                    test_size = 0.2, \n",
    "                                                    random_state = 49209,\n",
    "                                                    stratify = y)"
   ]
  },
  {
   "cell_type": "code",
   "execution_count": 11,
   "id": "f5f00cfa",
   "metadata": {},
   "outputs": [],
   "source": [
    "# Export training set to one folder...\n",
    "X_train.to_csv('../Data_Raw/Class4_vs_123_ML_Data/train/X_train_4_v_123.csv', index = False)\n",
    "y_train.to_csv('../Data_Raw/Class4_vs_123_ML_Data/train/y_train_4_v_123.csv', index = False)\n",
    "\n",
    "# ...And testing set to another\n",
    "X_test.to_csv('../Data_Raw/Class4_vs_123_ML_Data/test/X_test_4_v_123.csv', index = False)\n",
    "y_test.to_csv('../Data_Raw/Class4_vs_123_ML_Data/test/y_test_4_v_123.csv', index = False)"
   ]
  }
 ],
 "metadata": {
  "kernelspec": {
   "display_name": "base",
   "language": "python",
   "name": "python3"
  },
  "language_info": {
   "codemirror_mode": {
    "name": "ipython",
    "version": 3
   },
   "file_extension": ".py",
   "mimetype": "text/x-python",
   "name": "python",
   "nbconvert_exporter": "python",
   "pygments_lexer": "ipython3",
   "version": "3.13.4"
  }
 },
 "nbformat": 4,
 "nbformat_minor": 5
}
