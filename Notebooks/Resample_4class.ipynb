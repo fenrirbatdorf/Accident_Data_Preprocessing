{
 "cells": [
  {
   "cell_type": "markdown",
   "id": "c095e250",
   "metadata": {},
   "source": [
    "This is an old notebook that takes in the 2 class, processed, binned dataset (without the distance column), and downsamples it, then saves the downsampled version of the data."
   ]
  },
  {
   "cell_type": "code",
   "execution_count": 1,
   "id": "0add908e",
   "metadata": {},
   "outputs": [],
   "source": [
    "import pandas as pd\n",
    "import numpy as np\n",
    "from sklearn.utils import resample"
   ]
  },
  {
   "cell_type": "code",
   "execution_count": 2,
   "id": "54cde265",
   "metadata": {},
   "outputs": [],
   "source": [
    "df = pd.read_csv(\"../Accident_Data_Preprocessing/Data_Cleaned/control_datasets_bin/control_data_merge_bin/control_2class_samebin_nodist.csv\")\n"
   ]
  },
  {
   "cell_type": "code",
   "execution_count": 3,
   "id": "e47c7c2e",
   "metadata": {},
   "outputs": [
    {
     "name": "stdout",
     "output_type": "stream",
     "text": [
      "(60571, 17)\n",
      "(20601, 17)\n"
     ]
    }
   ],
   "source": [
    "c1 = df[df[\"Class_New\"] == 1]\n",
    "c0 = df[df[\"Class_New\"] == 0]\n",
    "\n",
    "print(c0.shape)\n",
    "print(c1.shape)\n",
    "\n",
    "# 0 is class 1/2\n",
    "# 1 is class 3/4"
   ]
  },
  {
   "cell_type": "code",
   "execution_count": 4,
   "id": "b551f244",
   "metadata": {},
   "outputs": [
    {
     "name": "stdout",
     "output_type": "stream",
     "text": [
      "(20601, 17)\n"
     ]
    }
   ],
   "source": [
    "c0_downsamp = resample(c0,\n",
    "                       replace=True,\n",
    "                       n_samples=len(c1),\n",
    "                       random_state=49209)\n",
    "\n",
    "print(c0_downsamp.shape)"
   ]
  },
  {
   "cell_type": "code",
   "execution_count": 5,
   "id": "f401f984",
   "metadata": {},
   "outputs": [],
   "source": [
    "data_downsampled = pd.concat([c0_downsamp, c1])\n",
    "data_downsampled.reset_index(drop=True, inplace=True)\n",
    "data_downsampled\n",
    "data_downsampled.to_csv(\"../Accident_Data_Preprocessing/Data_Cleaned/control_datasets_bin/control_data_merge_bin/cont_2cl_sabi_nodi_dosa.csv\", index = False)"
   ]
  }
 ],
 "metadata": {
  "kernelspec": {
   "display_name": "base",
   "language": "python",
   "name": "python3"
  },
  "language_info": {
   "codemirror_mode": {
    "name": "ipython",
    "version": 3
   },
   "file_extension": ".py",
   "mimetype": "text/x-python",
   "name": "python",
   "nbconvert_exporter": "python",
   "pygments_lexer": "ipython3",
   "version": "3.13.4"
  }
 },
 "nbformat": 4,
 "nbformat_minor": 5
}
