{
 "cells": [
  {
   "cell_type": "markdown",
   "id": "f8a7c567",
   "metadata": {},
   "source": [
    "This notebook takes in different CSV outputs from the CFD tool that have been saved within this project, and subsets off different aspects of the chosen CFD output, based on frequency of occurence, t-way, etc. It then saves the filtered subset as a new CSV for examination."
   ]
  },
  {
   "cell_type": "code",
   "execution_count": null,
   "id": "6bb410a6",
   "metadata": {},
   "outputs": [],
   "source": [
    "# Imports\n",
    "import pandas as pd\n",
    "import numpy as np"
   ]
  },
  {
   "cell_type": "code",
   "execution_count": null,
   "id": "a166a3e4",
   "metadata": {},
   "outputs": [],
   "source": [
    "# All 1 vs many file paths for 1/2/3 way CFD outputs\n",
    "\n",
    "# The first chunk is for when one vs many used separate binning, the second chunk is for one vs many with binning prior \n",
    "# to separating the classes\n",
    "csv_path_c1_3way = \"../Accident_Data_Preprocessing/CFD_Results/control_class1_bin-control_class234_bin-5.0/CSVs/3-ways-control_class1_bin-control_class234_bin-5.0.csv\"\n",
    "csv_path_c1_2way = \"../Accident_Data_Preprocessing/CFD_Results/control_class1_bin-control_class234_bin-5.0/CSVs/2-ways-control_class1_bin-control_class234_bin-5.0.csv\"\n",
    "csv_path_c1_1way = \"../Accident_Data_Preprocessing/CFD_Results/control_class1_bin-control_class234_bin-5.0/CSVs/1-ways-control_class1_bin-control_class234_bin-5.0.csv\"\n",
    "csv_path_c2_3way = \"../Accident_Data_Preprocessing/CFD_Results/control_class2_bin-control_class134_bin-5.0/CSVs/3-ways-control_class2_bin-control_class134_bin-5.0.csv\"\n",
    "csv_path_c2_2way = \"../Accident_Data_Preprocessing/CFD_Results/control_class2_bin-control_class134_bin-5.0/CSVs/2-ways-control_class2_bin-control_class134_bin-5.0.csv\"\n",
    "csv_path_c2_1way = \"../Accident_Data_Preprocessing/CFD_Results/control_class2_bin-control_class134_bin-5.0/CSVs/1-ways-control_class2_bin-control_class134_bin-5.0.csv\"\n",
    "csv_path_c3_3way = \"../Accident_Data_Preprocessing/CFD_Results/control_class3_bin-control_class124_bin-5.0/CSVs/3-ways-control_class3_bin-control_class124_bin-5.0.csv\"\n",
    "csv_path_c3_2way = \"../Accident_Data_Preprocessing/CFD_Results/control_class3_bin-control_class124_bin-5.0/CSVs/2-ways-control_class3_bin-control_class124_bin-5.0.csv\"\n",
    "csv_path_c3_1way = \"../Accident_Data_Preprocessing/CFD_Results/control_class3_bin-control_class124_bin-5.0/CSVs/1-ways-control_class3_bin-control_class124_bin-5.0.csv\"\n",
    "csv_path_c4_3way = \"../Accident_Data_Preprocessing/CFD_Results/control_class4_bin-control_class123_bin-5.0/CSVs/3-ways-control_class4_bin-control_class123_bin-5.0.csv\"\n",
    "csv_path_c4_2way = \"../Accident_Data_Preprocessing/CFD_Results/control_class4_bin-control_class123_bin-5.0/CSVs/2-ways-control_class4_bin-control_class123_bin-5.0.csv\"\n",
    "csv_path_c4_1way = \"../Accident_Data_Preprocessing/CFD_Results/control_class4_bin-control_class123_bin-5.0/CSVs/1-ways-control_class4_bin-control_class123_bin-5.0.csv\"\n",
    "\n",
    "\n",
    "csv_path_c1_3way_samebin = \"../Accident_Data_Preprocessing/CFD_Results/control_class1_samebin-control_class234_merge_samebin-5.0/CSVs/3-ways-control_class1_samebin-control_class234_merge_samebin-5.0.csv\"\n",
    "csv_path_c1_2way_samebin = \"../Accident_Data_Preprocessing/CFD_Results/control_class1_samebin-control_class234_merge_samebin-5.0/CSVs/2-ways-control_class1_samebin-control_class234_merge_samebin-5.0.csv\"\n",
    "csv_path_c1_1way_samebin = \"../Accident_Data_Preprocessing/CFD_Results/control_class1_samebin-control_class234_merge_samebin-5.0/CSVs/1-ways-control_class1_samebin-control_class234_merge_samebin-5.0.csv\"\n",
    "csv_path_c2_3way_samebin = \"../Accident_Data_Preprocessing/CFD_Results/control_class2_samebin-control_class134_merge_samebin-5.0/CSVs/3-ways-control_class2_samebin-control_class134_merge_samebin-5.0.csv\"\n",
    "csv_path_c2_2way_samebin = \"../Accident_Data_Preprocessing/CFD_Results/control_class2_samebin-control_class134_merge_samebin-5.0/CSVs/2-ways-control_class2_samebin-control_class134_merge_samebin-5.0.csv\"\n",
    "csv_path_c2_1way_samebin = \"../Accident_Data_Preprocessing/CFD_Results/control_class2_samebin-control_class134_merge_samebin-5.0/CSVs/1-ways-control_class2_samebin-control_class134_merge_samebin-5.0.csv\"\n",
    "csv_path_c3_3way_samebin = \"../Accident_Data_Preprocessing/CFD_Results/control_class3_samebin-control_class124_merge_samebin-5.0/CSVs/3-ways-control_class3_samebin-control_class124_merge_samebin-5.0.csv\"\n",
    "csv_path_c3_2way_samebin = \"../Accident_Data_Preprocessing/CFD_Results/control_class3_samebin-control_class124_merge_samebin-5.0/CSVs/2-ways-control_class3_samebin-control_class124_merge_samebin-5.0.csv\"\n",
    "csv_path_c3_1way_samebin = \"../Accident_Data_Preprocessing/CFD_Results/control_class3_samebin-control_class124_merge_samebin-5.0/CSVs/1-ways-control_class3_samebin-control_class124_merge_samebin-5.0.csv\"\n",
    "csv_path_c4_3way_samebin = \"../Accident_Data_Preprocessing/CFD_Results/control_class4_samebin-control_class123_merge_samebin-5.0/CSVs/3-ways-control_class4_samebin-control_class123_merge_samebin-5.0.csv\"\n",
    "csv_path_c4_2way_samebin = \"../Accident_Data_Preprocessing/CFD_Results/control_class4_samebin-control_class123_merge_samebin-5.0/CSVs/2-ways-control_class4_samebin-control_class123_merge_samebin-5.0.csv\"\n",
    "csv_path_c4_1way_samebin = \"../Accident_Data_Preprocessing/CFD_Results/control_class4_samebin-control_class123_merge_samebin-5.0/CSVs/1-ways-control_class4_samebin-control_class123_merge_samebin-5.0.csv\"\n",
    "\n",
    "\n",
    "# Originally, this notebook subset off the same filtering options for 1 way, 2 way, and 3 way, and combined all 3 filtered\n",
    "# CSVs into one file. However, we have since pivoted away from that, and these messy pieces of code are the remnants.\n",
    "\n",
    "# To use this, simply use the variable \"dfx,\" where x is the number 1, 2, or 3, depending on your t-way.\n",
    "\n",
    "\n",
    "#df1 = pd.read_csv(csv_path_c1_1way_samebin, sep = ';')\n",
    "\n",
    "# 2 way one vs many file paths\n",
    "\n",
    "#df2 = pd.read_csv(\"../Accident_Data_Preprocessing/CFD_Results/samebin_nodist/control_class1_samebin_nodist-control_class234_merge_samebin_nodist-5.0/CSVs/2-ways-control_class1_samebin_nodist-control_class234_merge_samebin_nodist-5.0.csv\", sep = ';')\n",
    "#df2 = pd.read_csv(\"../Accident_Data_Preprocessing/CFD_Results/samebin_nodist/control_class2_samebin_nodist-control_class134_merge_samebin_nodist-5.0/CSVs/2-ways-control_class2_samebin_nodist-control_class134_merge_samebin_nodist-5.0.csv\", sep = ';')\n",
    "#df2 = pd.read_csv(\"../Accident_Data_Preprocessing/CFD_Results/samebin_nodist/control_class3_samebin_nodist-control_class124_merge_samebin_nodist-5.0/CSVs/2-ways-control_class3_samebin_nodist-control_class124_merge_samebin_nodist-5.0.csv\", sep = ';')\n",
    "#df2 = pd.read_csv(\"../Accident_Data_Preprocessing/CFD_Results/samebin_nodist/control_class4_samebin_nodist-control_class123_merge_samebin_nodist-5.0/CSVs/2-ways-control_class4_samebin_nodist-control_class123_merge_samebin_nodist-5.0.csv\", sep = ';')\n",
    "\n",
    "# df3 = pd.read_csv(csv_path_c4_3way_samebin, sep = ';')\n",
    "\n",
    "\n",
    "# 2 way 2 class downsample path\n",
    "df2 = pd.read_csv(\"../Accident_Data_Preprocessing/CFD_Results/samebin_nodist/cont_2c1_sambin_nodis-cont_2c0_sambin_nodis-5.0/CSVs/2-ways-cont_2c1_sambin_nodis-cont_2c0_sambin_nodis-5.0.csv\", sep = ';')\n"
   ]
  },
  {
   "cell_type": "markdown",
   "id": "005bfb19",
   "metadata": {},
   "source": [
    "The following function takes in a 3 way CFD output, filters the type of value combinations (Distinguishing or Unique) as well as the frequency of occurance across the full CFD output, and saves this subset to then export. This has the added benefit of altering the punctuation to be more friendly to parsers like excel."
   ]
  },
  {
   "cell_type": "code",
   "execution_count": 3,
   "id": "ebca51cd",
   "metadata": {},
   "outputs": [
    {
     "name": "stdout",
     "output_type": "stream",
     "text": [
      "     Type  Class                            Variable1  \\\n",
      "0       U      0                    (Street, Beltway)   \n",
      "1       U      0                    (Street, Beltway)   \n",
      "2       U      0                    (Street, Beltway)   \n",
      "3       U      0                    (Street, Beltway)   \n",
      "4       U      0                    (Street, Beltway)   \n",
      "...   ...    ...                                  ...   \n",
      "4222    D      0                    (Street, Beltway)   \n",
      "4226    D      1   (Distance(mi), '\\'(0.5225-inf)\\'')   \n",
      "4228    D      0                    (Street, Beltway)   \n",
      "4229    D      1     (Humidity(%), '\\'(82.5-93.5]\\'')   \n",
      "4231    D      0  (Pressure(in), '\\'(-inf-29.815]\\'')   \n",
      "\n",
      "                                Variable2  \\\n",
      "0                    (Wind_Direction, NW)   \n",
      "1      (Temperature(F), '\\'(76.9-inf)\\'')   \n",
      "2      (Temperature(F), '\\'(76.9-inf)\\'')   \n",
      "3     (Pressure(in), '\\'(-inf-29.815]\\'')   \n",
      "4                    (Wind_Direction, SE)   \n",
      "...                                   ...   \n",
      "4222   (Pressure(in), '\\'(30.055-inf)\\'')   \n",
      "4226                      (Street, local)   \n",
      "4228   (Temperature(F), '\\'(76.9-inf)\\'')   \n",
      "4229           (Weather_Condition, Clear)   \n",
      "4231   (Visibility(mi), '\\'(-inf-9.5]\\'')   \n",
      "\n",
      "                                 Variable3  Frequency  \n",
      "0               (Weather_Condition, Clear)      0.002  \n",
      "1                     (Wind_Direction, SE)      0.002  \n",
      "2               (Weather_Condition, Clear)      0.002  \n",
      "3            (Weather_Condition, Overcast)      0.002  \n",
      "4              (Weather_Condition, Cloudy)      0.002  \n",
      "...                                    ...        ...  \n",
      "4222  (Weather_Condition, 'Mostly Cloudy')      0.006  \n",
      "4226            (Wind_Direction, Variable)      0.004  \n",
      "4228      (Humidity(%), '\\'(55.5-68.5]\\'')      0.005  \n",
      "4229                (Traffic_Signal, True)      0.004  \n",
      "4231    (Weather_Condition, Thunderstorms)      0.002  \n",
      "\n",
      "[4156 rows x 6 columns]\n"
     ]
    }
   ],
   "source": [
    "def clean_data_3way(df):\n",
    "    # Filter rows based on column: 'Type'\n",
    "    #df = df[df['Type'] == \"D\"]\n",
    "    # Filter rows based on column: 'Frequency'\n",
    "    df = df[df['Frequency'] <= 0.01]\n",
    "    # Drop columns: 'Type', 'Class' and 2 other columns\n",
    "    df = df.drop(columns=['Frequency_Difference', \"Unnamed: 7\"])\n",
    "    return df\n",
    "\n",
    "df3_clean = clean_data_3way(df3.copy())\n",
    "print(df3_clean)\n",
    "df3_clean.to_csv(\"../Accident_Data_Preprocessing/Data_Cleaned/control_datasets_bin/control_data_merge_bin/control_data_CFD/control_data_DC_processing/control_class4_3way_samebin_0.01freq_DCs.csv\", index = None, sep = ',')"
   ]
  },
  {
   "cell_type": "markdown",
   "id": "3f62ed7b",
   "metadata": {},
   "source": [
    "The following function takes in a 2 way CFD output, filters the type of value combinations (Distinguishing or Unique) as well as the frequency of occurance across the full CFD output, and saves this subset to then export. This has the added benefit of altering the punctuation to be more friendly to parsers like excel."
   ]
  },
  {
   "cell_type": "code",
   "execution_count": 7,
   "id": "dedf5777",
   "metadata": {},
   "outputs": [
    {
     "name": "stdout",
     "output_type": "stream",
     "text": [
      "    Type  Class                             Variable1  \\\n",
      "0      U      0      (Humidity(%), '\\'(43.5-55.5]\\'')   \n",
      "1      U      1    (Temperature(F), '\\'(76.9-inf)\\'')   \n",
      "115    D      1            (Weather_Condition, Clear)   \n",
      "116    D      1                  (Street, Interstate)   \n",
      "117    D      1                  (Street, Interstate)   \n",
      "118    D      1         (Weather_Condition, Overcast)   \n",
      "119    D      1                     (Street, Beltway)   \n",
      "120    D      1                  (Street, Interstate)   \n",
      "121    D      1                     (Street, Beltway)   \n",
      "122    D      1   (Pressure(in), '\\'(-inf-29.815]\\'')   \n",
      "123    D      0                       (Amenity, True)   \n",
      "124    D      0       (Humidity(%), '\\'(93.5-inf)\\'')   \n",
      "125    D      0                 (Street, on_off_ramp)   \n",
      "126    D      0                 (Street, large_local)   \n",
      "127    D      0             (Weather_Condition, Fair)   \n",
      "128    D      0                       (Amenity, True)   \n",
      "129    D      0                   (Wind_Direction, W)   \n",
      "130    D      0                 (Street, on_off_ramp)   \n",
      "131    D      0                       (Railway, True)   \n",
      "132    D      0                   (Wind_Direction, S)   \n",
      "133    D      0                 (Street, on_off_ramp)   \n",
      "134    D      0                 (Street, large_local)   \n",
      "135    D      0      (Humidity(%), '\\'(-inf-43.5]\\'')   \n",
      "136    D      0                       (Station, True)   \n",
      "137    D      0                       (Railway, True)   \n",
      "138    D      0                (Wind_Direction, Calm)   \n",
      "139    D      1   (Temperature(F), '\\'(46.1-56.9]\\'')   \n",
      "140    D      0                 (Street, on_off_ramp)   \n",
      "141    D      0  (Temperature(F), '\\'(36.95-46.1]\\'')   \n",
      "142    D      0                  (Wind_Direction, NW)   \n",
      "\n",
      "                                   Variable2  Frequency  \n",
      "0                            (Railway, True)      0.001  \n",
      "1          (Weather_Condition, Thunderstorm)      0.001  \n",
      "115                         (Junction, True)      0.038  \n",
      "116               (Weather_Condition, Clear)      0.034  \n",
      "117            (Weather_Condition, Overcast)      0.031  \n",
      "118                         (Junction, True)      0.027  \n",
      "119            (Weather_Condition, Overcast)      0.021  \n",
      "120  (Weather_Condition, 'Scattered Clouds')      0.020  \n",
      "121  (Weather_Condition, 'Scattered Clouds')      0.009  \n",
      "122  (Weather_Condition, 'Scattered Clouds')      0.008  \n",
      "123                         (Crossing, True)      0.004  \n",
      "124        (Weather_Condition, 'Wintry Mix')      0.002  \n",
      "125                         (Junction, True)      0.002  \n",
      "126                          (Railway, True)      0.002  \n",
      "127                          (Railway, True)      0.002  \n",
      "128                          (Station, True)      0.002  \n",
      "129                          (Station, True)      0.002  \n",
      "130              (Weather_Condition, Cloudy)      0.002  \n",
      "131                          (Station, True)      0.001  \n",
      "132                 (Weather_Condition, Fog)      0.001  \n",
      "133                     (Wind_Direction, NW)      0.001  \n",
      "134        (Weather_Condition, 'Wintry Mix')      0.001  \n",
      "135                  (Traffic_Calming, True)      0.001  \n",
      "136                  (Traffic_Calming, True)      0.001  \n",
      "137                   (Traffic_Signal, True)      0.001  \n",
      "138        (Weather_Condition, 'Wintry Mix')      0.001  \n",
      "139             (Weather_Condition, unknown)      0.001  \n",
      "140      (Temperature(F), '\\'(46.1-56.9]\\'')      0.001  \n",
      "141                          (Railway, True)      0.001  \n",
      "142        (Weather_Condition, 'Wintry Mix')      0.001  \n"
     ]
    }
   ],
   "source": [
    "def clean_data_2way(df):\n",
    "    # Filter rows based on column: 'Type'\n",
    "    # df = df[df['Type'] == \"D\"]\n",
    "    # Filter rows based on column: 'Frequency'\n",
    "    df = df[df['Frequency'] >= 0.001]\n",
    "    # Drop columns: 'Type', 'Class' and 2 other columns\n",
    "    df = df.drop(columns=['Frequency_Difference', \"Unnamed: 6\"])\n",
    "    return df\n",
    "\n",
    "df2_clean = clean_data_2way(df2.copy())\n",
    "print(df2_clean)\n",
    "df2_clean.to_csv(\"../Accident_Data_Preprocessing/Data_Cleaned/control_datasets_bin/control_data_merge_bin/control_data_CFD/control_data_DC_processing/cont_2c_2way_sambin__nodis_0.001frq_DCs.csv\", index = None, sep = ',')"
   ]
  },
  {
   "cell_type": "markdown",
   "id": "3bb3a063",
   "metadata": {},
   "source": [
    "The following function takes in a 1 way CFD output, filters the type of value combinations (Distinguishing or Unique) as well as the frequency of occurance across the full CFD output, and saves this subset to then export. This has the added benefit of altering the punctuation to be more friendly to parsers like excel."
   ]
  },
  {
   "cell_type": "code",
   "execution_count": 5,
   "id": "0c68fb6e",
   "metadata": {},
   "outputs": [
    {
     "name": "stdout",
     "output_type": "stream",
     "text": [
      "                                Variable1  Frequency\n",
      "54  (Distance(mi), '\\'(0.0135-0.5225]\\'')      0.320\n",
      "55   (Temperature(F), '\\'(-inf-36.95]\\'')      0.156\n",
      "56          (Weather_Condition, Overcast)      0.070\n"
     ]
    }
   ],
   "source": [
    "def clean_data_1way(df):\n",
    "    # Filter rows based on column: 'Type'\n",
    "    df = df[df['Type'] == \"D\"]\n",
    "    # Filter rows based on column: 'Frequency'\n",
    "    df = df[df['Frequency'] >= 0.05]\n",
    "    # Drop columns: 'Type', 'Class' and 2 other columns\n",
    "    df = df.drop(columns=['Type', 'Class', 'Frequency_Difference', \"Unnamed: 5\"])\n",
    "    return df\n",
    "\n",
    "df1_clean = clean_data_1way(df1.copy())\n",
    "print(df1_clean)\n",
    "#df1_clean.to_csv(\"../Accident_Data_Preprocessing/Data_Cleaned/control_datasets_bin/control_data_merge_bin/control_class2_1way_DCs.csv\", index = None, sep = ',')"
   ]
  },
  {
   "cell_type": "markdown",
   "id": "b1077242",
   "metadata": {},
   "source": [
    "This optional final section is for use if you have saved all 3 t-way output subsets, and wish to include all 3 subsets as one CSV for analysis."
   ]
  },
  {
   "cell_type": "code",
   "execution_count": null,
   "id": "5409c85d",
   "metadata": {},
   "outputs": [],
   "source": [
    "# Create empty cols in 1 and 2 way for formatting reasons\n",
    "df2[\"Variable3\"] = \"\"\n",
    "df1[\"Variable2\"] = \"\"\n",
    "df1[\"Variable3\"] = \"\"\n",
    "# Combine 1/2/3 way subsets\n",
    "df = pd.concat([df3_clean,df2_clean,df1_clean], axis = 0)\n",
    "\n",
    "# Export combination subset file\n",
    "df.to_csv(\"../Accident_Data_Preprocessing/Data_Cleaned/control_datasets_bin/control_data_merge_bin/control_class1_DCs_0.05_freq_samebin.csv\", index = False, sep = ',')"
   ]
  }
 ],
 "metadata": {
  "kernelspec": {
   "display_name": "base",
   "language": "python",
   "name": "python3"
  },
  "language_info": {
   "codemirror_mode": {
    "name": "ipython",
    "version": 3
   },
   "file_extension": ".py",
   "mimetype": "text/x-python",
   "name": "python",
   "nbconvert_exporter": "python",
   "pygments_lexer": "ipython3",
   "version": "3.13.4"
  }
 },
 "nbformat": 4,
 "nbformat_minor": 5
}
