{
 "cells": [
  {
   "cell_type": "code",
   "execution_count": 1,
   "id": "0add908e",
   "metadata": {},
   "outputs": [],
   "source": [
    "import pandas as pd\n",
    "import numpy as np\n",
    "from sklearn.utils import resample"
   ]
  },
  {
   "cell_type": "code",
   "execution_count": 2,
   "id": "54cde265",
   "metadata": {},
   "outputs": [],
   "source": [
    "df = pd.read_csv(\"C:\\\\Users\\\\bkb3\\\\Accident_Data_Preprocessing\\\\Data_Raw\\\\full_data\\\\full_data_2c_nobin.csv\")\n"
   ]
  },
  {
   "cell_type": "code",
   "execution_count": 3,
   "id": "e47c7c2e",
   "metadata": {},
   "outputs": [
    {
     "name": "stdout",
     "output_type": "stream",
     "text": [
      "(104075, 46)\n",
      "(36342, 46)\n"
     ]
    }
   ],
   "source": [
    "c1 = df[df[\"Severity\"] == 1]\n",
    "c0 = df[df[\"Severity\"] == 0]\n",
    "\n",
    "print(c0.shape)\n",
    "print(c1.shape)\n",
    "\n",
    "# 0 is class 1/2\n",
    "# 1 is class 3/4"
   ]
  },
  {
   "cell_type": "code",
   "execution_count": 5,
   "id": "b551f244",
   "metadata": {},
   "outputs": [
    {
     "name": "stdout",
     "output_type": "stream",
     "text": [
      "(36342, 46)\n",
      "(36342, 46)\n"
     ]
    }
   ],
   "source": [
    "c0_downsamp = resample(c0,\n",
    "                       replace=True,\n",
    "                       n_samples=len(c1),\n",
    "                       random_state=49209)\n",
    "\n",
    "print(c0_downsamp.shape)\n",
    "print(c1.shape)"
   ]
  },
  {
   "cell_type": "code",
   "execution_count": 7,
   "id": "f401f984",
   "metadata": {},
   "outputs": [],
   "source": [
    "data_downsampled = pd.concat([c0_downsamp, c1])\n",
    "data_downsampled.reset_index(drop=True, inplace=True)\n",
    "data_downsampled\n",
    "data_downsampled.to_csv(\"C:\\\\Users\\\\bkb3\\\\Accident_Data_Preprocessing\\\\Data_Raw\\\\full_data\\\\full_data_2c_nobin_downsample.csv\", index = False)\n"
   ]
  }
 ],
 "metadata": {
  "kernelspec": {
   "display_name": "base",
   "language": "python",
   "name": "python3"
  },
  "language_info": {
   "codemirror_mode": {
    "name": "ipython",
    "version": 3
   },
   "file_extension": ".py",
   "mimetype": "text/x-python",
   "name": "python",
   "nbconvert_exporter": "python",
   "pygments_lexer": "ipython3",
   "version": "3.13.4"
  }
 },
 "nbformat": 4,
 "nbformat_minor": 5
}
