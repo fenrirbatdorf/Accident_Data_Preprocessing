{
 "cells": [
  {
   "cell_type": "markdown",
   "id": "da37f78c",
   "metadata": {},
   "source": [
    "This notebook takes in the cleaned training data, merged into 2 classes, and with binned continuous variables, to then export the 2 classes separately. This is to prepare the 2 classes training data for CFD input and analysis.\n",
    "\n",
    "Note: The current code shown does take in the 2 class merge version of the data, but was not used with the downsampled training dataset."
   ]
  },
  {
   "cell_type": "code",
   "execution_count": null,
   "id": "28e790f8",
   "metadata": {},
   "outputs": [],
   "source": [
    "# imports\n",
    "import numpy as np\n",
    "import pandas as pd"
   ]
  },
  {
   "cell_type": "code",
   "execution_count": null,
   "id": "c934ddf7",
   "metadata": {},
   "outputs": [],
   "source": [
    "# Cols to carry over to csv output\n",
    "cols = ['Street', 'Temperature(F)', 'Humidity(%)',\n",
    "        'Pressure(in)', 'Visibility(mi)', 'Wind_Direction', 'Weather_Condition',\n",
    "        'Amenity', 'Crossing', 'Junction', 'Railway', 'Station', 'Stop',\n",
    "        'Traffic_Calming', 'Traffic_Signal', 'Sunrise_Sunset', 'Class']\n",
    "\n",
    "# read in training data and training class info\n",
    "X = pd.read_csv(f\"../Data_Cleaned/control_datasets_bin/control_full_data_bin/2class_train_full_binned.csv\")\n",
    "y = pd.read_csv(f\"../Data_Cleaned/control_datasets_bin/control_full_data_bin/control_2class_y_train.csv\")\n",
    "df = pd.concat([X, y], axis=1)\n",
    "\n",
    "# 0 is class 1/2\n",
    "# 1 is class 3/4\n",
    "\n",
    "# Split into class 0 and class 1 subsets, including label col\n",
    "df_c1 = df[df['Class'] != 0]\n",
    "df_c0 = df[df['Class'] != 1]\n",
    "\n",
    "# Export\n",
    "df_c1.to_csv(\"../Data_Cleaned/control_datasets_bin/control_full_data_bin/cont_2c1_sambin_withclass.csv\", columns = cols, index = False)\n",
    "df_c0.to_csv(\"../Data_Cleaned/control_datasets_bin/control_full_data_bin/cont_2c0_sambin_withclass.csv\", columns = cols, index = False)\n"
   ]
  }
 ],
 "metadata": {
  "kernelspec": {
   "display_name": "base",
   "language": "python",
   "name": "python3"
  },
  "language_info": {
   "codemirror_mode": {
    "name": "ipython",
    "version": 3
   },
   "file_extension": ".py",
   "mimetype": "text/x-python",
   "name": "python",
   "nbconvert_exporter": "python",
   "pygments_lexer": "ipython3",
   "version": "3.13.4"
  }
 },
 "nbformat": 4,
 "nbformat_minor": 5
}
