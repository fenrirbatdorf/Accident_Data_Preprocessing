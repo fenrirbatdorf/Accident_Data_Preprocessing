{
 "cells": [
  {
   "cell_type": "code",
   "execution_count": 1,
   "id": "a3d2baf8",
   "metadata": {},
   "outputs": [],
   "source": [
    "# From pipeline textbook chapter, adapted for full accident control data\n",
    "import pandas as pd\n"
   ]
  },
  {
   "cell_type": "code",
   "execution_count": 2,
   "id": "736f49b4",
   "metadata": {},
   "outputs": [
    {
     "name": "stdout",
     "output_type": "stream",
     "text": [
      "[0 0 0 ... 0 1 0]\n",
      "            Street  Temperature(F)  Humidity(%)  Pressure(in)  Visibility(mi)  \\\n",
      "0          Highway            75.0         82.0         29.88            10.0   \n",
      "1          Highway            45.0         89.0         29.44            10.0   \n",
      "2       Interstate            91.0         66.0         29.95            10.0   \n",
      "3            local            80.1         71.0         29.91            10.0   \n",
      "4       Interstate            37.0         62.0         30.40            10.0   \n",
      "...            ...             ...          ...           ...             ...   \n",
      "40335  large_local            33.8         41.0         30.27            10.0   \n",
      "40336  large_local            69.8         60.0         30.20            10.0   \n",
      "40337   Interstate            43.0        100.0         29.74             2.0   \n",
      "40338      Beltway            37.0         79.0         29.81            10.0   \n",
      "40339        local            89.0         48.0         29.27            10.0   \n",
      "\n",
      "      Wind_Direction Weather_Condition  Amenity  Crossing  Junction  Railway  \\\n",
      "0           Variable     Mostly Cloudy    False     False     False    False   \n",
      "1               Calm           Drizzle    False     False     False    False   \n",
      "2                 SE     Partly Cloudy    False     False     False    False   \n",
      "3                 NW     Partly Cloudy    False      True     False     True   \n",
      "4               Calm             Clear    False     False     False    False   \n",
      "...              ...               ...      ...       ...       ...      ...   \n",
      "40335              N          Overcast    False     False     False    False   \n",
      "40336             SE             Clear    False     False     False    False   \n",
      "40337              E           Drizzle    False     False     False    False   \n",
      "40338             NW          Overcast    False     False     False    False   \n",
      "40339             NW     Partly Cloudy    False     False      True    False   \n",
      "\n",
      "       Station   Stop  Traffic_Calming  Traffic_Signal Sunrise_Sunset  \n",
      "0        False  False            False           False            Day  \n",
      "1        False  False            False           False            Day  \n",
      "2        False  False            False           False            Day  \n",
      "3        False   True            False           False            Day  \n",
      "4        False  False            False           False          Night  \n",
      "...        ...    ...              ...             ...            ...  \n",
      "40335    False  False            False           False            Day  \n",
      "40336    False  False            False           False            Day  \n",
      "40337    False  False            False           False          Night  \n",
      "40338    False  False            False           False          Night  \n",
      "40339    False  False            False           False            Day  \n",
      "\n",
      "[40340 rows x 16 columns]\n"
     ]
    }
   ],
   "source": [
    "\n",
    "from sklearn.preprocessing import LabelEncoder\n",
    "X_train = pd.read_csv(\"../Data_Cleaned/train_data/control_2class_X_train.csv\")\n",
    "y_train = pd.read_csv(\"../Data_Cleaned/train_data/control_2class_y_train.csv\")\n",
    "X_test = pd.read_csv(\"../Data_Cleaned/test_data/control_2class_X_test.csv\")\n",
    "y_test = pd.read_csv(\"../Data_Cleaned/test_data/control_2class_y_test.csv\")\n",
    "\n",
    "# Fix np formatting error\n",
    "y_train = y_train.values.ravel()\n",
    "y_test = y_test.values.ravel()\n",
    "\n",
    "le = LabelEncoder()\n",
    "y_train = le.fit_transform(y_train)\n",
    "\n",
    "le.classes_\n",
    "print(y_train)\n",
    "print(X_train)\n"
   ]
  },
  {
   "cell_type": "code",
   "execution_count": 4,
   "id": "df07635c",
   "metadata": {},
   "outputs": [
    {
     "name": "stdout",
     "output_type": "stream",
     "text": [
      "0.657436787307883\n",
      "{'linearsvc__C': np.float64(0.00010018452045446543)}\n"
     ]
    }
   ],
   "source": [
    "import numpy as np\n",
    "import scipy\n",
    "from sklearn.pipeline import make_pipeline\n",
    "from sklearn.model_selection import RandomizedSearchCV\n",
    "from sklearn.preprocessing import StandardScaler, OneHotEncoder\n",
    "from sklearn.decomposition import PCA\n",
    "from sklearn.svm import LinearSVC\n",
    "from sklearn.pipeline import make_pipeline\n",
    "\n",
    "param_range = scipy.stats.loguniform(0.0001, 1000.0)\n",
    "\n",
    "np.random.seed(1)\n",
    "param_range.rvs(2)\n",
    "\n",
    "pipe_svc = make_pipeline(OneHotEncoder(handle_unknown='ignore'),\n",
    "                         StandardScaler(with_mean = False),\n",
    "                         PCA(),\n",
    "                         LinearSVC())\n",
    "\n",
    "param_grid = [{'linearsvc__C': param_range}]\n",
    "\n",
    "rs = RandomizedSearchCV(estimator=pipe_svc,\n",
    "                        param_distributions=param_grid,\n",
    "                        scoring='accuracy',\n",
    "                        refit=True,\n",
    "                        cv=2,\n",
    "                        random_state=1,\n",
    "                        n_jobs=1)\n",
    "\n",
    "\n",
    "rs = rs.fit(X_train, y_train)\n",
    "y_pred = rs.predict(X_test)\n",
    "print(rs.best_score_)\n",
    "print(rs.best_params_)"
   ]
  },
  {
   "cell_type": "code",
   "execution_count": 5,
   "id": "9d3e4423",
   "metadata": {},
   "outputs": [
    {
     "name": "stdout",
     "output_type": "stream",
     "text": [
      "                         precision    recall  f1-score   support\n",
      "\n",
      " class 0 (Low Severity)       0.66      0.75      0.70      5568\n",
      "class 1 (High Severity)       0.70      0.60      0.65      5395\n",
      "\n",
      "               accuracy                           0.68     10963\n",
      "              macro avg       0.68      0.67      0.67     10963\n",
      "           weighted avg       0.68      0.68      0.67     10963\n",
      "\n"
     ]
    }
   ],
   "source": [
    "from sklearn.metrics import classification_report\n",
    "y_true = y_test\n",
    "target_names = ['class 0 (Low Severity)', 'class 1 (High Severity)']\n",
    "print(classification_report(y_true, y_pred, target_names=target_names))"
   ]
  }
 ],
 "metadata": {
  "kernelspec": {
   "display_name": "base",
   "language": "python",
   "name": "python3"
  },
  "language_info": {
   "codemirror_mode": {
    "name": "ipython",
    "version": 3
   },
   "file_extension": ".py",
   "mimetype": "text/x-python",
   "name": "python",
   "nbconvert_exporter": "python",
   "pygments_lexer": "ipython3",
   "version": "3.13.4"
  }
 },
 "nbformat": 4,
 "nbformat_minor": 5
}
