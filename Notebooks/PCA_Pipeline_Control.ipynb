{
 "cells": [
  {
   "cell_type": "markdown",
   "id": "f7291fdf",
   "metadata": {},
   "source": [
    "This notebook serves as the rough outline of the actual pipeline that will be used for the data when it comes time to actually train some models"
   ]
  },
  {
   "cell_type": "code",
   "execution_count": 1,
   "id": "a3d2baf8",
   "metadata": {},
   "outputs": [],
   "source": [
    "# From pipeline textbook chapter, adapted for full accident control data\n",
    "import pandas as pd\n"
   ]
  },
  {
   "cell_type": "code",
   "execution_count": 2,
   "id": "736f49b4",
   "metadata": {},
   "outputs": [
    {
     "data": {
      "text/plain": [
       "array([0, 1])"
      ]
     },
     "execution_count": 2,
     "metadata": {},
     "output_type": "execute_result"
    }
   ],
   "source": [
    "\n",
    "from sklearn.preprocessing import LabelEncoder\n",
    "X_train = pd.read_csv(\"../X_train_census.csv\")\n",
    "y_train = pd.read_csv(\"../y_train_census.csv\")\n",
    "X_test = pd.read_csv(\"../X_test_census.csv\")\n",
    "y_test = pd.read_csv(\"../y_test_census.csv\")\n",
    "\n",
    "df = pd.concat([X_train, y_train], axis = 1)\n",
    "\n",
    "df.drop_duplicates(inplace=True)\n",
    "\n",
    "X_train = df.iloc[:, :-1]\n",
    "y_train = df.label\n",
    "\n",
    "# Fix np formatting error\n",
    "y_train = y_train.values.ravel()\n",
    "y_test = y_test.values.ravel()\n",
    "\n",
    "le = LabelEncoder()\n",
    "y_train = le.fit_transform(y_train)\n",
    "\n",
    "le.classes_\n",
    "#print(y_train)\n",
    "#print(X_train)\n"
   ]
  },
  {
   "cell_type": "code",
   "execution_count": 3,
   "id": "df07635c",
   "metadata": {},
   "outputs": [
    {
     "name": "stdout",
     "output_type": "stream",
     "text": [
      "Best accuracy and model C: Base data, non-PCA\n",
      "0.8397423019463833\n",
      "{'linearsvc__C': np.float64(0.0010648568665651112)}\n"
     ]
    }
   ],
   "source": [
    "import numpy as np\n",
    "import scipy\n",
    "from sklearn.pipeline import make_pipeline\n",
    "from sklearn.model_selection import RandomizedSearchCV\n",
    "from sklearn.preprocessing import StandardScaler, OneHotEncoder\n",
    "from sklearn.decomposition import PCA\n",
    "from sklearn.svm import LinearSVC\n",
    "from sklearn.pipeline import make_pipeline\n",
    "\n",
    "param_range = scipy.stats.loguniform(0.0001, 1000.0)\n",
    "\n",
    "np.random.seed(1)\n",
    "\n",
    "pipe_svc = make_pipeline(OneHotEncoder(handle_unknown='ignore'),\n",
    "                         StandardScaler(with_mean = False),\n",
    "                         LinearSVC())\n",
    "\n",
    "param_grid = [{'linearsvc__C': param_range}]\n",
    "\n",
    "rs = RandomizedSearchCV(estimator=pipe_svc,\n",
    "                        param_distributions=param_grid,\n",
    "                        scoring='accuracy',\n",
    "                        refit=True,\n",
    "                        cv=10,\n",
    "                        random_state=1,\n",
    "                        n_jobs=1)\n",
    "\n",
    "\n",
    "rs = rs.fit(X_train, y_train)\n",
    "y_pred = rs.predict(X_test)\n",
    "print(\"Best accuracy and model C: Base data, non-PCA\")\n",
    "print(rs.best_score_)\n",
    "print(rs.best_params_)"
   ]
  },
  {
   "cell_type": "code",
   "execution_count": 4,
   "id": "9d3e4423",
   "metadata": {},
   "outputs": [
    {
     "name": "stdout",
     "output_type": "stream",
     "text": [
      "Classification Report: Base data, non-PCA\n",
      "              precision    recall  f1-score   support\n",
      "\n",
      "     class 0       0.95      0.95      0.95      7451\n",
      "     class 1       0.95      0.95      0.95      7450\n",
      "\n",
      "    accuracy                           0.95     14901\n",
      "   macro avg       0.95      0.95      0.95     14901\n",
      "weighted avg       0.95      0.95      0.95     14901\n",
      "\n"
     ]
    }
   ],
   "source": [
    "from sklearn.metrics import classification_report\n",
    "y_true = y_test\n",
    "target_names = ['class 0', 'class 1']\n",
    "print(\"Classification Report: Base data, non-PCA\")\n",
    "print(classification_report(y_true, y_pred, target_names=target_names))"
   ]
  },
  {
   "cell_type": "code",
   "execution_count": 5,
   "id": "16e7114f",
   "metadata": {},
   "outputs": [
    {
     "data": {
      "image/png": "[encoded data removed]",
      "text/plain": [
       "<Figure size 640x480 with 2 Axes>"
      ]
     },
     "metadata": {},
     "output_type": "display_data"
    }
   ],
   "source": [
    "import matplotlib.pyplot as plt\n",
    "from sklearn.model_selection import train_test_split\n",
    "from sklearn.ensemble import RandomForestClassifier\n",
    "from sklearn.metrics import confusion_matrix, ConfusionMatrixDisplay\n",
    "\n",
    "cm = confusion_matrix(y_test, y_pred)\n",
    "\n",
    "disp = ConfusionMatrixDisplay(confusion_matrix=cm, display_labels=target_names)\n",
    "disp.plot(cmap=plt.cm.Blues)\n",
    "plt.title('Confusion Matrix')\n",
    "plt.show()"
   ]
  },
  {
   "cell_type": "code",
   "execution_count": 89,
   "id": "419c57d2",
   "metadata": {},
   "outputs": [
    {
     "data": {
      "text/plain": [
       "array([0, 1])"
      ]
     },
     "execution_count": 89,
     "metadata": {},
     "output_type": "execute_result"
    }
   ],
   "source": [
    "X_train = pd.read_csv(\"../X_train_census.csv\")\n",
    "y_train = pd.read_csv(\"../y_train_census.csv\")\n",
    "X_test = pd.read_csv(\"../X_test_census.csv\")\n",
    "y_test = pd.read_csv(\"../y_test_census.csv\")\n",
    "\n",
    "df = pd.concat([X_train, y_train], axis = 1)\n",
    "\n",
    "df.drop_duplicates(inplace=True)\n",
    "\n",
    "X_train = df.iloc[:, :-1]\n",
    "y_train = df.label\n",
    "\n",
    "# Using random num generator, going to drop cols occupation, type employer, race, age, one at a time in that order\n",
    "X_train = X_train.drop(columns=['sex'])\n",
    "X_test = X_test.drop(columns=['sex'])\n",
    "\n",
    "# Fix np formatting error\n",
    "y_train = y_train.values.ravel()\n",
    "y_test = y_test.values.ravel()\n",
    "\n",
    "le = LabelEncoder()\n",
    "y_train = le.fit_transform(y_train)\n",
    "\n",
    "le.classes_\n",
    "#print(y_train)\n",
    "#print(X_train)"
   ]
  },
  {
   "cell_type": "code",
   "execution_count": 90,
   "id": "3eac2af4",
   "metadata": {},
   "outputs": [
    {
     "name": "stdout",
     "output_type": "stream",
     "text": [
      "Test accuracy: 0.948594\n"
     ]
    }
   ],
   "source": [
    "param_range = scipy.stats.loguniform(0.0001, 1000.0)\n",
    "\n",
    "np.random.seed(1)\n",
    "\n",
    "pipe_svc = make_pipeline(OneHotEncoder(handle_unknown='ignore'),\n",
    "                         StandardScaler(with_mean = False),\n",
    "                         LinearSVC(C=0.0010648568665651112, random_state=1))\n",
    "\n",
    "pipe_svc.fit(X_train, y_train)\n",
    "y_pred = pipe_svc.predict(X_test)\n",
    "test_acc = pipe_svc.score(X_test, y_test)\n",
    "print(f'Test accuracy: {test_acc:.6f}')\n",
    "\n"
   ]
  },
  {
   "cell_type": "code",
   "execution_count": 91,
   "id": "1baffc7f",
   "metadata": {},
   "outputs": [
    {
     "name": "stdout",
     "output_type": "stream",
     "text": [
      "Classification Report: CFD Reduced data, non-PCA\n",
      "              precision    recall  f1-score   support\n",
      "\n",
      "     class 0       0.95      0.95      0.95      7451\n",
      "     class 1       0.95      0.95      0.95      7450\n",
      "\n",
      "    accuracy                           0.95     14901\n",
      "   macro avg       0.95      0.95      0.95     14901\n",
      "weighted avg       0.95      0.95      0.95     14901\n",
      "\n"
     ]
    }
   ],
   "source": [
    "y_true = y_test\n",
    "target_names = ['class 0', 'class 1']\n",
    "print(\"Classification Report: CFD Reduced data, non-PCA\")\n",
    "print(classification_report(y_true, y_pred, target_names=target_names))"
   ]
  },
  {
   "cell_type": "code",
   "execution_count": 92,
   "id": "15c99feb",
   "metadata": {},
   "outputs": [
    {
     "data": {
      "image/png": "[encoded data removed]",
      "text/plain": [
       "<Figure size 640x480 with 2 Axes>"
      ]
     },
     "metadata": {},
     "output_type": "display_data"
    }
   ],
   "source": [
    "cm = confusion_matrix(y_test, y_pred)\n",
    "\n",
    "disp = ConfusionMatrixDisplay(confusion_matrix=cm, display_labels=target_names)\n",
    "disp.plot(cmap=plt.cm.Blues)\n",
    "plt.title('Confusion Matrix')\n",
    "plt.show()"
   ]
  },
  {
   "cell_type": "code",
   "execution_count": null,
   "id": "ba5c1f70",
   "metadata": {},
   "outputs": [],
   "source": [
    "# Doesn't work, not sure why\n",
    "from sklearn.model_selection import cross_val_score\n",
    "scores = cross_val_score(estimator=pipe_svc,\n",
    "                         X=X_train,\n",
    "                         y=y_train,\n",
    "                         cv=10,\n",
    "                         n_jobs=1)\n",
    "\n",
    "print(f'CV accuracy scores: {scores}')\n",
    "print(f'CV accuracy: {np.mean(scores):.3f} '\n",
    "      f'+/- {np.std(scores):.3f}')"
   ]
  },
  {
   "cell_type": "code",
   "execution_count": 19,
   "id": "93d1b134",
   "metadata": {},
   "outputs": [
    {
     "name": "stdout",
     "output_type": "stream",
     "text": [
      "CV accuracy scores: [0.80262678 0.79533017 0.81539584 0.81539584 0.82305728 0.8419708\n",
      " 0.85693431 0.86350365 0.88284672 0.87846715]\n",
      "CV accuracy: 0.838 +/- 0.030\n"
     ]
    }
   ],
   "source": [
    "# ORIGINAL CODE FOR TRAINING ON DATA WITH CHOPPED COLS\n",
    "param_range = scipy.stats.loguniform(0.0001, 1000.0)\n",
    "\n",
    "np.random.seed(1)\n",
    "\n",
    "pipe_svc = make_pipeline(OneHotEncoder(handle_unknown='ignore'),\n",
    "                         StandardScaler(with_mean = False),\n",
    "                         LinearSVC(C=0.0010648568665651112))\n",
    "\n",
    "param_grid = [{'linearsvc__C': param_range}]\n",
    "\n",
    "rs = RandomizedSearchCV(estimator=pipe_svc,\n",
    "                        param_distributions=param_grid,\n",
    "                        scoring='accuracy',\n",
    "                        refit=True,\n",
    "                        cv=10,\n",
    "                        random_state=1,\n",
    "                        n_jobs=1)\n",
    "\n",
    "rs = rs.fit(X_train, y_train)\n",
    "y_pred = rs.predict(X_test)\n",
    "print(\"Best accuracy and model C: CFD Reduced data, non-PCA\")\n",
    "print(rs.best_score_)\n",
    "print(rs.best_params_)"
   ]
  },
  {
   "cell_type": "code",
   "execution_count": 8,
   "id": "1cbac72a",
   "metadata": {},
   "outputs": [
    {
     "ename": "ValueError",
     "evalue": "\nAll the 100 fits failed.\nIt is very likely that your model is misconfigured.\nYou can try to debug the error by setting error_score='raise'.\n\nBelow are more details about the failures:\n--------------------------------------------------------------------------------\n100 fits failed with the following error:\nTraceback (most recent call last):\n  File \"c:\\Users\\bkb3\\AppData\\Local\\miniconda3\\Lib\\site-packages\\sklearn\\model_selection\\_validation.py\", line 866, in _fit_and_score\n    estimator.fit(X_train, y_train, **fit_params)\n    ~~~~~~~~~~~~~^^^^^^^^^^^^^^^^^^^^^^^^^^^^^^^^\n  File \"c:\\Users\\bkb3\\AppData\\Local\\miniconda3\\Lib\\site-packages\\sklearn\\base.py\", line 1389, in wrapper\n    return fit_method(estimator, *args, **kwargs)\n  File \"c:\\Users\\bkb3\\AppData\\Local\\miniconda3\\Lib\\site-packages\\sklearn\\pipeline.py\", line 654, in fit\n    Xt = self._fit(X, y, routed_params, raw_params=params)\n  File \"c:\\Users\\bkb3\\AppData\\Local\\miniconda3\\Lib\\site-packages\\sklearn\\pipeline.py\", line 588, in _fit\n    X, fitted_transformer = fit_transform_one_cached(\n                            ~~~~~~~~~~~~~~~~~~~~~~~~^\n        cloned_transformer,\n        ^^^^^^^^^^^^^^^^^^^\n    ...<5 lines>...\n        params=step_params,\n        ^^^^^^^^^^^^^^^^^^^\n    )\n    ^\n  File \"c:\\Users\\bkb3\\AppData\\Local\\miniconda3\\Lib\\site-packages\\joblib\\memory.py\", line 312, in __call__\n    return self.func(*args, **kwargs)\n           ~~~~~~~~~^^^^^^^^^^^^^^^^^\n  File \"c:\\Users\\bkb3\\AppData\\Local\\miniconda3\\Lib\\site-packages\\sklearn\\pipeline.py\", line 1551, in _fit_transform_one\n    res = transformer.fit_transform(X, y, **params.get(\"fit_transform\", {}))\n  File \"c:\\Users\\bkb3\\AppData\\Local\\miniconda3\\Lib\\site-packages\\sklearn\\utils\\_set_output.py\", line 319, in wrapped\n    data_to_wrap = f(self, X, *args, **kwargs)\n  File \"c:\\Users\\bkb3\\AppData\\Local\\miniconda3\\Lib\\site-packages\\sklearn\\base.py\", line 1389, in wrapper\n    return fit_method(estimator, *args, **kwargs)\n  File \"c:\\Users\\bkb3\\AppData\\Local\\miniconda3\\Lib\\site-packages\\sklearn\\decomposition\\_pca.py\", line 468, in fit_transform\n    U, S, _, X, x_is_centered, xp = self._fit(X)\n                                    ~~~~~~~~~^^^\n  File \"c:\\Users\\bkb3\\AppData\\Local\\miniconda3\\Lib\\site-packages\\sklearn\\decomposition\\_pca.py\", line 544, in _fit\n    return self._fit_truncated(X, n_components, xp)\n           ~~~~~~~~~~~~~~~~~~~^^^^^^^^^^^^^^^^^^^^^\n  File \"c:\\Users\\bkb3\\AppData\\Local\\miniconda3\\Lib\\site-packages\\sklearn\\decomposition\\_pca.py\", line 714, in _fit_truncated\n    raise ValueError(\n    ...<2 lines>...\n    )\nValueError: n_components='mle' cannot be a string with svd_solver='arpack'\n",
     "output_type": "error",
     "traceback": [
      "\u001b[31m---------------------------------------------------------------------------\u001b[39m",
      "\u001b[31mValueError\u001b[39m                                Traceback (most recent call last)",
      "\u001b[36mCell\u001b[39m\u001b[36m \u001b[39m\u001b[32mIn[8]\u001b[39m\u001b[32m, line 48\u001b[39m\n\u001b[32m     37\u001b[39m param_grid = [{\u001b[33m'\u001b[39m\u001b[33mlinearsvc__C\u001b[39m\u001b[33m'\u001b[39m: param_range}]\n\u001b[32m     39\u001b[39m rs = RandomizedSearchCV(estimator=pipe_svc,\n\u001b[32m     40\u001b[39m                         param_distributions=param_grid,\n\u001b[32m     41\u001b[39m                         scoring=\u001b[33m'\u001b[39m\u001b[33maccuracy\u001b[39m\u001b[33m'\u001b[39m,\n\u001b[32m   (...)\u001b[39m\u001b[32m     44\u001b[39m                         random_state=\u001b[32m1\u001b[39m,\n\u001b[32m     45\u001b[39m                         n_jobs=\u001b[32m1\u001b[39m)\n\u001b[32m---> \u001b[39m\u001b[32m48\u001b[39m rs = \u001b[43mrs\u001b[49m\u001b[43m.\u001b[49m\u001b[43mfit\u001b[49m\u001b[43m(\u001b[49m\u001b[43mX_train\u001b[49m\u001b[43m,\u001b[49m\u001b[43m \u001b[49m\u001b[43my_train\u001b[49m\u001b[43m)\u001b[49m\n\u001b[32m     49\u001b[39m y_pred = rs.predict(X_test)\n\u001b[32m     51\u001b[39m \u001b[38;5;28mprint\u001b[39m(\u001b[33m\"\u001b[39m\u001b[33mBest accuracy and model C: Base Data, PCA\u001b[39m\u001b[33m\"\u001b[39m)\n",
      "\u001b[36mFile \u001b[39m\u001b[32mc:\\Users\\bkb3\\AppData\\Local\\miniconda3\\Lib\\site-packages\\sklearn\\base.py:1389\u001b[39m, in \u001b[36m_fit_context.<locals>.decorator.<locals>.wrapper\u001b[39m\u001b[34m(estimator, *args, **kwargs)\u001b[39m\n\u001b[32m   1382\u001b[39m     estimator._validate_params()\n\u001b[32m   1384\u001b[39m \u001b[38;5;28;01mwith\u001b[39;00m config_context(\n\u001b[32m   1385\u001b[39m     skip_parameter_validation=(\n\u001b[32m   1386\u001b[39m         prefer_skip_nested_validation \u001b[38;5;129;01mor\u001b[39;00m global_skip_validation\n\u001b[32m   1387\u001b[39m     )\n\u001b[32m   1388\u001b[39m ):\n\u001b[32m-> \u001b[39m\u001b[32m1389\u001b[39m     \u001b[38;5;28;01mreturn\u001b[39;00m \u001b[43mfit_method\u001b[49m\u001b[43m(\u001b[49m\u001b[43mestimator\u001b[49m\u001b[43m,\u001b[49m\u001b[43m \u001b[49m\u001b[43m*\u001b[49m\u001b[43margs\u001b[49m\u001b[43m,\u001b[49m\u001b[43m \u001b[49m\u001b[43m*\u001b[49m\u001b[43m*\u001b[49m\u001b[43mkwargs\u001b[49m\u001b[43m)\u001b[49m\n",
      "\u001b[36mFile \u001b[39m\u001b[32mc:\\Users\\bkb3\\AppData\\Local\\miniconda3\\Lib\\site-packages\\sklearn\\model_selection\\_search.py:1024\u001b[39m, in \u001b[36mBaseSearchCV.fit\u001b[39m\u001b[34m(self, X, y, **params)\u001b[39m\n\u001b[32m   1018\u001b[39m     results = \u001b[38;5;28mself\u001b[39m._format_results(\n\u001b[32m   1019\u001b[39m         all_candidate_params, n_splits, all_out, all_more_results\n\u001b[32m   1020\u001b[39m     )\n\u001b[32m   1022\u001b[39m     \u001b[38;5;28;01mreturn\u001b[39;00m results\n\u001b[32m-> \u001b[39m\u001b[32m1024\u001b[39m \u001b[38;5;28;43mself\u001b[39;49m\u001b[43m.\u001b[49m\u001b[43m_run_search\u001b[49m\u001b[43m(\u001b[49m\u001b[43mevaluate_candidates\u001b[49m\u001b[43m)\u001b[49m\n\u001b[32m   1026\u001b[39m \u001b[38;5;66;03m# multimetric is determined here because in the case of a callable\u001b[39;00m\n\u001b[32m   1027\u001b[39m \u001b[38;5;66;03m# self.scoring the return type is only known after calling\u001b[39;00m\n\u001b[32m   1028\u001b[39m first_test_score = all_out[\u001b[32m0\u001b[39m][\u001b[33m\"\u001b[39m\u001b[33mtest_scores\u001b[39m\u001b[33m\"\u001b[39m]\n",
      "\u001b[36mFile \u001b[39m\u001b[32mc:\\Users\\bkb3\\AppData\\Local\\miniconda3\\Lib\\site-packages\\sklearn\\model_selection\\_search.py:1951\u001b[39m, in \u001b[36mRandomizedSearchCV._run_search\u001b[39m\u001b[34m(self, evaluate_candidates)\u001b[39m\n\u001b[32m   1949\u001b[39m \u001b[38;5;28;01mdef\u001b[39;00m\u001b[38;5;250m \u001b[39m\u001b[34m_run_search\u001b[39m(\u001b[38;5;28mself\u001b[39m, evaluate_candidates):\n\u001b[32m   1950\u001b[39m \u001b[38;5;250m    \u001b[39m\u001b[33;03m\"\"\"Search n_iter candidates from param_distributions\"\"\"\u001b[39;00m\n\u001b[32m-> \u001b[39m\u001b[32m1951\u001b[39m     \u001b[43mevaluate_candidates\u001b[49m\u001b[43m(\u001b[49m\n\u001b[32m   1952\u001b[39m \u001b[43m        \u001b[49m\u001b[43mParameterSampler\u001b[49m\u001b[43m(\u001b[49m\n\u001b[32m   1953\u001b[39m \u001b[43m            \u001b[49m\u001b[38;5;28;43mself\u001b[39;49m\u001b[43m.\u001b[49m\u001b[43mparam_distributions\u001b[49m\u001b[43m,\u001b[49m\u001b[43m \u001b[49m\u001b[38;5;28;43mself\u001b[39;49m\u001b[43m.\u001b[49m\u001b[43mn_iter\u001b[49m\u001b[43m,\u001b[49m\u001b[43m \u001b[49m\u001b[43mrandom_state\u001b[49m\u001b[43m=\u001b[49m\u001b[38;5;28;43mself\u001b[39;49m\u001b[43m.\u001b[49m\u001b[43mrandom_state\u001b[49m\n\u001b[32m   1954\u001b[39m \u001b[43m        \u001b[49m\u001b[43m)\u001b[49m\n\u001b[32m   1955\u001b[39m \u001b[43m    \u001b[49m\u001b[43m)\u001b[49m\n",
      "\u001b[36mFile \u001b[39m\u001b[32mc:\\Users\\bkb3\\AppData\\Local\\miniconda3\\Lib\\site-packages\\sklearn\\model_selection\\_search.py:1001\u001b[39m, in \u001b[36mBaseSearchCV.fit.<locals>.evaluate_candidates\u001b[39m\u001b[34m(candidate_params, cv, more_results)\u001b[39m\n\u001b[32m    994\u001b[39m \u001b[38;5;28;01melif\u001b[39;00m \u001b[38;5;28mlen\u001b[39m(out) != n_candidates * n_splits:\n\u001b[32m    995\u001b[39m     \u001b[38;5;28;01mraise\u001b[39;00m \u001b[38;5;167;01mValueError\u001b[39;00m(\n\u001b[32m    996\u001b[39m         \u001b[33m\"\u001b[39m\u001b[33mcv.split and cv.get_n_splits returned \u001b[39m\u001b[33m\"\u001b[39m\n\u001b[32m    997\u001b[39m         \u001b[33m\"\u001b[39m\u001b[33minconsistent results. Expected \u001b[39m\u001b[38;5;132;01m{}\u001b[39;00m\u001b[33m \u001b[39m\u001b[33m\"\u001b[39m\n\u001b[32m    998\u001b[39m         \u001b[33m\"\u001b[39m\u001b[33msplits, got \u001b[39m\u001b[38;5;132;01m{}\u001b[39;00m\u001b[33m\"\u001b[39m.format(n_splits, \u001b[38;5;28mlen\u001b[39m(out) // n_candidates)\n\u001b[32m    999\u001b[39m     )\n\u001b[32m-> \u001b[39m\u001b[32m1001\u001b[39m \u001b[43m_warn_or_raise_about_fit_failures\u001b[49m\u001b[43m(\u001b[49m\u001b[43mout\u001b[49m\u001b[43m,\u001b[49m\u001b[43m \u001b[49m\u001b[38;5;28;43mself\u001b[39;49m\u001b[43m.\u001b[49m\u001b[43merror_score\u001b[49m\u001b[43m)\u001b[49m\n\u001b[32m   1003\u001b[39m \u001b[38;5;66;03m# For callable self.scoring, the return type is only know after\u001b[39;00m\n\u001b[32m   1004\u001b[39m \u001b[38;5;66;03m# calling. If the return type is a dictionary, the error scores\u001b[39;00m\n\u001b[32m   1005\u001b[39m \u001b[38;5;66;03m# can now be inserted with the correct key. The type checking\u001b[39;00m\n\u001b[32m   1006\u001b[39m \u001b[38;5;66;03m# of out will be done in `_insert_error_scores`.\u001b[39;00m\n\u001b[32m   1007\u001b[39m \u001b[38;5;28;01mif\u001b[39;00m \u001b[38;5;28mcallable\u001b[39m(\u001b[38;5;28mself\u001b[39m.scoring):\n",
      "\u001b[36mFile \u001b[39m\u001b[32mc:\\Users\\bkb3\\AppData\\Local\\miniconda3\\Lib\\site-packages\\sklearn\\model_selection\\_validation.py:517\u001b[39m, in \u001b[36m_warn_or_raise_about_fit_failures\u001b[39m\u001b[34m(results, error_score)\u001b[39m\n\u001b[32m    510\u001b[39m \u001b[38;5;28;01mif\u001b[39;00m num_failed_fits == num_fits:\n\u001b[32m    511\u001b[39m     all_fits_failed_message = (\n\u001b[32m    512\u001b[39m         \u001b[33mf\u001b[39m\u001b[33m\"\u001b[39m\u001b[38;5;130;01m\\n\u001b[39;00m\u001b[33mAll the \u001b[39m\u001b[38;5;132;01m{\u001b[39;00mnum_fits\u001b[38;5;132;01m}\u001b[39;00m\u001b[33m fits failed.\u001b[39m\u001b[38;5;130;01m\\n\u001b[39;00m\u001b[33m\"\u001b[39m\n\u001b[32m    513\u001b[39m         \u001b[33m\"\u001b[39m\u001b[33mIt is very likely that your model is misconfigured.\u001b[39m\u001b[38;5;130;01m\\n\u001b[39;00m\u001b[33m\"\u001b[39m\n\u001b[32m    514\u001b[39m         \u001b[33m\"\u001b[39m\u001b[33mYou can try to debug the error by setting error_score=\u001b[39m\u001b[33m'\u001b[39m\u001b[33mraise\u001b[39m\u001b[33m'\u001b[39m\u001b[33m.\u001b[39m\u001b[38;5;130;01m\\n\u001b[39;00m\u001b[38;5;130;01m\\n\u001b[39;00m\u001b[33m\"\u001b[39m\n\u001b[32m    515\u001b[39m         \u001b[33mf\u001b[39m\u001b[33m\"\u001b[39m\u001b[33mBelow are more details about the failures:\u001b[39m\u001b[38;5;130;01m\\n\u001b[39;00m\u001b[38;5;132;01m{\u001b[39;00mfit_errors_summary\u001b[38;5;132;01m}\u001b[39;00m\u001b[33m\"\u001b[39m\n\u001b[32m    516\u001b[39m     )\n\u001b[32m--> \u001b[39m\u001b[32m517\u001b[39m     \u001b[38;5;28;01mraise\u001b[39;00m \u001b[38;5;167;01mValueError\u001b[39;00m(all_fits_failed_message)\n\u001b[32m    519\u001b[39m \u001b[38;5;28;01melse\u001b[39;00m:\n\u001b[32m    520\u001b[39m     some_fits_failed_message = (\n\u001b[32m    521\u001b[39m         \u001b[33mf\u001b[39m\u001b[33m\"\u001b[39m\u001b[38;5;130;01m\\n\u001b[39;00m\u001b[38;5;132;01m{\u001b[39;00mnum_failed_fits\u001b[38;5;132;01m}\u001b[39;00m\u001b[33m fits failed out of a total of \u001b[39m\u001b[38;5;132;01m{\u001b[39;00mnum_fits\u001b[38;5;132;01m}\u001b[39;00m\u001b[33m.\u001b[39m\u001b[38;5;130;01m\\n\u001b[39;00m\u001b[33m\"\u001b[39m\n\u001b[32m    522\u001b[39m         \u001b[33m\"\u001b[39m\u001b[33mThe score on these train-test partitions for these parameters\u001b[39m\u001b[33m\"\u001b[39m\n\u001b[32m   (...)\u001b[39m\u001b[32m    526\u001b[39m         \u001b[33mf\u001b[39m\u001b[33m\"\u001b[39m\u001b[33mBelow are more details about the failures:\u001b[39m\u001b[38;5;130;01m\\n\u001b[39;00m\u001b[38;5;132;01m{\u001b[39;00mfit_errors_summary\u001b[38;5;132;01m}\u001b[39;00m\u001b[33m\"\u001b[39m\n\u001b[32m    527\u001b[39m     )\n",
      "\u001b[31mValueError\u001b[39m: \nAll the 100 fits failed.\nIt is very likely that your model is misconfigured.\nYou can try to debug the error by setting error_score='raise'.\n\nBelow are more details about the failures:\n--------------------------------------------------------------------------------\n100 fits failed with the following error:\nTraceback (most recent call last):\n  File \"c:\\Users\\bkb3\\AppData\\Local\\miniconda3\\Lib\\site-packages\\sklearn\\model_selection\\_validation.py\", line 866, in _fit_and_score\n    estimator.fit(X_train, y_train, **fit_params)\n    ~~~~~~~~~~~~~^^^^^^^^^^^^^^^^^^^^^^^^^^^^^^^^\n  File \"c:\\Users\\bkb3\\AppData\\Local\\miniconda3\\Lib\\site-packages\\sklearn\\base.py\", line 1389, in wrapper\n    return fit_method(estimator, *args, **kwargs)\n  File \"c:\\Users\\bkb3\\AppData\\Local\\miniconda3\\Lib\\site-packages\\sklearn\\pipeline.py\", line 654, in fit\n    Xt = self._fit(X, y, routed_params, raw_params=params)\n  File \"c:\\Users\\bkb3\\AppData\\Local\\miniconda3\\Lib\\site-packages\\sklearn\\pipeline.py\", line 588, in _fit\n    X, fitted_transformer = fit_transform_one_cached(\n                            ~~~~~~~~~~~~~~~~~~~~~~~~^\n        cloned_transformer,\n        ^^^^^^^^^^^^^^^^^^^\n    ...<5 lines>...\n        params=step_params,\n        ^^^^^^^^^^^^^^^^^^^\n    )\n    ^\n  File \"c:\\Users\\bkb3\\AppData\\Local\\miniconda3\\Lib\\site-packages\\joblib\\memory.py\", line 312, in __call__\n    return self.func(*args, **kwargs)\n           ~~~~~~~~~^^^^^^^^^^^^^^^^^\n  File \"c:\\Users\\bkb3\\AppData\\Local\\miniconda3\\Lib\\site-packages\\sklearn\\pipeline.py\", line 1551, in _fit_transform_one\n    res = transformer.fit_transform(X, y, **params.get(\"fit_transform\", {}))\n  File \"c:\\Users\\bkb3\\AppData\\Local\\miniconda3\\Lib\\site-packages\\sklearn\\utils\\_set_output.py\", line 319, in wrapped\n    data_to_wrap = f(self, X, *args, **kwargs)\n  File \"c:\\Users\\bkb3\\AppData\\Local\\miniconda3\\Lib\\site-packages\\sklearn\\base.py\", line 1389, in wrapper\n    return fit_method(estimator, *args, **kwargs)\n  File \"c:\\Users\\bkb3\\AppData\\Local\\miniconda3\\Lib\\site-packages\\sklearn\\decomposition\\_pca.py\", line 468, in fit_transform\n    U, S, _, X, x_is_centered, xp = self._fit(X)\n                                    ~~~~~~~~~^^^\n  File \"c:\\Users\\bkb3\\AppData\\Local\\miniconda3\\Lib\\site-packages\\sklearn\\decomposition\\_pca.py\", line 544, in _fit\n    return self._fit_truncated(X, n_components, xp)\n           ~~~~~~~~~~~~~~~~~~~^^^^^^^^^^^^^^^^^^^^^\n  File \"c:\\Users\\bkb3\\AppData\\Local\\miniconda3\\Lib\\site-packages\\sklearn\\decomposition\\_pca.py\", line 714, in _fit_truncated\n    raise ValueError(\n    ...<2 lines>...\n    )\nValueError: n_components='mle' cannot be a string with svd_solver='arpack'\n"
     ]
    }
   ],
   "source": [
    "\n",
    "from sklearn.preprocessing import LabelEncoder\n",
    "X_train = pd.read_csv(\"../Data_Cleaned/train_data/control_2class_X_train.csv\")\n",
    "y_train = pd.read_csv(\"../Data_Cleaned/train_data/control_2class_y_train.csv\")\n",
    "X_test = pd.read_csv(\"../Data_Cleaned/test_data/control_2class_X_test.csv\")\n",
    "y_test = pd.read_csv(\"../Data_Cleaned/test_data/control_2class_y_test.csv\")\n",
    "\n",
    "# Fix np formatting error\n",
    "y_train = y_train.values.ravel()\n",
    "y_test = y_test.values.ravel()\n",
    "\n",
    "le = LabelEncoder()\n",
    "y_train = le.fit_transform(y_train)\n",
    "\n",
    "le.classes_\n",
    "#print(y_train)\n",
    "#print(X_train)\n",
    "\n",
    "import numpy as np\n",
    "import scipy\n",
    "from sklearn.pipeline import make_pipeline\n",
    "from sklearn.model_selection import RandomizedSearchCV\n",
    "from sklearn.preprocessing import StandardScaler, OneHotEncoder\n",
    "from sklearn.decomposition import PCA\n",
    "from sklearn.svm import LinearSVC\n",
    "from sklearn.pipeline import make_pipeline\n",
    "\n",
    "param_range = scipy.stats.loguniform(0.0001, 1000.0)\n",
    "\n",
    "np.random.seed(1)\n",
    "param_range.rvs(2)\n",
    "\n",
    "pipe_svc = make_pipeline(OneHotEncoder(handle_unknown='ignore'),\n",
    "                         StandardScaler(with_mean = False),\n",
    "                         PCA(random_state=1),\n",
    "                         LinearSVC())\n",
    "\n",
    "param_grid = [{'linearsvc__C': param_range}]\n",
    "\n",
    "rs = RandomizedSearchCV(estimator=pipe_svc,\n",
    "                        param_distributions=param_grid,\n",
    "                        scoring='accuracy',\n",
    "                        refit=True,\n",
    "                        cv=10,\n",
    "                        random_state=1,\n",
    "                        n_jobs=1)\n",
    "\n",
    "\n",
    "rs = rs.fit(X_train, y_train)\n",
    "y_pred = rs.predict(X_test)\n",
    "\n",
    "print(\"Best accuracy and model C: Base Data, PCA\")\n",
    "print(rs.best_score_)\n",
    "print(rs.best_params_)\n",
    "\n",
    "from sklearn.metrics import classification_report\n",
    "y_true = y_test\n",
    "target_names = ['class 0 (Low Severity)', 'class 1 (High Severity)']\n",
    "print(\"Classification Report: Base Data, PCA\")\n",
    "print(classification_report(y_true, y_pred, target_names=target_names))\n",
    "\n",
    "\n",
    "X_train = pd.read_csv(\"../Data_Cleaned/train_data/control_2class_X_train.csv\")\n",
    "y_train = pd.read_csv(\"../Data_Cleaned/train_data/control_2class_y_train.csv\")\n",
    "X_test = pd.read_csv(\"../Data_Cleaned/test_data/control_2class_X_test.csv\")\n",
    "y_test = pd.read_csv(\"../Data_Cleaned/test_data/control_2class_y_test.csv\")\n",
    "\n",
    "X_train = X_train.drop(columns=['Visibility(mi)', 'Railway', 'Stop', 'Traffic_Calming', 'Sunrise_Sunset'])\n",
    "X_test = X_test.drop(columns=['Visibility(mi)', 'Railway', 'Stop', 'Traffic_Calming', 'Sunrise_Sunset'])\n",
    "\n",
    "# Fix np formatting error\n",
    "y_train = y_train.values.ravel()\n",
    "y_test = y_test.values.ravel()\n",
    "\n",
    "le = LabelEncoder()\n",
    "y_train = le.fit_transform(y_train)\n",
    "\n",
    "le.classes_\n",
    "#print(y_train)\n",
    "#print(X_train)\n",
    "\n",
    "param_range = scipy.stats.loguniform(0.0001, 1000.0)\n",
    "\n",
    "np.random.seed(1)\n",
    "param_range.rvs(2)\n",
    "\n",
    "pipe_svc = make_pipeline(OneHotEncoder(handle_unknown='ignore'),\n",
    "                         StandardScaler(with_mean = False),\n",
    "                         PCA(random_state=1),\n",
    "                         LinearSVC())\n",
    "\n",
    "param_grid = [{'linearsvc__C': param_range}]\n",
    "\n",
    "rs = RandomizedSearchCV(estimator=pipe_svc,\n",
    "                        param_distributions=param_grid,\n",
    "                        scoring='accuracy',\n",
    "                        refit=True,\n",
    "                        cv=10,\n",
    "                        random_state=1,\n",
    "                        n_jobs=1)\n",
    "\n",
    "\n",
    "rs = rs.fit(X_train, y_train)\n",
    "y_pred = rs.predict(X_test)\n",
    "print(\"Best accuracy and model C: CFD Reduced Data, PCA\")\n",
    "print(rs.best_score_)\n",
    "print(rs.best_params_)\n",
    "\n",
    "y_true = y_test\n",
    "target_names = ['class 0 (Low Severity)', 'class 1 (High Severity)']\n",
    "print(\"Classification report: CFD Reduced Data, PCA\")\n",
    "print(classification_report(y_true, y_pred, target_names=target_names))"
   ]
  }
 ],
 "metadata": {
  "kernelspec": {
   "display_name": "base",
   "language": "python",
   "name": "python3"
  },
  "language_info": {
   "codemirror_mode": {
    "name": "ipython",
    "version": 3
   },
   "file_extension": ".py",
   "mimetype": "text/x-python",
   "name": "python",
   "nbconvert_exporter": "python",
   "pygments_lexer": "ipython3",
   "version": "3.13.4"
  }
 },
 "nbformat": 4,
 "nbformat_minor": 5
}
