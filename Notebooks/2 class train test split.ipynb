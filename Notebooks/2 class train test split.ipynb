{
 "cells": [
  {
   "cell_type": "markdown",
   "id": "af35ebad",
   "metadata": {},
   "source": [
    "This notebook is a shorthand \"quick fix\" to read in the full dataset that has been merged into 2 classes and downsampled, and creates a train test split. The training/testing data are saved in the data raw folder, because even though the classes are merged and the data is downsampled, none of the data from this notebook is cleaned."
   ]
  },
  {
   "cell_type": "code",
   "execution_count": 1,
   "id": "3e725d01",
   "metadata": {},
   "outputs": [],
   "source": [
    "# Imports\n",
    "import numpy as np\n",
    "from sklearn.model_selection import train_test_split\n",
    "import pandas as pd\n"
   ]
  },
  {
   "cell_type": "code",
   "execution_count": 2,
   "id": "737039f7",
   "metadata": {},
   "outputs": [],
   "source": [
    "# Read MD data from Git repo\n",
    "df = pd.read_csv('C:\\\\Users\\\\bkb3\\\\Accident_Data_Preprocessing\\\\Data_Raw\\\\full_data\\\\full_data_2c_nobin_downsample.csv')"
   ]
  },
  {
   "cell_type": "code",
   "execution_count": null,
   "id": "db98883f",
   "metadata": {},
   "outputs": [],
   "source": [
    "df.head()\n",
    "df.columns\n",
    "\n",
    "# Cols to keep in exports\n",
    "df_new = df[['Severity', 'ID', 'Source', 'Start_Time', 'End_Time', 'Start_Lat',\n",
    "       'Start_Lng', 'End_Lat', 'End_Lng', 'Distance(mi)', 'Description',\n",
    "       'Street', 'City', 'County', 'State', 'Zipcode', 'Country', 'Timezone',\n",
    "       'Airport_Code', 'Weather_Timestamp', 'Temperature(F)', 'Wind_Chill(F)',\n",
    "       'Humidity(%)', 'Pressure(in)', 'Visibility(mi)', 'Wind_Direction',\n",
    "       'Wind_Speed(mph)', 'Precipitation(in)', 'Weather_Condition', 'Amenity',\n",
    "       'Bump', 'Crossing', 'Give_Way', 'Junction', 'No_Exit', 'Railway',\n",
    "       'Roundabout', 'Station', 'Stop', 'Traffic_Calming', 'Traffic_Signal',\n",
    "       'Turning_Loop', 'Sunrise_Sunset', 'Civil_Twilight', 'Nautical_Twilight',\n",
    "       'Astronomical_Twilight']]\n",
    "\n",
    "# Subset class and rest of the data\n",
    "X = df_new.iloc[:, 1:]\n",
    "y = df_new.Severity\n",
    "\n",
    "# Train test split, seed was randomly generated\n",
    "# via https://www.random.org/ -- random num between 1 and 100000\n",
    "X_train, X_test, y_train, y_test = train_test_split(X, y, \n",
    "                                                    test_size = 0.2, \n",
    "                                                    random_state = 49209,\n",
    "                                                    stratify = y)\n",
    "\n"
   ]
  },
  {
   "cell_type": "code",
   "execution_count": 6,
   "id": "aa0b2564",
   "metadata": {},
   "outputs": [],
   "source": [
    "# Export training set to one folder...\n",
    "X_train.to_csv('C:\\\\Users\\\\bkb3\\\\Accident_Data_Preprocessing\\\\Data_Raw\\\\train_data\\\\X_train_2c_downsamp.csv', index = False)\n",
    "y_train.to_csv('C:\\\\Users\\\\bkb3\\\\Accident_Data_Preprocessing\\\\Data_Raw\\\\train_data\\\\y_train_2c_downsamp.csv', index = False)\n",
    "\n",
    "# ...And testing set to another\n",
    "X_test.to_csv('C:\\\\Users\\\\bkb3\\\\Accident_Data_Preprocessing\\\\Data_Raw\\\\test_data\\\\X_test_2c_downsamp.csv', index = False)\n",
    "y_test.to_csv('C:\\\\Users\\\\bkb3\\\\Accident_Data_Preprocessing\\\\Data_Raw\\\\test_data\\\\y_test_2c_downsamp.csv', index = False)\n"
   ]
  }
 ],
 "metadata": {
  "kernelspec": {
   "display_name": "base",
   "language": "python",
   "name": "python3"
  },
  "language_info": {
   "codemirror_mode": {
    "name": "ipython",
    "version": 3
   },
   "file_extension": ".py",
   "mimetype": "text/x-python",
   "name": "python",
   "nbconvert_exporter": "python",
   "pygments_lexer": "ipython3",
   "version": "3.13.4"
  }
 },
 "nbformat": 4,
 "nbformat_minor": 5
}
