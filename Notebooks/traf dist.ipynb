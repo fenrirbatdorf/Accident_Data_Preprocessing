{
 "cells": [
  {
   "cell_type": "code",
   "execution_count": 1,
   "id": "007f43d7",
   "metadata": {},
   "outputs": [],
   "source": [
    "import pandas as pd\n",
    "import numpy as np"
   ]
  },
  {
   "cell_type": "code",
   "execution_count": 2,
   "id": "0ce672f3",
   "metadata": {},
   "outputs": [],
   "source": [
    "c4 = pd.read_csv(\"../Data_Cleaned/control_datasets_nobin/control_1vsmany/control_c4.csv\")\n",
    "c123 = pd.read_csv(\"../Data_Cleaned/control_datasets_nobin/control_1vsmany/control_c123.csv\")"
   ]
  },
  {
   "cell_type": "code",
   "execution_count": 4,
   "id": "fcb62cc8",
   "metadata": {},
   "outputs": [],
   "source": [
    "c4 = c4[\"Distance(mi)\"]"
   ]
  },
  {
   "cell_type": "code",
   "execution_count": 7,
   "id": "93faa8d8",
   "metadata": {},
   "outputs": [
    {
     "data": {
      "application/vnd.microsoft.datawrangler.viewer.v0+json": {
       "columns": [
        {
         "name": "index",
         "rawType": "object",
         "type": "string"
        },
        {
         "name": "Distance(mi)",
         "rawType": "float64",
         "type": "float"
        }
       ],
       "ref": "0de6c73a-f69a-4a47-85ab-cb7cfd86b94d",
       "rows": [
        [
         "count",
         "6553.0"
        ],
        [
         "mean",
         "0.8218280178993763"
        ],
        [
         "std",
         "1.4687280498690678"
        ],
        [
         "min",
         "0.0"
        ],
        [
         "25%",
         "0.112"
        ],
        [
         "50%",
         "0.326"
        ],
        [
         "75%",
         "0.8220000000000001"
        ],
        [
         "max",
         "32.040000915527344"
        ]
       ],
       "shape": {
        "columns": 1,
        "rows": 8
       }
      },
      "text/plain": [
       "count    6553.000000\n",
       "mean        0.821828\n",
       "std         1.468728\n",
       "min         0.000000\n",
       "25%         0.112000\n",
       "50%         0.326000\n",
       "75%         0.822000\n",
       "max        32.040001\n",
       "Name: Distance(mi), dtype: float64"
      ]
     },
     "execution_count": 7,
     "metadata": {},
     "output_type": "execute_result"
    }
   ],
   "source": [
    "c4.describe()"
   ]
  },
  {
   "cell_type": "code",
   "execution_count": 8,
   "id": "8cc14045",
   "metadata": {},
   "outputs": [],
   "source": [
    "c123 = c123[\"Distance(mi)\"]"
   ]
  },
  {
   "cell_type": "code",
   "execution_count": 9,
   "id": "5b8f4c65",
   "metadata": {},
   "outputs": [
    {
     "data": {
      "application/vnd.microsoft.datawrangler.viewer.v0+json": {
       "columns": [
        {
         "name": "index",
         "rawType": "object",
         "type": "string"
        },
        {
         "name": "Distance(mi)",
         "rawType": "float64",
         "type": "float"
        }
       ],
       "ref": "73d6f5fa-5844-444c-b041-d0cd510a30a3",
       "rows": [
        [
         "count",
         "74619.0"
        ],
        [
         "mean",
         "0.6734050843359279"
        ],
        [
         "std",
         "1.3305996608767925"
        ],
        [
         "min",
         "0.0"
        ],
        [
         "25%",
         "0.0"
        ],
        [
         "50%",
         "0.149"
        ],
        [
         "75%",
         "0.807"
        ],
        [
         "max",
         "55.94600000000001"
        ]
       ],
       "shape": {
        "columns": 1,
        "rows": 8
       }
      },
      "text/plain": [
       "count    74619.000000\n",
       "mean         0.673405\n",
       "std          1.330600\n",
       "min          0.000000\n",
       "25%          0.000000\n",
       "50%          0.149000\n",
       "75%          0.807000\n",
       "max         55.946000\n",
       "Name: Distance(mi), dtype: float64"
      ]
     },
     "execution_count": 9,
     "metadata": {},
     "output_type": "execute_result"
    }
   ],
   "source": [
    "c123.describe()"
   ]
  }
 ],
 "metadata": {
  "kernelspec": {
   "display_name": "base",
   "language": "python",
   "name": "python3"
  },
  "language_info": {
   "codemirror_mode": {
    "name": "ipython",
    "version": 3
   },
   "file_extension": ".py",
   "mimetype": "text/x-python",
   "name": "python",
   "nbconvert_exporter": "python",
   "pygments_lexer": "ipython3",
   "version": "3.13.4"
  }
 },
 "nbformat": 4,
 "nbformat_minor": 5
}
