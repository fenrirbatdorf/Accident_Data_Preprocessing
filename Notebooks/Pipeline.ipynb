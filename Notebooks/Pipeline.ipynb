{
 "cells": [
  {
   "cell_type": "code",
   "execution_count": 1,
   "id": "a3d2baf8",
   "metadata": {},
   "outputs": [],
   "source": [
    "# From pipeline textbook chapter, adapted for full accident control data\n",
    "import pandas as pd\n",
    "df = pd.read_csv('C:\\\\Users\\\\bkb3\\\\Accident_Data_Preprocessing\\\\Data_Cleaned\\\\feat_eng_datasets_unbin\\\\Feat_Eng_Unmerge\\\\feat_eng_ohe.csv', low_memory=False)\n"
   ]
  },
  {
   "cell_type": "code",
   "execution_count": 2,
   "id": "736f49b4",
   "metadata": {},
   "outputs": [
    {
     "data": {
      "text/plain": [
       "array([1, 2, 3, 4])"
      ]
     },
     "execution_count": 2,
     "metadata": {},
     "output_type": "execute_result"
    }
   ],
   "source": [
    "from sklearn.preprocessing import LabelEncoder\n",
    "X = df.iloc[:, 1:].values\n",
    "y = df.iloc[:, 0].values\n",
    "le = LabelEncoder()\n",
    "y = le.fit_transform(y)\n",
    "le.classes_"
   ]
  },
  {
   "cell_type": "code",
   "execution_count": null,
   "id": "4c899f21",
   "metadata": {},
   "outputs": [],
   "source": [
    "from sklearn.model_selection import train_test_split\n",
    "X_train, X_test, y_train, y_test = train_test_split(X, y,\n",
    "                                                    test_size = 0.20,\n",
    "                                                    stratify = y,\n",
    "                                                    random_state = 1)"
   ]
  },
  {
   "cell_type": "code",
   "execution_count": null,
   "id": "abaff7c7",
   "metadata": {},
   "outputs": [
    {
     "name": "stdout",
     "output_type": "stream",
     "text": [
      "Test Accuracy: 0.786\n"
     ]
    }
   ],
   "source": [
    "from sklearn.preprocessing import StandardScaler, OneHotEncoder\n",
    "from sklearn.decomposition import PCA\n",
    "from sklearn.svm import LinearSVC\n",
    "from sklearn.pipeline import make_pipeline\n",
    "\n",
    "# NEED TO FIGURE OUT ONE HOT ENCODER FOR PIPELINE, AND ADD IN FIRST\n",
    "# Chose model based on https://scikit-learn.org/stable/machine_learning_map.html\n",
    "# NEED TO ADD ARGS TO ALL THESE ASAP, AND CONFIRM I AM FOLLOWING HOW IT WORKS PROPERLY\n",
    "pipe_lr = make_pipeline(OneHotEncoder(),\n",
    "                        StandardScaler(),\n",
    "                        PCA(n_components=0.8),\n",
    "                        LinearSVC())\n",
    "\n",
    "pipe_lr.fit(X_train, y_train)\n",
    "y_pred = pipe_lr.predict(X_test)\n",
    "test_acc = pipe_lr.score(X_test, y_test)\n",
    "print(f\"Test Accuracy: {test_acc:.3f}\")"
   ]
  },
  {
   "cell_type": "code",
   "execution_count": null,
   "id": "0feff071",
   "metadata": {},
   "outputs": [
    {
     "name": "stdout",
     "output_type": "stream",
     "text": [
      "CV Accuracy scores: [0.78606295 0.78619529 0.78619529 0.78619529 0.78619529 0.78619529\n",
      " 0.78619529 0.78619529 0.78602694 0.78602694]\n",
      "CV Accuracy: 0.786 +/- 0.000\n"
     ]
    }
   ],
   "source": [
    "from sklearn.model_selection import cross_val_score\n",
    "import numpy as np\n",
    "from sklearn.model_selection import StratifiedKFold\n",
    "\n",
    "scores = cross_val_score(estimator = pipe_lr,\n",
    "                         X = X_train,\n",
    "                         y = y_train,\n",
    "                         cv = 10,\n",
    "                         n_jobs = 1)\n",
    "print(f'CV Accuracy scores: {scores}')\n",
    "print(f'CV Accuracy: {np.mean(scores):.3f} '\n",
    "      f'+/- {np.std(scores):.3f}')"
   ]
  },
  {
   "cell_type": "code",
   "execution_count": 6,
   "id": "70af0f96",
   "metadata": {},
   "outputs": [
    {
     "name": "stdout",
     "output_type": "stream",
     "text": [
      "Fold: 01, Class distr.: [  157 42028  4808  6467], Acc.: 0.786\n",
      "Fold: 02, Class distr.: [  158 42028  4808  6467], Acc.: 0.786\n",
      "Fold: 03, Class distr.: [  158 42028  4808  6467], Acc.: 0.786\n",
      "Fold: 04, Class distr.: [  158 42028  4808  6467], Acc.: 0.786\n",
      "Fold: 05, Class distr.: [  158 42028  4807  6468], Acc.: 0.786\n",
      "Fold: 06, Class distr.: [  158 42028  4807  6468], Acc.: 0.786\n",
      "Fold: 07, Class distr.: [  157 42028  4808  6468], Acc.: 0.786\n",
      "Fold: 08, Class distr.: [  157 42028  4808  6468], Acc.: 0.786\n",
      "Fold: 09, Class distr.: [  157 42029  4808  6467], Acc.: 0.786\n",
      "Fold: 10, Class distr.: [  157 42029  4808  6467], Acc.: 0.786\n",
      "\n",
      "CV accuracy: 0.786 +/- 0.000\n"
     ]
    }
   ],
   "source": [
    "import numpy as np\n",
    "from sklearn.model_selection import StratifiedKFold\n",
    "\n",
    "kfold = StratifiedKFold(n_splits = 10).split(X_train, y_train)\n",
    "scores = []\n",
    "for k, (train, test) in enumerate(kfold):\n",
    "    pipe_lr.fit(X_train[train], y_train[train])\n",
    "    score = pipe_lr.score(X_train[test], y_train[test])\n",
    "    scores.append(score)\n",
    "    print(f'Fold: {k+1:02d}, '\n",
    "          f'Class distr.: {np.bincount(y_train[train])}, '\n",
    "          f'Acc.: {score:.3f}')\n",
    "mean_acc = np.mean(scores)\n",
    "std_acc = np.std(scores)\n",
    "print(f'\\nCV accuracy: {mean_acc:.3f} +/- {std_acc:.3f}')"
   ]
  },
  {
   "cell_type": "code",
   "execution_count": null,
   "id": "a1c19447",
   "metadata": {},
   "outputs": [],
   "source": []
  }
 ],
 "metadata": {
  "kernelspec": {
   "display_name": "base",
   "language": "python",
   "name": "python3"
  },
  "language_info": {
   "codemirror_mode": {
    "name": "ipython",
    "version": 3
   },
   "file_extension": ".py",
   "mimetype": "text/x-python",
   "name": "python",
   "nbconvert_exporter": "python",
   "pygments_lexer": "ipython3",
   "version": "3.13.4"
  }
 },
 "nbformat": 4,
 "nbformat_minor": 5
}
