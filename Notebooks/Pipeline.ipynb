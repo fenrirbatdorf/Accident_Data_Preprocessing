{
 "cells": [
  {
   "cell_type": "markdown",
   "id": "b0c3aaae",
   "metadata": {},
   "source": [
    "This is practice and can be ignored."
   ]
  },
  {
   "cell_type": "code",
   "execution_count": 1,
   "id": "a3d2baf8",
   "metadata": {},
   "outputs": [],
   "source": [
    "# From pipeline textbook chapter, adapted for full accident control data\n",
    "import pandas as pd\n"
   ]
  },
  {
   "cell_type": "code",
   "execution_count": 2,
   "id": "736f49b4",
   "metadata": {},
   "outputs": [
    {
     "name": "stdout",
     "output_type": "stream",
     "text": [
      "[0 0 0 ... 0 1 0]\n",
      "            Street  Temperature(F)  Humidity(%)  Pressure(in)  Visibility(mi)  \\\n",
      "0          Highway            75.0         82.0         29.88            10.0   \n",
      "1          Highway            45.0         89.0         29.44            10.0   \n",
      "2       Interstate            91.0         66.0         29.95            10.0   \n",
      "3            local            80.1         71.0         29.91            10.0   \n",
      "4       Interstate            37.0         62.0         30.40            10.0   \n",
      "...            ...             ...          ...           ...             ...   \n",
      "40335  large_local            33.8         41.0         30.27            10.0   \n",
      "40336  large_local            69.8         60.0         30.20            10.0   \n",
      "40337   Interstate            43.0        100.0         29.74             2.0   \n",
      "40338      Beltway            37.0         79.0         29.81            10.0   \n",
      "40339        local            89.0         48.0         29.27            10.0   \n",
      "\n",
      "      Wind_Direction Weather_Condition  Amenity  Crossing  Junction  Railway  \\\n",
      "0           Variable     Mostly Cloudy    False     False     False    False   \n",
      "1               Calm           Drizzle    False     False     False    False   \n",
      "2                 SE     Partly Cloudy    False     False     False    False   \n",
      "3                 NW     Partly Cloudy    False      True     False     True   \n",
      "4               Calm             Clear    False     False     False    False   \n",
      "...              ...               ...      ...       ...       ...      ...   \n",
      "40335              N          Overcast    False     False     False    False   \n",
      "40336             SE             Clear    False     False     False    False   \n",
      "40337              E           Drizzle    False     False     False    False   \n",
      "40338             NW          Overcast    False     False     False    False   \n",
      "40339             NW     Partly Cloudy    False     False      True    False   \n",
      "\n",
      "       Station   Stop  Traffic_Calming  Traffic_Signal Sunrise_Sunset  \n",
      "0        False  False            False           False            Day  \n",
      "1        False  False            False           False            Day  \n",
      "2        False  False            False           False            Day  \n",
      "3        False   True            False           False            Day  \n",
      "4        False  False            False           False          Night  \n",
      "...        ...    ...              ...             ...            ...  \n",
      "40335    False  False            False           False            Day  \n",
      "40336    False  False            False           False            Day  \n",
      "40337    False  False            False           False          Night  \n",
      "40338    False  False            False           False          Night  \n",
      "40339    False  False            False           False            Day  \n",
      "\n",
      "[40340 rows x 16 columns]\n"
     ]
    }
   ],
   "source": [
    "\n",
    "from sklearn.preprocessing import LabelEncoder\n",
    "X_train = pd.read_csv(\"../Data_Cleaned/train_data/control_2class_X_train.csv\")\n",
    "y_train = pd.read_csv(\"../Data_Cleaned/train_data/control_2class_y_train.csv\")\n",
    "X_test = pd.read_csv(\"../Data_Cleaned/test_data/control_2class_X_test.csv\")\n",
    "y_test = pd.read_csv(\"../Data_Cleaned/test_data/control_2class_y_test.csv\")\n",
    "\n",
    "# Fix np formatting error\n",
    "y_train = y_train.values.ravel()\n",
    "y_test = y_test.values.ravel()\n",
    "\n",
    "le = LabelEncoder()\n",
    "y_train = le.fit_transform(y_train)\n",
    "\n",
    "le.classes_\n",
    "print(y_train)\n",
    "print(X_train)\n"
   ]
  },
  {
   "cell_type": "code",
   "execution_count": 9,
   "id": "df07635c",
   "metadata": {},
   "outputs": [
    {
     "name": "stdout",
     "output_type": "stream",
     "text": [
      "0.6602379771938522\n",
      "{'linearsvc__C': np.float64(955.6385850092383)}\n"
     ]
    }
   ],
   "source": [
    "import numpy as np\n",
    "import scipy\n",
    "from sklearn.pipeline import make_pipeline\n",
    "from sklearn.model_selection import RandomizedSearchCV\n",
    "from sklearn.preprocessing import StandardScaler, OneHotEncoder\n",
    "from sklearn.decomposition import PCA\n",
    "from sklearn.svm import LinearSVC\n",
    "from sklearn.pipeline import make_pipeline\n",
    "\n",
    "param_range = scipy.stats.loguniform(0.0001, 1000.0)\n",
    "\n",
    "np.random.seed(1)\n",
    "param_range.rvs(10)\n",
    "\n",
    "pipe_svc = make_pipeline(OneHotEncoder(handle_unknown='ignore'),\n",
    "                         StandardScaler(with_mean = False),\n",
    "                         PCA(n_components=10),\n",
    "                         LinearSVC())\n",
    "\n",
    "param_grid = [{'linearsvc__C': param_range},\n",
    "              {'linearsvc__C': param_range}]\n",
    "\n",
    "rs = RandomizedSearchCV(estimator=pipe_svc,\n",
    "                        param_distributions=param_grid,\n",
    "                        scoring='accuracy',\n",
    "                        refit=True,\n",
    "                        n_iter=20,\n",
    "                        cv=10,\n",
    "                        random_state=1,\n",
    "                        n_jobs=1)\n",
    "\n",
    "rs = rs.fit(X_train, y_train)\n",
    "print(rs.best_score_)\n",
    "print(rs.best_params_)"
   ]
  },
  {
   "cell_type": "code",
   "execution_count": null,
   "id": "abaff7c7",
   "metadata": {},
   "outputs": [
    {
     "name": "stdout",
     "output_type": "stream",
     "text": [
      "Test Accuracy: 0.673\n"
     ]
    }
   ],
   "source": [
    "\n",
    "\n",
    "# NEED TO FIGURE OUT ONE HOT ENCODER FOR PIPELINE, AND ADD IN FIRST\n",
    "# Chose model based on https://scikit-learn.org/stable/machine_learning_map.html\n",
    "# NEED TO ADD ARGS TO ALL THESE ASAP, AND CONFIRM I AM FOLLOWING HOW IT WORKS PROPERLY\n",
    "\n",
    "pipe = make_pipeline(OneHotEncoder(handle_unknown='ignore'),\n",
    "                     StandardScaler(with_mean=False),\n",
    "                     PCA(n_components=10),\n",
    "                     LinearSVC())\n",
    "\n",
    "pipe.fit(X_train, y_train)\n",
    "y_pred = pipe.predict(X_test)\n",
    "test_acc = pipe.score(X_test, y_test)\n",
    "print(f\"Test Accuracy: {test_acc:.3f}\")"
   ]
  },
  {
   "cell_type": "code",
   "execution_count": null,
   "id": "3f632695",
   "metadata": {},
   "outputs": [],
   "source": []
  },
  {
   "cell_type": "code",
   "execution_count": null,
   "id": "0feff071",
   "metadata": {},
   "outputs": [
    {
     "name": "stdout",
     "output_type": "stream",
     "text": [
      "CV Accuracy scores: [0.78606295 0.78619529 0.78619529 0.78619529 0.78619529 0.78619529\n",
      " 0.78619529 0.78619529 0.78602694 0.78602694]\n",
      "CV Accuracy: 0.786 +/- 0.000\n"
     ]
    }
   ],
   "source": [
    "from sklearn.model_selection import cross_val_score\n",
    "import numpy as np\n",
    "from sklearn.model_selection import StratifiedKFold\n",
    "\n",
    "scores = cross_val_score(estimator = pipe_lr,\n",
    "                         X = X_train,\n",
    "                         y = y_train,\n",
    "                         cv = 10,\n",
    "                         n_jobs = 1)\n",
    "print(f'CV Accuracy scores: {scores}')\n",
    "print(f'CV Accuracy: {np.mean(scores):.3f} '\n",
    "      f'+/- {np.std(scores):.3f}')"
   ]
  },
  {
   "cell_type": "code",
   "execution_count": 6,
   "id": "70af0f96",
   "metadata": {},
   "outputs": [
    {
     "name": "stdout",
     "output_type": "stream",
     "text": [
      "Fold: 01, Class distr.: [  157 42028  4808  6467], Acc.: 0.786\n",
      "Fold: 02, Class distr.: [  158 42028  4808  6467], Acc.: 0.786\n",
      "Fold: 03, Class distr.: [  158 42028  4808  6467], Acc.: 0.786\n",
      "Fold: 04, Class distr.: [  158 42028  4808  6467], Acc.: 0.786\n",
      "Fold: 05, Class distr.: [  158 42028  4807  6468], Acc.: 0.786\n",
      "Fold: 06, Class distr.: [  158 42028  4807  6468], Acc.: 0.786\n",
      "Fold: 07, Class distr.: [  157 42028  4808  6468], Acc.: 0.786\n",
      "Fold: 08, Class distr.: [  157 42028  4808  6468], Acc.: 0.786\n",
      "Fold: 09, Class distr.: [  157 42029  4808  6467], Acc.: 0.786\n",
      "Fold: 10, Class distr.: [  157 42029  4808  6467], Acc.: 0.786\n",
      "\n",
      "CV accuracy: 0.786 +/- 0.000\n"
     ]
    }
   ],
   "source": [
    "import numpy as np\n",
    "from sklearn.model_selection import StratifiedKFold\n",
    "\n",
    "kfold = StratifiedKFold(n_splits = 10).split(X_train, y_train)\n",
    "scores = []\n",
    "for k, (train, test) in enumerate(kfold):\n",
    "    pipe_lr.fit(X_train[train], y_train[train])\n",
    "    score = pipe_lr.score(X_train[test], y_train[test])\n",
    "    scores.append(score)\n",
    "    print(f'Fold: {k+1:02d}, '\n",
    "          f'Class distr.: {np.bincount(y_train[train])}, '\n",
    "          f'Acc.: {score:.3f}')\n",
    "mean_acc = np.mean(scores)\n",
    "std_acc = np.std(scores)\n",
    "print(f'\\nCV accuracy: {mean_acc:.3f} +/- {std_acc:.3f}')"
   ]
  },
  {
   "cell_type": "code",
   "execution_count": null,
   "id": "a1c19447",
   "metadata": {},
   "outputs": [],
   "source": []
  }
 ],
 "metadata": {
  "kernelspec": {
   "display_name": "base",
   "language": "python",
   "name": "python3"
  },
  "language_info": {
   "codemirror_mode": {
    "name": "ipython",
    "version": 3
   },
   "file_extension": ".py",
   "mimetype": "text/x-python",
   "name": "python",
   "nbconvert_exporter": "python",
   "pygments_lexer": "ipython3",
   "version": "3.13.4"
  }
 },
 "nbformat": 4,
 "nbformat_minor": 5
}
