{
 "cells": [
  {
   "cell_type": "markdown",
   "id": "236657c7",
   "metadata": {},
   "source": [
    "paths for class 4 vs class 123 (not including class columns)\n",
    "Data_Cleaned\\control_datasets_nobin\\control_1vsmany\\control_c4.csv\n",
    "Data_Cleaned\\control_datasets_nobin\\control_1vsmany\\control_c123.csv"
   ]
  },
  {
   "cell_type": "code",
   "execution_count": 1,
   "id": "c5c04df5",
   "metadata": {},
   "outputs": [],
   "source": [
    "import pandas as pd\n",
    "import numpy as np\n",
    "import matplotlib.pyplot as plt"
   ]
  },
  {
   "cell_type": "code",
   "execution_count": 2,
   "id": "513c564a",
   "metadata": {},
   "outputs": [],
   "source": [
    "X = pd.read_csv(\"../Data_Cleaned/train_data/X_train_control.csv\")\n",
    "y = pd.read_csv(\"../Data_Cleaned/train_data/y_train_control.csv\")\n",
    "\n",
    "df = pd.concat([X, y], axis=1)\n",
    "\n",
    "c1 = df[df['Class'] == 1]\n",
    "c123 = df[df['Class'].isin([1,2,3])]\n",
    "c2 = df[df['Class'] == 2]\n",
    "c3 = df[df['Class'] == 3]\n",
    "c4 = df[df['Class'] == 4]"
   ]
  },
  {
   "cell_type": "code",
   "execution_count": 32,
   "id": "aa7cc541",
   "metadata": {},
   "outputs": [],
   "source": [
    "df_dum = pd.get_dummies(df, \n",
    "               prefix=None, \n",
    "               prefix_sep='_', \n",
    "               dummy_na=False, \n",
    "               columns=None, \n",
    "               sparse=False, \n",
    "               drop_first=False, \n",
    "               dtype=None\n",
    "               )\n",
    "\n",
    "c123_dum = pd.get_dummies(c123, \n",
    "                        prefix=None, \n",
    "                        prefix_sep='_', \n",
    "                        dummy_na=False, \n",
    "                        columns=None, \n",
    "                        sparse=False, \n",
    "                        drop_first=False, \n",
    "                        dtype=None\n",
    "                        )\n",
    "\n",
    "c2_dum = pd.get_dummies(c2, \n",
    "                        prefix=None, \n",
    "                        prefix_sep='_', \n",
    "                        dummy_na=False, \n",
    "                        columns=None, \n",
    "                        sparse=False, \n",
    "                        drop_first=False, \n",
    "                        dtype=None\n",
    "                        )\n",
    "\n",
    "c3_dum = pd.get_dummies(c3, \n",
    "                        prefix=None, \n",
    "                        prefix_sep='_', \n",
    "                        dummy_na=False, \n",
    "                        columns=None, \n",
    "                        sparse=False, \n",
    "                        drop_first=False, \n",
    "                        dtype=None\n",
    "                        )\n",
    "\n",
    "c4_dum = pd.get_dummies(c4, \n",
    "                        prefix=None, \n",
    "                        prefix_sep='_', \n",
    "                        dummy_na=False,\n",
    "                        columns=None, \n",
    "                        sparse=False, \n",
    "                        drop_first=False, \n",
    "                        dtype=None)"
   ]
  },
  {
   "cell_type": "code",
   "execution_count": 42,
   "id": "9eb6ea22",
   "metadata": {},
   "outputs": [
    {
     "data": {
      "application/vnd.microsoft.datawrangler.viewer.v0+json": {
       "columns": [
        {
         "name": "index",
         "rawType": "object",
         "type": "string"
        },
        {
         "name": "0",
         "rawType": "float64",
         "type": "float"
        }
       ],
       "ref": "00c15047-b306-457d-b47b-d5dacadf2153",
       "rows": [
        [
         "Distance(mi)",
         "-0.03322698798092547"
        ],
        [
         "Temperature(F)",
         "0.010332888192232915"
        ],
        [
         "Humidity(%)",
         "0.012672794432765611"
        ],
        [
         "Pressure(in)",
         "0.045333835152341274"
        ],
        [
         "Visibility(mi)",
         "-0.0017633821675929785"
        ],
        [
         "Amenity",
         "-0.013730580097376351"
        ],
        [
         "Crossing",
         "-0.054403629435200176"
        ],
        [
         "Junction",
         "0.04242269313381627"
        ],
        [
         "Railway",
         "-0.006847432892815817"
        ],
        [
         "Station",
         "-0.01930757526127158"
        ],
        [
         "Stop",
         "0.011373088864740078"
        ],
        [
         "Traffic_Calming",
         "-0.011361345820407697"
        ],
        [
         "Traffic_Signal",
         "-0.035068419806119785"
        ],
        [
         "Class",
         "0.9999999999999998"
        ],
        [
         "Street_Beltway",
         "-0.013523159462865269"
        ],
        [
         "Street_Highway",
         "-0.02345844469738462"
        ],
        [
         "Street_Interstate",
         "0.04187623566953022"
        ],
        [
         "Street_Tunnel",
         "0.002028553944159244"
        ],
        [
         "Street_large_local",
         "-0.014480475609789337"
        ],
        [
         "Street_local",
         "0.006120625186680108"
        ],
        [
         "Street_on_off_ramp",
         "-0.00815130379745484"
        ],
        [
         "Wind_Direction_Calm",
         "0.0021355900324586483"
        ],
        [
         "Wind_Direction_E",
         "0.00971980141954682"
        ],
        [
         "Wind_Direction_N",
         "-0.007182400412505736"
        ],
        [
         "Wind_Direction_NE",
         "0.00025211384849715133"
        ],
        [
         "Wind_Direction_NW",
         "-0.010529624289625847"
        ],
        [
         "Wind_Direction_S",
         "-0.008103853214998373"
        ],
        [
         "Wind_Direction_SE",
         "0.011239029319191936"
        ],
        [
         "Wind_Direction_SW",
         "-0.0018925234689023966"
        ],
        [
         "Wind_Direction_Variable",
         "0.015624415550539112"
        ],
        [
         "Wind_Direction_W",
         "0.0008771631861626513"
        ],
        [
         "Wind_Direction_unknown",
         "-0.005723080791132106"
        ],
        [
         "Weather_Condition_Clear",
         "0.1473108712094828"
        ],
        [
         "Weather_Condition_Cloudy",
         "-0.07183007868205937"
        ],
        [
         "Weather_Condition_Drizzle",
         "-0.0026498655005688545"
        ],
        [
         "Weather_Condition_Fair",
         "-0.12630358985044493"
        ],
        [
         "Weather_Condition_Fog",
         "-0.011859862907217977"
        ],
        [
         "Weather_Condition_Freezing Rain",
         "-0.004557383735839393"
        ],
        [
         "Weather_Condition_Hail",
         "-0.0055817355124561695"
        ],
        [
         "Weather_Condition_Haze",
         "0.004027006577111913"
        ],
        [
         "Weather_Condition_Heavy Rain",
         "0.00010034468256454178"
        ],
        [
         "Weather_Condition_Heavy Sleet",
         "-0.0037080458898687985"
        ],
        [
         "Weather_Condition_Ice Pellets",
         "0.012523684092962206"
        ],
        [
         "Weather_Condition_Light Freezing Fog",
         "0.0006995288526092658"
        ],
        [
         "Weather_Condition_Light Freezing Rain",
         "0.010870317461111728"
        ],
        [
         "Weather_Condition_Light Snow and Sleet",
         "-0.005581735512456177"
        ],
        [
         "Weather_Condition_Mostly Cloudy",
         "0.018665729405090477"
        ],
        [
         "Weather_Condition_Overcast",
         "0.11613115532235668"
        ],
        [
         "Weather_Condition_Partly Cloudy",
         "-0.011211848586407919"
        ],
        [
         "Weather_Condition_Rain",
         "-0.0016134344329364282"
        ]
       ],
       "shape": {
        "columns": 1,
        "rows": 65
       }
      },
      "text/plain": [
       "Distance(mi)                   -0.033227\n",
       "Temperature(F)                  0.010333\n",
       "Humidity(%)                     0.012673\n",
       "Pressure(in)                    0.045334\n",
       "Visibility(mi)                 -0.001763\n",
       "                                  ...   \n",
       "Weather_Condition_Windy        -0.006249\n",
       "Weather_Condition_Wintry Mix   -0.017901\n",
       "Weather_Condition_unknown       0.017339\n",
       "Sunrise_Sunset_Day             -0.015281\n",
       "Sunrise_Sunset_Night            0.015281\n",
       "Length: 65, dtype: float64"
      ]
     },
     "execution_count": 42,
     "metadata": {},
     "output_type": "execute_result"
    }
   ],
   "source": [
    "#df_dum.corrwith(df['Class'])\n",
    "#c4_dum.corrwith(c4_dum['Class'])\n",
    "#c123_dum.corrwith(c123_dum['Class'])\n",
    "df_dum.corrwith(df_dum['Class'])\n"
   ]
  },
  {
   "cell_type": "code",
   "execution_count": 31,
   "id": "a71013a0",
   "metadata": {},
   "outputs": [
    {
     "name": "stderr",
     "output_type": "stream",
     "text": [
      "c:\\Users\\bkb3\\AppData\\Local\\miniconda3\\Lib\\site-packages\\numpy\\lib\\_function_base_impl.py:3045: RuntimeWarning: invalid value encountered in divide\n",
      "  c /= stddev[:, None]\n",
      "c:\\Users\\bkb3\\AppData\\Local\\miniconda3\\Lib\\site-packages\\numpy\\lib\\_function_base_impl.py:3046: RuntimeWarning: invalid value encountered in divide\n",
      "  c /= stddev[None, :]\n"
     ]
    },
    {
     "data": {
      "application/vnd.microsoft.datawrangler.viewer.v0+json": {
       "columns": [
        {
         "name": "index",
         "rawType": "object",
         "type": "string"
        },
        {
         "name": "0",
         "rawType": "float64",
         "type": "float"
        }
       ],
       "ref": "7525b39f-12d1-47aa-ae1d-2d40c947ce31",
       "rows": [
        [
         "Distance(mi)",
         null
        ],
        [
         "Temperature(F)",
         null
        ],
        [
         "Humidity(%)",
         null
        ],
        [
         "Pressure(in)",
         null
        ],
        [
         "Visibility(mi)",
         null
        ],
        [
         "Amenity",
         null
        ],
        [
         "Crossing",
         null
        ],
        [
         "Junction",
         null
        ],
        [
         "Railway",
         null
        ],
        [
         "Station",
         null
        ],
        [
         "Stop",
         null
        ],
        [
         "Traffic_Calming",
         null
        ],
        [
         "Traffic_Signal",
         null
        ],
        [
         "Class",
         null
        ],
        [
         "Sunrise_Sunset_Day",
         null
        ],
        [
         "Sunrise_Sunset_Night",
         null
        ]
       ],
       "shape": {
        "columns": 1,
        "rows": 16
       }
      },
      "text/plain": [
       "Distance(mi)           NaN\n",
       "Temperature(F)         NaN\n",
       "Humidity(%)            NaN\n",
       "Pressure(in)           NaN\n",
       "Visibility(mi)         NaN\n",
       "Amenity                NaN\n",
       "Crossing               NaN\n",
       "Junction               NaN\n",
       "Railway                NaN\n",
       "Station                NaN\n",
       "Stop                   NaN\n",
       "Traffic_Calming        NaN\n",
       "Traffic_Signal         NaN\n",
       "Class                  NaN\n",
       "Sunrise_Sunset_Day     NaN\n",
       "Sunrise_Sunset_Night   NaN\n",
       "dtype: float64"
      ]
     },
     "execution_count": 31,
     "metadata": {},
     "output_type": "execute_result"
    }
   ],
   "source": [
    "#c4.drop(columns=['Street','Wind_Direction','Weather_Condition'], inplace=True)\n",
    "c4_dum = pd.get_dummies(c4, \n",
    "                        prefix=None, \n",
    "                        prefix_sep='_', \n",
    "                        dummy_na=False)\n",
    "\n",
    "c4_dum.corrwith(c4_dum['Class'])"
   ]
  },
  {
   "cell_type": "code",
   "execution_count": 24,
   "id": "1bf189a6",
   "metadata": {},
   "outputs": [
    {
     "name": "stderr",
     "output_type": "stream",
     "text": [
      "c:\\Users\\bkb3\\AppData\\Local\\miniconda3\\Lib\\site-packages\\numpy\\lib\\_function_base_impl.py:3045: RuntimeWarning: invalid value encountered in divide\n",
      "  c /= stddev[:, None]\n",
      "c:\\Users\\bkb3\\AppData\\Local\\miniconda3\\Lib\\site-packages\\numpy\\lib\\_function_base_impl.py:3046: RuntimeWarning: invalid value encountered in divide\n",
      "  c /= stddev[None, :]\n"
     ]
    },
    {
     "ename": "ValueError",
     "evalue": "could not convert string to float: 'Day'",
     "output_type": "error",
     "traceback": [
      "\u001b[31m---------------------------------------------------------------------------\u001b[39m",
      "\u001b[31mValueError\u001b[39m                                Traceback (most recent call last)",
      "\u001b[36mCell\u001b[39m\u001b[36m \u001b[39m\u001b[32mIn[24]\u001b[39m\u001b[32m, line 1\u001b[39m\n\u001b[32m----> \u001b[39m\u001b[32m1\u001b[39m \u001b[43mc4\u001b[49m\u001b[43m.\u001b[49m\u001b[43mcorrwith\u001b[49m\u001b[43m(\u001b[49m\u001b[43mc4\u001b[49m\u001b[43m[\u001b[49m\u001b[33;43m'\u001b[39;49m\u001b[33;43mClass\u001b[39;49m\u001b[33;43m'\u001b[39;49m\u001b[43m]\u001b[49m\u001b[43m)\u001b[49m\n",
      "\u001b[36mFile \u001b[39m\u001b[32mc:\\Users\\bkb3\\AppData\\Local\\miniconda3\\Lib\\site-packages\\pandas\\core\\frame.py:11295\u001b[39m, in \u001b[36mDataFrame.corrwith\u001b[39m\u001b[34m(self, other, axis, drop, method, numeric_only)\u001b[39m\n\u001b[32m  11292\u001b[39m this = \u001b[38;5;28mself\u001b[39m._get_numeric_data() \u001b[38;5;28;01mif\u001b[39;00m numeric_only \u001b[38;5;28;01melse\u001b[39;00m \u001b[38;5;28mself\u001b[39m\n\u001b[32m  11294\u001b[39m \u001b[38;5;28;01mif\u001b[39;00m \u001b[38;5;28misinstance\u001b[39m(other, Series):\n\u001b[32m> \u001b[39m\u001b[32m11295\u001b[39m     \u001b[38;5;28;01mreturn\u001b[39;00m \u001b[43mthis\u001b[49m\u001b[43m.\u001b[49m\u001b[43mapply\u001b[49m\u001b[43m(\u001b[49m\u001b[38;5;28;43;01mlambda\u001b[39;49;00m\u001b[43m \u001b[49m\u001b[43mx\u001b[49m\u001b[43m:\u001b[49m\u001b[43m \u001b[49m\u001b[43mother\u001b[49m\u001b[43m.\u001b[49m\u001b[43mcorr\u001b[49m\u001b[43m(\u001b[49m\u001b[43mx\u001b[49m\u001b[43m,\u001b[49m\u001b[43m \u001b[49m\u001b[43mmethod\u001b[49m\u001b[43m=\u001b[49m\u001b[43mmethod\u001b[49m\u001b[43m)\u001b[49m\u001b[43m,\u001b[49m\u001b[43m \u001b[49m\u001b[43maxis\u001b[49m\u001b[43m=\u001b[49m\u001b[43maxis\u001b[49m\u001b[43m)\u001b[49m\n\u001b[32m  11297\u001b[39m \u001b[38;5;28;01mif\u001b[39;00m numeric_only:\n\u001b[32m  11298\u001b[39m     other = other._get_numeric_data()\n",
      "\u001b[36mFile \u001b[39m\u001b[32mc:\\Users\\bkb3\\AppData\\Local\\miniconda3\\Lib\\site-packages\\pandas\\core\\frame.py:10374\u001b[39m, in \u001b[36mDataFrame.apply\u001b[39m\u001b[34m(self, func, axis, raw, result_type, args, by_row, engine, engine_kwargs, **kwargs)\u001b[39m\n\u001b[32m  10360\u001b[39m \u001b[38;5;28;01mfrom\u001b[39;00m\u001b[38;5;250m \u001b[39m\u001b[34;01mpandas\u001b[39;00m\u001b[34;01m.\u001b[39;00m\u001b[34;01mcore\u001b[39;00m\u001b[34;01m.\u001b[39;00m\u001b[34;01mapply\u001b[39;00m\u001b[38;5;250m \u001b[39m\u001b[38;5;28;01mimport\u001b[39;00m frame_apply\n\u001b[32m  10362\u001b[39m op = frame_apply(\n\u001b[32m  10363\u001b[39m     \u001b[38;5;28mself\u001b[39m,\n\u001b[32m  10364\u001b[39m     func=func,\n\u001b[32m   (...)\u001b[39m\u001b[32m  10372\u001b[39m     kwargs=kwargs,\n\u001b[32m  10373\u001b[39m )\n\u001b[32m> \u001b[39m\u001b[32m10374\u001b[39m \u001b[38;5;28;01mreturn\u001b[39;00m \u001b[43mop\u001b[49m\u001b[43m.\u001b[49m\u001b[43mapply\u001b[49m\u001b[43m(\u001b[49m\u001b[43m)\u001b[49m.__finalize__(\u001b[38;5;28mself\u001b[39m, method=\u001b[33m\"\u001b[39m\u001b[33mapply\u001b[39m\u001b[33m\"\u001b[39m)\n",
      "\u001b[36mFile \u001b[39m\u001b[32mc:\\Users\\bkb3\\AppData\\Local\\miniconda3\\Lib\\site-packages\\pandas\\core\\apply.py:916\u001b[39m, in \u001b[36mFrameApply.apply\u001b[39m\u001b[34m(self)\u001b[39m\n\u001b[32m    913\u001b[39m \u001b[38;5;28;01melif\u001b[39;00m \u001b[38;5;28mself\u001b[39m.raw:\n\u001b[32m    914\u001b[39m     \u001b[38;5;28;01mreturn\u001b[39;00m \u001b[38;5;28mself\u001b[39m.apply_raw(engine=\u001b[38;5;28mself\u001b[39m.engine, engine_kwargs=\u001b[38;5;28mself\u001b[39m.engine_kwargs)\n\u001b[32m--> \u001b[39m\u001b[32m916\u001b[39m \u001b[38;5;28;01mreturn\u001b[39;00m \u001b[38;5;28;43mself\u001b[39;49m\u001b[43m.\u001b[49m\u001b[43mapply_standard\u001b[49m\u001b[43m(\u001b[49m\u001b[43m)\u001b[49m\n",
      "\u001b[36mFile \u001b[39m\u001b[32mc:\\Users\\bkb3\\AppData\\Local\\miniconda3\\Lib\\site-packages\\pandas\\core\\apply.py:1063\u001b[39m, in \u001b[36mFrameApply.apply_standard\u001b[39m\u001b[34m(self)\u001b[39m\n\u001b[32m   1061\u001b[39m \u001b[38;5;28;01mdef\u001b[39;00m\u001b[38;5;250m \u001b[39m\u001b[34mapply_standard\u001b[39m(\u001b[38;5;28mself\u001b[39m):\n\u001b[32m   1062\u001b[39m     \u001b[38;5;28;01mif\u001b[39;00m \u001b[38;5;28mself\u001b[39m.engine == \u001b[33m\"\u001b[39m\u001b[33mpython\u001b[39m\u001b[33m\"\u001b[39m:\n\u001b[32m-> \u001b[39m\u001b[32m1063\u001b[39m         results, res_index = \u001b[38;5;28;43mself\u001b[39;49m\u001b[43m.\u001b[49m\u001b[43mapply_series_generator\u001b[49m\u001b[43m(\u001b[49m\u001b[43m)\u001b[49m\n\u001b[32m   1064\u001b[39m     \u001b[38;5;28;01melse\u001b[39;00m:\n\u001b[32m   1065\u001b[39m         results, res_index = \u001b[38;5;28mself\u001b[39m.apply_series_numba()\n",
      "\u001b[36mFile \u001b[39m\u001b[32mc:\\Users\\bkb3\\AppData\\Local\\miniconda3\\Lib\\site-packages\\pandas\\core\\apply.py:1081\u001b[39m, in \u001b[36mFrameApply.apply_series_generator\u001b[39m\u001b[34m(self)\u001b[39m\n\u001b[32m   1078\u001b[39m \u001b[38;5;28;01mwith\u001b[39;00m option_context(\u001b[33m\"\u001b[39m\u001b[33mmode.chained_assignment\u001b[39m\u001b[33m\"\u001b[39m, \u001b[38;5;28;01mNone\u001b[39;00m):\n\u001b[32m   1079\u001b[39m     \u001b[38;5;28;01mfor\u001b[39;00m i, v \u001b[38;5;129;01min\u001b[39;00m \u001b[38;5;28menumerate\u001b[39m(series_gen):\n\u001b[32m   1080\u001b[39m         \u001b[38;5;66;03m# ignore SettingWithCopy here in case the user mutates\u001b[39;00m\n\u001b[32m-> \u001b[39m\u001b[32m1081\u001b[39m         results[i] = \u001b[38;5;28;43mself\u001b[39;49m\u001b[43m.\u001b[49m\u001b[43mfunc\u001b[49m\u001b[43m(\u001b[49m\u001b[43mv\u001b[49m\u001b[43m,\u001b[49m\u001b[43m \u001b[49m\u001b[43m*\u001b[49m\u001b[38;5;28;43mself\u001b[39;49m\u001b[43m.\u001b[49m\u001b[43margs\u001b[49m\u001b[43m,\u001b[49m\u001b[43m \u001b[49m\u001b[43m*\u001b[49m\u001b[43m*\u001b[49m\u001b[38;5;28;43mself\u001b[39;49m\u001b[43m.\u001b[49m\u001b[43mkwargs\u001b[49m\u001b[43m)\u001b[49m\n\u001b[32m   1082\u001b[39m         \u001b[38;5;28;01mif\u001b[39;00m \u001b[38;5;28misinstance\u001b[39m(results[i], ABCSeries):\n\u001b[32m   1083\u001b[39m             \u001b[38;5;66;03m# If we have a view on v, we need to make a copy because\u001b[39;00m\n\u001b[32m   1084\u001b[39m             \u001b[38;5;66;03m#  series_generator will swap out the underlying data\u001b[39;00m\n\u001b[32m   1085\u001b[39m             results[i] = results[i].copy(deep=\u001b[38;5;28;01mFalse\u001b[39;00m)\n",
      "\u001b[36mFile \u001b[39m\u001b[32mc:\\Users\\bkb3\\AppData\\Local\\miniconda3\\Lib\\site-packages\\pandas\\core\\frame.py:11295\u001b[39m, in \u001b[36mDataFrame.corrwith.<locals>.<lambda>\u001b[39m\u001b[34m(x)\u001b[39m\n\u001b[32m  11292\u001b[39m this = \u001b[38;5;28mself\u001b[39m._get_numeric_data() \u001b[38;5;28;01mif\u001b[39;00m numeric_only \u001b[38;5;28;01melse\u001b[39;00m \u001b[38;5;28mself\u001b[39m\n\u001b[32m  11294\u001b[39m \u001b[38;5;28;01mif\u001b[39;00m \u001b[38;5;28misinstance\u001b[39m(other, Series):\n\u001b[32m> \u001b[39m\u001b[32m11295\u001b[39m     \u001b[38;5;28;01mreturn\u001b[39;00m this.apply(\u001b[38;5;28;01mlambda\u001b[39;00m x: \u001b[43mother\u001b[49m\u001b[43m.\u001b[49m\u001b[43mcorr\u001b[49m\u001b[43m(\u001b[49m\u001b[43mx\u001b[49m\u001b[43m,\u001b[49m\u001b[43m \u001b[49m\u001b[43mmethod\u001b[49m\u001b[43m=\u001b[49m\u001b[43mmethod\u001b[49m\u001b[43m)\u001b[49m, axis=axis)\n\u001b[32m  11297\u001b[39m \u001b[38;5;28;01mif\u001b[39;00m numeric_only:\n\u001b[32m  11298\u001b[39m     other = other._get_numeric_data()\n",
      "\u001b[36mFile \u001b[39m\u001b[32mc:\\Users\\bkb3\\AppData\\Local\\miniconda3\\Lib\\site-packages\\pandas\\core\\series.py:2974\u001b[39m, in \u001b[36mSeries.corr\u001b[39m\u001b[34m(self, other, method, min_periods)\u001b[39m\n\u001b[32m   2971\u001b[39m     \u001b[38;5;28;01mreturn\u001b[39;00m np.nan\n\u001b[32m   2973\u001b[39m this_values = this.to_numpy(dtype=\u001b[38;5;28mfloat\u001b[39m, na_value=np.nan, copy=\u001b[38;5;28;01mFalse\u001b[39;00m)\n\u001b[32m-> \u001b[39m\u001b[32m2974\u001b[39m other_values = \u001b[43mother\u001b[49m\u001b[43m.\u001b[49m\u001b[43mto_numpy\u001b[49m\u001b[43m(\u001b[49m\u001b[43mdtype\u001b[49m\u001b[43m=\u001b[49m\u001b[38;5;28;43mfloat\u001b[39;49m\u001b[43m,\u001b[49m\u001b[43m \u001b[49m\u001b[43mna_value\u001b[49m\u001b[43m=\u001b[49m\u001b[43mnp\u001b[49m\u001b[43m.\u001b[49m\u001b[43mnan\u001b[49m\u001b[43m,\u001b[49m\u001b[43m \u001b[49m\u001b[43mcopy\u001b[49m\u001b[43m=\u001b[49m\u001b[38;5;28;43;01mFalse\u001b[39;49;00m\u001b[43m)\u001b[49m\n\u001b[32m   2976\u001b[39m \u001b[38;5;28;01mif\u001b[39;00m method \u001b[38;5;129;01min\u001b[39;00m [\u001b[33m\"\u001b[39m\u001b[33mpearson\u001b[39m\u001b[33m\"\u001b[39m, \u001b[33m\"\u001b[39m\u001b[33mspearman\u001b[39m\u001b[33m\"\u001b[39m, \u001b[33m\"\u001b[39m\u001b[33mkendall\u001b[39m\u001b[33m\"\u001b[39m] \u001b[38;5;129;01mor\u001b[39;00m \u001b[38;5;28mcallable\u001b[39m(method):\n\u001b[32m   2977\u001b[39m     \u001b[38;5;28;01mreturn\u001b[39;00m nanops.nancorr(\n\u001b[32m   2978\u001b[39m         this_values, other_values, method=method, min_periods=min_periods\n\u001b[32m   2979\u001b[39m     )\n",
      "\u001b[36mFile \u001b[39m\u001b[32mc:\\Users\\bkb3\\AppData\\Local\\miniconda3\\Lib\\site-packages\\pandas\\core\\base.py:662\u001b[39m, in \u001b[36mIndexOpsMixin.to_numpy\u001b[39m\u001b[34m(self, dtype, copy, na_value, **kwargs)\u001b[39m\n\u001b[32m    658\u001b[39m         values = values.copy()\n\u001b[32m    660\u001b[39m     values[np.asanyarray(isna(\u001b[38;5;28mself\u001b[39m))] = na_value\n\u001b[32m--> \u001b[39m\u001b[32m662\u001b[39m result = \u001b[43mnp\u001b[49m\u001b[43m.\u001b[49m\u001b[43masarray\u001b[49m\u001b[43m(\u001b[49m\u001b[43mvalues\u001b[49m\u001b[43m,\u001b[49m\u001b[43m \u001b[49m\u001b[43mdtype\u001b[49m\u001b[43m=\u001b[49m\u001b[43mdtype\u001b[49m\u001b[43m)\u001b[49m\n\u001b[32m    664\u001b[39m \u001b[38;5;28;01mif\u001b[39;00m (copy \u001b[38;5;129;01mand\u001b[39;00m \u001b[38;5;129;01mnot\u001b[39;00m fillna) \u001b[38;5;129;01mor\u001b[39;00m (\u001b[38;5;129;01mnot\u001b[39;00m copy \u001b[38;5;129;01mand\u001b[39;00m using_copy_on_write()):\n\u001b[32m    665\u001b[39m     \u001b[38;5;28;01mif\u001b[39;00m np.shares_memory(\u001b[38;5;28mself\u001b[39m._values[:\u001b[32m2\u001b[39m], result[:\u001b[32m2\u001b[39m]):\n\u001b[32m    666\u001b[39m         \u001b[38;5;66;03m# Take slices to improve performance of check\u001b[39;00m\n",
      "\u001b[31mValueError\u001b[39m: could not convert string to float: 'Day'"
     ]
    }
   ],
   "source": [
    "c4.corrwith(c4['Class'])"
   ]
  },
  {
   "cell_type": "code",
   "execution_count": null,
   "id": "52e9fb83",
   "metadata": {},
   "outputs": [],
   "source": [
    "#df_dum.dropna(inplace=True)"
   ]
  },
  {
   "cell_type": "code",
   "execution_count": null,
   "id": "d2c5fb98",
   "metadata": {},
   "outputs": [
    {
     "data": {
      "application/vnd.microsoft.datawrangler.viewer.v0+json": {
       "columns": [
        {
         "name": "index",
         "rawType": "object",
         "type": "string"
        },
        {
         "name": "Class",
         "rawType": "float64",
         "type": "float"
        }
       ],
       "ref": "760641b7-7752-4682-953a-b1ac34043850",
       "rows": [
        [
         "Distance(mi)",
         "-0.03322698798092521"
        ],
        [
         "Temperature(F)",
         "0.010332888192233079"
        ],
        [
         "Humidity(%)",
         "0.012672794432765682"
        ],
        [
         "Pressure(in)",
         "0.04533383515234246"
        ],
        [
         "Visibility(mi)",
         "-0.0017633821675930444"
        ],
        [
         "Amenity",
         "-0.013730580097376342"
        ],
        [
         "Crossing",
         "-0.05440362943520064"
        ],
        [
         "Junction",
         "0.04242269313381681"
        ],
        [
         "Railway",
         "-0.006847432892815983"
        ],
        [
         "Station",
         "-0.01930757526127257"
        ],
        [
         "Stop",
         "0.011373088864740335"
        ],
        [
         "Traffic_Calming",
         "-0.011361345820407523"
        ],
        [
         "Traffic_Signal",
         "-0.03506841980611935"
        ],
        [
         "Class",
         "1.0"
        ],
        [
         "Street_Beltway",
         "-0.013523159462865064"
        ],
        [
         "Street_Highway",
         "-0.023458444697384465"
        ],
        [
         "Street_Interstate",
         "0.04187623566953025"
        ],
        [
         "Street_Tunnel",
         "0.0020285539441594197"
        ],
        [
         "Street_large_local",
         "-0.01448047560978982"
        ],
        [
         "Street_local",
         "0.006120625186679879"
        ],
        [
         "Street_on_off_ramp",
         "-0.00815130379745477"
        ],
        [
         "Wind_Direction_Calm",
         "0.002135590032458766"
        ],
        [
         "Wind_Direction_E",
         "0.009719801419546665"
        ],
        [
         "Wind_Direction_N",
         "-0.007182400412505555"
        ],
        [
         "Wind_Direction_NE",
         "0.0002521138484970231"
        ],
        [
         "Wind_Direction_NW",
         "-0.010529624289625755"
        ],
        [
         "Wind_Direction_S",
         "-0.008103853214998688"
        ],
        [
         "Wind_Direction_SE",
         "0.01123902931919195"
        ],
        [
         "Wind_Direction_SW",
         "-0.0018925234689022364"
        ],
        [
         "Wind_Direction_Variable",
         "0.015624415550539162"
        ],
        [
         "Wind_Direction_W",
         "0.0008771631861626799"
        ],
        [
         "Wind_Direction_unknown",
         "-0.005723080791132053"
        ],
        [
         "Weather_Condition_Clear",
         "0.1473108712094846"
        ],
        [
         "Weather_Condition_Cloudy",
         "-0.07183007868205975"
        ],
        [
         "Weather_Condition_Drizzle",
         "-0.002649865500568901"
        ],
        [
         "Weather_Condition_Fair",
         "-0.12630358985044607"
        ],
        [
         "Weather_Condition_Fog",
         "-0.011859862907218173"
        ],
        [
         "Weather_Condition_Freezing Rain",
         "-0.0045573837358391395"
        ],
        [
         "Weather_Condition_Hail",
         "-0.005581735512456241"
        ],
        [
         "Weather_Condition_Haze",
         "0.004027006577111973"
        ],
        [
         "Weather_Condition_Heavy Rain",
         "0.00010034468256469872"
        ],
        [
         "Weather_Condition_Heavy Sleet",
         "-0.0037080458898688675"
        ],
        [
         "Weather_Condition_Ice Pellets",
         "0.012523684092962289"
        ],
        [
         "Weather_Condition_Light Freezing Fog",
         "0.00069952885260927"
        ],
        [
         "Weather_Condition_Light Freezing Rain",
         "0.010870317461111598"
        ],
        [
         "Weather_Condition_Light Snow and Sleet",
         "-0.005581735512456132"
        ],
        [
         "Weather_Condition_Mostly Cloudy",
         "0.018665729405090436"
        ],
        [
         "Weather_Condition_Overcast",
         "0.1161311553223568"
        ],
        [
         "Weather_Condition_Partly Cloudy",
         "-0.011211848586407598"
        ],
        [
         "Weather_Condition_Rain",
         "-0.0016134344329365288"
        ]
       ],
       "shape": {
        "columns": 1,
        "rows": 65
       }
      },
      "text/plain": [
       "Distance(mi)                   -0.033227\n",
       "Temperature(F)                  0.010333\n",
       "Humidity(%)                     0.012673\n",
       "Pressure(in)                    0.045334\n",
       "Visibility(mi)                 -0.001763\n",
       "                                  ...   \n",
       "Weather_Condition_Windy        -0.006249\n",
       "Weather_Condition_Wintry Mix   -0.017901\n",
       "Weather_Condition_unknown       0.017339\n",
       "Sunrise_Sunset_Day             -0.015281\n",
       "Sunrise_Sunset_Night            0.015281\n",
       "Name: Class, Length: 65, dtype: float64"
      ]
     },
     "execution_count": 31,
     "metadata": {},
     "output_type": "execute_result"
    }
   ],
   "source": [
    "#df_cor = df_dum.corr()\n",
    "#df_cor['Class']"
   ]
  },
  {
   "cell_type": "code",
   "execution_count": 33,
   "id": "3cd3331d",
   "metadata": {},
   "outputs": [],
   "source": [
    "for i in df_dum.columns:\n",
    "    df_dum[i] = df_dum[i].astype(float)\n",
    "\n"
   ]
  },
  {
   "cell_type": "code",
   "execution_count": null,
   "id": "b8c9a73d",
   "metadata": {},
   "outputs": [
    {
     "data": {
      "text/plain": [
       "array([[<Axes: xlabel='Distance(mi)', ylabel='Distance(mi)'>,\n",
       "        <Axes: xlabel='Temperature(F)', ylabel='Distance(mi)'>,\n",
       "        <Axes: xlabel='Humidity(%)', ylabel='Distance(mi)'>, ...,\n",
       "        <Axes: xlabel='Weather_Condition_unknown', ylabel='Distance(mi)'>,\n",
       "        <Axes: xlabel='Sunrise_Sunset_Day', ylabel='Distance(mi)'>,\n",
       "        <Axes: xlabel='Sunrise_Sunset_Night', ylabel='Distance(mi)'>],\n",
       "       [<Axes: xlabel='Distance(mi)', ylabel='Temperature(F)'>,\n",
       "        <Axes: xlabel='Temperature(F)', ylabel='Temperature(F)'>,\n",
       "        <Axes: xlabel='Humidity(%)', ylabel='Temperature(F)'>, ...,\n",
       "        <Axes: xlabel='Weather_Condition_unknown', ylabel='Temperature(F)'>,\n",
       "        <Axes: xlabel='Sunrise_Sunset_Day', ylabel='Temperature(F)'>,\n",
       "        <Axes: xlabel='Sunrise_Sunset_Night', ylabel='Temperature(F)'>],\n",
       "       [<Axes: xlabel='Distance(mi)', ylabel='Humidity(%)'>,\n",
       "        <Axes: xlabel='Temperature(F)', ylabel='Humidity(%)'>,\n",
       "        <Axes: xlabel='Humidity(%)', ylabel='Humidity(%)'>, ...,\n",
       "        <Axes: xlabel='Weather_Condition_unknown', ylabel='Humidity(%)'>,\n",
       "        <Axes: xlabel='Sunrise_Sunset_Day', ylabel='Humidity(%)'>,\n",
       "        <Axes: xlabel='Sunrise_Sunset_Night', ylabel='Humidity(%)'>],\n",
       "       ...,\n",
       "       [<Axes: xlabel='Distance(mi)', ylabel='Weather_Condition_unknown'>,\n",
       "        <Axes: xlabel='Temperature(F)', ylabel='Weather_Condition_unknown'>,\n",
       "        <Axes: xlabel='Humidity(%)', ylabel='Weather_Condition_unknown'>,\n",
       "        ...,\n",
       "        <Axes: xlabel='Weather_Condition_unknown', ylabel='Weather_Condition_unknown'>,\n",
       "        <Axes: xlabel='Sunrise_Sunset_Day', ylabel='Weather_Condition_unknown'>,\n",
       "        <Axes: xlabel='Sunrise_Sunset_Night', ylabel='Weather_Condition_unknown'>],\n",
       "       [<Axes: xlabel='Distance(mi)', ylabel='Sunrise_Sunset_Day'>,\n",
       "        <Axes: xlabel='Temperature(F)', ylabel='Sunrise_Sunset_Day'>,\n",
       "        <Axes: xlabel='Humidity(%)', ylabel='Sunrise_Sunset_Day'>, ...,\n",
       "        <Axes: xlabel='Weather_Condition_unknown', ylabel='Sunrise_Sunset_Day'>,\n",
       "        <Axes: xlabel='Sunrise_Sunset_Day', ylabel='Sunrise_Sunset_Day'>,\n",
       "        <Axes: xlabel='Sunrise_Sunset_Night', ylabel='Sunrise_Sunset_Day'>],\n",
       "       [<Axes: xlabel='Distance(mi)', ylabel='Sunrise_Sunset_Night'>,\n",
       "        <Axes: xlabel='Temperature(F)', ylabel='Sunrise_Sunset_Night'>,\n",
       "        <Axes: xlabel='Humidity(%)', ylabel='Sunrise_Sunset_Night'>, ...,\n",
       "        <Axes: xlabel='Weather_Condition_unknown', ylabel='Sunrise_Sunset_Night'>,\n",
       "        <Axes: xlabel='Sunrise_Sunset_Day', ylabel='Sunrise_Sunset_Night'>,\n",
       "        <Axes: xlabel='Sunrise_Sunset_Night', ylabel='Sunrise_Sunset_Night'>]],\n",
       "      shape=(65, 65), dtype=object)"
      ]
     },
     "execution_count": 34,
     "metadata": {},
     "output_type": "execute_result"
    },
    {
     "name": "stdout",
     "output_type": "stream",
     "text": [
      "Error in callback <function _draw_all_if_interactive at 0x00000237F6C4C860> (for post_execute), with arguments args (),kwargs {}:\n"
     ]
    },
    {
     "ename": "KeyboardInterrupt",
     "evalue": "",
     "output_type": "error",
     "traceback": [
      "\u001b[31m---------------------------------------------------------------------------\u001b[39m",
      "\u001b[31mKeyboardInterrupt\u001b[39m                         Traceback (most recent call last)",
      "\u001b[36mFile \u001b[39m\u001b[32mc:\\Users\\bkb3\\AppData\\Local\\miniconda3\\Lib\\site-packages\\matplotlib\\pyplot.py:279\u001b[39m, in \u001b[36m_draw_all_if_interactive\u001b[39m\u001b[34m()\u001b[39m\n\u001b[32m    277\u001b[39m \u001b[38;5;28;01mdef\u001b[39;00m\u001b[38;5;250m \u001b[39m\u001b[34m_draw_all_if_interactive\u001b[39m() -> \u001b[38;5;28;01mNone\u001b[39;00m:\n\u001b[32m    278\u001b[39m     \u001b[38;5;28;01mif\u001b[39;00m matplotlib.is_interactive():\n\u001b[32m--> \u001b[39m\u001b[32m279\u001b[39m         \u001b[43mdraw_all\u001b[49m\u001b[43m(\u001b[49m\u001b[43m)\u001b[49m\n",
      "\u001b[36mFile \u001b[39m\u001b[32mc:\\Users\\bkb3\\AppData\\Local\\miniconda3\\Lib\\site-packages\\matplotlib\\_pylab_helpers.py:131\u001b[39m, in \u001b[36mGcf.draw_all\u001b[39m\u001b[34m(cls, force)\u001b[39m\n\u001b[32m    129\u001b[39m \u001b[38;5;28;01mfor\u001b[39;00m manager \u001b[38;5;129;01min\u001b[39;00m \u001b[38;5;28mcls\u001b[39m.get_all_fig_managers():\n\u001b[32m    130\u001b[39m     \u001b[38;5;28;01mif\u001b[39;00m force \u001b[38;5;129;01mor\u001b[39;00m manager.canvas.figure.stale:\n\u001b[32m--> \u001b[39m\u001b[32m131\u001b[39m         \u001b[43mmanager\u001b[49m\u001b[43m.\u001b[49m\u001b[43mcanvas\u001b[49m\u001b[43m.\u001b[49m\u001b[43mdraw_idle\u001b[49m\u001b[43m(\u001b[49m\u001b[43m)\u001b[49m\n",
      "\u001b[36mFile \u001b[39m\u001b[32mc:\\Users\\bkb3\\AppData\\Local\\miniconda3\\Lib\\site-packages\\matplotlib\\backend_bases.py:1891\u001b[39m, in \u001b[36mFigureCanvasBase.draw_idle\u001b[39m\u001b[34m(self, *args, **kwargs)\u001b[39m\n\u001b[32m   1889\u001b[39m \u001b[38;5;28;01mif\u001b[39;00m \u001b[38;5;129;01mnot\u001b[39;00m \u001b[38;5;28mself\u001b[39m._is_idle_drawing:\n\u001b[32m   1890\u001b[39m     \u001b[38;5;28;01mwith\u001b[39;00m \u001b[38;5;28mself\u001b[39m._idle_draw_cntx():\n\u001b[32m-> \u001b[39m\u001b[32m1891\u001b[39m         \u001b[38;5;28;43mself\u001b[39;49m\u001b[43m.\u001b[49m\u001b[43mdraw\u001b[49m\u001b[43m(\u001b[49m\u001b[43m*\u001b[49m\u001b[43margs\u001b[49m\u001b[43m,\u001b[49m\u001b[43m \u001b[49m\u001b[43m*\u001b[49m\u001b[43m*\u001b[49m\u001b[43mkwargs\u001b[49m\u001b[43m)\u001b[49m\n",
      "\u001b[36mFile \u001b[39m\u001b[32mc:\\Users\\bkb3\\AppData\\Local\\miniconda3\\Lib\\site-packages\\matplotlib\\backends\\backend_agg.py:382\u001b[39m, in \u001b[36mFigureCanvasAgg.draw\u001b[39m\u001b[34m(self)\u001b[39m\n\u001b[32m    379\u001b[39m \u001b[38;5;66;03m# Acquire a lock on the shared font cache.\u001b[39;00m\n\u001b[32m    380\u001b[39m \u001b[38;5;28;01mwith\u001b[39;00m (\u001b[38;5;28mself\u001b[39m.toolbar._wait_cursor_for_draw_cm() \u001b[38;5;28;01mif\u001b[39;00m \u001b[38;5;28mself\u001b[39m.toolbar\n\u001b[32m    381\u001b[39m       \u001b[38;5;28;01melse\u001b[39;00m nullcontext()):\n\u001b[32m--> \u001b[39m\u001b[32m382\u001b[39m     \u001b[38;5;28;43mself\u001b[39;49m\u001b[43m.\u001b[49m\u001b[43mfigure\u001b[49m\u001b[43m.\u001b[49m\u001b[43mdraw\u001b[49m\u001b[43m(\u001b[49m\u001b[38;5;28;43mself\u001b[39;49m\u001b[43m.\u001b[49m\u001b[43mrenderer\u001b[49m\u001b[43m)\u001b[49m\n\u001b[32m    383\u001b[39m     \u001b[38;5;66;03m# A GUI class may be need to update a window using this draw, so\u001b[39;00m\n\u001b[32m    384\u001b[39m     \u001b[38;5;66;03m# don't forget to call the superclass.\u001b[39;00m\n\u001b[32m    385\u001b[39m     \u001b[38;5;28msuper\u001b[39m().draw()\n",
      "\u001b[36mFile \u001b[39m\u001b[32mc:\\Users\\bkb3\\AppData\\Local\\miniconda3\\Lib\\site-packages\\matplotlib\\artist.py:94\u001b[39m, in \u001b[36m_finalize_rasterization.<locals>.draw_wrapper\u001b[39m\u001b[34m(artist, renderer, *args, **kwargs)\u001b[39m\n\u001b[32m     92\u001b[39m \u001b[38;5;129m@wraps\u001b[39m(draw)\n\u001b[32m     93\u001b[39m \u001b[38;5;28;01mdef\u001b[39;00m\u001b[38;5;250m \u001b[39m\u001b[34mdraw_wrapper\u001b[39m(artist, renderer, *args, **kwargs):\n\u001b[32m---> \u001b[39m\u001b[32m94\u001b[39m     result = \u001b[43mdraw\u001b[49m\u001b[43m(\u001b[49m\u001b[43martist\u001b[49m\u001b[43m,\u001b[49m\u001b[43m \u001b[49m\u001b[43mrenderer\u001b[49m\u001b[43m,\u001b[49m\u001b[43m \u001b[49m\u001b[43m*\u001b[49m\u001b[43margs\u001b[49m\u001b[43m,\u001b[49m\u001b[43m \u001b[49m\u001b[43m*\u001b[49m\u001b[43m*\u001b[49m\u001b[43mkwargs\u001b[49m\u001b[43m)\u001b[49m\n\u001b[32m     95\u001b[39m     \u001b[38;5;28;01mif\u001b[39;00m renderer._rasterizing:\n\u001b[32m     96\u001b[39m         renderer.stop_rasterizing()\n",
      "\u001b[36mFile \u001b[39m\u001b[32mc:\\Users\\bkb3\\AppData\\Local\\miniconda3\\Lib\\site-packages\\matplotlib\\artist.py:71\u001b[39m, in \u001b[36mallow_rasterization.<locals>.draw_wrapper\u001b[39m\u001b[34m(artist, renderer)\u001b[39m\n\u001b[32m     68\u001b[39m     \u001b[38;5;28;01mif\u001b[39;00m artist.get_agg_filter() \u001b[38;5;129;01mis\u001b[39;00m \u001b[38;5;129;01mnot\u001b[39;00m \u001b[38;5;28;01mNone\u001b[39;00m:\n\u001b[32m     69\u001b[39m         renderer.start_filter()\n\u001b[32m---> \u001b[39m\u001b[32m71\u001b[39m     \u001b[38;5;28;01mreturn\u001b[39;00m \u001b[43mdraw\u001b[49m\u001b[43m(\u001b[49m\u001b[43martist\u001b[49m\u001b[43m,\u001b[49m\u001b[43m \u001b[49m\u001b[43mrenderer\u001b[49m\u001b[43m)\u001b[49m\n\u001b[32m     72\u001b[39m \u001b[38;5;28;01mfinally\u001b[39;00m:\n\u001b[32m     73\u001b[39m     \u001b[38;5;28;01mif\u001b[39;00m artist.get_agg_filter() \u001b[38;5;129;01mis\u001b[39;00m \u001b[38;5;129;01mnot\u001b[39;00m \u001b[38;5;28;01mNone\u001b[39;00m:\n",
      "\u001b[36mFile \u001b[39m\u001b[32mc:\\Users\\bkb3\\AppData\\Local\\miniconda3\\Lib\\site-packages\\matplotlib\\figure.py:3257\u001b[39m, in \u001b[36mFigure.draw\u001b[39m\u001b[34m(self, renderer)\u001b[39m\n\u001b[32m   3254\u001b[39m             \u001b[38;5;66;03m# ValueError can occur when resizing a window.\u001b[39;00m\n\u001b[32m   3256\u001b[39m     \u001b[38;5;28mself\u001b[39m.patch.draw(renderer)\n\u001b[32m-> \u001b[39m\u001b[32m3257\u001b[39m     \u001b[43mmimage\u001b[49m\u001b[43m.\u001b[49m\u001b[43m_draw_list_compositing_images\u001b[49m\u001b[43m(\u001b[49m\n\u001b[32m   3258\u001b[39m \u001b[43m        \u001b[49m\u001b[43mrenderer\u001b[49m\u001b[43m,\u001b[49m\u001b[43m \u001b[49m\u001b[38;5;28;43mself\u001b[39;49m\u001b[43m,\u001b[49m\u001b[43m \u001b[49m\u001b[43martists\u001b[49m\u001b[43m,\u001b[49m\u001b[43m \u001b[49m\u001b[38;5;28;43mself\u001b[39;49m\u001b[43m.\u001b[49m\u001b[43msuppressComposite\u001b[49m\u001b[43m)\u001b[49m\n\u001b[32m   3260\u001b[39m     renderer.close_group(\u001b[33m'\u001b[39m\u001b[33mfigure\u001b[39m\u001b[33m'\u001b[39m)\n\u001b[32m   3261\u001b[39m \u001b[38;5;28;01mfinally\u001b[39;00m:\n",
      "\u001b[36mFile \u001b[39m\u001b[32mc:\\Users\\bkb3\\AppData\\Local\\miniconda3\\Lib\\site-packages\\matplotlib\\image.py:134\u001b[39m, in \u001b[36m_draw_list_compositing_images\u001b[39m\u001b[34m(renderer, parent, artists, suppress_composite)\u001b[39m\n\u001b[32m    132\u001b[39m \u001b[38;5;28;01mif\u001b[39;00m not_composite \u001b[38;5;129;01mor\u001b[39;00m \u001b[38;5;129;01mnot\u001b[39;00m has_images:\n\u001b[32m    133\u001b[39m     \u001b[38;5;28;01mfor\u001b[39;00m a \u001b[38;5;129;01min\u001b[39;00m artists:\n\u001b[32m--> \u001b[39m\u001b[32m134\u001b[39m         \u001b[43ma\u001b[49m\u001b[43m.\u001b[49m\u001b[43mdraw\u001b[49m\u001b[43m(\u001b[49m\u001b[43mrenderer\u001b[49m\u001b[43m)\u001b[49m\n\u001b[32m    135\u001b[39m \u001b[38;5;28;01melse\u001b[39;00m:\n\u001b[32m    136\u001b[39m     \u001b[38;5;66;03m# Composite any adjacent images together\u001b[39;00m\n\u001b[32m    137\u001b[39m     image_group = []\n",
      "\u001b[36mFile \u001b[39m\u001b[32mc:\\Users\\bkb3\\AppData\\Local\\miniconda3\\Lib\\site-packages\\matplotlib\\artist.py:71\u001b[39m, in \u001b[36mallow_rasterization.<locals>.draw_wrapper\u001b[39m\u001b[34m(artist, renderer)\u001b[39m\n\u001b[32m     68\u001b[39m     \u001b[38;5;28;01mif\u001b[39;00m artist.get_agg_filter() \u001b[38;5;129;01mis\u001b[39;00m \u001b[38;5;129;01mnot\u001b[39;00m \u001b[38;5;28;01mNone\u001b[39;00m:\n\u001b[32m     69\u001b[39m         renderer.start_filter()\n\u001b[32m---> \u001b[39m\u001b[32m71\u001b[39m     \u001b[38;5;28;01mreturn\u001b[39;00m \u001b[43mdraw\u001b[49m\u001b[43m(\u001b[49m\u001b[43martist\u001b[49m\u001b[43m,\u001b[49m\u001b[43m \u001b[49m\u001b[43mrenderer\u001b[49m\u001b[43m)\u001b[49m\n\u001b[32m     72\u001b[39m \u001b[38;5;28;01mfinally\u001b[39;00m:\n\u001b[32m     73\u001b[39m     \u001b[38;5;28;01mif\u001b[39;00m artist.get_agg_filter() \u001b[38;5;129;01mis\u001b[39;00m \u001b[38;5;129;01mnot\u001b[39;00m \u001b[38;5;28;01mNone\u001b[39;00m:\n",
      "\u001b[36mFile \u001b[39m\u001b[32mc:\\Users\\bkb3\\AppData\\Local\\miniconda3\\Lib\\site-packages\\matplotlib\\axes\\_base.py:3181\u001b[39m, in \u001b[36m_AxesBase.draw\u001b[39m\u001b[34m(self, renderer)\u001b[39m\n\u001b[32m   3178\u001b[39m \u001b[38;5;28;01mif\u001b[39;00m artists_rasterized:\n\u001b[32m   3179\u001b[39m     _draw_rasterized(\u001b[38;5;28mself\u001b[39m.get_figure(root=\u001b[38;5;28;01mTrue\u001b[39;00m), artists_rasterized, renderer)\n\u001b[32m-> \u001b[39m\u001b[32m3181\u001b[39m \u001b[43mmimage\u001b[49m\u001b[43m.\u001b[49m\u001b[43m_draw_list_compositing_images\u001b[49m\u001b[43m(\u001b[49m\n\u001b[32m   3182\u001b[39m \u001b[43m    \u001b[49m\u001b[43mrenderer\u001b[49m\u001b[43m,\u001b[49m\u001b[43m \u001b[49m\u001b[38;5;28;43mself\u001b[39;49m\u001b[43m,\u001b[49m\u001b[43m \u001b[49m\u001b[43martists\u001b[49m\u001b[43m,\u001b[49m\u001b[43m \u001b[49m\u001b[38;5;28;43mself\u001b[39;49m\u001b[43m.\u001b[49m\u001b[43mget_figure\u001b[49m\u001b[43m(\u001b[49m\u001b[43mroot\u001b[49m\u001b[43m=\u001b[49m\u001b[38;5;28;43;01mTrue\u001b[39;49;00m\u001b[43m)\u001b[49m\u001b[43m.\u001b[49m\u001b[43msuppressComposite\u001b[49m\u001b[43m)\u001b[49m\n\u001b[32m   3184\u001b[39m renderer.close_group(\u001b[33m'\u001b[39m\u001b[33maxes\u001b[39m\u001b[33m'\u001b[39m)\n\u001b[32m   3185\u001b[39m \u001b[38;5;28mself\u001b[39m.stale = \u001b[38;5;28;01mFalse\u001b[39;00m\n",
      "\u001b[36mFile \u001b[39m\u001b[32mc:\\Users\\bkb3\\AppData\\Local\\miniconda3\\Lib\\site-packages\\matplotlib\\image.py:134\u001b[39m, in \u001b[36m_draw_list_compositing_images\u001b[39m\u001b[34m(renderer, parent, artists, suppress_composite)\u001b[39m\n\u001b[32m    132\u001b[39m \u001b[38;5;28;01mif\u001b[39;00m not_composite \u001b[38;5;129;01mor\u001b[39;00m \u001b[38;5;129;01mnot\u001b[39;00m has_images:\n\u001b[32m    133\u001b[39m     \u001b[38;5;28;01mfor\u001b[39;00m a \u001b[38;5;129;01min\u001b[39;00m artists:\n\u001b[32m--> \u001b[39m\u001b[32m134\u001b[39m         \u001b[43ma\u001b[49m\u001b[43m.\u001b[49m\u001b[43mdraw\u001b[49m\u001b[43m(\u001b[49m\u001b[43mrenderer\u001b[49m\u001b[43m)\u001b[49m\n\u001b[32m    135\u001b[39m \u001b[38;5;28;01melse\u001b[39;00m:\n\u001b[32m    136\u001b[39m     \u001b[38;5;66;03m# Composite any adjacent images together\u001b[39;00m\n\u001b[32m    137\u001b[39m     image_group = []\n",
      "\u001b[36mFile \u001b[39m\u001b[32mc:\\Users\\bkb3\\AppData\\Local\\miniconda3\\Lib\\site-packages\\matplotlib\\artist.py:71\u001b[39m, in \u001b[36mallow_rasterization.<locals>.draw_wrapper\u001b[39m\u001b[34m(artist, renderer)\u001b[39m\n\u001b[32m     68\u001b[39m     \u001b[38;5;28;01mif\u001b[39;00m artist.get_agg_filter() \u001b[38;5;129;01mis\u001b[39;00m \u001b[38;5;129;01mnot\u001b[39;00m \u001b[38;5;28;01mNone\u001b[39;00m:\n\u001b[32m     69\u001b[39m         renderer.start_filter()\n\u001b[32m---> \u001b[39m\u001b[32m71\u001b[39m     \u001b[38;5;28;01mreturn\u001b[39;00m \u001b[43mdraw\u001b[49m\u001b[43m(\u001b[49m\u001b[43martist\u001b[49m\u001b[43m,\u001b[49m\u001b[43m \u001b[49m\u001b[43mrenderer\u001b[49m\u001b[43m)\u001b[49m\n\u001b[32m     72\u001b[39m \u001b[38;5;28;01mfinally\u001b[39;00m:\n\u001b[32m     73\u001b[39m     \u001b[38;5;28;01mif\u001b[39;00m artist.get_agg_filter() \u001b[38;5;129;01mis\u001b[39;00m \u001b[38;5;129;01mnot\u001b[39;00m \u001b[38;5;28;01mNone\u001b[39;00m:\n",
      "\u001b[36mFile \u001b[39m\u001b[32mc:\\Users\\bkb3\\AppData\\Local\\miniconda3\\Lib\\site-packages\\matplotlib\\collections.py:1017\u001b[39m, in \u001b[36m_CollectionWithSizes.draw\u001b[39m\u001b[34m(self, renderer)\u001b[39m\n\u001b[32m   1014\u001b[39m \u001b[38;5;129m@artist\u001b[39m.allow_rasterization\n\u001b[32m   1015\u001b[39m \u001b[38;5;28;01mdef\u001b[39;00m\u001b[38;5;250m \u001b[39m\u001b[34mdraw\u001b[39m(\u001b[38;5;28mself\u001b[39m, renderer):\n\u001b[32m   1016\u001b[39m     \u001b[38;5;28mself\u001b[39m.set_sizes(\u001b[38;5;28mself\u001b[39m._sizes, \u001b[38;5;28mself\u001b[39m.get_figure(root=\u001b[38;5;28;01mTrue\u001b[39;00m).dpi)\n\u001b[32m-> \u001b[39m\u001b[32m1017\u001b[39m     \u001b[38;5;28;43msuper\u001b[39;49m\u001b[43m(\u001b[49m\u001b[43m)\u001b[49m\u001b[43m.\u001b[49m\u001b[43mdraw\u001b[49m\u001b[43m(\u001b[49m\u001b[43mrenderer\u001b[49m\u001b[43m)\u001b[49m\n",
      "\u001b[36mFile \u001b[39m\u001b[32mc:\\Users\\bkb3\\AppData\\Local\\miniconda3\\Lib\\site-packages\\matplotlib\\artist.py:71\u001b[39m, in \u001b[36mallow_rasterization.<locals>.draw_wrapper\u001b[39m\u001b[34m(artist, renderer)\u001b[39m\n\u001b[32m     68\u001b[39m     \u001b[38;5;28;01mif\u001b[39;00m artist.get_agg_filter() \u001b[38;5;129;01mis\u001b[39;00m \u001b[38;5;129;01mnot\u001b[39;00m \u001b[38;5;28;01mNone\u001b[39;00m:\n\u001b[32m     69\u001b[39m         renderer.start_filter()\n\u001b[32m---> \u001b[39m\u001b[32m71\u001b[39m     \u001b[38;5;28;01mreturn\u001b[39;00m \u001b[43mdraw\u001b[49m\u001b[43m(\u001b[49m\u001b[43martist\u001b[49m\u001b[43m,\u001b[49m\u001b[43m \u001b[49m\u001b[43mrenderer\u001b[49m\u001b[43m)\u001b[49m\n\u001b[32m     72\u001b[39m \u001b[38;5;28;01mfinally\u001b[39;00m:\n\u001b[32m     73\u001b[39m     \u001b[38;5;28;01mif\u001b[39;00m artist.get_agg_filter() \u001b[38;5;129;01mis\u001b[39;00m \u001b[38;5;129;01mnot\u001b[39;00m \u001b[38;5;28;01mNone\u001b[39;00m:\n",
      "\u001b[36mFile \u001b[39m\u001b[32mc:\\Users\\bkb3\\AppData\\Local\\miniconda3\\Lib\\site-packages\\matplotlib\\collections.py:430\u001b[39m, in \u001b[36mCollection.draw\u001b[39m\u001b[34m(self, renderer)\u001b[39m\n\u001b[32m    421\u001b[39m         ipaths, ilinestyles = \u001b[38;5;28mself\u001b[39m._get_inverse_paths_linestyles()\n\u001b[32m    422\u001b[39m         renderer.draw_path_collection(\n\u001b[32m    423\u001b[39m             gc, transform.frozen(), ipaths,\n\u001b[32m    424\u001b[39m             \u001b[38;5;28mself\u001b[39m.get_transforms(), offsets, offset_trf,\n\u001b[32m   (...)\u001b[39m\u001b[32m    427\u001b[39m             \u001b[38;5;28mself\u001b[39m._antialiaseds, \u001b[38;5;28mself\u001b[39m._urls,\n\u001b[32m    428\u001b[39m             \u001b[33m\"\u001b[39m\u001b[33mscreen\u001b[39m\u001b[33m\"\u001b[39m)\n\u001b[32m--> \u001b[39m\u001b[32m430\u001b[39m     \u001b[43mrenderer\u001b[49m\u001b[43m.\u001b[49m\u001b[43mdraw_path_collection\u001b[49m\u001b[43m(\u001b[49m\n\u001b[32m    431\u001b[39m \u001b[43m        \u001b[49m\u001b[43mgc\u001b[49m\u001b[43m,\u001b[49m\u001b[43m \u001b[49m\u001b[43mtransform\u001b[49m\u001b[43m.\u001b[49m\u001b[43mfrozen\u001b[49m\u001b[43m(\u001b[49m\u001b[43m)\u001b[49m\u001b[43m,\u001b[49m\u001b[43m \u001b[49m\u001b[43mpaths\u001b[49m\u001b[43m,\u001b[49m\n\u001b[32m    432\u001b[39m \u001b[43m        \u001b[49m\u001b[38;5;28;43mself\u001b[39;49m\u001b[43m.\u001b[49m\u001b[43mget_transforms\u001b[49m\u001b[43m(\u001b[49m\u001b[43m)\u001b[49m\u001b[43m,\u001b[49m\u001b[43m \u001b[49m\u001b[43moffsets\u001b[49m\u001b[43m,\u001b[49m\u001b[43m \u001b[49m\u001b[43moffset_trf\u001b[49m\u001b[43m,\u001b[49m\n\u001b[32m    433\u001b[39m \u001b[43m        \u001b[49m\u001b[38;5;28;43mself\u001b[39;49m\u001b[43m.\u001b[49m\u001b[43mget_facecolor\u001b[49m\u001b[43m(\u001b[49m\u001b[43m)\u001b[49m\u001b[43m,\u001b[49m\u001b[43m \u001b[49m\u001b[38;5;28;43mself\u001b[39;49m\u001b[43m.\u001b[49m\u001b[43mget_edgecolor\u001b[49m\u001b[43m(\u001b[49m\u001b[43m)\u001b[49m\u001b[43m,\u001b[49m\n\u001b[32m    434\u001b[39m \u001b[43m        \u001b[49m\u001b[38;5;28;43mself\u001b[39;49m\u001b[43m.\u001b[49m\u001b[43m_linewidths\u001b[49m\u001b[43m,\u001b[49m\u001b[43m \u001b[49m\u001b[38;5;28;43mself\u001b[39;49m\u001b[43m.\u001b[49m\u001b[43m_linestyles\u001b[49m\u001b[43m,\u001b[49m\n\u001b[32m    435\u001b[39m \u001b[43m        \u001b[49m\u001b[38;5;28;43mself\u001b[39;49m\u001b[43m.\u001b[49m\u001b[43m_antialiaseds\u001b[49m\u001b[43m,\u001b[49m\u001b[43m \u001b[49m\u001b[38;5;28;43mself\u001b[39;49m\u001b[43m.\u001b[49m\u001b[43m_urls\u001b[49m\u001b[43m,\u001b[49m\n\u001b[32m    436\u001b[39m \u001b[43m        \u001b[49m\u001b[33;43m\"\u001b[39;49m\u001b[33;43mscreen\u001b[39;49m\u001b[33;43m\"\u001b[39;49m\u001b[43m)\u001b[49m  \u001b[38;5;66;03m# offset_position, kept for backcompat.\u001b[39;00m\n\u001b[32m    438\u001b[39m gc.restore()\n\u001b[32m    439\u001b[39m renderer.close_group(\u001b[38;5;28mself\u001b[39m.\u001b[34m__class__\u001b[39m.\u001b[34m__name__\u001b[39m)\n",
      "\u001b[36mFile \u001b[39m\u001b[32mc:\\Users\\bkb3\\AppData\\Local\\miniconda3\\Lib\\site-packages\\matplotlib\\path.py:223\u001b[39m, in \u001b[36mPath.codes\u001b[39m\u001b[34m(self)\u001b[39m\n\u001b[32m    220\u001b[39m     \u001b[38;5;28mself\u001b[39m._vertices = vertices\n\u001b[32m    221\u001b[39m     \u001b[38;5;28mself\u001b[39m._update_values()\n\u001b[32m--> \u001b[39m\u001b[32m223\u001b[39m \u001b[38;5;129m@property\u001b[39m\n\u001b[32m    224\u001b[39m \u001b[38;5;28;01mdef\u001b[39;00m\u001b[38;5;250m \u001b[39m\u001b[34mcodes\u001b[39m(\u001b[38;5;28mself\u001b[39m):\n\u001b[32m    225\u001b[39m \u001b[38;5;250m    \u001b[39m\u001b[33;03m\"\"\"\u001b[39;00m\n\u001b[32m    226\u001b[39m \u001b[33;03m    The list of codes in the `Path` as a 1D array.\u001b[39;00m\n\u001b[32m    227\u001b[39m \n\u001b[32m   (...)\u001b[39m\u001b[32m    231\u001b[39m \u001b[33;03m    of `vertices` and `codes` is always the same.\u001b[39;00m\n\u001b[32m    232\u001b[39m \u001b[33;03m    \"\"\"\u001b[39;00m\n\u001b[32m    233\u001b[39m     \u001b[38;5;28;01mreturn\u001b[39;00m \u001b[38;5;28mself\u001b[39m._codes\n",
      "\u001b[31mKeyboardInterrupt\u001b[39m: "
     ]
    }
   ],
   "source": [
    "pd.plotting.scatter_matrix(df_dum, alpha=0.2)"
   ]
  }
 ],
 "metadata": {
  "kernelspec": {
   "display_name": "base",
   "language": "python",
   "name": "python3"
  },
  "language_info": {
   "codemirror_mode": {
    "name": "ipython",
    "version": 3
   },
   "file_extension": ".py",
   "mimetype": "text/x-python",
   "name": "python",
   "nbconvert_exporter": "python",
   "pygments_lexer": "ipython3",
   "version": "3.13.4"
  }
 },
 "nbformat": 4,
 "nbformat_minor": 5
}
