{
 "cells": [
  {
   "cell_type": "code",
   "execution_count": 1,
   "id": "8ad81ea7",
   "metadata": {},
   "outputs": [],
   "source": [
    "import pandas as pd\n",
    "import numpy as np"
   ]
  },
  {
   "cell_type": "code",
   "execution_count": 2,
   "id": "2959383b",
   "metadata": {},
   "outputs": [],
   "source": [
    "# Train data needs params Data_Cleaned, train_data, X_train, y_train\n",
    "# Test data needs params Data_Cleaned, test_data, X_test, y_test\n",
    "X = pd.read_csv(\"../Accident_Data_Preprocessing/Data_Cleaned/control_datasets_bin/control_data_unmerge_bin/control_train_full_bin.csv\")\n",
    "y = pd.read_csv(\"../Accident_Data_Preprocessing/Data_Cleaned/control_datasets_bin/control_data_unmerge_bin/y_train_control.csv\")\n",
    "df = pd.concat([X, y], axis=1)"
   ]
  },
  {
   "cell_type": "code",
   "execution_count": 3,
   "id": "71b533ab",
   "metadata": {},
   "outputs": [],
   "source": [
    "cols = ['Street', 'Temperature(F)', 'Humidity(%)',\n",
    "        'Pressure(in)', 'Visibility(mi)', 'Wind_Direction', 'Weather_Condition',\n",
    "        'Amenity', 'Crossing', 'Junction', 'Railway', 'Station', 'Stop',\n",
    "        'Traffic_Calming', 'Traffic_Signal', 'Sunrise_Sunset', 'Class_New']\n",
    "\n",
    "# 0 is class 1/2\n",
    "# 1 is class 3/4\n",
    "col         = 'Class'\n",
    "conditions  = [ df[col] == 1, df[col] == 2, df[col] == 3, df[col] == 4 ]\n",
    "choices     = [ 0, 0, 1, 1 ]\n",
    "\n",
    "df[\"Class_New\"] = np.select(conditions, choices)\n",
    "df_c1 = df[df['Class_New'] != 0]\n",
    "df_c0 = df[df['Class_New'] != 1]\n",
    "df_c1 = df_c1.drop_duplicates()\n",
    "df_c0 = df_c0.drop_duplicates()\n",
    "df.to_csv(\"Data_Cleaned/control_datasets_bin/control_data_merge_bin/control_2class_samebin_nodist.csv\", columns = cols, index = False)\n",
    "#df_c0.to_csv(\"Data_Cleaned/control_datasets_bin/control_data_merge_bin/control_2class0_samebin_nodist.csv\", columns = cols, index = False)\n"
   ]
  }
 ],
 "metadata": {
  "kernelspec": {
   "display_name": "base",
   "language": "python",
   "name": "python3"
  },
  "language_info": {
   "codemirror_mode": {
    "name": "ipython",
    "version": 3
   },
   "file_extension": ".py",
   "mimetype": "text/x-python",
   "name": "python",
   "nbconvert_exporter": "python",
   "pygments_lexer": "ipython3",
   "version": "3.13.4"
  }
 },
 "nbformat": 4,
 "nbformat_minor": 5
}
