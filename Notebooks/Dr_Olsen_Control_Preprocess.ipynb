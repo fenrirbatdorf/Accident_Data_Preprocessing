{
 "cells": [
  {
   "cell_type": "markdown",
   "id": "8a0af2fc-fc93-4f5e-8773-fd2cf0783682",
   "metadata": {},
   "source": [
    "Creating another variation on the initial data"
   ]
  },
  {
   "cell_type": "code",
   "execution_count": 1,
   "id": "1c264cdf-75b0-41d1-b70e-0619dae705a8",
   "metadata": {},
   "outputs": [],
   "source": [
    "# Imports\n",
    "import pandas as pd\n",
    "import matplotlib.pyplot as plt\n",
    "import numpy as np"
   ]
  },
  {
   "cell_type": "code",
   "execution_count": 2,
   "id": "82b7ccb2-ccbc-4a4d-8f27-3f697904e436",
   "metadata": {},
   "outputs": [],
   "source": [
    "# Train data needs params Data_Raw, train_data, X_train, y_train\n",
    "# Test data needs params Data_Raw, test_data, X_test, y_test\n",
    "def data_input(folder1, folder2, file_x, file_y):\n",
    "    X = pd.read_csv(f\"../Accident_Data_Preprocessing/{folder1}/{folder2}/{file_x}.csv\")\n",
    "    y = pd.read_csv(f\"../Accident_Data_Preprocessing/{folder1}/{folder2}/{file_y}.csv\")\n",
    "    df = pd.concat([X, y], axis=1)\n",
    "    return df\n",
    "    "
   ]
  },
  {
   "cell_type": "code",
   "execution_count": 3,
   "id": "03be9ffe",
   "metadata": {},
   "outputs": [],
   "source": [
    "# TEST SET INPUT\n",
    "#df = data_input(\"Data_Raw\", \"test_data\", \"X_test\", \"y_test\")\n",
    "#df.head()"
   ]
  },
  {
   "cell_type": "code",
   "execution_count": 4,
   "id": "a977570e",
   "metadata": {},
   "outputs": [
    {
     "data": {
      "application/vnd.microsoft.datawrangler.viewer.v0+json": {
       "columns": [
        {
         "name": "index",
         "rawType": "int64",
         "type": "integer"
        },
        {
         "name": "ID",
         "rawType": "object",
         "type": "string"
        },
        {
         "name": "Source",
         "rawType": "object",
         "type": "string"
        },
        {
         "name": "Start_Time",
         "rawType": "object",
         "type": "string"
        },
        {
         "name": "End_Time",
         "rawType": "object",
         "type": "string"
        },
        {
         "name": "Start_Lat",
         "rawType": "float64",
         "type": "float"
        },
        {
         "name": "Start_Lng",
         "rawType": "float64",
         "type": "float"
        },
        {
         "name": "End_Lat",
         "rawType": "float64",
         "type": "float"
        },
        {
         "name": "End_Lng",
         "rawType": "float64",
         "type": "float"
        },
        {
         "name": "Distance(mi)",
         "rawType": "float64",
         "type": "float"
        },
        {
         "name": "Description",
         "rawType": "object",
         "type": "string"
        },
        {
         "name": "Street",
         "rawType": "object",
         "type": "string"
        },
        {
         "name": "City",
         "rawType": "object",
         "type": "string"
        },
        {
         "name": "County",
         "rawType": "object",
         "type": "string"
        },
        {
         "name": "State",
         "rawType": "object",
         "type": "string"
        },
        {
         "name": "Zipcode",
         "rawType": "object",
         "type": "string"
        },
        {
         "name": "Country",
         "rawType": "object",
         "type": "string"
        },
        {
         "name": "Timezone",
         "rawType": "object",
         "type": "string"
        },
        {
         "name": "Airport_Code",
         "rawType": "object",
         "type": "string"
        },
        {
         "name": "Weather_Timestamp",
         "rawType": "object",
         "type": "string"
        },
        {
         "name": "Temperature(F)",
         "rawType": "float64",
         "type": "float"
        },
        {
         "name": "Wind_Chill(F)",
         "rawType": "float64",
         "type": "float"
        },
        {
         "name": "Humidity(%)",
         "rawType": "float64",
         "type": "float"
        },
        {
         "name": "Pressure(in)",
         "rawType": "float64",
         "type": "float"
        },
        {
         "name": "Visibility(mi)",
         "rawType": "float64",
         "type": "float"
        },
        {
         "name": "Wind_Direction",
         "rawType": "object",
         "type": "string"
        },
        {
         "name": "Wind_Speed(mph)",
         "rawType": "float64",
         "type": "float"
        },
        {
         "name": "Precipitation(in)",
         "rawType": "float64",
         "type": "float"
        },
        {
         "name": "Weather_Condition",
         "rawType": "object",
         "type": "unknown"
        },
        {
         "name": "Amenity",
         "rawType": "bool",
         "type": "boolean"
        },
        {
         "name": "Bump",
         "rawType": "bool",
         "type": "boolean"
        },
        {
         "name": "Crossing",
         "rawType": "bool",
         "type": "boolean"
        },
        {
         "name": "Give_Way",
         "rawType": "bool",
         "type": "boolean"
        },
        {
         "name": "Junction",
         "rawType": "bool",
         "type": "boolean"
        },
        {
         "name": "No_Exit",
         "rawType": "bool",
         "type": "boolean"
        },
        {
         "name": "Railway",
         "rawType": "bool",
         "type": "boolean"
        },
        {
         "name": "Roundabout",
         "rawType": "bool",
         "type": "boolean"
        },
        {
         "name": "Station",
         "rawType": "bool",
         "type": "boolean"
        },
        {
         "name": "Stop",
         "rawType": "bool",
         "type": "boolean"
        },
        {
         "name": "Traffic_Calming",
         "rawType": "bool",
         "type": "boolean"
        },
        {
         "name": "Traffic_Signal",
         "rawType": "bool",
         "type": "boolean"
        },
        {
         "name": "Turning_Loop",
         "rawType": "bool",
         "type": "boolean"
        },
        {
         "name": "Sunrise_Sunset",
         "rawType": "object",
         "type": "string"
        },
        {
         "name": "Civil_Twilight",
         "rawType": "object",
         "type": "string"
        },
        {
         "name": "Nautical_Twilight",
         "rawType": "object",
         "type": "string"
        },
        {
         "name": "Astronomical_Twilight",
         "rawType": "object",
         "type": "string"
        },
        {
         "name": "Severity",
         "rawType": "int64",
         "type": "integer"
        }
       ],
       "ref": "3ef72838-10ba-4893-b903-59a83b24df01",
       "rows": [
        [
         "0",
         "A-1582799",
         "Source2",
         "2020-01-09 21:03:06",
         "2020-01-09 21:30:52",
         "38.909382",
         "-76.725899",
         null,
         null,
         "0.0",
         "Accident on Pointer Ridge Dr at Philmont Ln.",
         "Pointer Ridge Dr",
         "Bowie",
         "Prince George's",
         "MD",
         "20716-1805",
         "US",
         "US/Eastern",
         "KCGS",
         "2020-01-09 21:08:00",
         "30.0",
         "30.0",
         "55.0",
         "30.66",
         "10.0",
         "CALM",
         "0.0",
         "0.0",
         "Fair",
         "False",
         "False",
         "False",
         "False",
         "False",
         "False",
         "False",
         "False",
         "False",
         "False",
         "False",
         "False",
         "False",
         "Night",
         "Night",
         "Night",
         "Night",
         "2"
        ],
        [
         "1",
         "A-480671",
         "Source2",
         "2017-06-08 08:01:59",
         "2017-06-08 08:46:37",
         "39.28788",
         "-76.533447",
         null,
         null,
         "0.0",
         "Right hand shoulder closed due to accident on I-95 Southbound at Exit 59 MD-150 Eastern Ave.",
         "I-95 S",
         "Baltimore",
         "Baltimore City",
         "MD",
         "21224",
         "US",
         "US/Eastern",
         "KDMH",
         "2017-06-08 07:54:00",
         "64.0",
         null,
         "65.0",
         "30.02",
         null,
         "North",
         null,
         null,
         null,
         "False",
         "False",
         "False",
         "False",
         "False",
         "False",
         "False",
         "False",
         "False",
         "False",
         "False",
         "False",
         "False",
         "Day",
         "Day",
         "Day",
         "Day",
         "3"
        ],
        [
         "2",
         "A-259111",
         "Source2",
         "2016-07-14 17:13:19",
         "2016-07-14 18:43:19",
         "39.109459",
         "-77.160103",
         null,
         null,
         "0.0",
         "Accident on MD-355 Frederick Rd at MD-355 Frederick Rd.",
         "MD-355",
         "Derwood",
         "Montgomery",
         "MD",
         "20855",
         "US",
         "US/Eastern",
         "KGAI",
         "2016-07-14 17:15:00",
         "95.0",
         null,
         "44.0",
         "29.89",
         "10.0",
         "West",
         "9.2",
         null,
         "Partly Cloudy",
         "False",
         "False",
         "True",
         "False",
         "False",
         "False",
         "False",
         "False",
         "False",
         "False",
         "False",
         "False",
         "False",
         "Day",
         "Day",
         "Day",
         "Day",
         "2"
        ],
        [
         "3",
         "A-3629107",
         "Source1",
         "2017-06-13 07:14:33",
         "2017-06-13 13:14:33",
         "39.39169",
         "-77.32267",
         "39.39387",
         "-77.3265",
         "0.254",
         "At MD-144/Exit 59 - Accident.",
         "US-40 W",
         "Ijamsville",
         "Frederick",
         "MD",
         "21754",
         "US",
         "US/Eastern",
         "KFDK",
         "2017-06-13 06:50:00",
         "71.6",
         null,
         "88.0",
         "30.05",
         "10.0",
         "Calm",
         null,
         null,
         "Clear",
         "False",
         "False",
         "False",
         "False",
         "False",
         "False",
         "False",
         "False",
         "False",
         "False",
         "False",
         "False",
         "False",
         "Day",
         "Day",
         "Day",
         "Day",
         "2"
        ],
        [
         "4",
         "A-3051370",
         "Source2",
         "2018-01-08 07:48:00",
         "2018-01-08 08:16:31",
         "39.38739",
         "-77.143936",
         null,
         null,
         "0.0",
         "Accident on MD-808 Main St Northbound at Ellis Rd.",
         "Ellis Rd",
         "Mount Airy",
         "Carroll",
         "MD",
         "21771-7483",
         "US",
         "US/Eastern",
         "KFDK",
         "2018-01-08 07:47:00",
         "17.6",
         null,
         "49.0",
         "30.26",
         "10.0",
         "Calm",
         null,
         null,
         "Clear",
         "False",
         "False",
         "False",
         "False",
         "False",
         "False",
         "False",
         "False",
         "False",
         "False",
         "False",
         "False",
         "False",
         "Day",
         "Day",
         "Day",
         "Day",
         "2"
        ]
       ],
       "shape": {
        "columns": 46,
        "rows": 5
       }
      },
      "text/html": [
       "<div>\n",
       "<style scoped>\n",
       "    .dataframe tbody tr th:only-of-type {\n",
       "        vertical-align: middle;\n",
       "    }\n",
       "\n",
       "    .dataframe tbody tr th {\n",
       "        vertical-align: top;\n",
       "    }\n",
       "\n",
       "    .dataframe thead th {\n",
       "        text-align: right;\n",
       "    }\n",
       "</style>\n",
       "<table border=\"1\" class=\"dataframe\">\n",
       "  <thead>\n",
       "    <tr style=\"text-align: right;\">\n",
       "      <th></th>\n",
       "      <th>ID</th>\n",
       "      <th>Source</th>\n",
       "      <th>Start_Time</th>\n",
       "      <th>End_Time</th>\n",
       "      <th>Start_Lat</th>\n",
       "      <th>Start_Lng</th>\n",
       "      <th>End_Lat</th>\n",
       "      <th>End_Lng</th>\n",
       "      <th>Distance(mi)</th>\n",
       "      <th>Description</th>\n",
       "      <th>...</th>\n",
       "      <th>Station</th>\n",
       "      <th>Stop</th>\n",
       "      <th>Traffic_Calming</th>\n",
       "      <th>Traffic_Signal</th>\n",
       "      <th>Turning_Loop</th>\n",
       "      <th>Sunrise_Sunset</th>\n",
       "      <th>Civil_Twilight</th>\n",
       "      <th>Nautical_Twilight</th>\n",
       "      <th>Astronomical_Twilight</th>\n",
       "      <th>Severity</th>\n",
       "    </tr>\n",
       "  </thead>\n",
       "  <tbody>\n",
       "    <tr>\n",
       "      <th>0</th>\n",
       "      <td>A-1582799</td>\n",
       "      <td>Source2</td>\n",
       "      <td>2020-01-09 21:03:06</td>\n",
       "      <td>2020-01-09 21:30:52</td>\n",
       "      <td>38.909382</td>\n",
       "      <td>-76.725899</td>\n",
       "      <td>NaN</td>\n",
       "      <td>NaN</td>\n",
       "      <td>0.000</td>\n",
       "      <td>Accident on Pointer Ridge Dr at Philmont Ln.</td>\n",
       "      <td>...</td>\n",
       "      <td>False</td>\n",
       "      <td>False</td>\n",
       "      <td>False</td>\n",
       "      <td>False</td>\n",
       "      <td>False</td>\n",
       "      <td>Night</td>\n",
       "      <td>Night</td>\n",
       "      <td>Night</td>\n",
       "      <td>Night</td>\n",
       "      <td>2</td>\n",
       "    </tr>\n",
       "    <tr>\n",
       "      <th>1</th>\n",
       "      <td>A-480671</td>\n",
       "      <td>Source2</td>\n",
       "      <td>2017-06-08 08:01:59</td>\n",
       "      <td>2017-06-08 08:46:37</td>\n",
       "      <td>39.287880</td>\n",
       "      <td>-76.533447</td>\n",
       "      <td>NaN</td>\n",
       "      <td>NaN</td>\n",
       "      <td>0.000</td>\n",
       "      <td>Right hand shoulder closed due to accident on ...</td>\n",
       "      <td>...</td>\n",
       "      <td>False</td>\n",
       "      <td>False</td>\n",
       "      <td>False</td>\n",
       "      <td>False</td>\n",
       "      <td>False</td>\n",
       "      <td>Day</td>\n",
       "      <td>Day</td>\n",
       "      <td>Day</td>\n",
       "      <td>Day</td>\n",
       "      <td>3</td>\n",
       "    </tr>\n",
       "    <tr>\n",
       "      <th>2</th>\n",
       "      <td>A-259111</td>\n",
       "      <td>Source2</td>\n",
       "      <td>2016-07-14 17:13:19</td>\n",
       "      <td>2016-07-14 18:43:19</td>\n",
       "      <td>39.109459</td>\n",
       "      <td>-77.160103</td>\n",
       "      <td>NaN</td>\n",
       "      <td>NaN</td>\n",
       "      <td>0.000</td>\n",
       "      <td>Accident on MD-355 Frederick Rd at MD-355 Fred...</td>\n",
       "      <td>...</td>\n",
       "      <td>False</td>\n",
       "      <td>False</td>\n",
       "      <td>False</td>\n",
       "      <td>False</td>\n",
       "      <td>False</td>\n",
       "      <td>Day</td>\n",
       "      <td>Day</td>\n",
       "      <td>Day</td>\n",
       "      <td>Day</td>\n",
       "      <td>2</td>\n",
       "    </tr>\n",
       "    <tr>\n",
       "      <th>3</th>\n",
       "      <td>A-3629107</td>\n",
       "      <td>Source1</td>\n",
       "      <td>2017-06-13 07:14:33</td>\n",
       "      <td>2017-06-13 13:14:33</td>\n",
       "      <td>39.391690</td>\n",
       "      <td>-77.322670</td>\n",
       "      <td>39.39387</td>\n",
       "      <td>-77.3265</td>\n",
       "      <td>0.254</td>\n",
       "      <td>At MD-144/Exit 59 - Accident.</td>\n",
       "      <td>...</td>\n",
       "      <td>False</td>\n",
       "      <td>False</td>\n",
       "      <td>False</td>\n",
       "      <td>False</td>\n",
       "      <td>False</td>\n",
       "      <td>Day</td>\n",
       "      <td>Day</td>\n",
       "      <td>Day</td>\n",
       "      <td>Day</td>\n",
       "      <td>2</td>\n",
       "    </tr>\n",
       "    <tr>\n",
       "      <th>4</th>\n",
       "      <td>A-3051370</td>\n",
       "      <td>Source2</td>\n",
       "      <td>2018-01-08 07:48:00</td>\n",
       "      <td>2018-01-08 08:16:31</td>\n",
       "      <td>39.387390</td>\n",
       "      <td>-77.143936</td>\n",
       "      <td>NaN</td>\n",
       "      <td>NaN</td>\n",
       "      <td>0.000</td>\n",
       "      <td>Accident on MD-808 Main St Northbound at Ellis...</td>\n",
       "      <td>...</td>\n",
       "      <td>False</td>\n",
       "      <td>False</td>\n",
       "      <td>False</td>\n",
       "      <td>False</td>\n",
       "      <td>False</td>\n",
       "      <td>Day</td>\n",
       "      <td>Day</td>\n",
       "      <td>Day</td>\n",
       "      <td>Day</td>\n",
       "      <td>2</td>\n",
       "    </tr>\n",
       "  </tbody>\n",
       "</table>\n",
       "<p>5 rows × 46 columns</p>\n",
       "</div>"
      ],
      "text/plain": [
       "          ID   Source           Start_Time             End_Time  Start_Lat  \\\n",
       "0  A-1582799  Source2  2020-01-09 21:03:06  2020-01-09 21:30:52  38.909382   \n",
       "1   A-480671  Source2  2017-06-08 08:01:59  2017-06-08 08:46:37  39.287880   \n",
       "2   A-259111  Source2  2016-07-14 17:13:19  2016-07-14 18:43:19  39.109459   \n",
       "3  A-3629107  Source1  2017-06-13 07:14:33  2017-06-13 13:14:33  39.391690   \n",
       "4  A-3051370  Source2  2018-01-08 07:48:00  2018-01-08 08:16:31  39.387390   \n",
       "\n",
       "   Start_Lng   End_Lat  End_Lng  Distance(mi)  \\\n",
       "0 -76.725899       NaN      NaN         0.000   \n",
       "1 -76.533447       NaN      NaN         0.000   \n",
       "2 -77.160103       NaN      NaN         0.000   \n",
       "3 -77.322670  39.39387 -77.3265         0.254   \n",
       "4 -77.143936       NaN      NaN         0.000   \n",
       "\n",
       "                                         Description  ... Station   Stop  \\\n",
       "0       Accident on Pointer Ridge Dr at Philmont Ln.  ...   False  False   \n",
       "1  Right hand shoulder closed due to accident on ...  ...   False  False   \n",
       "2  Accident on MD-355 Frederick Rd at MD-355 Fred...  ...   False  False   \n",
       "3                      At MD-144/Exit 59 - Accident.  ...   False  False   \n",
       "4  Accident on MD-808 Main St Northbound at Ellis...  ...   False  False   \n",
       "\n",
       "  Traffic_Calming Traffic_Signal Turning_Loop Sunrise_Sunset Civil_Twilight  \\\n",
       "0           False          False        False          Night          Night   \n",
       "1           False          False        False            Day            Day   \n",
       "2           False          False        False            Day            Day   \n",
       "3           False          False        False            Day            Day   \n",
       "4           False          False        False            Day            Day   \n",
       "\n",
       "  Nautical_Twilight Astronomical_Twilight  Severity  \n",
       "0             Night                 Night         2  \n",
       "1               Day                   Day         3  \n",
       "2               Day                   Day         2  \n",
       "3               Day                   Day         2  \n",
       "4               Day                   Day         2  \n",
       "\n",
       "[5 rows x 46 columns]"
      ]
     },
     "execution_count": 4,
     "metadata": {},
     "output_type": "execute_result"
    }
   ],
   "source": [
    "# TRAIN SET INPUT\n",
    "df = data_input(\"Data_Raw\", \"train_data\", \"X_train\", \"y_train\")\n",
    "df.head()"
   ]
  },
  {
   "cell_type": "markdown",
   "id": "477f312b-4a81-4b30-a4ca-d5d077249036",
   "metadata": {},
   "source": [
    "## Drop columns unlikely to be useful\n",
    "\n",
    "Too focused on timing or too fine grained or unique"
   ]
  },
  {
   "cell_type": "code",
   "execution_count": 5,
   "id": "f66cbf70-dd6d-40a0-ac9b-6cae069ac21f",
   "metadata": {},
   "outputs": [
    {
     "data": {
      "text/plain": [
       "Index(['ID', 'Source', 'Start_Time', 'End_Time', 'Start_Lat', 'Start_Lng',\n",
       "       'End_Lat', 'End_Lng', 'Distance(mi)', 'Description', 'Street', 'City',\n",
       "       'County', 'State', 'Zipcode', 'Country', 'Timezone', 'Airport_Code',\n",
       "       'Weather_Timestamp', 'Temperature(F)', 'Wind_Chill(F)', 'Humidity(%)',\n",
       "       'Pressure(in)', 'Visibility(mi)', 'Wind_Direction', 'Wind_Speed(mph)',\n",
       "       'Precipitation(in)', 'Weather_Condition', 'Amenity', 'Bump', 'Crossing',\n",
       "       'Give_Way', 'Junction', 'No_Exit', 'Railway', 'Roundabout', 'Station',\n",
       "       'Stop', 'Traffic_Calming', 'Traffic_Signal', 'Turning_Loop',\n",
       "       'Sunrise_Sunset', 'Civil_Twilight', 'Nautical_Twilight',\n",
       "       'Astronomical_Twilight', 'Severity'],\n",
       "      dtype='object')"
      ]
     },
     "execution_count": 5,
     "metadata": {},
     "output_type": "execute_result"
    }
   ],
   "source": [
    "df.columns"
   ]
  },
  {
   "cell_type": "code",
   "execution_count": 6,
   "id": "a263d575-ba6d-4062-a883-77e2f1351f7f",
   "metadata": {},
   "outputs": [],
   "source": [
    "df.drop([\"ID\",\"Source\",\"Country\"],axis=1,inplace=True) # drop clearly unneeded columns"
   ]
  },
  {
   "cell_type": "code",
   "execution_count": 7,
   "id": "253123f7-3f79-4f37-8dbc-c68ac5a6cc4a",
   "metadata": {},
   "outputs": [],
   "source": [
    "df[\"Zipcode\"] = df.Zipcode.apply(lambda x: str(x).split(\"-\")[0]) # fix zipcodes so that they are all 5 digit"
   ]
  },
  {
   "cell_type": "code",
   "execution_count": 8,
   "id": "5676dde1-0dd8-42c7-ae2d-bba739b5261d",
   "metadata": {},
   "outputs": [],
   "source": [
    "df.drop([\"End_Time\",\"End_Lat\",\"End_Lng\"],axis=1,inplace=True) #can't know these things before it happens"
   ]
  },
  {
   "cell_type": "code",
   "execution_count": 9,
   "id": "f8490d26-3d72-4b4c-b7ec-f2241d14a849",
   "metadata": {},
   "outputs": [],
   "source": [
    "df.drop([\"Start_Lat\",\"Start_Lng\",\"State\",\"City\"],axis=1,inplace=True)# so much of location data is redundant and correlated"
   ]
  },
  {
   "cell_type": "code",
   "execution_count": 10,
   "id": "3997a3e0-f97e-48ae-b765-665dbeaabdcc",
   "metadata": {},
   "outputs": [],
   "source": [
    "df.drop([\"Timezone\",\"Weather_Timestamp\",\"Airport_Code\",\"Description\"],axis=1,inplace=True)"
   ]
  },
  {
   "cell_type": "code",
   "execution_count": 11,
   "id": "c1a48f8c-760e-42c7-a4e2-e2e27b3c1bed",
   "metadata": {},
   "outputs": [],
   "source": [
    "df.drop([\"Start_Time\",\"Zipcode\",\"County\"],axis=1,inplace=True)"
   ]
  },
  {
   "cell_type": "markdown",
   "id": "8834d156-764b-4af3-ad63-9f5640f80bdf",
   "metadata": {},
   "source": [
    "## Street Type"
   ]
  },
  {
   "cell_type": "code",
   "execution_count": 12,
   "id": "c9f523ac-61ee-4b5e-9601-51f58ec11f75",
   "metadata": {},
   "outputs": [],
   "source": [
    "df = df[~df.Street.str.contains(\"Francis Scott Key Bridge\",na=False)|~df.Street.str.contains(\"Alexandria - Gaylord\",na=False)]"
   ]
  },
  {
   "cell_type": "code",
   "execution_count": 13,
   "id": "ff3fe748-a1d9-4fd2-9bc1-308cd3cd550e",
   "metadata": {},
   "outputs": [
    {
     "name": "stdout",
     "output_type": "stream",
     "text": [
      "(6932,)\n"
     ]
    },
    {
     "data": {
      "application/vnd.microsoft.datawrangler.viewer.v0+json": {
       "columns": [
        {
         "name": "Street",
         "rawType": "object",
         "type": "string"
        },
        {
         "name": "count",
         "rawType": "int64",
         "type": "integer"
        }
       ],
       "ref": "7e820bec-2d78-4be3-a8b0-a07ebf7d5843",
       "rows": [
        [
         "I-95 S",
         "4576"
        ],
        [
         "I-95 N",
         "4543"
        ],
        [
         "Capital Beltway S",
         "3238"
        ],
        [
         "Capital Beltway N",
         "2608"
        ],
        [
         "Capital Beltway W",
         "2340"
        ],
        [
         "I-695 E",
         "2210"
        ],
        [
         "Capital Beltway E",
         "2080"
        ],
        [
         "I-70 E",
         "2018"
        ],
        [
         "I-695 W",
         "1958"
        ],
        [
         "Baltimore Washington Pkwy N",
         "1819"
        ],
        [
         "I-95",
         "1749"
        ],
        [
         "Dwight D Eisenhower Hwy N",
         "1505"
        ],
        [
         "Dwight D Eisenhower Hwy S",
         "1497"
        ],
        [
         "I-695 N",
         "1468"
        ],
        [
         "Baltimore Washington Pkwy S",
         "1466"
        ],
        [
         "I-70 W",
         "1464"
        ],
        [
         "I-695 S",
         "1437"
        ],
        [
         "I-695",
         "1328"
        ],
        [
         "Capital Beltway",
         "1181"
        ],
        [
         "I-83 N",
         "1024"
        ],
        [
         " Crain Hwy",
         "884"
        ],
        [
         "I-70",
         "839"
        ],
        [
         "I-270 N",
         "702"
        ],
        [
         "John Hanson Hwy E",
         "660"
        ],
        [
         "Harbor Tunnel Trwy E",
         "632"
        ],
        [
         "Crain Hwy",
         "596"
        ],
        [
         "John Hanson Hwy W",
         "595"
        ],
        [
         " Ocean Gtwy",
         "594"
        ],
        [
         "I-83 S",
         "593"
        ],
        [
         "Baltimore National Pike E",
         "572"
        ],
        [
         " Indian Head Hwy",
         "566"
        ],
        [
         "I-270",
         "504"
        ],
        [
         "John F Kennedy Memorial Hwy S",
         "464"
        ],
        [
         "US-50",
         "448"
        ],
        [
         "Baltimore Washington Pkwy",
         "444"
        ],
        [
         "Indian Head Hwy",
         "431"
        ],
        [
         "MD-100 E",
         "429"
        ],
        [
         "I-97 S",
         "414"
        ],
        [
         " New Hampshire Ave",
         "403"
        ],
        [
         "Ocean Gtwy",
         "387"
        ],
        [
         "Washington National Pike S",
         "386"
        ],
        [
         "Harbor Tunnel Trwy W",
         "385"
        ],
        [
         " Branch Ave",
         "382"
        ],
        [
         "Glen Burnie Byp N",
         "377"
        ],
        [
         "I-97 N",
         "374"
        ],
        [
         "Catoctin Mountain Hwy",
         "361"
        ],
        [
         "William Preston Lane Jr Memorial Brg",
         "352"
        ],
        [
         "Baltimore National Pike W",
         "348"
        ],
        [
         "Revell Hwy E",
         "344"
        ],
        [
         "Georgia Ave",
         "336"
        ]
       ],
       "shape": {
        "columns": 1,
        "rows": 6932
       }
      },
      "text/plain": [
       "Street\n",
       "I-95 S               4576\n",
       "I-95 N               4543\n",
       "Capital Beltway S    3238\n",
       "Capital Beltway N    2608\n",
       "Capital Beltway W    2340\n",
       "                     ... \n",
       "Willow Vale Dr          1\n",
       " Lagoon Rd              1\n",
       "Leakin St               1\n",
       "Hudson Corner Rd        1\n",
       "Sunset Blvd             1\n",
       "Name: count, Length: 6932, dtype: int64"
      ]
     },
     "execution_count": 13,
     "metadata": {},
     "output_type": "execute_result"
    }
   ],
   "source": [
    "print(df.Street.value_counts().shape)\n",
    "df.Street.value_counts()"
   ]
  },
  {
   "cell_type": "code",
   "execution_count": 14,
   "id": "83ffea59-2519-4549-bd58-6076a30b7ed9",
   "metadata": {},
   "outputs": [],
   "source": [
    "def nsew(x,r):\n",
    "    if x[-1] in [\"N\",\"S\",\"E\",\"W\"]:\n",
    "        r= r+x[-1]\n",
    "    return r"
   ]
  },
  {
   "cell_type": "code",
   "execution_count": 15,
   "id": "1ac7e240-c085-45f8-a3f7-d78193f00e38",
   "metadata": {},
   "outputs": [],
   "source": [
    "def street_type(x):\n",
    "    if \"Tunl\" in x or \"Tunnel\" in x:\n",
    "        return \"Tunnel\"#nsew(x,\"Tunnel\")\n",
    "    if \"I-\" in x or \"I \" in x:\n",
    "        return \"Interstate\"\n",
    "    if \" Dr \" in x or \" Ave \" in x or \" Rd \" in x or \" Xing\" in x or \" Way \" in x:\n",
    "        return \"local\"\n",
    "    if \"Beltway\" in x:\n",
    "        return \"Beltway\"\n",
    "    if \"US-\" in x[:4] or \"US \" in x or \"MD-\" in x[:4] or \"Expy\" in x:\n",
    "        return \"Highway\"\n",
    "    if \"Hwy\" in x or \"Fwy\" in x or \"Highway\" in x or \"Route\" in x or \"Connector\" in x or \"Byp\" in x \\\n",
    "        or \"Bypass\" in x or \"Gtwy\" in x or \"Brg\" in x or \"Trwy\" in x or \"Rt\" in x or \"Conn\" in x or \"Exp\" in x \\\n",
    "        or \"Thwy\" in x:\n",
    "        return \"Highway\"\n",
    "    if x[-2:] in [\"St\",\"Pl\",\"Dr\",\"Sq\"]:\n",
    "        return \"local\"\n",
    "    if \"Ln\" in x or \"Rd\" in x or \"Ct\" in x:\n",
    "        return \"local\"\n",
    "    if x[-3:] in [\"Way\",\"Cir\",\"Ter\",\"Trl\",\"Plz\",\"Aly\",\"Grn\",\"way\",\"Ext\"]:\n",
    "        return \"local\"\n",
    "    if x[-3:] in [\"-A\", \"-B\", \"-11\", \"-33\"]:\n",
    "        return \"on_off_ramp\"\n",
    "    if x[-1] in [\"A\", \"B\", \"C\"]:\n",
    "        return \"on_off_ramp\"\n",
    "    if \"Ave\" in x[-5:] or \" Blvd\" in x or \" Pike\" in x or \"Pkwy\" in x or \"Crse\" in x or \"Alameda\" in x:\n",
    "        return \"large_local\"\n",
    "    if \"Garth\" in x or \"Spell\" in x or \"Psge\" in x or \"Chase\" in x or \"Cutoff\" in x or \"Spire\" in x:\n",
    "        return \"local\"\n",
    "    if \"Overlook\" in x or \"Battlefield\" in x or \"Cemetery\" in x or \"Park\" in x or \"Base\" in x or \"Concourse\" in x \\\n",
    "        or \"Memorial\" in x or \"Booth's\" in x or \"Bywy\" in x or \"Underground\" in x:\n",
    "        return \"special\"\n",
    "    if \"Loop\" in x or \"Greenway\" in x or \"West\" in x or \"ville\" in x or \"wood\" in x:\n",
    "        return \"local\"\n",
    "    if \"St\" in x or \"Mnr\" in x or \"Pass\" in x or \"Run\" in x or \"Mall\" in x or \"Row\" in x or \"Grv\":\n",
    "        return \"local\"\n",
    "    return x"
   ]
  },
  {
   "cell_type": "code",
   "execution_count": 16,
   "id": "0d3ebea3",
   "metadata": {},
   "outputs": [],
   "source": [
    "df[\"Street\"] = df[\"Street\"].astype(str)\n",
    "df[\"Street\"] = df.Street.apply(street_type)"
   ]
  },
  {
   "cell_type": "code",
   "execution_count": 17,
   "id": "b3258126-dde4-4315-9823-0529d3f907ff",
   "metadata": {},
   "outputs": [],
   "source": [
    "df=df.loc[~df.Street.str.contains(\"special\")]\n"
   ]
  },
  {
   "cell_type": "code",
   "execution_count": 18,
   "id": "c6a52b5f-8f2c-4121-87b0-72c10b097833",
   "metadata": {},
   "outputs": [
    {
     "data": {
      "application/vnd.microsoft.datawrangler.viewer.v0+json": {
       "columns": [
        {
         "name": "Street",
         "rawType": "object",
         "type": "string"
        },
        {
         "name": "count",
         "rawType": "int64",
         "type": "integer"
        }
       ],
       "ref": "6ae327e5-b62e-4e82-b03c-0f7e0a81dfc9",
       "rows": [
        [
         "Interstate",
         "31044"
        ],
        [
         "local",
         "27926"
        ],
        [
         "Highway",
         "20427"
        ],
        [
         "large_local",
         "19255"
        ],
        [
         "Beltway",
         "11484"
        ],
        [
         "Tunnel",
         "1747"
        ],
        [
         "on_off_ramp",
         "351"
        ]
       ],
       "shape": {
        "columns": 1,
        "rows": 7
       }
      },
      "text/plain": [
       "Street\n",
       "Interstate     31044\n",
       "local          27926\n",
       "Highway        20427\n",
       "large_local    19255\n",
       "Beltway        11484\n",
       "Tunnel          1747\n",
       "on_off_ramp      351\n",
       "Name: count, dtype: int64"
      ]
     },
     "execution_count": 18,
     "metadata": {},
     "output_type": "execute_result"
    }
   ],
   "source": [
    "df.Street.value_counts()\n",
    "# added Intercounty conn as highway\n",
    "# added rt 100 as highway\n",
    "# added ocean city exp as highway\n",
    "# byway as special\n",
    "# added on_off_ramp\n",
    "# aberdeen thwy as highway\n",
    "# east c st 2 as local\n",
    "# prettyman manor is trailer park, made local\n",
    "# alexandria-gaylord is bridge, remove\n",
    "# Urbana Church Pass is local\n",
    "# olde mill run as local\n",
    "# harriet tubman byway as special\n",
    "# poncabird pass as local\n",
    "# Thompson creek mall as local"
   ]
  },
  {
   "cell_type": "markdown",
   "id": "31fc26bf-c479-4dba-a358-d67540cca1ce",
   "metadata": {},
   "source": [
    "## Weather Condition"
   ]
  },
  {
   "cell_type": "code",
   "execution_count": 19,
   "id": "9012d61c-12f5-4ba6-8a31-acc907447bf8",
   "metadata": {},
   "outputs": [
    {
     "data": {
      "application/vnd.microsoft.datawrangler.viewer.v0+json": {
       "columns": [
        {
         "name": "Weather_Condition",
         "rawType": "object",
         "type": "string"
        },
        {
         "name": "count",
         "rawType": "int64",
         "type": "integer"
        }
       ],
       "ref": "310a6b12-d919-4f52-8ad6-68bfecaa0837",
       "rows": [
        [
         "Fair",
         "31032"
        ],
        [
         "Cloudy",
         "14474"
        ],
        [
         "Mostly Cloudy",
         "11882"
        ],
        [
         "Partly Cloudy",
         "7967"
        ],
        [
         "Clear",
         "7487"
        ],
        [
         "Overcast",
         "4753"
        ],
        [
         "Light Rain",
         "3730"
        ],
        [
         "Scattered Clouds",
         "2529"
        ],
        [
         "Fog",
         "1169"
        ],
        [
         "Rain",
         "1110"
        ],
        [
         "Light Snow",
         "1103"
        ],
        [
         "Light Drizzle",
         "527"
        ],
        [
         "Wintry Mix",
         "335"
        ],
        [
         "Heavy Rain",
         "299"
        ],
        [
         "Haze",
         "288"
        ],
        [
         "Fair / Windy",
         "275"
        ],
        [
         "Snow",
         "245"
        ],
        [
         "Mostly Cloudy / Windy",
         "166"
        ],
        [
         "Partly Cloudy / Windy",
         "147"
        ],
        [
         "Cloudy / Windy",
         "117"
        ],
        [
         "T-Storm",
         "100"
        ],
        [
         "Light Freezing Rain",
         "87"
        ],
        [
         "Heavy Snow",
         "82"
        ],
        [
         "Thunder in the Vicinity",
         "72"
        ],
        [
         "Light Rain with Thunder",
         "71"
        ],
        [
         "Drizzle",
         "66"
        ],
        [
         "Shallow Fog",
         "60"
        ],
        [
         "Heavy T-Storm",
         "47"
        ],
        [
         "Snow and Sleet",
         "46"
        ],
        [
         "Light Rain / Windy",
         "45"
        ],
        [
         "Thunder",
         "43"
        ],
        [
         "N/A Precipitation",
         "33"
        ],
        [
         "Mist",
         "24"
        ],
        [
         "Thunderstorm",
         "23"
        ],
        [
         "Light Freezing Drizzle",
         "23"
        ],
        [
         "Small Hail",
         "23"
        ],
        [
         "Rain / Windy",
         "23"
        ],
        [
         "Light Rain Shower",
         "22"
        ],
        [
         "Light Ice Pellets",
         "20"
        ],
        [
         "Sleet",
         "20"
        ],
        [
         "Light Snow / Windy",
         "19"
        ],
        [
         "Light Thunderstorms and Rain",
         "18"
        ],
        [
         "Light Rain Showers",
         "18"
        ],
        [
         "Heavy Thunderstorms and Rain",
         "17"
        ],
        [
         "Light Sleet",
         "17"
        ],
        [
         "Heavy Snow / Windy",
         "16"
        ],
        [
         "Patches of Fog",
         "16"
        ],
        [
         "Thunderstorms and Rain",
         "12"
        ],
        [
         "Heavy Sleet",
         "11"
        ],
        [
         "Light Snow and Sleet",
         "9"
        ]
       ],
       "shape": {
        "columns": 1,
        "rows": 70
       }
      },
      "text/plain": [
       "Weather_Condition\n",
       "Fair                       31032\n",
       "Cloudy                     14474\n",
       "Mostly Cloudy              11882\n",
       "Partly Cloudy               7967\n",
       "Clear                       7487\n",
       "                           ...  \n",
       "Thunder / Windy                2\n",
       "Squalls / Windy                1\n",
       "Showers in the Vicinity        1\n",
       "Heavy Ice Pellets              1\n",
       "Light Snow Shower              1\n",
       "Name: count, Length: 70, dtype: int64"
      ]
     },
     "execution_count": 19,
     "metadata": {},
     "output_type": "execute_result"
    }
   ],
   "source": [
    "df[\"Weather_Condition\"].value_counts()"
   ]
  },
  {
   "cell_type": "code",
   "execution_count": 20,
   "id": "28a20b2d-f507-4290-a1dc-6a28e82c29d8",
   "metadata": {},
   "outputs": [],
   "source": [
    "df = df.loc[(df.Weather_Condition != \"Sand\")] # too few values"
   ]
  },
  {
   "cell_type": "code",
   "execution_count": 21,
   "id": "1170e7a9-e558-4c33-881c-af8bdeb06ea8",
   "metadata": {},
   "outputs": [],
   "source": [
    "# missing values count as a float\n",
    "# change to \"unknown\" instead. Later we can decide if we want to keep\n",
    "df[\"Weather_Condition\"] = df[\"Weather_Condition\"].fillna(\"unknown\")"
   ]
  },
  {
   "cell_type": "code",
   "execution_count": 22,
   "id": "e7f348e8-5930-4444-8069-7f7b046b6de6",
   "metadata": {},
   "outputs": [],
   "source": [
    "df[\"Weather_Condition\"] = df[\"Weather_Condition\"].apply(lambda x: \"None\" if \"N/A\" in x else x)"
   ]
  },
  {
   "cell_type": "code",
   "execution_count": 23,
   "id": "a3742bfd-971d-4716-bfce-b29019d27290",
   "metadata": {},
   "outputs": [],
   "source": [
    "df[\"Weather_Condition\"]=df[\"Weather_Condition\"].apply(lambda x: \"Windy\" if \"Windy\" in x else x)"
   ]
  },
  {
   "cell_type": "code",
   "execution_count": 24,
   "id": "ff510354-b176-4f22-af77-2f87ffbf8d3a",
   "metadata": {},
   "outputs": [],
   "source": [
    "def mapping_1(x):\n",
    "    tomap = {\"Light Drizzle\":\"Drizzle\",\n",
    "            \"Light Rain with Thunder\":\"Light Thunderstorms and Rain\",\n",
    "            \"Thunder in the Vicinity\":\"Thunder\",\n",
    "            \"Heavy Drizzle\":\"Rain\",\n",
    "            \"Mist\":\"Fog\",\n",
    "            \"Light Freezing Drizzle\":\"Light Freezing Rain\"}\n",
    "    if x in tomap:\n",
    "        return tomap[x]\n",
    "    return x"
   ]
  },
  {
   "cell_type": "code",
   "execution_count": 25,
   "id": "32284e8f-d495-40f0-8689-0743084121b6",
   "metadata": {},
   "outputs": [],
   "source": [
    "def mapping_2(x):\n",
    "    tomap = {\"Light Rain Shower\":\"Drizzle\",\n",
    "             \"Light Rain\":\"Drizzle\",\n",
    "            \"Light Ice Pellets\":\"Ice Pellets\",\n",
    "            \"Shallow Fog\":\"Fog\"}\n",
    "    if x in tomap:\n",
    "        return tomap[x]\n",
    "    return x"
   ]
  },
  {
   "cell_type": "code",
   "execution_count": 26,
   "id": "724633ef-a3b0-41a3-aab8-b1fbc65dc635",
   "metadata": {},
   "outputs": [],
   "source": [
    "def mapping_3(x):\n",
    "    tomap = {\"Heavy Ice Pellets\":\"Ice Pellets\",\n",
    "            \"Drizzle and Fog\":\"Fog\",\n",
    "            \"Patches of Fog\":\"Fog\",\n",
    "            \"Heavy Snow\":\"Snow\",\n",
    "            \"Heavy Thunderstorms and Rain\":\"Thunderstorms\",\n",
    "            \"T-Storm\":\"Thunderstorms\",\n",
    "            \"Heavy T-Storm\":\"Thunderstorms\",\n",
    "            \"Thunderstorms and Rain\":\"Thunderstorms\"}\n",
    "    if x in tomap:\n",
    "        return tomap[x]\n",
    "    return x"
   ]
  },
  {
   "cell_type": "code",
   "execution_count": 27,
   "id": "a5743b07-fb57-4deb-9669-795c49f28a7b",
   "metadata": {},
   "outputs": [],
   "source": [
    "def mapping_4(x):\n",
    "    tomap = {\"Light Snow Shower\":\"Snow\",\n",
    "            \"Light Snow\":\"Snow\",\n",
    "            \"Light Rain Showers\":\"Drizzle\",\n",
    "            \"Light Thunderstorms and Rain\":\"Thunderstorms\"}\n",
    "    if x in tomap:\n",
    "        return tomap[x]\n",
    "    return x"
   ]
  },
  {
   "cell_type": "code",
   "execution_count": 28,
   "id": "5a059f29-da8f-475c-aca4-c73da0ddaeb9",
   "metadata": {},
   "outputs": [],
   "source": [
    "df[\"Weather_Condition\"]=df[\"Weather_Condition\"].apply(mapping_1)                        "
   ]
  },
  {
   "cell_type": "code",
   "execution_count": 29,
   "id": "85bd3cf8-b404-46f8-8fbb-abf69763461e",
   "metadata": {},
   "outputs": [],
   "source": [
    "df[\"Weather_Condition\"]=df[\"Weather_Condition\"].apply(mapping_2)"
   ]
  },
  {
   "cell_type": "code",
   "execution_count": 30,
   "id": "dad0bcb1-a5d9-484a-b81e-e05adb9d130d",
   "metadata": {},
   "outputs": [],
   "source": [
    "df[\"Weather_Condition\"]=df[\"Weather_Condition\"].apply(mapping_3)"
   ]
  },
  {
   "cell_type": "code",
   "execution_count": 31,
   "id": "408da93d-cf4c-420c-a4ba-60dce1fe22b0",
   "metadata": {},
   "outputs": [],
   "source": [
    "df[\"Weather_Condition\"]=df[\"Weather_Condition\"].apply(mapping_4)"
   ]
  },
  {
   "cell_type": "code",
   "execution_count": 32,
   "id": "0efd2235-3d11-4863-9268-15f13984b53b",
   "metadata": {},
   "outputs": [
    {
     "data": {
      "application/vnd.microsoft.datawrangler.viewer.v0+json": {
       "columns": [
        {
         "name": "Weather_Condition",
         "rawType": "object",
         "type": "string"
        },
        {
         "name": "count",
         "rawType": "int64",
         "type": "integer"
        }
       ],
       "ref": "6aafe87d-7977-4ae6-ad35-92e0194f69a4",
       "rows": [
        [
         "Fair",
         "31032"
        ],
        [
         "unknown",
         "21445"
        ],
        [
         "Cloudy",
         "14474"
        ],
        [
         "Mostly Cloudy",
         "11882"
        ],
        [
         "Partly Cloudy",
         "7967"
        ],
        [
         "Clear",
         "7487"
        ],
        [
         "Overcast",
         "4753"
        ],
        [
         "Drizzle",
         "4363"
        ],
        [
         "Scattered Clouds",
         "2529"
        ],
        [
         "Snow",
         "1431"
        ],
        [
         "Fog",
         "1269"
        ],
        [
         "Rain",
         "1117"
        ],
        [
         "Windy",
         "835"
        ],
        [
         "Wintry Mix",
         "335"
        ],
        [
         "Heavy Rain",
         "299"
        ],
        [
         "Haze",
         "288"
        ],
        [
         "Thunderstorms",
         "265"
        ],
        [
         "Thunder",
         "115"
        ],
        [
         "Light Freezing Rain",
         "110"
        ],
        [
         "Snow and Sleet",
         "46"
        ],
        [
         "None",
         "33"
        ],
        [
         "Ice Pellets",
         "25"
        ],
        [
         "Thunderstorm",
         "23"
        ],
        [
         "Small Hail",
         "23"
        ],
        [
         "Sleet",
         "20"
        ],
        [
         "Light Sleet",
         "17"
        ],
        [
         "Heavy Sleet",
         "11"
        ],
        [
         "Light Snow and Sleet",
         "9"
        ],
        [
         "Hail",
         "9"
        ],
        [
         "Light Freezing Fog",
         "8"
        ],
        [
         "Freezing Rain",
         "6"
        ],
        [
         "Snow Grains",
         "5"
        ],
        [
         "Showers in the Vicinity",
         "1"
        ]
       ],
       "shape": {
        "columns": 1,
        "rows": 33
       }
      },
      "text/plain": [
       "Weather_Condition\n",
       "Fair                       31032\n",
       "unknown                    21445\n",
       "Cloudy                     14474\n",
       "Mostly Cloudy              11882\n",
       "Partly Cloudy               7967\n",
       "Clear                       7487\n",
       "Overcast                    4753\n",
       "Drizzle                     4363\n",
       "Scattered Clouds            2529\n",
       "Snow                        1431\n",
       "Fog                         1269\n",
       "Rain                        1117\n",
       "Windy                        835\n",
       "Wintry Mix                   335\n",
       "Heavy Rain                   299\n",
       "Haze                         288\n",
       "Thunderstorms                265\n",
       "Thunder                      115\n",
       "Light Freezing Rain          110\n",
       "Snow and Sleet                46\n",
       "None                          33\n",
       "Ice Pellets                   25\n",
       "Thunderstorm                  23\n",
       "Small Hail                    23\n",
       "Sleet                         20\n",
       "Light Sleet                   17\n",
       "Heavy Sleet                   11\n",
       "Light Snow and Sleet           9\n",
       "Hail                           9\n",
       "Light Freezing Fog             8\n",
       "Freezing Rain                  6\n",
       "Snow Grains                    5\n",
       "Showers in the Vicinity        1\n",
       "Name: count, dtype: int64"
      ]
     },
     "execution_count": 32,
     "metadata": {},
     "output_type": "execute_result"
    }
   ],
   "source": [
    "df.Weather_Condition.value_counts()"
   ]
  },
  {
   "cell_type": "markdown",
   "id": "aa8c051e-75ed-40c6-891e-ab82a6e76461",
   "metadata": {},
   "source": [
    "None and Light Sleet have almost no rows will values, drop them.\n",
    "Light Freezing Fog has 10 rows. Change to Fog.\n",
    "Leave others for now. Will need to decide if further combinations are necessary."
   ]
  },
  {
   "cell_type": "code",
   "execution_count": 33,
   "id": "0a94cf27-8b4f-4a1f-b8da-ae25f2fdbb12",
   "metadata": {},
   "outputs": [],
   "source": [
    "df = df.loc[(df.Weather_Condition != \"None\") & (df.Weather_Condition != \"Light Sleet\")]"
   ]
  },
  {
   "cell_type": "code",
   "execution_count": 34,
   "id": "13dd0f0f-0108-4471-8ad4-52158f2921fe",
   "metadata": {},
   "outputs": [],
   "source": [
    "df=df.reset_index(drop=True)"
   ]
  },
  {
   "cell_type": "code",
   "execution_count": 35,
   "id": "ca74de56-9432-4559-b5d1-b020a3e31d86",
   "metadata": {},
   "outputs": [
    {
     "data": {
      "text/plain": [
       "(112182, 29)"
      ]
     },
     "execution_count": 35,
     "metadata": {},
     "output_type": "execute_result"
    }
   ],
   "source": [
    "df.shape"
   ]
  },
  {
   "cell_type": "markdown",
   "id": "6f2cd5a8-84eb-4bcd-95a0-f0cc1fe27ffa",
   "metadata": {},
   "source": [
    "## Wind Direction"
   ]
  },
  {
   "cell_type": "code",
   "execution_count": 36,
   "id": "0f20db52-83a9-4a67-9964-2cf6b09b3156",
   "metadata": {},
   "outputs": [],
   "source": [
    "# Can decide later whether to keep or remove rows with unknown values\n",
    "df[\"Wind_Direction\"] = df.Wind_Direction.fillna(\"unknown\")"
   ]
  },
  {
   "cell_type": "code",
   "execution_count": 37,
   "id": "84715317-3782-4f7b-87f3-13aa14176b88",
   "metadata": {},
   "outputs": [
    {
     "data": {
      "application/vnd.microsoft.datawrangler.viewer.v0+json": {
       "columns": [
        {
         "name": "Wind_Direction",
         "rawType": "object",
         "type": "string"
        },
        {
         "name": "count",
         "rawType": "int64",
         "type": "integer"
        }
       ],
       "ref": "fee33c8a-9d37-4461-a4eb-b1617c56f5bc",
       "rows": [
        [
         "CALM",
         "17953"
        ],
        [
         "unknown",
         "16117"
        ],
        [
         "WNW",
         "6640"
        ],
        [
         "North",
         "6257"
        ],
        [
         "NW",
         "6089"
        ],
        [
         "Calm",
         "5931"
        ],
        [
         "S",
         "5118"
        ],
        [
         "W",
         "4922"
        ],
        [
         "NNW",
         "4571"
        ],
        [
         "SSW",
         "4154"
        ],
        [
         "N",
         "3725"
        ],
        [
         "SW",
         "3457"
        ],
        [
         "SSE",
         "3239"
        ],
        [
         "WSW",
         "2906"
        ],
        [
         "SE",
         "2902"
        ],
        [
         "NNE",
         "2815"
        ],
        [
         "NE",
         "2602"
        ],
        [
         "ENE",
         "2397"
        ],
        [
         "E",
         "2200"
        ],
        [
         "ESE",
         "2096"
        ],
        [
         "West",
         "1748"
        ],
        [
         "VAR",
         "1693"
        ],
        [
         "South",
         "1309"
        ],
        [
         "East",
         "799"
        ],
        [
         "Variable",
         "542"
        ]
       ],
       "shape": {
        "columns": 1,
        "rows": 25
       }
      },
      "text/plain": [
       "Wind_Direction\n",
       "CALM        17953\n",
       "unknown     16117\n",
       "WNW          6640\n",
       "North        6257\n",
       "NW           6089\n",
       "Calm         5931\n",
       "S            5118\n",
       "W            4922\n",
       "NNW          4571\n",
       "SSW          4154\n",
       "N            3725\n",
       "SW           3457\n",
       "SSE          3239\n",
       "WSW          2906\n",
       "SE           2902\n",
       "NNE          2815\n",
       "NE           2602\n",
       "ENE          2397\n",
       "E            2200\n",
       "ESE          2096\n",
       "West         1748\n",
       "VAR          1693\n",
       "South        1309\n",
       "East          799\n",
       "Variable      542\n",
       "Name: count, dtype: int64"
      ]
     },
     "execution_count": 37,
     "metadata": {},
     "output_type": "execute_result"
    }
   ],
   "source": [
    "df.Wind_Direction.value_counts()"
   ]
  },
  {
   "cell_type": "code",
   "execution_count": 38,
   "id": "0f9c7e05-1f82-417c-b5db-7c0630886e50",
   "metadata": {},
   "outputs": [],
   "source": [
    "# Basic cleanup of alternative spellings\n",
    "def wind_map(x):\n",
    "    tomap = {\"CALM\":\"Calm\",\"South\":\"S\",\"West\":\"W\",\"North\":\"N\",\"East\":\"E\",\"VAR\":\"Variable\"}\n",
    "    if x in tomap:\n",
    "        return tomap[x]\n",
    "    return x"
   ]
  },
  {
   "cell_type": "code",
   "execution_count": 39,
   "id": "20439a21-5f52-4b84-a42b-f530a90e001e",
   "metadata": {},
   "outputs": [],
   "source": [
    "# Less fine grained values\n",
    "def wind_2(x):\n",
    "    tomap = {\"WNW\":\"NW\",\"NNW\":\"NW\",\"SSW\":\"SW\",\"SSE\":\"SE\",\"WSW\":\"SW\",\"NNE\":\"NE\",\"ENE\":\"NE\",\"ESE\":\"SE\"}\n",
    "    if x in tomap:\n",
    "        return tomap[x]\n",
    "    return x"
   ]
  },
  {
   "cell_type": "code",
   "execution_count": 40,
   "id": "c187d0a7-d878-431f-9255-ee634b35c9d5",
   "metadata": {},
   "outputs": [],
   "source": [
    "df[\"Wind_Direction\"] = df.Wind_Direction.apply(wind_map)"
   ]
  },
  {
   "cell_type": "code",
   "execution_count": 41,
   "id": "66522fcd-1da9-467e-bf96-a18a2ecd190d",
   "metadata": {},
   "outputs": [],
   "source": [
    "df[\"Wind_Direction\"] = df.Wind_Direction.apply(wind_2)"
   ]
  },
  {
   "cell_type": "code",
   "execution_count": 42,
   "id": "4205ec9a-82ce-4514-8fa7-d33303ff093e",
   "metadata": {},
   "outputs": [
    {
     "data": {
      "application/vnd.microsoft.datawrangler.viewer.v0+json": {
       "columns": [
        {
         "name": "Wind_Direction",
         "rawType": "object",
         "type": "string"
        },
        {
         "name": "count",
         "rawType": "int64",
         "type": "integer"
        }
       ],
       "ref": "e631586b-283a-40f9-a152-5004ff98e454",
       "rows": [
        [
         "Calm",
         "23884"
        ],
        [
         "NW",
         "17300"
        ],
        [
         "unknown",
         "16117"
        ],
        [
         "SW",
         "10517"
        ],
        [
         "N",
         "9982"
        ],
        [
         "SE",
         "8237"
        ],
        [
         "NE",
         "7814"
        ],
        [
         "W",
         "6670"
        ],
        [
         "S",
         "6427"
        ],
        [
         "E",
         "2999"
        ],
        [
         "Variable",
         "2235"
        ]
       ],
       "shape": {
        "columns": 1,
        "rows": 11
       }
      },
      "text/plain": [
       "Wind_Direction\n",
       "Calm        23884\n",
       "NW          17300\n",
       "unknown     16117\n",
       "SW          10517\n",
       "N            9982\n",
       "SE           8237\n",
       "NE           7814\n",
       "W            6670\n",
       "S            6427\n",
       "E            2999\n",
       "Variable     2235\n",
       "Name: count, dtype: int64"
      ]
     },
     "execution_count": 42,
     "metadata": {},
     "output_type": "execute_result"
    }
   ],
   "source": [
    "df.Wind_Direction.value_counts()"
   ]
  },
  {
   "cell_type": "markdown",
   "id": "3d9d0801-d6fe-4e2c-bead-981a89b654d7",
   "metadata": {},
   "source": [
    "## Missing Values: drop columns"
   ]
  },
  {
   "cell_type": "code",
   "execution_count": 43,
   "id": "a999d4bc-5e53-427a-84a7-d750377629d2",
   "metadata": {},
   "outputs": [
    {
     "data": {
      "text/plain": [
       "Index(['Distance(mi)', 'Street', 'Temperature(F)', 'Wind_Chill(F)',\n",
       "       'Humidity(%)', 'Pressure(in)', 'Visibility(mi)', 'Wind_Direction',\n",
       "       'Wind_Speed(mph)', 'Precipitation(in)', 'Weather_Condition', 'Amenity',\n",
       "       'Bump', 'Crossing', 'Give_Way', 'Junction', 'No_Exit', 'Railway',\n",
       "       'Roundabout', 'Station', 'Stop', 'Traffic_Calming', 'Traffic_Signal',\n",
       "       'Turning_Loop', 'Sunrise_Sunset', 'Civil_Twilight', 'Nautical_Twilight',\n",
       "       'Astronomical_Twilight', 'Severity'],\n",
       "      dtype='object')"
      ]
     },
     "execution_count": 43,
     "metadata": {},
     "output_type": "execute_result"
    }
   ],
   "source": [
    "df.columns"
   ]
  },
  {
   "cell_type": "code",
   "execution_count": 44,
   "id": "a2d9933c-c4b7-44db-9e5f-b934335270b9",
   "metadata": {},
   "outputs": [
    {
     "data": {
      "text/plain": [
       "(112182, 29)"
      ]
     },
     "execution_count": 44,
     "metadata": {},
     "output_type": "execute_result"
    }
   ],
   "source": [
    "df.shape"
   ]
  },
  {
   "cell_type": "code",
   "execution_count": 45,
   "id": "07a28390-71a4-465f-a8b9-f45c40400847",
   "metadata": {},
   "outputs": [
    {
     "data": {
      "application/vnd.microsoft.datawrangler.viewer.v0+json": {
       "columns": [
        {
         "name": "index",
         "rawType": "object",
         "type": "string"
        },
        {
         "name": "0",
         "rawType": "int64",
         "type": "integer"
        }
       ],
       "ref": "70fbb419-07f1-494e-ac81-887a89481fd9",
       "rows": [
        [
         "Distance(mi)",
         "0"
        ],
        [
         "Street",
         "0"
        ],
        [
         "Temperature(F)",
         "12540"
        ],
        [
         "Wind_Chill(F)",
         "38000"
        ],
        [
         "Humidity(%)",
         "12625"
        ],
        [
         "Pressure(in)",
         "11580"
        ],
        [
         "Visibility(mi)",
         "21895"
        ],
        [
         "Wind_Direction",
         "0"
        ],
        [
         "Wind_Speed(mph)",
         "27366"
        ],
        [
         "Precipitation(in)",
         "39590"
        ],
        [
         "Weather_Condition",
         "0"
        ],
        [
         "Amenity",
         "0"
        ],
        [
         "Bump",
         "0"
        ],
        [
         "Crossing",
         "0"
        ],
        [
         "Give_Way",
         "0"
        ],
        [
         "Junction",
         "0"
        ],
        [
         "No_Exit",
         "0"
        ],
        [
         "Railway",
         "0"
        ],
        [
         "Roundabout",
         "0"
        ],
        [
         "Station",
         "0"
        ],
        [
         "Stop",
         "0"
        ],
        [
         "Traffic_Calming",
         "0"
        ],
        [
         "Traffic_Signal",
         "0"
        ],
        [
         "Turning_Loop",
         "0"
        ],
        [
         "Sunrise_Sunset",
         "232"
        ],
        [
         "Civil_Twilight",
         "232"
        ],
        [
         "Nautical_Twilight",
         "232"
        ],
        [
         "Astronomical_Twilight",
         "232"
        ],
        [
         "Severity",
         "0"
        ]
       ],
       "shape": {
        "columns": 1,
        "rows": 29
       }
      },
      "text/plain": [
       "Distance(mi)                 0\n",
       "Street                       0\n",
       "Temperature(F)           12540\n",
       "Wind_Chill(F)            38000\n",
       "Humidity(%)              12625\n",
       "Pressure(in)             11580\n",
       "Visibility(mi)           21895\n",
       "Wind_Direction               0\n",
       "Wind_Speed(mph)          27366\n",
       "Precipitation(in)        39590\n",
       "Weather_Condition            0\n",
       "Amenity                      0\n",
       "Bump                         0\n",
       "Crossing                     0\n",
       "Give_Way                     0\n",
       "Junction                     0\n",
       "No_Exit                      0\n",
       "Railway                      0\n",
       "Roundabout                   0\n",
       "Station                      0\n",
       "Stop                         0\n",
       "Traffic_Calming              0\n",
       "Traffic_Signal               0\n",
       "Turning_Loop                 0\n",
       "Sunrise_Sunset             232\n",
       "Civil_Twilight             232\n",
       "Nautical_Twilight          232\n",
       "Astronomical_Twilight      232\n",
       "Severity                     0\n",
       "dtype: int64"
      ]
     },
     "execution_count": 45,
     "metadata": {},
     "output_type": "execute_result"
    }
   ],
   "source": [
    "df.isna().sum()"
   ]
  },
  {
   "cell_type": "code",
   "execution_count": 46,
   "id": "088f87dc-684a-484d-ad58-b1c04b6b9da7",
   "metadata": {},
   "outputs": [],
   "source": [
    "# half of the rows are missing wind chill. Better to just drop the column\n",
    "df.drop([\"Wind_Chill(F)\"],axis=1,inplace=True)"
   ]
  },
  {
   "cell_type": "code",
   "execution_count": 47,
   "id": "92a78a94-a5d5-4566-aa30-ff734412f416",
   "metadata": {},
   "outputs": [],
   "source": [
    "# half of the rows are missing precipitation, and weather condition already\n",
    "# covers that situation more or less. So drop\n",
    "df.drop([\"Precipitation(in)\"],axis=1,inplace=True)"
   ]
  },
  {
   "cell_type": "code",
   "execution_count": 48,
   "id": "76c3262e-0843-4fdd-b6a3-deb91368fd40",
   "metadata": {},
   "outputs": [
    {
     "data": {
      "text/plain": [
       "<Axes: >"
      ]
     },
     "execution_count": 48,
     "metadata": {},
     "output_type": "execute_result"
    },
    {
     "data": {
      "image/png": "[encoded data removed]",
      "text/plain": [
       "<Figure size 640x480 with 1 Axes>"
      ]
     },
     "metadata": {},
     "output_type": "display_data"
    }
   ],
   "source": [
    "df[\"Wind_Speed(mph)\"].hist(bins=30)"
   ]
  },
  {
   "cell_type": "code",
   "execution_count": 49,
   "id": "7c7f056f-33f7-45a9-9808-5c93a5e5833a",
   "metadata": {},
   "outputs": [
    {
     "data": {
      "text/plain": [
       "17"
      ]
     },
     "execution_count": 49,
     "metadata": {},
     "output_type": "execute_result"
    }
   ],
   "source": [
    "df[df[\"Wind_Speed(mph)\"] > 40].shape[0]"
   ]
  },
  {
   "cell_type": "markdown",
   "id": "fd3f4c3f-4c9f-450a-bb4d-d8a6d871ee87",
   "metadata": {},
   "source": [
    "Wind speed has a significant number of missing values. It is also a fairly tight distribution other than 11 values that are larger. Although wind speed could be useful in predicting severity, it may not be worth keeping in this situation. I think we try without it first."
   ]
  },
  {
   "cell_type": "code",
   "execution_count": 50,
   "id": "9924ce03-3f75-4d11-832d-cc0cac99295f",
   "metadata": {},
   "outputs": [],
   "source": [
    "df.drop([\"Wind_Speed(mph)\"],inplace=True,axis=1)"
   ]
  },
  {
   "cell_type": "code",
   "execution_count": 51,
   "id": "f31c7493-043a-4c96-b6a6-b6e70187f83d",
   "metadata": {},
   "outputs": [
    {
     "data": {
      "application/vnd.microsoft.datawrangler.viewer.v0+json": {
       "columns": [
        {
         "name": "index",
         "rawType": "object",
         "type": "string"
        },
        {
         "name": "0",
         "rawType": "int64",
         "type": "integer"
        }
       ],
       "ref": "0e1dba5b-3367-4618-9900-3204c3046207",
       "rows": [
        [
         "Distance(mi)",
         "0"
        ],
        [
         "Street",
         "0"
        ],
        [
         "Temperature(F)",
         "12540"
        ],
        [
         "Humidity(%)",
         "12625"
        ],
        [
         "Pressure(in)",
         "11580"
        ],
        [
         "Visibility(mi)",
         "21895"
        ],
        [
         "Wind_Direction",
         "0"
        ],
        [
         "Weather_Condition",
         "0"
        ],
        [
         "Amenity",
         "0"
        ],
        [
         "Bump",
         "0"
        ],
        [
         "Crossing",
         "0"
        ],
        [
         "Give_Way",
         "0"
        ],
        [
         "Junction",
         "0"
        ],
        [
         "No_Exit",
         "0"
        ],
        [
         "Railway",
         "0"
        ],
        [
         "Roundabout",
         "0"
        ],
        [
         "Station",
         "0"
        ],
        [
         "Stop",
         "0"
        ],
        [
         "Traffic_Calming",
         "0"
        ],
        [
         "Traffic_Signal",
         "0"
        ],
        [
         "Turning_Loop",
         "0"
        ],
        [
         "Sunrise_Sunset",
         "232"
        ],
        [
         "Civil_Twilight",
         "232"
        ],
        [
         "Nautical_Twilight",
         "232"
        ],
        [
         "Astronomical_Twilight",
         "232"
        ],
        [
         "Severity",
         "0"
        ]
       ],
       "shape": {
        "columns": 1,
        "rows": 26
       }
      },
      "text/plain": [
       "Distance(mi)                 0\n",
       "Street                       0\n",
       "Temperature(F)           12540\n",
       "Humidity(%)              12625\n",
       "Pressure(in)             11580\n",
       "Visibility(mi)           21895\n",
       "Wind_Direction               0\n",
       "Weather_Condition            0\n",
       "Amenity                      0\n",
       "Bump                         0\n",
       "Crossing                     0\n",
       "Give_Way                     0\n",
       "Junction                     0\n",
       "No_Exit                      0\n",
       "Railway                      0\n",
       "Roundabout                   0\n",
       "Station                      0\n",
       "Stop                         0\n",
       "Traffic_Calming              0\n",
       "Traffic_Signal               0\n",
       "Turning_Loop                 0\n",
       "Sunrise_Sunset             232\n",
       "Civil_Twilight             232\n",
       "Nautical_Twilight          232\n",
       "Astronomical_Twilight      232\n",
       "Severity                     0\n",
       "dtype: int64"
      ]
     },
     "execution_count": 51,
     "metadata": {},
     "output_type": "execute_result"
    }
   ],
   "source": [
    "df.isna().sum()"
   ]
  },
  {
   "cell_type": "code",
   "execution_count": 52,
   "id": "ce8dd527-25b4-4ef6-b79f-72de9da790eb",
   "metadata": {},
   "outputs": [
    {
     "data": {
      "text/plain": [
       "(89028, 26)"
      ]
     },
     "execution_count": 52,
     "metadata": {},
     "output_type": "execute_result"
    }
   ],
   "source": [
    "df.dropna().shape"
   ]
  },
  {
   "cell_type": "markdown",
   "id": "ecbbbdb4-c2b7-40d0-b0e1-c5f4f98471a3",
   "metadata": {},
   "source": [
    "It looks like dropping NA values doesn't remove too many rows, there must be rows with multiple NA values. So let's drop NA rows."
   ]
  },
  {
   "cell_type": "code",
   "execution_count": 53,
   "id": "6864932f-351e-400a-8413-77d7a328413e",
   "metadata": {},
   "outputs": [],
   "source": [
    "df.dropna(inplace=True)"
   ]
  },
  {
   "cell_type": "markdown",
   "id": "d482d59f-83cf-40cd-8668-341974756279",
   "metadata": {},
   "source": [
    "## Twilights\n",
    "\n",
    "We don't need four different twilights."
   ]
  },
  {
   "cell_type": "code",
   "execution_count": 54,
   "id": "68a2192d-d6d1-4441-9d92-2bf0863976c1",
   "metadata": {},
   "outputs": [
    {
     "data": {
      "text/plain": [
       "Index(['Distance(mi)', 'Street', 'Temperature(F)', 'Humidity(%)',\n",
       "       'Pressure(in)', 'Visibility(mi)', 'Wind_Direction', 'Weather_Condition',\n",
       "       'Amenity', 'Bump', 'Crossing', 'Give_Way', 'Junction', 'No_Exit',\n",
       "       'Railway', 'Roundabout', 'Station', 'Stop', 'Traffic_Calming',\n",
       "       'Traffic_Signal', 'Turning_Loop', 'Sunrise_Sunset', 'Civil_Twilight',\n",
       "       'Nautical_Twilight', 'Astronomical_Twilight', 'Severity'],\n",
       "      dtype='object')"
      ]
     },
     "execution_count": 54,
     "metadata": {},
     "output_type": "execute_result"
    }
   ],
   "source": [
    "df.columns"
   ]
  },
  {
   "cell_type": "code",
   "execution_count": 55,
   "id": "f17843bb-22a8-476e-bb99-d1b2653c9cdc",
   "metadata": {},
   "outputs": [],
   "source": [
    "df.drop(['Civil_Twilight','Nautical_Twilight', 'Astronomical_Twilight'],inplace=True,axis=1)"
   ]
  },
  {
   "cell_type": "markdown",
   "id": "6643f7c5-ca45-4bf3-9088-3b6cade45229",
   "metadata": {},
   "source": [
    "## Any columns have too little info?"
   ]
  },
  {
   "cell_type": "code",
   "execution_count": 56,
   "id": "1cd7b877-9200-4e00-80eb-e593096c0112",
   "metadata": {},
   "outputs": [
    {
     "name": "stdout",
     "output_type": "stream",
     "text": [
      "Amenity\n",
      "False    88516\n",
      "True       512\n",
      "Name: count, dtype: int64\n",
      "Bump\n",
      "False    89011\n",
      "True        17\n",
      "Name: count, dtype: int64\n",
      "Crossing\n",
      "False    83751\n",
      "True      5277\n",
      "Name: count, dtype: int64\n",
      "Give_Way\n",
      "False    88798\n",
      "True       230\n",
      "Name: count, dtype: int64\n",
      "Junction\n",
      "False    78197\n",
      "True     10831\n",
      "Name: count, dtype: int64\n",
      "No_Exit\n",
      "False    88899\n",
      "True       129\n",
      "Name: count, dtype: int64\n",
      "Railway\n",
      "False    88842\n",
      "True       186\n",
      "Name: count, dtype: int64\n",
      "Roundabout\n",
      "False    89026\n",
      "True         2\n",
      "Name: count, dtype: int64\n",
      "Station\n",
      "False    88074\n",
      "True       954\n",
      "Name: count, dtype: int64\n",
      "Stop\n",
      "False    87987\n",
      "True      1041\n",
      "Name: count, dtype: int64\n",
      "Traffic_Calming\n",
      "False    88727\n",
      "True       301\n",
      "Name: count, dtype: int64\n",
      "Traffic_Signal\n",
      "False    78961\n",
      "True     10067\n",
      "Name: count, dtype: int64\n",
      "Turning_Loop\n",
      "False    89028\n",
      "Name: count, dtype: int64\n"
     ]
    }
   ],
   "source": [
    "for col in ['Amenity', 'Bump', 'Crossing', 'Give_Way', 'Junction', 'No_Exit',\n",
    "       'Railway', 'Roundabout', 'Station', 'Stop', 'Traffic_Calming',\n",
    "       'Traffic_Signal', 'Turning_Loop']:\n",
    "    print(df[col].value_counts())"
   ]
  },
  {
   "cell_type": "markdown",
   "id": "e687dc74-13b1-4117-b5b8-8e04f54a3b9d",
   "metadata": {},
   "source": [
    "Bump, Give_Way, No_Exit, Roundabout, have almost no True values, so drop.\n",
    "All values in Turning_Loop are identical, so drop."
   ]
  },
  {
   "cell_type": "code",
   "execution_count": 57,
   "id": "5afbd469-6197-4289-8403-f67f44e9bb4a",
   "metadata": {},
   "outputs": [],
   "source": [
    "df.drop(['Bump', 'Give_Way', 'No_Exit', 'Roundabout','Turning_Loop'],inplace=True,axis=1)"
   ]
  },
  {
   "cell_type": "markdown",
   "id": "e5244108-49a6-4503-b1f4-ac4571884a6f",
   "metadata": {},
   "source": [
    "Will need to consider if it is worth keeping all of these or combining in some way."
   ]
  },
  {
   "cell_type": "code",
   "execution_count": 58,
   "id": "32591322-30f0-4130-b8d2-8d117a0aded3",
   "metadata": {},
   "outputs": [
    {
     "data": {
      "text/plain": [
       "Index(['Distance(mi)', 'Street', 'Temperature(F)', 'Humidity(%)',\n",
       "       'Pressure(in)', 'Visibility(mi)', 'Wind_Direction', 'Weather_Condition',\n",
       "       'Amenity', 'Crossing', 'Junction', 'Railway', 'Station', 'Stop',\n",
       "       'Traffic_Calming', 'Traffic_Signal', 'Sunrise_Sunset', 'Severity'],\n",
       "      dtype='object')"
      ]
     },
     "execution_count": 58,
     "metadata": {},
     "output_type": "execute_result"
    }
   ],
   "source": [
    "df.columns"
   ]
  },
  {
   "cell_type": "code",
   "execution_count": 59,
   "id": "92e9f955-107d-4c81-97d0-70f14f579632",
   "metadata": {},
   "outputs": [
    {
     "data": {
      "text/plain": [
       "(89028, 18)"
      ]
     },
     "execution_count": 59,
     "metadata": {},
     "output_type": "execute_result"
    }
   ],
   "source": [
    "df.shape"
   ]
  },
  {
   "cell_type": "code",
   "execution_count": 60,
   "id": "ed00a3e9",
   "metadata": {},
   "outputs": [
    {
     "data": {
      "application/vnd.microsoft.datawrangler.viewer.v0+json": {
       "columns": [
        {
         "name": "index",
         "rawType": "int64",
         "type": "integer"
        },
        {
         "name": "Distance(mi)",
         "rawType": "float64",
         "type": "float"
        },
        {
         "name": "Street",
         "rawType": "object",
         "type": "string"
        },
        {
         "name": "Temperature(F)",
         "rawType": "float64",
         "type": "float"
        },
        {
         "name": "Humidity(%)",
         "rawType": "float64",
         "type": "float"
        },
        {
         "name": "Pressure(in)",
         "rawType": "float64",
         "type": "float"
        },
        {
         "name": "Visibility(mi)",
         "rawType": "float64",
         "type": "float"
        },
        {
         "name": "Wind_Direction",
         "rawType": "object",
         "type": "string"
        },
        {
         "name": "Weather_Condition",
         "rawType": "object",
         "type": "string"
        },
        {
         "name": "Amenity",
         "rawType": "bool",
         "type": "boolean"
        },
        {
         "name": "Crossing",
         "rawType": "bool",
         "type": "boolean"
        },
        {
         "name": "Junction",
         "rawType": "bool",
         "type": "boolean"
        },
        {
         "name": "Railway",
         "rawType": "bool",
         "type": "boolean"
        },
        {
         "name": "Station",
         "rawType": "bool",
         "type": "boolean"
        },
        {
         "name": "Stop",
         "rawType": "bool",
         "type": "boolean"
        },
        {
         "name": "Traffic_Calming",
         "rawType": "bool",
         "type": "boolean"
        },
        {
         "name": "Traffic_Signal",
         "rawType": "bool",
         "type": "boolean"
        },
        {
         "name": "Sunrise_Sunset",
         "rawType": "object",
         "type": "string"
        },
        {
         "name": "Severity",
         "rawType": "int64",
         "type": "integer"
        }
       ],
       "ref": "0f0d6ee3-64e7-4428-be17-f739af9b6e17",
       "rows": [
        [
         "0",
         "0.0",
         "local",
         "30.0",
         "55.0",
         "30.66",
         "10.0",
         "Calm",
         "Fair",
         "False",
         "False",
         "False",
         "False",
         "False",
         "False",
         "False",
         "False",
         "Night",
         "2"
        ],
        [
         "2",
         "0.0",
         "Highway",
         "95.0",
         "44.0",
         "29.89",
         "10.0",
         "W",
         "Partly Cloudy",
         "False",
         "True",
         "False",
         "False",
         "False",
         "False",
         "False",
         "False",
         "Day",
         "2"
        ],
        [
         "3",
         "0.254",
         "Highway",
         "71.6",
         "88.0",
         "30.05",
         "10.0",
         "Calm",
         "Clear",
         "False",
         "False",
         "False",
         "False",
         "False",
         "False",
         "False",
         "False",
         "Day",
         "2"
        ],
        [
         "4",
         "0.0",
         "local",
         "17.6",
         "49.0",
         "30.26",
         "10.0",
         "Calm",
         "Clear",
         "False",
         "False",
         "False",
         "False",
         "False",
         "False",
         "False",
         "False",
         "Day",
         "2"
        ],
        [
         "5",
         "0.078",
         "local",
         "79.0",
         "33.0",
         "30.12",
         "10.0",
         "W",
         "Fair",
         "False",
         "False",
         "False",
         "False",
         "False",
         "False",
         "False",
         "False",
         "Day",
         "2"
        ],
        [
         "8",
         "0.159",
         "Interstate",
         "70.0",
         "49.0",
         "30.26",
         "7.0",
         "Calm",
         "Fair",
         "False",
         "False",
         "False",
         "False",
         "False",
         "False",
         "False",
         "False",
         "Night",
         "2"
        ],
        [
         "10",
         "0.042",
         "local",
         "82.0",
         "49.0",
         "29.97",
         "10.0",
         "NW",
         "Partly Cloudy",
         "False",
         "True",
         "False",
         "False",
         "False",
         "False",
         "False",
         "True",
         "Day",
         "2"
        ],
        [
         "11",
         "0.075",
         "Highway",
         "52.0",
         "93.0",
         "29.8",
         "6.0",
         "NW",
         "Drizzle",
         "False",
         "False",
         "False",
         "False",
         "False",
         "False",
         "False",
         "False",
         "Night",
         "2"
        ],
        [
         "13",
         "0.369",
         "large_local",
         "79.0",
         "74.0",
         "29.21",
         "10.0",
         "Calm",
         "Fair",
         "False",
         "False",
         "False",
         "False",
         "False",
         "False",
         "False",
         "True",
         "Day",
         "3"
        ],
        [
         "14",
         "0.0",
         "Highway",
         "48.0",
         "50.0",
         "29.64",
         "10.0",
         "NW",
         "Fair",
         "False",
         "False",
         "True",
         "False",
         "False",
         "False",
         "False",
         "False",
         "Night",
         "3"
        ],
        [
         "15",
         "0.113",
         "local",
         "82.0",
         "50.0",
         "29.58",
         "10.0",
         "SW",
         "Fair",
         "False",
         "False",
         "False",
         "False",
         "False",
         "False",
         "False",
         "False",
         "Day",
         "2"
        ],
        [
         "16",
         "0.835",
         "large_local",
         "46.0",
         "93.0",
         "29.86",
         "7.0",
         "Calm",
         "Partly Cloudy",
         "False",
         "False",
         "False",
         "False",
         "False",
         "False",
         "False",
         "False",
         "Night",
         "2"
        ],
        [
         "17",
         "0.0",
         "Interstate",
         "88.0",
         "40.0",
         "30.1",
         "10.0",
         "NW",
         "Mostly Cloudy",
         "False",
         "False",
         "False",
         "False",
         "False",
         "False",
         "False",
         "False",
         "Day",
         "3"
        ],
        [
         "19",
         "0.002",
         "large_local",
         "70.0",
         "84.0",
         "29.96",
         "8.0",
         "NE",
         "Drizzle",
         "False",
         "False",
         "False",
         "False",
         "False",
         "False",
         "False",
         "False",
         "Day",
         "4"
        ],
        [
         "21",
         "0.0",
         "local",
         "51.0",
         "68.0",
         "30.29",
         "10.0",
         "Calm",
         "Mostly Cloudy",
         "False",
         "False",
         "False",
         "False",
         "False",
         "False",
         "False",
         "False",
         "Night",
         "2"
        ],
        [
         "22",
         "0.063",
         "Highway",
         "36.0",
         "81.0",
         "29.75",
         "10.0",
         "NW",
         "Mostly Cloudy",
         "False",
         "False",
         "False",
         "False",
         "False",
         "False",
         "False",
         "False",
         "Day",
         "2"
        ],
        [
         "23",
         "0.105",
         "local",
         "62.0",
         "45.0",
         "30.29",
         "8.0",
         "S",
         "Mostly Cloudy",
         "False",
         "False",
         "False",
         "False",
         "False",
         "False",
         "False",
         "False",
         "Day",
         "4"
        ],
        [
         "25",
         "0.0",
         "Highway",
         "59.0",
         "44.0",
         "29.07",
         "10.0",
         "NW",
         "Fair",
         "False",
         "False",
         "False",
         "False",
         "False",
         "False",
         "False",
         "False",
         "Day",
         "3"
        ],
        [
         "26",
         "0.0",
         "Highway",
         "48.2",
         "32.0",
         "30.12",
         "7.0",
         "W",
         "Mostly Cloudy",
         "False",
         "False",
         "False",
         "False",
         "False",
         "False",
         "False",
         "False",
         "Day",
         "2"
        ],
        [
         "27",
         "0.637",
         "Interstate",
         "44.6",
         "39.0",
         "30.19",
         "10.0",
         "W",
         "Mostly Cloudy",
         "False",
         "False",
         "False",
         "False",
         "False",
         "False",
         "False",
         "False",
         "Day",
         "2"
        ],
        [
         "29",
         "0.463",
         "large_local",
         "92.0",
         "41.0",
         "30.01",
         "10.0",
         "SE",
         "Fair",
         "False",
         "False",
         "False",
         "False",
         "False",
         "False",
         "False",
         "False",
         "Day",
         "2"
        ],
        [
         "30",
         "0.636",
         "local",
         "51.0",
         "82.0",
         "30.31",
         "10.0",
         "NE",
         "Cloudy",
         "False",
         "False",
         "False",
         "False",
         "False",
         "False",
         "False",
         "False",
         "Night",
         "2"
        ],
        [
         "31",
         "0.403",
         "Highway",
         "82.0",
         "40.0",
         "29.58",
         "10.0",
         "W",
         "Fair",
         "False",
         "False",
         "False",
         "False",
         "False",
         "False",
         "False",
         "False",
         "Day",
         "2"
        ],
        [
         "32",
         "0.639",
         "Interstate",
         "80.1",
         "74.0",
         "30.15",
         "7.0",
         "NE",
         "Mostly Cloudy",
         "False",
         "False",
         "False",
         "False",
         "False",
         "False",
         "False",
         "False",
         "Day",
         "2"
        ],
        [
         "33",
         "0.0",
         "Tunnel",
         "86.0",
         "33.0",
         "29.65",
         "10.0",
         "SW",
         "Cloudy",
         "False",
         "False",
         "False",
         "False",
         "False",
         "False",
         "False",
         "False",
         "Day",
         "2"
        ],
        [
         "34",
         "1.686",
         "Interstate",
         "46.0",
         "27.0",
         "30.34",
         "10.0",
         "N",
         "Fair",
         "False",
         "False",
         "False",
         "False",
         "False",
         "False",
         "False",
         "False",
         "Day",
         "2"
        ],
        [
         "35",
         "0.0",
         "Beltway",
         "30.0",
         "30.0",
         "30.22",
         "10.0",
         "NW",
         "Fair",
         "False",
         "False",
         "False",
         "False",
         "False",
         "False",
         "False",
         "False",
         "Day",
         "3"
        ],
        [
         "36",
         "0.0",
         "local",
         "78.1",
         "44.0",
         "29.83",
         "10.0",
         "S",
         "Clear",
         "False",
         "False",
         "False",
         "False",
         "False",
         "False",
         "False",
         "False",
         "Day",
         "2"
        ],
        [
         "37",
         "1.5",
         "local",
         "48.2",
         "100.0",
         "29.98",
         "2.5",
         "Calm",
         "Overcast",
         "False",
         "False",
         "False",
         "False",
         "False",
         "False",
         "False",
         "False",
         "Day",
         "2"
        ],
        [
         "39",
         "0.0",
         "Highway",
         "52.0",
         "100.0",
         "30.47",
         "10.0",
         "Calm",
         "Fair",
         "False",
         "False",
         "False",
         "False",
         "False",
         "False",
         "False",
         "False",
         "Night",
         "2"
        ],
        [
         "41",
         "0.05",
         "local",
         "37.0",
         "100.0",
         "29.83",
         "10.0",
         "SW",
         "Fair",
         "False",
         "False",
         "False",
         "False",
         "False",
         "False",
         "False",
         "False",
         "Day",
         "2"
        ],
        [
         "43",
         "0.581",
         "Interstate",
         "33.0",
         "42.0",
         "30.09",
         "10.0",
         "Calm",
         "Cloudy",
         "False",
         "False",
         "False",
         "False",
         "False",
         "False",
         "False",
         "False",
         "Night",
         "4"
        ],
        [
         "44",
         "0.104",
         "local",
         "56.0",
         "90.0",
         "30.04",
         "4.0",
         "Calm",
         "Fair",
         "False",
         "True",
         "False",
         "False",
         "False",
         "False",
         "False",
         "False",
         "Night",
         "2"
        ],
        [
         "45",
         "0.643",
         "Highway",
         "83.0",
         "42.0",
         "29.62",
         "10.0",
         "S",
         "Fair",
         "False",
         "False",
         "False",
         "False",
         "False",
         "False",
         "False",
         "False",
         "Day",
         "2"
        ],
        [
         "47",
         "0.867",
         "Beltway",
         "29.0",
         "71.0",
         "29.66",
         "10.0",
         "Calm",
         "Fair",
         "False",
         "False",
         "False",
         "False",
         "False",
         "False",
         "False",
         "False",
         "Night",
         "2"
        ],
        [
         "48",
         "0.0",
         "large_local",
         "75.0",
         "33.0",
         "29.54",
         "10.0",
         "NW",
         "Fair",
         "False",
         "True",
         "False",
         "False",
         "False",
         "False",
         "False",
         "True",
         "Day",
         "2"
        ],
        [
         "49",
         "0.089",
         "local",
         "78.0",
         "43.0",
         "29.38",
         "10.0",
         "NE",
         "Fair",
         "False",
         "False",
         "False",
         "False",
         "False",
         "False",
         "False",
         "False",
         "Day",
         "2"
        ],
        [
         "50",
         "0.276",
         "Beltway",
         "67.0",
         "68.0",
         "29.82",
         "10.0",
         "NE",
         "Fair",
         "False",
         "False",
         "False",
         "False",
         "False",
         "False",
         "False",
         "False",
         "Day",
         "4"
        ],
        [
         "51",
         "1.215",
         "Interstate",
         "65.0",
         "73.0",
         "28.9",
         "10.0",
         "S",
         "Fair",
         "False",
         "False",
         "False",
         "False",
         "False",
         "False",
         "False",
         "False",
         "Day",
         "2"
        ],
        [
         "52",
         "0.96",
         "Highway",
         "62.0",
         "90.0",
         "29.97",
         "10.0",
         "NE",
         "Cloudy",
         "False",
         "False",
         "False",
         "False",
         "False",
         "False",
         "False",
         "False",
         "Night",
         "2"
        ],
        [
         "53",
         "0.0",
         "large_local",
         "72.5",
         "93.0",
         "30.02",
         "10.0",
         "Calm",
         "Clear",
         "False",
         "False",
         "True",
         "False",
         "False",
         "False",
         "False",
         "False",
         "Day",
         "3"
        ],
        [
         "54",
         "0.747",
         "Highway",
         "58.0",
         "90.0",
         "29.33",
         "6.0",
         "NW",
         "Cloudy",
         "False",
         "False",
         "False",
         "False",
         "False",
         "False",
         "False",
         "False",
         "Night",
         "4"
        ],
        [
         "55",
         "0.0",
         "Interstate",
         "66.0",
         "88.0",
         "30.04",
         "10.0",
         "E",
         "Mostly Cloudy",
         "False",
         "False",
         "False",
         "False",
         "False",
         "False",
         "False",
         "False",
         "Night",
         "2"
        ],
        [
         "56",
         "0.0",
         "large_local",
         "32.0",
         "100.0",
         "30.1",
         "1.0",
         "Calm",
         "Cloudy",
         "False",
         "False",
         "False",
         "False",
         "False",
         "False",
         "False",
         "False",
         "Night",
         "2"
        ],
        [
         "57",
         "0.139",
         "Interstate",
         "30.0",
         "69.0",
         "29.95",
         "7.0",
         "Calm",
         "Cloudy",
         "False",
         "False",
         "False",
         "False",
         "False",
         "False",
         "False",
         "False",
         "Night",
         "2"
        ],
        [
         "58",
         "0.043",
         "Beltway",
         "32.0",
         "94.0",
         "30.32",
         "7.0",
         "Calm",
         "Cloudy",
         "False",
         "False",
         "False",
         "False",
         "False",
         "False",
         "False",
         "False",
         "Night",
         "2"
        ],
        [
         "59",
         "0.056",
         "Interstate",
         "31.8",
         "85.0",
         "30.23",
         "10.0",
         "Calm",
         "Overcast",
         "False",
         "False",
         "False",
         "False",
         "False",
         "False",
         "False",
         "False",
         "Day",
         "2"
        ],
        [
         "60",
         "0.818",
         "Interstate",
         "38.0",
         "64.0",
         "29.76",
         "10.0",
         "N",
         "Mostly Cloudy",
         "False",
         "False",
         "False",
         "False",
         "False",
         "False",
         "False",
         "False",
         "Day",
         "2"
        ],
        [
         "61",
         "0.152",
         "Interstate",
         "76.0",
         "82.0",
         "29.88",
         "10.0",
         "S",
         "Cloudy",
         "False",
         "False",
         "False",
         "False",
         "False",
         "False",
         "False",
         "False",
         "Night",
         "2"
        ],
        [
         "62",
         "0.153",
         "large_local",
         "79.0",
         "69.0",
         "29.57",
         "7.0",
         "SW",
         "Fair",
         "False",
         "False",
         "False",
         "False",
         "False",
         "False",
         "False",
         "False",
         "Day",
         "4"
        ]
       ],
       "shape": {
        "columns": 18,
        "rows": 50
       }
      },
      "text/html": [
       "<div>\n",
       "<style scoped>\n",
       "    .dataframe tbody tr th:only-of-type {\n",
       "        vertical-align: middle;\n",
       "    }\n",
       "\n",
       "    .dataframe tbody tr th {\n",
       "        vertical-align: top;\n",
       "    }\n",
       "\n",
       "    .dataframe thead th {\n",
       "        text-align: right;\n",
       "    }\n",
       "</style>\n",
       "<table border=\"1\" class=\"dataframe\">\n",
       "  <thead>\n",
       "    <tr style=\"text-align: right;\">\n",
       "      <th></th>\n",
       "      <th>Distance(mi)</th>\n",
       "      <th>Street</th>\n",
       "      <th>Temperature(F)</th>\n",
       "      <th>Humidity(%)</th>\n",
       "      <th>Pressure(in)</th>\n",
       "      <th>Visibility(mi)</th>\n",
       "      <th>Wind_Direction</th>\n",
       "      <th>Weather_Condition</th>\n",
       "      <th>Amenity</th>\n",
       "      <th>Crossing</th>\n",
       "      <th>Junction</th>\n",
       "      <th>Railway</th>\n",
       "      <th>Station</th>\n",
       "      <th>Stop</th>\n",
       "      <th>Traffic_Calming</th>\n",
       "      <th>Traffic_Signal</th>\n",
       "      <th>Sunrise_Sunset</th>\n",
       "      <th>Severity</th>\n",
       "    </tr>\n",
       "  </thead>\n",
       "  <tbody>\n",
       "    <tr>\n",
       "      <th>0</th>\n",
       "      <td>0.000</td>\n",
       "      <td>local</td>\n",
       "      <td>30.0</td>\n",
       "      <td>55.0</td>\n",
       "      <td>30.66</td>\n",
       "      <td>10.0</td>\n",
       "      <td>Calm</td>\n",
       "      <td>Fair</td>\n",
       "      <td>False</td>\n",
       "      <td>False</td>\n",
       "      <td>False</td>\n",
       "      <td>False</td>\n",
       "      <td>False</td>\n",
       "      <td>False</td>\n",
       "      <td>False</td>\n",
       "      <td>False</td>\n",
       "      <td>Night</td>\n",
       "      <td>2</td>\n",
       "    </tr>\n",
       "    <tr>\n",
       "      <th>2</th>\n",
       "      <td>0.000</td>\n",
       "      <td>Highway</td>\n",
       "      <td>95.0</td>\n",
       "      <td>44.0</td>\n",
       "      <td>29.89</td>\n",
       "      <td>10.0</td>\n",
       "      <td>W</td>\n",
       "      <td>Partly Cloudy</td>\n",
       "      <td>False</td>\n",
       "      <td>True</td>\n",
       "      <td>False</td>\n",
       "      <td>False</td>\n",
       "      <td>False</td>\n",
       "      <td>False</td>\n",
       "      <td>False</td>\n",
       "      <td>False</td>\n",
       "      <td>Day</td>\n",
       "      <td>2</td>\n",
       "    </tr>\n",
       "    <tr>\n",
       "      <th>3</th>\n",
       "      <td>0.254</td>\n",
       "      <td>Highway</td>\n",
       "      <td>71.6</td>\n",
       "      <td>88.0</td>\n",
       "      <td>30.05</td>\n",
       "      <td>10.0</td>\n",
       "      <td>Calm</td>\n",
       "      <td>Clear</td>\n",
       "      <td>False</td>\n",
       "      <td>False</td>\n",
       "      <td>False</td>\n",
       "      <td>False</td>\n",
       "      <td>False</td>\n",
       "      <td>False</td>\n",
       "      <td>False</td>\n",
       "      <td>False</td>\n",
       "      <td>Day</td>\n",
       "      <td>2</td>\n",
       "    </tr>\n",
       "    <tr>\n",
       "      <th>4</th>\n",
       "      <td>0.000</td>\n",
       "      <td>local</td>\n",
       "      <td>17.6</td>\n",
       "      <td>49.0</td>\n",
       "      <td>30.26</td>\n",
       "      <td>10.0</td>\n",
       "      <td>Calm</td>\n",
       "      <td>Clear</td>\n",
       "      <td>False</td>\n",
       "      <td>False</td>\n",
       "      <td>False</td>\n",
       "      <td>False</td>\n",
       "      <td>False</td>\n",
       "      <td>False</td>\n",
       "      <td>False</td>\n",
       "      <td>False</td>\n",
       "      <td>Day</td>\n",
       "      <td>2</td>\n",
       "    </tr>\n",
       "    <tr>\n",
       "      <th>5</th>\n",
       "      <td>0.078</td>\n",
       "      <td>local</td>\n",
       "      <td>79.0</td>\n",
       "      <td>33.0</td>\n",
       "      <td>30.12</td>\n",
       "      <td>10.0</td>\n",
       "      <td>W</td>\n",
       "      <td>Fair</td>\n",
       "      <td>False</td>\n",
       "      <td>False</td>\n",
       "      <td>False</td>\n",
       "      <td>False</td>\n",
       "      <td>False</td>\n",
       "      <td>False</td>\n",
       "      <td>False</td>\n",
       "      <td>False</td>\n",
       "      <td>Day</td>\n",
       "      <td>2</td>\n",
       "    </tr>\n",
       "    <tr>\n",
       "      <th>8</th>\n",
       "      <td>0.159</td>\n",
       "      <td>Interstate</td>\n",
       "      <td>70.0</td>\n",
       "      <td>49.0</td>\n",
       "      <td>30.26</td>\n",
       "      <td>7.0</td>\n",
       "      <td>Calm</td>\n",
       "      <td>Fair</td>\n",
       "      <td>False</td>\n",
       "      <td>False</td>\n",
       "      <td>False</td>\n",
       "      <td>False</td>\n",
       "      <td>False</td>\n",
       "      <td>False</td>\n",
       "      <td>False</td>\n",
       "      <td>False</td>\n",
       "      <td>Night</td>\n",
       "      <td>2</td>\n",
       "    </tr>\n",
       "    <tr>\n",
       "      <th>10</th>\n",
       "      <td>0.042</td>\n",
       "      <td>local</td>\n",
       "      <td>82.0</td>\n",
       "      <td>49.0</td>\n",
       "      <td>29.97</td>\n",
       "      <td>10.0</td>\n",
       "      <td>NW</td>\n",
       "      <td>Partly Cloudy</td>\n",
       "      <td>False</td>\n",
       "      <td>True</td>\n",
       "      <td>False</td>\n",
       "      <td>False</td>\n",
       "      <td>False</td>\n",
       "      <td>False</td>\n",
       "      <td>False</td>\n",
       "      <td>True</td>\n",
       "      <td>Day</td>\n",
       "      <td>2</td>\n",
       "    </tr>\n",
       "    <tr>\n",
       "      <th>11</th>\n",
       "      <td>0.075</td>\n",
       "      <td>Highway</td>\n",
       "      <td>52.0</td>\n",
       "      <td>93.0</td>\n",
       "      <td>29.80</td>\n",
       "      <td>6.0</td>\n",
       "      <td>NW</td>\n",
       "      <td>Drizzle</td>\n",
       "      <td>False</td>\n",
       "      <td>False</td>\n",
       "      <td>False</td>\n",
       "      <td>False</td>\n",
       "      <td>False</td>\n",
       "      <td>False</td>\n",
       "      <td>False</td>\n",
       "      <td>False</td>\n",
       "      <td>Night</td>\n",
       "      <td>2</td>\n",
       "    </tr>\n",
       "    <tr>\n",
       "      <th>13</th>\n",
       "      <td>0.369</td>\n",
       "      <td>large_local</td>\n",
       "      <td>79.0</td>\n",
       "      <td>74.0</td>\n",
       "      <td>29.21</td>\n",
       "      <td>10.0</td>\n",
       "      <td>Calm</td>\n",
       "      <td>Fair</td>\n",
       "      <td>False</td>\n",
       "      <td>False</td>\n",
       "      <td>False</td>\n",
       "      <td>False</td>\n",
       "      <td>False</td>\n",
       "      <td>False</td>\n",
       "      <td>False</td>\n",
       "      <td>True</td>\n",
       "      <td>Day</td>\n",
       "      <td>3</td>\n",
       "    </tr>\n",
       "    <tr>\n",
       "      <th>14</th>\n",
       "      <td>0.000</td>\n",
       "      <td>Highway</td>\n",
       "      <td>48.0</td>\n",
       "      <td>50.0</td>\n",
       "      <td>29.64</td>\n",
       "      <td>10.0</td>\n",
       "      <td>NW</td>\n",
       "      <td>Fair</td>\n",
       "      <td>False</td>\n",
       "      <td>False</td>\n",
       "      <td>True</td>\n",
       "      <td>False</td>\n",
       "      <td>False</td>\n",
       "      <td>False</td>\n",
       "      <td>False</td>\n",
       "      <td>False</td>\n",
       "      <td>Night</td>\n",
       "      <td>3</td>\n",
       "    </tr>\n",
       "    <tr>\n",
       "      <th>15</th>\n",
       "      <td>0.113</td>\n",
       "      <td>local</td>\n",
       "      <td>82.0</td>\n",
       "      <td>50.0</td>\n",
       "      <td>29.58</td>\n",
       "      <td>10.0</td>\n",
       "      <td>SW</td>\n",
       "      <td>Fair</td>\n",
       "      <td>False</td>\n",
       "      <td>False</td>\n",
       "      <td>False</td>\n",
       "      <td>False</td>\n",
       "      <td>False</td>\n",
       "      <td>False</td>\n",
       "      <td>False</td>\n",
       "      <td>False</td>\n",
       "      <td>Day</td>\n",
       "      <td>2</td>\n",
       "    </tr>\n",
       "    <tr>\n",
       "      <th>16</th>\n",
       "      <td>0.835</td>\n",
       "      <td>large_local</td>\n",
       "      <td>46.0</td>\n",
       "      <td>93.0</td>\n",
       "      <td>29.86</td>\n",
       "      <td>7.0</td>\n",
       "      <td>Calm</td>\n",
       "      <td>Partly Cloudy</td>\n",
       "      <td>False</td>\n",
       "      <td>False</td>\n",
       "      <td>False</td>\n",
       "      <td>False</td>\n",
       "      <td>False</td>\n",
       "      <td>False</td>\n",
       "      <td>False</td>\n",
       "      <td>False</td>\n",
       "      <td>Night</td>\n",
       "      <td>2</td>\n",
       "    </tr>\n",
       "    <tr>\n",
       "      <th>17</th>\n",
       "      <td>0.000</td>\n",
       "      <td>Interstate</td>\n",
       "      <td>88.0</td>\n",
       "      <td>40.0</td>\n",
       "      <td>30.10</td>\n",
       "      <td>10.0</td>\n",
       "      <td>NW</td>\n",
       "      <td>Mostly Cloudy</td>\n",
       "      <td>False</td>\n",
       "      <td>False</td>\n",
       "      <td>False</td>\n",
       "      <td>False</td>\n",
       "      <td>False</td>\n",
       "      <td>False</td>\n",
       "      <td>False</td>\n",
       "      <td>False</td>\n",
       "      <td>Day</td>\n",
       "      <td>3</td>\n",
       "    </tr>\n",
       "    <tr>\n",
       "      <th>19</th>\n",
       "      <td>0.002</td>\n",
       "      <td>large_local</td>\n",
       "      <td>70.0</td>\n",
       "      <td>84.0</td>\n",
       "      <td>29.96</td>\n",
       "      <td>8.0</td>\n",
       "      <td>NE</td>\n",
       "      <td>Drizzle</td>\n",
       "      <td>False</td>\n",
       "      <td>False</td>\n",
       "      <td>False</td>\n",
       "      <td>False</td>\n",
       "      <td>False</td>\n",
       "      <td>False</td>\n",
       "      <td>False</td>\n",
       "      <td>False</td>\n",
       "      <td>Day</td>\n",
       "      <td>4</td>\n",
       "    </tr>\n",
       "    <tr>\n",
       "      <th>21</th>\n",
       "      <td>0.000</td>\n",
       "      <td>local</td>\n",
       "      <td>51.0</td>\n",
       "      <td>68.0</td>\n",
       "      <td>30.29</td>\n",
       "      <td>10.0</td>\n",
       "      <td>Calm</td>\n",
       "      <td>Mostly Cloudy</td>\n",
       "      <td>False</td>\n",
       "      <td>False</td>\n",
       "      <td>False</td>\n",
       "      <td>False</td>\n",
       "      <td>False</td>\n",
       "      <td>False</td>\n",
       "      <td>False</td>\n",
       "      <td>False</td>\n",
       "      <td>Night</td>\n",
       "      <td>2</td>\n",
       "    </tr>\n",
       "    <tr>\n",
       "      <th>22</th>\n",
       "      <td>0.063</td>\n",
       "      <td>Highway</td>\n",
       "      <td>36.0</td>\n",
       "      <td>81.0</td>\n",
       "      <td>29.75</td>\n",
       "      <td>10.0</td>\n",
       "      <td>NW</td>\n",
       "      <td>Mostly Cloudy</td>\n",
       "      <td>False</td>\n",
       "      <td>False</td>\n",
       "      <td>False</td>\n",
       "      <td>False</td>\n",
       "      <td>False</td>\n",
       "      <td>False</td>\n",
       "      <td>False</td>\n",
       "      <td>False</td>\n",
       "      <td>Day</td>\n",
       "      <td>2</td>\n",
       "    </tr>\n",
       "    <tr>\n",
       "      <th>23</th>\n",
       "      <td>0.105</td>\n",
       "      <td>local</td>\n",
       "      <td>62.0</td>\n",
       "      <td>45.0</td>\n",
       "      <td>30.29</td>\n",
       "      <td>8.0</td>\n",
       "      <td>S</td>\n",
       "      <td>Mostly Cloudy</td>\n",
       "      <td>False</td>\n",
       "      <td>False</td>\n",
       "      <td>False</td>\n",
       "      <td>False</td>\n",
       "      <td>False</td>\n",
       "      <td>False</td>\n",
       "      <td>False</td>\n",
       "      <td>False</td>\n",
       "      <td>Day</td>\n",
       "      <td>4</td>\n",
       "    </tr>\n",
       "    <tr>\n",
       "      <th>25</th>\n",
       "      <td>0.000</td>\n",
       "      <td>Highway</td>\n",
       "      <td>59.0</td>\n",
       "      <td>44.0</td>\n",
       "      <td>29.07</td>\n",
       "      <td>10.0</td>\n",
       "      <td>NW</td>\n",
       "      <td>Fair</td>\n",
       "      <td>False</td>\n",
       "      <td>False</td>\n",
       "      <td>False</td>\n",
       "      <td>False</td>\n",
       "      <td>False</td>\n",
       "      <td>False</td>\n",
       "      <td>False</td>\n",
       "      <td>False</td>\n",
       "      <td>Day</td>\n",
       "      <td>3</td>\n",
       "    </tr>\n",
       "    <tr>\n",
       "      <th>26</th>\n",
       "      <td>0.000</td>\n",
       "      <td>Highway</td>\n",
       "      <td>48.2</td>\n",
       "      <td>32.0</td>\n",
       "      <td>30.12</td>\n",
       "      <td>7.0</td>\n",
       "      <td>W</td>\n",
       "      <td>Mostly Cloudy</td>\n",
       "      <td>False</td>\n",
       "      <td>False</td>\n",
       "      <td>False</td>\n",
       "      <td>False</td>\n",
       "      <td>False</td>\n",
       "      <td>False</td>\n",
       "      <td>False</td>\n",
       "      <td>False</td>\n",
       "      <td>Day</td>\n",
       "      <td>2</td>\n",
       "    </tr>\n",
       "    <tr>\n",
       "      <th>27</th>\n",
       "      <td>0.637</td>\n",
       "      <td>Interstate</td>\n",
       "      <td>44.6</td>\n",
       "      <td>39.0</td>\n",
       "      <td>30.19</td>\n",
       "      <td>10.0</td>\n",
       "      <td>W</td>\n",
       "      <td>Mostly Cloudy</td>\n",
       "      <td>False</td>\n",
       "      <td>False</td>\n",
       "      <td>False</td>\n",
       "      <td>False</td>\n",
       "      <td>False</td>\n",
       "      <td>False</td>\n",
       "      <td>False</td>\n",
       "      <td>False</td>\n",
       "      <td>Day</td>\n",
       "      <td>2</td>\n",
       "    </tr>\n",
       "    <tr>\n",
       "      <th>29</th>\n",
       "      <td>0.463</td>\n",
       "      <td>large_local</td>\n",
       "      <td>92.0</td>\n",
       "      <td>41.0</td>\n",
       "      <td>30.01</td>\n",
       "      <td>10.0</td>\n",
       "      <td>SE</td>\n",
       "      <td>Fair</td>\n",
       "      <td>False</td>\n",
       "      <td>False</td>\n",
       "      <td>False</td>\n",
       "      <td>False</td>\n",
       "      <td>False</td>\n",
       "      <td>False</td>\n",
       "      <td>False</td>\n",
       "      <td>False</td>\n",
       "      <td>Day</td>\n",
       "      <td>2</td>\n",
       "    </tr>\n",
       "    <tr>\n",
       "      <th>30</th>\n",
       "      <td>0.636</td>\n",
       "      <td>local</td>\n",
       "      <td>51.0</td>\n",
       "      <td>82.0</td>\n",
       "      <td>30.31</td>\n",
       "      <td>10.0</td>\n",
       "      <td>NE</td>\n",
       "      <td>Cloudy</td>\n",
       "      <td>False</td>\n",
       "      <td>False</td>\n",
       "      <td>False</td>\n",
       "      <td>False</td>\n",
       "      <td>False</td>\n",
       "      <td>False</td>\n",
       "      <td>False</td>\n",
       "      <td>False</td>\n",
       "      <td>Night</td>\n",
       "      <td>2</td>\n",
       "    </tr>\n",
       "    <tr>\n",
       "      <th>31</th>\n",
       "      <td>0.403</td>\n",
       "      <td>Highway</td>\n",
       "      <td>82.0</td>\n",
       "      <td>40.0</td>\n",
       "      <td>29.58</td>\n",
       "      <td>10.0</td>\n",
       "      <td>W</td>\n",
       "      <td>Fair</td>\n",
       "      <td>False</td>\n",
       "      <td>False</td>\n",
       "      <td>False</td>\n",
       "      <td>False</td>\n",
       "      <td>False</td>\n",
       "      <td>False</td>\n",
       "      <td>False</td>\n",
       "      <td>False</td>\n",
       "      <td>Day</td>\n",
       "      <td>2</td>\n",
       "    </tr>\n",
       "    <tr>\n",
       "      <th>32</th>\n",
       "      <td>0.639</td>\n",
       "      <td>Interstate</td>\n",
       "      <td>80.1</td>\n",
       "      <td>74.0</td>\n",
       "      <td>30.15</td>\n",
       "      <td>7.0</td>\n",
       "      <td>NE</td>\n",
       "      <td>Mostly Cloudy</td>\n",
       "      <td>False</td>\n",
       "      <td>False</td>\n",
       "      <td>False</td>\n",
       "      <td>False</td>\n",
       "      <td>False</td>\n",
       "      <td>False</td>\n",
       "      <td>False</td>\n",
       "      <td>False</td>\n",
       "      <td>Day</td>\n",
       "      <td>2</td>\n",
       "    </tr>\n",
       "    <tr>\n",
       "      <th>33</th>\n",
       "      <td>0.000</td>\n",
       "      <td>Tunnel</td>\n",
       "      <td>86.0</td>\n",
       "      <td>33.0</td>\n",
       "      <td>29.65</td>\n",
       "      <td>10.0</td>\n",
       "      <td>SW</td>\n",
       "      <td>Cloudy</td>\n",
       "      <td>False</td>\n",
       "      <td>False</td>\n",
       "      <td>False</td>\n",
       "      <td>False</td>\n",
       "      <td>False</td>\n",
       "      <td>False</td>\n",
       "      <td>False</td>\n",
       "      <td>False</td>\n",
       "      <td>Day</td>\n",
       "      <td>2</td>\n",
       "    </tr>\n",
       "    <tr>\n",
       "      <th>34</th>\n",
       "      <td>1.686</td>\n",
       "      <td>Interstate</td>\n",
       "      <td>46.0</td>\n",
       "      <td>27.0</td>\n",
       "      <td>30.34</td>\n",
       "      <td>10.0</td>\n",
       "      <td>N</td>\n",
       "      <td>Fair</td>\n",
       "      <td>False</td>\n",
       "      <td>False</td>\n",
       "      <td>False</td>\n",
       "      <td>False</td>\n",
       "      <td>False</td>\n",
       "      <td>False</td>\n",
       "      <td>False</td>\n",
       "      <td>False</td>\n",
       "      <td>Day</td>\n",
       "      <td>2</td>\n",
       "    </tr>\n",
       "    <tr>\n",
       "      <th>35</th>\n",
       "      <td>0.000</td>\n",
       "      <td>Beltway</td>\n",
       "      <td>30.0</td>\n",
       "      <td>30.0</td>\n",
       "      <td>30.22</td>\n",
       "      <td>10.0</td>\n",
       "      <td>NW</td>\n",
       "      <td>Fair</td>\n",
       "      <td>False</td>\n",
       "      <td>False</td>\n",
       "      <td>False</td>\n",
       "      <td>False</td>\n",
       "      <td>False</td>\n",
       "      <td>False</td>\n",
       "      <td>False</td>\n",
       "      <td>False</td>\n",
       "      <td>Day</td>\n",
       "      <td>3</td>\n",
       "    </tr>\n",
       "    <tr>\n",
       "      <th>36</th>\n",
       "      <td>0.000</td>\n",
       "      <td>local</td>\n",
       "      <td>78.1</td>\n",
       "      <td>44.0</td>\n",
       "      <td>29.83</td>\n",
       "      <td>10.0</td>\n",
       "      <td>S</td>\n",
       "      <td>Clear</td>\n",
       "      <td>False</td>\n",
       "      <td>False</td>\n",
       "      <td>False</td>\n",
       "      <td>False</td>\n",
       "      <td>False</td>\n",
       "      <td>False</td>\n",
       "      <td>False</td>\n",
       "      <td>False</td>\n",
       "      <td>Day</td>\n",
       "      <td>2</td>\n",
       "    </tr>\n",
       "    <tr>\n",
       "      <th>37</th>\n",
       "      <td>1.500</td>\n",
       "      <td>local</td>\n",
       "      <td>48.2</td>\n",
       "      <td>100.0</td>\n",
       "      <td>29.98</td>\n",
       "      <td>2.5</td>\n",
       "      <td>Calm</td>\n",
       "      <td>Overcast</td>\n",
       "      <td>False</td>\n",
       "      <td>False</td>\n",
       "      <td>False</td>\n",
       "      <td>False</td>\n",
       "      <td>False</td>\n",
       "      <td>False</td>\n",
       "      <td>False</td>\n",
       "      <td>False</td>\n",
       "      <td>Day</td>\n",
       "      <td>2</td>\n",
       "    </tr>\n",
       "    <tr>\n",
       "      <th>39</th>\n",
       "      <td>0.000</td>\n",
       "      <td>Highway</td>\n",
       "      <td>52.0</td>\n",
       "      <td>100.0</td>\n",
       "      <td>30.47</td>\n",
       "      <td>10.0</td>\n",
       "      <td>Calm</td>\n",
       "      <td>Fair</td>\n",
       "      <td>False</td>\n",
       "      <td>False</td>\n",
       "      <td>False</td>\n",
       "      <td>False</td>\n",
       "      <td>False</td>\n",
       "      <td>False</td>\n",
       "      <td>False</td>\n",
       "      <td>False</td>\n",
       "      <td>Night</td>\n",
       "      <td>2</td>\n",
       "    </tr>\n",
       "    <tr>\n",
       "      <th>41</th>\n",
       "      <td>0.050</td>\n",
       "      <td>local</td>\n",
       "      <td>37.0</td>\n",
       "      <td>100.0</td>\n",
       "      <td>29.83</td>\n",
       "      <td>10.0</td>\n",
       "      <td>SW</td>\n",
       "      <td>Fair</td>\n",
       "      <td>False</td>\n",
       "      <td>False</td>\n",
       "      <td>False</td>\n",
       "      <td>False</td>\n",
       "      <td>False</td>\n",
       "      <td>False</td>\n",
       "      <td>False</td>\n",
       "      <td>False</td>\n",
       "      <td>Day</td>\n",
       "      <td>2</td>\n",
       "    </tr>\n",
       "    <tr>\n",
       "      <th>43</th>\n",
       "      <td>0.581</td>\n",
       "      <td>Interstate</td>\n",
       "      <td>33.0</td>\n",
       "      <td>42.0</td>\n",
       "      <td>30.09</td>\n",
       "      <td>10.0</td>\n",
       "      <td>Calm</td>\n",
       "      <td>Cloudy</td>\n",
       "      <td>False</td>\n",
       "      <td>False</td>\n",
       "      <td>False</td>\n",
       "      <td>False</td>\n",
       "      <td>False</td>\n",
       "      <td>False</td>\n",
       "      <td>False</td>\n",
       "      <td>False</td>\n",
       "      <td>Night</td>\n",
       "      <td>4</td>\n",
       "    </tr>\n",
       "    <tr>\n",
       "      <th>44</th>\n",
       "      <td>0.104</td>\n",
       "      <td>local</td>\n",
       "      <td>56.0</td>\n",
       "      <td>90.0</td>\n",
       "      <td>30.04</td>\n",
       "      <td>4.0</td>\n",
       "      <td>Calm</td>\n",
       "      <td>Fair</td>\n",
       "      <td>False</td>\n",
       "      <td>True</td>\n",
       "      <td>False</td>\n",
       "      <td>False</td>\n",
       "      <td>False</td>\n",
       "      <td>False</td>\n",
       "      <td>False</td>\n",
       "      <td>False</td>\n",
       "      <td>Night</td>\n",
       "      <td>2</td>\n",
       "    </tr>\n",
       "    <tr>\n",
       "      <th>45</th>\n",
       "      <td>0.643</td>\n",
       "      <td>Highway</td>\n",
       "      <td>83.0</td>\n",
       "      <td>42.0</td>\n",
       "      <td>29.62</td>\n",
       "      <td>10.0</td>\n",
       "      <td>S</td>\n",
       "      <td>Fair</td>\n",
       "      <td>False</td>\n",
       "      <td>False</td>\n",
       "      <td>False</td>\n",
       "      <td>False</td>\n",
       "      <td>False</td>\n",
       "      <td>False</td>\n",
       "      <td>False</td>\n",
       "      <td>False</td>\n",
       "      <td>Day</td>\n",
       "      <td>2</td>\n",
       "    </tr>\n",
       "    <tr>\n",
       "      <th>47</th>\n",
       "      <td>0.867</td>\n",
       "      <td>Beltway</td>\n",
       "      <td>29.0</td>\n",
       "      <td>71.0</td>\n",
       "      <td>29.66</td>\n",
       "      <td>10.0</td>\n",
       "      <td>Calm</td>\n",
       "      <td>Fair</td>\n",
       "      <td>False</td>\n",
       "      <td>False</td>\n",
       "      <td>False</td>\n",
       "      <td>False</td>\n",
       "      <td>False</td>\n",
       "      <td>False</td>\n",
       "      <td>False</td>\n",
       "      <td>False</td>\n",
       "      <td>Night</td>\n",
       "      <td>2</td>\n",
       "    </tr>\n",
       "    <tr>\n",
       "      <th>48</th>\n",
       "      <td>0.000</td>\n",
       "      <td>large_local</td>\n",
       "      <td>75.0</td>\n",
       "      <td>33.0</td>\n",
       "      <td>29.54</td>\n",
       "      <td>10.0</td>\n",
       "      <td>NW</td>\n",
       "      <td>Fair</td>\n",
       "      <td>False</td>\n",
       "      <td>True</td>\n",
       "      <td>False</td>\n",
       "      <td>False</td>\n",
       "      <td>False</td>\n",
       "      <td>False</td>\n",
       "      <td>False</td>\n",
       "      <td>True</td>\n",
       "      <td>Day</td>\n",
       "      <td>2</td>\n",
       "    </tr>\n",
       "    <tr>\n",
       "      <th>49</th>\n",
       "      <td>0.089</td>\n",
       "      <td>local</td>\n",
       "      <td>78.0</td>\n",
       "      <td>43.0</td>\n",
       "      <td>29.38</td>\n",
       "      <td>10.0</td>\n",
       "      <td>NE</td>\n",
       "      <td>Fair</td>\n",
       "      <td>False</td>\n",
       "      <td>False</td>\n",
       "      <td>False</td>\n",
       "      <td>False</td>\n",
       "      <td>False</td>\n",
       "      <td>False</td>\n",
       "      <td>False</td>\n",
       "      <td>False</td>\n",
       "      <td>Day</td>\n",
       "      <td>2</td>\n",
       "    </tr>\n",
       "    <tr>\n",
       "      <th>50</th>\n",
       "      <td>0.276</td>\n",
       "      <td>Beltway</td>\n",
       "      <td>67.0</td>\n",
       "      <td>68.0</td>\n",
       "      <td>29.82</td>\n",
       "      <td>10.0</td>\n",
       "      <td>NE</td>\n",
       "      <td>Fair</td>\n",
       "      <td>False</td>\n",
       "      <td>False</td>\n",
       "      <td>False</td>\n",
       "      <td>False</td>\n",
       "      <td>False</td>\n",
       "      <td>False</td>\n",
       "      <td>False</td>\n",
       "      <td>False</td>\n",
       "      <td>Day</td>\n",
       "      <td>4</td>\n",
       "    </tr>\n",
       "    <tr>\n",
       "      <th>51</th>\n",
       "      <td>1.215</td>\n",
       "      <td>Interstate</td>\n",
       "      <td>65.0</td>\n",
       "      <td>73.0</td>\n",
       "      <td>28.90</td>\n",
       "      <td>10.0</td>\n",
       "      <td>S</td>\n",
       "      <td>Fair</td>\n",
       "      <td>False</td>\n",
       "      <td>False</td>\n",
       "      <td>False</td>\n",
       "      <td>False</td>\n",
       "      <td>False</td>\n",
       "      <td>False</td>\n",
       "      <td>False</td>\n",
       "      <td>False</td>\n",
       "      <td>Day</td>\n",
       "      <td>2</td>\n",
       "    </tr>\n",
       "    <tr>\n",
       "      <th>52</th>\n",
       "      <td>0.960</td>\n",
       "      <td>Highway</td>\n",
       "      <td>62.0</td>\n",
       "      <td>90.0</td>\n",
       "      <td>29.97</td>\n",
       "      <td>10.0</td>\n",
       "      <td>NE</td>\n",
       "      <td>Cloudy</td>\n",
       "      <td>False</td>\n",
       "      <td>False</td>\n",
       "      <td>False</td>\n",
       "      <td>False</td>\n",
       "      <td>False</td>\n",
       "      <td>False</td>\n",
       "      <td>False</td>\n",
       "      <td>False</td>\n",
       "      <td>Night</td>\n",
       "      <td>2</td>\n",
       "    </tr>\n",
       "    <tr>\n",
       "      <th>53</th>\n",
       "      <td>0.000</td>\n",
       "      <td>large_local</td>\n",
       "      <td>72.5</td>\n",
       "      <td>93.0</td>\n",
       "      <td>30.02</td>\n",
       "      <td>10.0</td>\n",
       "      <td>Calm</td>\n",
       "      <td>Clear</td>\n",
       "      <td>False</td>\n",
       "      <td>False</td>\n",
       "      <td>True</td>\n",
       "      <td>False</td>\n",
       "      <td>False</td>\n",
       "      <td>False</td>\n",
       "      <td>False</td>\n",
       "      <td>False</td>\n",
       "      <td>Day</td>\n",
       "      <td>3</td>\n",
       "    </tr>\n",
       "    <tr>\n",
       "      <th>54</th>\n",
       "      <td>0.747</td>\n",
       "      <td>Highway</td>\n",
       "      <td>58.0</td>\n",
       "      <td>90.0</td>\n",
       "      <td>29.33</td>\n",
       "      <td>6.0</td>\n",
       "      <td>NW</td>\n",
       "      <td>Cloudy</td>\n",
       "      <td>False</td>\n",
       "      <td>False</td>\n",
       "      <td>False</td>\n",
       "      <td>False</td>\n",
       "      <td>False</td>\n",
       "      <td>False</td>\n",
       "      <td>False</td>\n",
       "      <td>False</td>\n",
       "      <td>Night</td>\n",
       "      <td>4</td>\n",
       "    </tr>\n",
       "    <tr>\n",
       "      <th>55</th>\n",
       "      <td>0.000</td>\n",
       "      <td>Interstate</td>\n",
       "      <td>66.0</td>\n",
       "      <td>88.0</td>\n",
       "      <td>30.04</td>\n",
       "      <td>10.0</td>\n",
       "      <td>E</td>\n",
       "      <td>Mostly Cloudy</td>\n",
       "      <td>False</td>\n",
       "      <td>False</td>\n",
       "      <td>False</td>\n",
       "      <td>False</td>\n",
       "      <td>False</td>\n",
       "      <td>False</td>\n",
       "      <td>False</td>\n",
       "      <td>False</td>\n",
       "      <td>Night</td>\n",
       "      <td>2</td>\n",
       "    </tr>\n",
       "    <tr>\n",
       "      <th>56</th>\n",
       "      <td>0.000</td>\n",
       "      <td>large_local</td>\n",
       "      <td>32.0</td>\n",
       "      <td>100.0</td>\n",
       "      <td>30.10</td>\n",
       "      <td>1.0</td>\n",
       "      <td>Calm</td>\n",
       "      <td>Cloudy</td>\n",
       "      <td>False</td>\n",
       "      <td>False</td>\n",
       "      <td>False</td>\n",
       "      <td>False</td>\n",
       "      <td>False</td>\n",
       "      <td>False</td>\n",
       "      <td>False</td>\n",
       "      <td>False</td>\n",
       "      <td>Night</td>\n",
       "      <td>2</td>\n",
       "    </tr>\n",
       "    <tr>\n",
       "      <th>57</th>\n",
       "      <td>0.139</td>\n",
       "      <td>Interstate</td>\n",
       "      <td>30.0</td>\n",
       "      <td>69.0</td>\n",
       "      <td>29.95</td>\n",
       "      <td>7.0</td>\n",
       "      <td>Calm</td>\n",
       "      <td>Cloudy</td>\n",
       "      <td>False</td>\n",
       "      <td>False</td>\n",
       "      <td>False</td>\n",
       "      <td>False</td>\n",
       "      <td>False</td>\n",
       "      <td>False</td>\n",
       "      <td>False</td>\n",
       "      <td>False</td>\n",
       "      <td>Night</td>\n",
       "      <td>2</td>\n",
       "    </tr>\n",
       "    <tr>\n",
       "      <th>58</th>\n",
       "      <td>0.043</td>\n",
       "      <td>Beltway</td>\n",
       "      <td>32.0</td>\n",
       "      <td>94.0</td>\n",
       "      <td>30.32</td>\n",
       "      <td>7.0</td>\n",
       "      <td>Calm</td>\n",
       "      <td>Cloudy</td>\n",
       "      <td>False</td>\n",
       "      <td>False</td>\n",
       "      <td>False</td>\n",
       "      <td>False</td>\n",
       "      <td>False</td>\n",
       "      <td>False</td>\n",
       "      <td>False</td>\n",
       "      <td>False</td>\n",
       "      <td>Night</td>\n",
       "      <td>2</td>\n",
       "    </tr>\n",
       "    <tr>\n",
       "      <th>59</th>\n",
       "      <td>0.056</td>\n",
       "      <td>Interstate</td>\n",
       "      <td>31.8</td>\n",
       "      <td>85.0</td>\n",
       "      <td>30.23</td>\n",
       "      <td>10.0</td>\n",
       "      <td>Calm</td>\n",
       "      <td>Overcast</td>\n",
       "      <td>False</td>\n",
       "      <td>False</td>\n",
       "      <td>False</td>\n",
       "      <td>False</td>\n",
       "      <td>False</td>\n",
       "      <td>False</td>\n",
       "      <td>False</td>\n",
       "      <td>False</td>\n",
       "      <td>Day</td>\n",
       "      <td>2</td>\n",
       "    </tr>\n",
       "    <tr>\n",
       "      <th>60</th>\n",
       "      <td>0.818</td>\n",
       "      <td>Interstate</td>\n",
       "      <td>38.0</td>\n",
       "      <td>64.0</td>\n",
       "      <td>29.76</td>\n",
       "      <td>10.0</td>\n",
       "      <td>N</td>\n",
       "      <td>Mostly Cloudy</td>\n",
       "      <td>False</td>\n",
       "      <td>False</td>\n",
       "      <td>False</td>\n",
       "      <td>False</td>\n",
       "      <td>False</td>\n",
       "      <td>False</td>\n",
       "      <td>False</td>\n",
       "      <td>False</td>\n",
       "      <td>Day</td>\n",
       "      <td>2</td>\n",
       "    </tr>\n",
       "    <tr>\n",
       "      <th>61</th>\n",
       "      <td>0.152</td>\n",
       "      <td>Interstate</td>\n",
       "      <td>76.0</td>\n",
       "      <td>82.0</td>\n",
       "      <td>29.88</td>\n",
       "      <td>10.0</td>\n",
       "      <td>S</td>\n",
       "      <td>Cloudy</td>\n",
       "      <td>False</td>\n",
       "      <td>False</td>\n",
       "      <td>False</td>\n",
       "      <td>False</td>\n",
       "      <td>False</td>\n",
       "      <td>False</td>\n",
       "      <td>False</td>\n",
       "      <td>False</td>\n",
       "      <td>Night</td>\n",
       "      <td>2</td>\n",
       "    </tr>\n",
       "    <tr>\n",
       "      <th>62</th>\n",
       "      <td>0.153</td>\n",
       "      <td>large_local</td>\n",
       "      <td>79.0</td>\n",
       "      <td>69.0</td>\n",
       "      <td>29.57</td>\n",
       "      <td>7.0</td>\n",
       "      <td>SW</td>\n",
       "      <td>Fair</td>\n",
       "      <td>False</td>\n",
       "      <td>False</td>\n",
       "      <td>False</td>\n",
       "      <td>False</td>\n",
       "      <td>False</td>\n",
       "      <td>False</td>\n",
       "      <td>False</td>\n",
       "      <td>False</td>\n",
       "      <td>Day</td>\n",
       "      <td>4</td>\n",
       "    </tr>\n",
       "  </tbody>\n",
       "</table>\n",
       "</div>"
      ],
      "text/plain": [
       "    Distance(mi)       Street  Temperature(F)  Humidity(%)  Pressure(in)  \\\n",
       "0          0.000        local            30.0         55.0         30.66   \n",
       "2          0.000      Highway            95.0         44.0         29.89   \n",
       "3          0.254      Highway            71.6         88.0         30.05   \n",
       "4          0.000        local            17.6         49.0         30.26   \n",
       "5          0.078        local            79.0         33.0         30.12   \n",
       "8          0.159   Interstate            70.0         49.0         30.26   \n",
       "10         0.042        local            82.0         49.0         29.97   \n",
       "11         0.075      Highway            52.0         93.0         29.80   \n",
       "13         0.369  large_local            79.0         74.0         29.21   \n",
       "14         0.000      Highway            48.0         50.0         29.64   \n",
       "15         0.113        local            82.0         50.0         29.58   \n",
       "16         0.835  large_local            46.0         93.0         29.86   \n",
       "17         0.000   Interstate            88.0         40.0         30.10   \n",
       "19         0.002  large_local            70.0         84.0         29.96   \n",
       "21         0.000        local            51.0         68.0         30.29   \n",
       "22         0.063      Highway            36.0         81.0         29.75   \n",
       "23         0.105        local            62.0         45.0         30.29   \n",
       "25         0.000      Highway            59.0         44.0         29.07   \n",
       "26         0.000      Highway            48.2         32.0         30.12   \n",
       "27         0.637   Interstate            44.6         39.0         30.19   \n",
       "29         0.463  large_local            92.0         41.0         30.01   \n",
       "30         0.636        local            51.0         82.0         30.31   \n",
       "31         0.403      Highway            82.0         40.0         29.58   \n",
       "32         0.639   Interstate            80.1         74.0         30.15   \n",
       "33         0.000       Tunnel            86.0         33.0         29.65   \n",
       "34         1.686   Interstate            46.0         27.0         30.34   \n",
       "35         0.000      Beltway            30.0         30.0         30.22   \n",
       "36         0.000        local            78.1         44.0         29.83   \n",
       "37         1.500        local            48.2        100.0         29.98   \n",
       "39         0.000      Highway            52.0        100.0         30.47   \n",
       "41         0.050        local            37.0        100.0         29.83   \n",
       "43         0.581   Interstate            33.0         42.0         30.09   \n",
       "44         0.104        local            56.0         90.0         30.04   \n",
       "45         0.643      Highway            83.0         42.0         29.62   \n",
       "47         0.867      Beltway            29.0         71.0         29.66   \n",
       "48         0.000  large_local            75.0         33.0         29.54   \n",
       "49         0.089        local            78.0         43.0         29.38   \n",
       "50         0.276      Beltway            67.0         68.0         29.82   \n",
       "51         1.215   Interstate            65.0         73.0         28.90   \n",
       "52         0.960      Highway            62.0         90.0         29.97   \n",
       "53         0.000  large_local            72.5         93.0         30.02   \n",
       "54         0.747      Highway            58.0         90.0         29.33   \n",
       "55         0.000   Interstate            66.0         88.0         30.04   \n",
       "56         0.000  large_local            32.0        100.0         30.10   \n",
       "57         0.139   Interstate            30.0         69.0         29.95   \n",
       "58         0.043      Beltway            32.0         94.0         30.32   \n",
       "59         0.056   Interstate            31.8         85.0         30.23   \n",
       "60         0.818   Interstate            38.0         64.0         29.76   \n",
       "61         0.152   Interstate            76.0         82.0         29.88   \n",
       "62         0.153  large_local            79.0         69.0         29.57   \n",
       "\n",
       "    Visibility(mi) Wind_Direction Weather_Condition  Amenity  Crossing  \\\n",
       "0             10.0           Calm              Fair    False     False   \n",
       "2             10.0              W     Partly Cloudy    False      True   \n",
       "3             10.0           Calm             Clear    False     False   \n",
       "4             10.0           Calm             Clear    False     False   \n",
       "5             10.0              W              Fair    False     False   \n",
       "8              7.0           Calm              Fair    False     False   \n",
       "10            10.0             NW     Partly Cloudy    False      True   \n",
       "11             6.0             NW           Drizzle    False     False   \n",
       "13            10.0           Calm              Fair    False     False   \n",
       "14            10.0             NW              Fair    False     False   \n",
       "15            10.0             SW              Fair    False     False   \n",
       "16             7.0           Calm     Partly Cloudy    False     False   \n",
       "17            10.0             NW     Mostly Cloudy    False     False   \n",
       "19             8.0             NE           Drizzle    False     False   \n",
       "21            10.0           Calm     Mostly Cloudy    False     False   \n",
       "22            10.0             NW     Mostly Cloudy    False     False   \n",
       "23             8.0              S     Mostly Cloudy    False     False   \n",
       "25            10.0             NW              Fair    False     False   \n",
       "26             7.0              W     Mostly Cloudy    False     False   \n",
       "27            10.0              W     Mostly Cloudy    False     False   \n",
       "29            10.0             SE              Fair    False     False   \n",
       "30            10.0             NE            Cloudy    False     False   \n",
       "31            10.0              W              Fair    False     False   \n",
       "32             7.0             NE     Mostly Cloudy    False     False   \n",
       "33            10.0             SW            Cloudy    False     False   \n",
       "34            10.0              N              Fair    False     False   \n",
       "35            10.0             NW              Fair    False     False   \n",
       "36            10.0              S             Clear    False     False   \n",
       "37             2.5           Calm          Overcast    False     False   \n",
       "39            10.0           Calm              Fair    False     False   \n",
       "41            10.0             SW              Fair    False     False   \n",
       "43            10.0           Calm            Cloudy    False     False   \n",
       "44             4.0           Calm              Fair    False      True   \n",
       "45            10.0              S              Fair    False     False   \n",
       "47            10.0           Calm              Fair    False     False   \n",
       "48            10.0             NW              Fair    False      True   \n",
       "49            10.0             NE              Fair    False     False   \n",
       "50            10.0             NE              Fair    False     False   \n",
       "51            10.0              S              Fair    False     False   \n",
       "52            10.0             NE            Cloudy    False     False   \n",
       "53            10.0           Calm             Clear    False     False   \n",
       "54             6.0             NW            Cloudy    False     False   \n",
       "55            10.0              E     Mostly Cloudy    False     False   \n",
       "56             1.0           Calm            Cloudy    False     False   \n",
       "57             7.0           Calm            Cloudy    False     False   \n",
       "58             7.0           Calm            Cloudy    False     False   \n",
       "59            10.0           Calm          Overcast    False     False   \n",
       "60            10.0              N     Mostly Cloudy    False     False   \n",
       "61            10.0              S            Cloudy    False     False   \n",
       "62             7.0             SW              Fair    False     False   \n",
       "\n",
       "    Junction  Railway  Station   Stop  Traffic_Calming  Traffic_Signal  \\\n",
       "0      False    False    False  False            False           False   \n",
       "2      False    False    False  False            False           False   \n",
       "3      False    False    False  False            False           False   \n",
       "4      False    False    False  False            False           False   \n",
       "5      False    False    False  False            False           False   \n",
       "8      False    False    False  False            False           False   \n",
       "10     False    False    False  False            False            True   \n",
       "11     False    False    False  False            False           False   \n",
       "13     False    False    False  False            False            True   \n",
       "14      True    False    False  False            False           False   \n",
       "15     False    False    False  False            False           False   \n",
       "16     False    False    False  False            False           False   \n",
       "17     False    False    False  False            False           False   \n",
       "19     False    False    False  False            False           False   \n",
       "21     False    False    False  False            False           False   \n",
       "22     False    False    False  False            False           False   \n",
       "23     False    False    False  False            False           False   \n",
       "25     False    False    False  False            False           False   \n",
       "26     False    False    False  False            False           False   \n",
       "27     False    False    False  False            False           False   \n",
       "29     False    False    False  False            False           False   \n",
       "30     False    False    False  False            False           False   \n",
       "31     False    False    False  False            False           False   \n",
       "32     False    False    False  False            False           False   \n",
       "33     False    False    False  False            False           False   \n",
       "34     False    False    False  False            False           False   \n",
       "35     False    False    False  False            False           False   \n",
       "36     False    False    False  False            False           False   \n",
       "37     False    False    False  False            False           False   \n",
       "39     False    False    False  False            False           False   \n",
       "41     False    False    False  False            False           False   \n",
       "43     False    False    False  False            False           False   \n",
       "44     False    False    False  False            False           False   \n",
       "45     False    False    False  False            False           False   \n",
       "47     False    False    False  False            False           False   \n",
       "48     False    False    False  False            False            True   \n",
       "49     False    False    False  False            False           False   \n",
       "50     False    False    False  False            False           False   \n",
       "51     False    False    False  False            False           False   \n",
       "52     False    False    False  False            False           False   \n",
       "53      True    False    False  False            False           False   \n",
       "54     False    False    False  False            False           False   \n",
       "55     False    False    False  False            False           False   \n",
       "56     False    False    False  False            False           False   \n",
       "57     False    False    False  False            False           False   \n",
       "58     False    False    False  False            False           False   \n",
       "59     False    False    False  False            False           False   \n",
       "60     False    False    False  False            False           False   \n",
       "61     False    False    False  False            False           False   \n",
       "62     False    False    False  False            False           False   \n",
       "\n",
       "   Sunrise_Sunset  Severity  \n",
       "0           Night         2  \n",
       "2             Day         2  \n",
       "3             Day         2  \n",
       "4             Day         2  \n",
       "5             Day         2  \n",
       "8           Night         2  \n",
       "10            Day         2  \n",
       "11          Night         2  \n",
       "13            Day         3  \n",
       "14          Night         3  \n",
       "15            Day         2  \n",
       "16          Night         2  \n",
       "17            Day         3  \n",
       "19            Day         4  \n",
       "21          Night         2  \n",
       "22            Day         2  \n",
       "23            Day         4  \n",
       "25            Day         3  \n",
       "26            Day         2  \n",
       "27            Day         2  \n",
       "29            Day         2  \n",
       "30          Night         2  \n",
       "31            Day         2  \n",
       "32            Day         2  \n",
       "33            Day         2  \n",
       "34            Day         2  \n",
       "35            Day         3  \n",
       "36            Day         2  \n",
       "37            Day         2  \n",
       "39          Night         2  \n",
       "41            Day         2  \n",
       "43          Night         4  \n",
       "44          Night         2  \n",
       "45            Day         2  \n",
       "47          Night         2  \n",
       "48            Day         2  \n",
       "49            Day         2  \n",
       "50            Day         4  \n",
       "51            Day         2  \n",
       "52          Night         2  \n",
       "53            Day         3  \n",
       "54          Night         4  \n",
       "55          Night         2  \n",
       "56          Night         2  \n",
       "57          Night         2  \n",
       "58          Night         2  \n",
       "59            Day         2  \n",
       "60            Day         2  \n",
       "61          Night         2  \n",
       "62            Day         4  "
      ]
     },
     "execution_count": 60,
     "metadata": {},
     "output_type": "execute_result"
    }
   ],
   "source": [
    "df.head(50)"
   ]
  },
  {
   "cell_type": "code",
   "execution_count": 61,
   "id": "098518ed",
   "metadata": {},
   "outputs": [
    {
     "data": {
      "text/plain": [
       "Index(['Distance(mi)', 'Street', 'Temperature(F)', 'Humidity(%)',\n",
       "       'Pressure(in)', 'Visibility(mi)', 'Wind_Direction', 'Weather_Condition',\n",
       "       'Amenity', 'Crossing', 'Junction', 'Railway', 'Station', 'Stop',\n",
       "       'Traffic_Calming', 'Traffic_Signal', 'Sunrise_Sunset', 'Severity'],\n",
       "      dtype='object')"
      ]
     },
     "execution_count": 61,
     "metadata": {},
     "output_type": "execute_result"
    }
   ],
   "source": [
    "df.columns"
   ]
  },
  {
   "cell_type": "code",
   "execution_count": 62,
   "id": "6f6cd90c",
   "metadata": {},
   "outputs": [
    {
     "name": "stdout",
     "output_type": "stream",
     "text": [
      "(89028, 18)\n",
      "(81172, 18)\n"
     ]
    }
   ],
   "source": [
    "print(df.shape)\n",
    "df = df.drop_duplicates()\n",
    "print(df.shape)"
   ]
  },
  {
   "cell_type": "code",
   "execution_count": 63,
   "id": "5a6270e6",
   "metadata": {},
   "outputs": [
    {
     "data": {
      "application/vnd.microsoft.datawrangler.viewer.v0+json": {
       "columns": [
        {
         "name": "index",
         "rawType": "int64",
         "type": "integer"
        },
        {
         "name": "Distance(mi)",
         "rawType": "float64",
         "type": "float"
        },
        {
         "name": "Street",
         "rawType": "object",
         "type": "string"
        },
        {
         "name": "Temperature(F)",
         "rawType": "float64",
         "type": "float"
        },
        {
         "name": "Humidity(%)",
         "rawType": "float64",
         "type": "float"
        },
        {
         "name": "Pressure(in)",
         "rawType": "float64",
         "type": "float"
        },
        {
         "name": "Visibility(mi)",
         "rawType": "float64",
         "type": "float"
        },
        {
         "name": "Wind_Direction",
         "rawType": "object",
         "type": "string"
        },
        {
         "name": "Weather_Condition",
         "rawType": "object",
         "type": "string"
        },
        {
         "name": "Amenity",
         "rawType": "bool",
         "type": "boolean"
        },
        {
         "name": "Crossing",
         "rawType": "bool",
         "type": "boolean"
        },
        {
         "name": "Junction",
         "rawType": "bool",
         "type": "boolean"
        },
        {
         "name": "Railway",
         "rawType": "bool",
         "type": "boolean"
        },
        {
         "name": "Station",
         "rawType": "bool",
         "type": "boolean"
        },
        {
         "name": "Stop",
         "rawType": "bool",
         "type": "boolean"
        },
        {
         "name": "Traffic_Calming",
         "rawType": "bool",
         "type": "boolean"
        },
        {
         "name": "Traffic_Signal",
         "rawType": "bool",
         "type": "boolean"
        },
        {
         "name": "Sunrise_Sunset",
         "rawType": "object",
         "type": "string"
        },
        {
         "name": "Severity",
         "rawType": "int64",
         "type": "integer"
        }
       ],
       "ref": "21f4abe2-2694-4151-a5d4-94db4664c779",
       "rows": [
        [
         "0",
         "0.0",
         "local",
         "30.0",
         "55.0",
         "30.66",
         "10.0",
         "Calm",
         "Fair",
         "False",
         "False",
         "False",
         "False",
         "False",
         "False",
         "False",
         "False",
         "Night",
         "2"
        ],
        [
         "2",
         "0.0",
         "Highway",
         "95.0",
         "44.0",
         "29.89",
         "10.0",
         "W",
         "Partly Cloudy",
         "False",
         "True",
         "False",
         "False",
         "False",
         "False",
         "False",
         "False",
         "Day",
         "2"
        ],
        [
         "3",
         "0.254",
         "Highway",
         "71.6",
         "88.0",
         "30.05",
         "10.0",
         "Calm",
         "Clear",
         "False",
         "False",
         "False",
         "False",
         "False",
         "False",
         "False",
         "False",
         "Day",
         "2"
        ],
        [
         "4",
         "0.0",
         "local",
         "17.6",
         "49.0",
         "30.26",
         "10.0",
         "Calm",
         "Clear",
         "False",
         "False",
         "False",
         "False",
         "False",
         "False",
         "False",
         "False",
         "Day",
         "2"
        ],
        [
         "5",
         "0.078",
         "local",
         "79.0",
         "33.0",
         "30.12",
         "10.0",
         "W",
         "Fair",
         "False",
         "False",
         "False",
         "False",
         "False",
         "False",
         "False",
         "False",
         "Day",
         "2"
        ]
       ],
       "shape": {
        "columns": 18,
        "rows": 5
       }
      },
      "text/html": [
       "<div>\n",
       "<style scoped>\n",
       "    .dataframe tbody tr th:only-of-type {\n",
       "        vertical-align: middle;\n",
       "    }\n",
       "\n",
       "    .dataframe tbody tr th {\n",
       "        vertical-align: top;\n",
       "    }\n",
       "\n",
       "    .dataframe thead th {\n",
       "        text-align: right;\n",
       "    }\n",
       "</style>\n",
       "<table border=\"1\" class=\"dataframe\">\n",
       "  <thead>\n",
       "    <tr style=\"text-align: right;\">\n",
       "      <th></th>\n",
       "      <th>Distance(mi)</th>\n",
       "      <th>Street</th>\n",
       "      <th>Temperature(F)</th>\n",
       "      <th>Humidity(%)</th>\n",
       "      <th>Pressure(in)</th>\n",
       "      <th>Visibility(mi)</th>\n",
       "      <th>Wind_Direction</th>\n",
       "      <th>Weather_Condition</th>\n",
       "      <th>Amenity</th>\n",
       "      <th>Crossing</th>\n",
       "      <th>Junction</th>\n",
       "      <th>Railway</th>\n",
       "      <th>Station</th>\n",
       "      <th>Stop</th>\n",
       "      <th>Traffic_Calming</th>\n",
       "      <th>Traffic_Signal</th>\n",
       "      <th>Sunrise_Sunset</th>\n",
       "      <th>Severity</th>\n",
       "    </tr>\n",
       "  </thead>\n",
       "  <tbody>\n",
       "    <tr>\n",
       "      <th>0</th>\n",
       "      <td>0.000</td>\n",
       "      <td>local</td>\n",
       "      <td>30.0</td>\n",
       "      <td>55.0</td>\n",
       "      <td>30.66</td>\n",
       "      <td>10.0</td>\n",
       "      <td>Calm</td>\n",
       "      <td>Fair</td>\n",
       "      <td>False</td>\n",
       "      <td>False</td>\n",
       "      <td>False</td>\n",
       "      <td>False</td>\n",
       "      <td>False</td>\n",
       "      <td>False</td>\n",
       "      <td>False</td>\n",
       "      <td>False</td>\n",
       "      <td>Night</td>\n",
       "      <td>2</td>\n",
       "    </tr>\n",
       "    <tr>\n",
       "      <th>2</th>\n",
       "      <td>0.000</td>\n",
       "      <td>Highway</td>\n",
       "      <td>95.0</td>\n",
       "      <td>44.0</td>\n",
       "      <td>29.89</td>\n",
       "      <td>10.0</td>\n",
       "      <td>W</td>\n",
       "      <td>Partly Cloudy</td>\n",
       "      <td>False</td>\n",
       "      <td>True</td>\n",
       "      <td>False</td>\n",
       "      <td>False</td>\n",
       "      <td>False</td>\n",
       "      <td>False</td>\n",
       "      <td>False</td>\n",
       "      <td>False</td>\n",
       "      <td>Day</td>\n",
       "      <td>2</td>\n",
       "    </tr>\n",
       "    <tr>\n",
       "      <th>3</th>\n",
       "      <td>0.254</td>\n",
       "      <td>Highway</td>\n",
       "      <td>71.6</td>\n",
       "      <td>88.0</td>\n",
       "      <td>30.05</td>\n",
       "      <td>10.0</td>\n",
       "      <td>Calm</td>\n",
       "      <td>Clear</td>\n",
       "      <td>False</td>\n",
       "      <td>False</td>\n",
       "      <td>False</td>\n",
       "      <td>False</td>\n",
       "      <td>False</td>\n",
       "      <td>False</td>\n",
       "      <td>False</td>\n",
       "      <td>False</td>\n",
       "      <td>Day</td>\n",
       "      <td>2</td>\n",
       "    </tr>\n",
       "    <tr>\n",
       "      <th>4</th>\n",
       "      <td>0.000</td>\n",
       "      <td>local</td>\n",
       "      <td>17.6</td>\n",
       "      <td>49.0</td>\n",
       "      <td>30.26</td>\n",
       "      <td>10.0</td>\n",
       "      <td>Calm</td>\n",
       "      <td>Clear</td>\n",
       "      <td>False</td>\n",
       "      <td>False</td>\n",
       "      <td>False</td>\n",
       "      <td>False</td>\n",
       "      <td>False</td>\n",
       "      <td>False</td>\n",
       "      <td>False</td>\n",
       "      <td>False</td>\n",
       "      <td>Day</td>\n",
       "      <td>2</td>\n",
       "    </tr>\n",
       "    <tr>\n",
       "      <th>5</th>\n",
       "      <td>0.078</td>\n",
       "      <td>local</td>\n",
       "      <td>79.0</td>\n",
       "      <td>33.0</td>\n",
       "      <td>30.12</td>\n",
       "      <td>10.0</td>\n",
       "      <td>W</td>\n",
       "      <td>Fair</td>\n",
       "      <td>False</td>\n",
       "      <td>False</td>\n",
       "      <td>False</td>\n",
       "      <td>False</td>\n",
       "      <td>False</td>\n",
       "      <td>False</td>\n",
       "      <td>False</td>\n",
       "      <td>False</td>\n",
       "      <td>Day</td>\n",
       "      <td>2</td>\n",
       "    </tr>\n",
       "  </tbody>\n",
       "</table>\n",
       "</div>"
      ],
      "text/plain": [
       "   Distance(mi)   Street  Temperature(F)  Humidity(%)  Pressure(in)  \\\n",
       "0         0.000    local            30.0         55.0         30.66   \n",
       "2         0.000  Highway            95.0         44.0         29.89   \n",
       "3         0.254  Highway            71.6         88.0         30.05   \n",
       "4         0.000    local            17.6         49.0         30.26   \n",
       "5         0.078    local            79.0         33.0         30.12   \n",
       "\n",
       "   Visibility(mi) Wind_Direction Weather_Condition  Amenity  Crossing  \\\n",
       "0            10.0           Calm              Fair    False     False   \n",
       "2            10.0              W     Partly Cloudy    False      True   \n",
       "3            10.0           Calm             Clear    False     False   \n",
       "4            10.0           Calm             Clear    False     False   \n",
       "5            10.0              W              Fair    False     False   \n",
       "\n",
       "   Junction  Railway  Station   Stop  Traffic_Calming  Traffic_Signal  \\\n",
       "0     False    False    False  False            False           False   \n",
       "2     False    False    False  False            False           False   \n",
       "3     False    False    False  False            False           False   \n",
       "4     False    False    False  False            False           False   \n",
       "5     False    False    False  False            False           False   \n",
       "\n",
       "  Sunrise_Sunset  Severity  \n",
       "0          Night         2  \n",
       "2            Day         2  \n",
       "3            Day         2  \n",
       "4            Day         2  \n",
       "5            Day         2  "
      ]
     },
     "execution_count": 63,
     "metadata": {},
     "output_type": "execute_result"
    }
   ],
   "source": [
    "df.head()"
   ]
  },
  {
   "cell_type": "code",
   "execution_count": 64,
   "id": "5d5b489f",
   "metadata": {},
   "outputs": [
    {
     "data": {
      "text/plain": [
       "Index(['Distance(mi)', 'Street', 'Temperature(F)', 'Humidity(%)',\n",
       "       'Pressure(in)', 'Visibility(mi)', 'Wind_Direction', 'Weather_Condition',\n",
       "       'Amenity', 'Crossing', 'Junction', 'Railway', 'Station', 'Stop',\n",
       "       'Traffic_Calming', 'Traffic_Signal', 'Sunrise_Sunset', 'Severity'],\n",
       "      dtype='object')"
      ]
     },
     "execution_count": 64,
     "metadata": {},
     "output_type": "execute_result"
    }
   ],
   "source": [
    "df.columns"
   ]
  },
  {
   "cell_type": "code",
   "execution_count": 65,
   "id": "439a279b",
   "metadata": {},
   "outputs": [],
   "source": [
    "# Train data needs Data_Cleaned, train_data, X_train_control, y_train_control\n",
    "# Test data needs Data_Cleaned, test_data, X_test_control, y_test_control\n",
    "def data_output(df, folder1, folder2, file_x, file_y):\n",
    "    col_class = ['Class']\n",
    "    col_data = ['Distance(mi)', 'Street', 'Temperature(F)', 'Humidity(%)',\n",
    "                'Pressure(in)', 'Visibility(mi)', 'Wind_Direction', 'Weather_Condition',\n",
    "                'Amenity', 'Crossing', 'Junction', 'Railway', 'Station', 'Stop',\n",
    "                'Traffic_Calming', 'Traffic_Signal', 'Sunrise_Sunset']\n",
    "\n",
    "    df = df.rename(columns={'Severity' : 'Class'})\n",
    "    df = df.drop_duplicates()\n",
    "\n",
    "    X = df.iloc[:,:-1]\n",
    "    y = df.Class\n",
    "\n",
    "    X.to_csv(f'../Accident_Data_Preprocessing/{folder1}/{folder2}/{file_x}.csv', columns = col_data, index = False)\n",
    "    y.to_csv(f'../Accident_Data_Preprocessing/{folder1}/{folder2}/{file_y}.csv', columns = col_class, index = False)"
   ]
  },
  {
   "cell_type": "code",
   "execution_count": 66,
   "id": "f7e26127",
   "metadata": {},
   "outputs": [],
   "source": [
    "# TRAIN OUTPUT\n",
    "data_output(df, \"Data_Cleaned\", \"train_data\", \"X_train_control\", \"y_train_control\")"
   ]
  },
  {
   "cell_type": "code",
   "execution_count": 67,
   "id": "cd1bb108",
   "metadata": {},
   "outputs": [],
   "source": [
    "# TEST OUTPUT\n",
    "#data_output(df, \"Data_Cleaned\", \"test_data\", \"X_test_control\", \"y_test_control\")"
   ]
  }
 ],
 "metadata": {
  "kernelspec": {
   "display_name": "base",
   "language": "python",
   "name": "python3"
  },
  "language_info": {
   "codemirror_mode": {
    "name": "ipython",
    "version": 3
   },
   "file_extension": ".py",
   "mimetype": "text/x-python",
   "name": "python",
   "nbconvert_exporter": "python",
   "pygments_lexer": "ipython3",
   "version": "3.13.4"
  }
 },
 "nbformat": 4,
 "nbformat_minor": 5
}
