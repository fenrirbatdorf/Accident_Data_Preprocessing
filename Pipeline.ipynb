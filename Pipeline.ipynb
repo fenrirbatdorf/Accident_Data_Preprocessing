{
 "cells": [
  {
   "cell_type": "code",
   "execution_count": 2,
   "id": "a8b2a4a3",
   "metadata": {},
   "outputs": [],
   "source": [
    "from sklearn.pipeline import Pipeline\n",
    "from sklearn.model_selection import train_test_split, StratifiedKFold, cross_val_score\n",
    "from sklearn.preprocessing import StandardScaler\n",
    "from sklearn.decomposition import PCA\n",
    "from sklearn.pipeline import make_pipeline\n",
    "import numpy as np\n"
   ]
  },
  {
   "cell_type": "code",
   "execution_count": null,
   "id": "70412304",
   "metadata": {},
   "outputs": [],
   "source": [
    "# From dr olsen lecture: copy/paste\n",
    "param_grid = {'C': [0.0001, 0.001, 1, 10], 'kernel': ['linear']} # dict clarifying param list, C and kernal are keys,\n",
    "# values are values of hyperparams\n",
    "\n",
    "gs_simple = GridSearchCV(estimator = SVC(),\n",
    "                         param_grid = param_grid,\n",
    "                         scoring = 'accuracy',\n",
    "                         refit = True,\n",
    "                         cv = 10)\n",
    "\n",
    "gs_simple = gs_simple.fit(X_train, y_train)\n",
    "print(gs_simple.best_scores_)\n",
    "print(gs_simple.best_params_)\n"
   ]
  },
  {
   "cell_type": "code",
   "execution_count": null,
   "id": "07804af6",
   "metadata": {},
   "outputs": [],
   "source": [
    "pipe_svc = Pipeline([('mms', MinMaxScaler()),\n",
    "                     ('pca', PCA(n_components = 0.95)),\n",
    "                     ('svc', SVC())])\n",
    "\n",
    "param_grid = [{'svc__C': param_range,\n",
    "               'svc__kernel': ['linear']},\n",
    "              {'svc__C': param_range,\n",
    "               'svc__gamma': param_range,\n",
    "               'svc__kernel': ['rbf']}]\n",
    "\n",
    "rs = RandomizedSearchCV(estimator = pipe_svc,\n",
    "                        param_distributions = param_grid,\n",
    "                        scoring = 'accuracy',\n",
    "                        refit = True,\n",
    "                        n_iter = 20,\n",
    "                        cv = 10,\n",
    "                        verbose = 1)"
   ]
  },
  {
   "cell_type": "code",
   "execution_count": 7,
   "id": "a3d2baf8",
   "metadata": {},
   "outputs": [
    {
     "name": "stderr",
     "output_type": "stream",
     "text": [
      "C:\\Users\\bkb3\\AppData\\Local\\Temp\\ipykernel_12788\\3038868885.py:3: DtypeWarning: Columns (0,1,3,4,5,6,7,8,9,10,11,12,13,14,15,16,18,19,20,21,22) have mixed types. Specify dtype option on import or set low_memory=False.\n",
      "  df = pd.read_csv('C:\\\\Users\\\\bkb3\\\\Accident_Data_Preprocessing\\\\Data_Cleaned\\\\feat_eng_datasets_unbin\\\\Feat_Eng_Unmerge\\\\feat_eng.csv', header = None)\n"
     ]
    }
   ],
   "source": [
    "# From pipeline textbook chapter, adapted for full accident control data\n",
    "import pandas as pd\n",
    "df = pd.read_csv('C:\\\\Users\\\\bkb3\\\\Accident_Data_Preprocessing\\\\Data_Cleaned\\\\feat_eng_datasets_unbin\\\\Feat_Eng_Unmerge\\\\feat_eng.csv', header = None)\n"
   ]
  },
  {
   "cell_type": "code",
   "execution_count": 8,
   "id": "736f49b4",
   "metadata": {},
   "outputs": [
    {
     "ename": "TypeError",
     "evalue": "Encoders require their input argument must be uniformly strings or numbers. Got ['int', 'str']",
     "output_type": "error",
     "traceback": [
      "\u001b[31m---------------------------------------------------------------------------\u001b[39m",
      "\u001b[31mTypeError\u001b[39m                                 Traceback (most recent call last)",
      "\u001b[36mFile \u001b[39m\u001b[32mc:\\Users\\bkb3\\AppData\\Local\\miniconda3\\Lib\\site-packages\\sklearn\\utils\\_encode.py:183\u001b[39m, in \u001b[36m_unique_python\u001b[39m\u001b[34m(values, return_inverse, return_counts)\u001b[39m\n\u001b[32m    181\u001b[39m uniques_set, missing_values = _extract_missing(uniques_set)\n\u001b[32m--> \u001b[39m\u001b[32m183\u001b[39m uniques = \u001b[38;5;28;43msorted\u001b[39;49m\u001b[43m(\u001b[49m\u001b[43muniques_set\u001b[49m\u001b[43m)\u001b[49m\n\u001b[32m    184\u001b[39m uniques.extend(missing_values.to_list())\n",
      "\u001b[31mTypeError\u001b[39m: '<' not supported between instances of 'str' and 'int'",
      "\nDuring handling of the above exception, another exception occurred:\n",
      "\u001b[31mTypeError\u001b[39m                                 Traceback (most recent call last)",
      "\u001b[36mCell\u001b[39m\u001b[36m \u001b[39m\u001b[32mIn[8]\u001b[39m\u001b[32m, line 5\u001b[39m\n\u001b[32m      3\u001b[39m y = df.loc[:, \u001b[32m0\u001b[39m].values\n\u001b[32m      4\u001b[39m le = LabelEncoder()\n\u001b[32m----> \u001b[39m\u001b[32m5\u001b[39m y = \u001b[43mle\u001b[49m\u001b[43m.\u001b[49m\u001b[43mfit_transform\u001b[49m\u001b[43m(\u001b[49m\u001b[43my\u001b[49m\u001b[43m)\u001b[49m\n\u001b[32m      6\u001b[39m le.classes_\n",
      "\u001b[36mFile \u001b[39m\u001b[32mc:\\Users\\bkb3\\AppData\\Local\\miniconda3\\Lib\\site-packages\\sklearn\\preprocessing\\_label.py:111\u001b[39m, in \u001b[36mLabelEncoder.fit_transform\u001b[39m\u001b[34m(self, y)\u001b[39m\n\u001b[32m     98\u001b[39m \u001b[38;5;250m\u001b[39m\u001b[33;03m\"\"\"Fit label encoder and return encoded labels.\u001b[39;00m\n\u001b[32m     99\u001b[39m \n\u001b[32m    100\u001b[39m \u001b[33;03mParameters\u001b[39;00m\n\u001b[32m   (...)\u001b[39m\u001b[32m    108\u001b[39m \u001b[33;03m    Encoded labels.\u001b[39;00m\n\u001b[32m    109\u001b[39m \u001b[33;03m\"\"\"\u001b[39;00m\n\u001b[32m    110\u001b[39m y = column_or_1d(y, warn=\u001b[38;5;28;01mTrue\u001b[39;00m)\n\u001b[32m--> \u001b[39m\u001b[32m111\u001b[39m \u001b[38;5;28mself\u001b[39m.classes_, y = \u001b[43m_unique\u001b[49m\u001b[43m(\u001b[49m\u001b[43my\u001b[49m\u001b[43m,\u001b[49m\u001b[43m \u001b[49m\u001b[43mreturn_inverse\u001b[49m\u001b[43m=\u001b[49m\u001b[38;5;28;43;01mTrue\u001b[39;49;00m\u001b[43m)\u001b[49m\n\u001b[32m    112\u001b[39m \u001b[38;5;28;01mreturn\u001b[39;00m y\n",
      "\u001b[36mFile \u001b[39m\u001b[32mc:\\Users\\bkb3\\AppData\\Local\\miniconda3\\Lib\\site-packages\\sklearn\\utils\\_encode.py:52\u001b[39m, in \u001b[36m_unique\u001b[39m\u001b[34m(values, return_inverse, return_counts)\u001b[39m\n\u001b[32m     21\u001b[39m \u001b[38;5;250m\u001b[39m\u001b[33;03m\"\"\"Helper function to find unique values with support for python objects.\u001b[39;00m\n\u001b[32m     22\u001b[39m \n\u001b[32m     23\u001b[39m \u001b[33;03mUses pure python method for object dtype, and numpy method for\u001b[39;00m\n\u001b[32m   (...)\u001b[39m\u001b[32m     49\u001b[39m \u001b[33;03m    array. Only provided if `return_counts` is True.\u001b[39;00m\n\u001b[32m     50\u001b[39m \u001b[33;03m\"\"\"\u001b[39;00m\n\u001b[32m     51\u001b[39m \u001b[38;5;28;01mif\u001b[39;00m values.dtype == \u001b[38;5;28mobject\u001b[39m:\n\u001b[32m---> \u001b[39m\u001b[32m52\u001b[39m     \u001b[38;5;28;01mreturn\u001b[39;00m \u001b[43m_unique_python\u001b[49m\u001b[43m(\u001b[49m\n\u001b[32m     53\u001b[39m \u001b[43m        \u001b[49m\u001b[43mvalues\u001b[49m\u001b[43m,\u001b[49m\u001b[43m \u001b[49m\u001b[43mreturn_inverse\u001b[49m\u001b[43m=\u001b[49m\u001b[43mreturn_inverse\u001b[49m\u001b[43m,\u001b[49m\u001b[43m \u001b[49m\u001b[43mreturn_counts\u001b[49m\u001b[43m=\u001b[49m\u001b[43mreturn_counts\u001b[49m\n\u001b[32m     54\u001b[39m \u001b[43m    \u001b[49m\u001b[43m)\u001b[49m\n\u001b[32m     55\u001b[39m \u001b[38;5;66;03m# numerical\u001b[39;00m\n\u001b[32m     56\u001b[39m \u001b[38;5;28;01mreturn\u001b[39;00m _unique_np(\n\u001b[32m     57\u001b[39m     values, return_inverse=return_inverse, return_counts=return_counts\n\u001b[32m     58\u001b[39m )\n",
      "\u001b[36mFile \u001b[39m\u001b[32mc:\\Users\\bkb3\\AppData\\Local\\miniconda3\\Lib\\site-packages\\sklearn\\utils\\_encode.py:188\u001b[39m, in \u001b[36m_unique_python\u001b[39m\u001b[34m(values, return_inverse, return_counts)\u001b[39m\n\u001b[32m    186\u001b[39m \u001b[38;5;28;01mexcept\u001b[39;00m \u001b[38;5;167;01mTypeError\u001b[39;00m:\n\u001b[32m    187\u001b[39m     types = \u001b[38;5;28msorted\u001b[39m(t.\u001b[34m__qualname__\u001b[39m \u001b[38;5;28;01mfor\u001b[39;00m t \u001b[38;5;129;01min\u001b[39;00m \u001b[38;5;28mset\u001b[39m(\u001b[38;5;28mtype\u001b[39m(v) \u001b[38;5;28;01mfor\u001b[39;00m v \u001b[38;5;129;01min\u001b[39;00m values))\n\u001b[32m--> \u001b[39m\u001b[32m188\u001b[39m     \u001b[38;5;28;01mraise\u001b[39;00m \u001b[38;5;167;01mTypeError\u001b[39;00m(\n\u001b[32m    189\u001b[39m         \u001b[33m\"\u001b[39m\u001b[33mEncoders require their input argument must be uniformly \u001b[39m\u001b[33m\"\u001b[39m\n\u001b[32m    190\u001b[39m         \u001b[33mf\u001b[39m\u001b[33m\"\u001b[39m\u001b[33mstrings or numbers. Got \u001b[39m\u001b[38;5;132;01m{\u001b[39;00mtypes\u001b[38;5;132;01m}\u001b[39;00m\u001b[33m\"\u001b[39m\n\u001b[32m    191\u001b[39m     )\n\u001b[32m    192\u001b[39m ret = (uniques,)\n\u001b[32m    194\u001b[39m \u001b[38;5;28;01mif\u001b[39;00m return_inverse:\n",
      "\u001b[31mTypeError\u001b[39m: Encoders require their input argument must be uniformly strings or numbers. Got ['int', 'str']"
     ]
    }
   ],
   "source": [
    "from sklearn.preprocessing import LabelEncoder\n",
    "X = df.loc[:, 1:].values\n",
    "y = df.loc[:, 0].values\n",
    "le = LabelEncoder()\n",
    "y = le.fit_transform(y)\n",
    "le.classes_"
   ]
  }
 ],
 "metadata": {
  "kernelspec": {
   "display_name": "base",
   "language": "python",
   "name": "python3"
  },
  "language_info": {
   "codemirror_mode": {
    "name": "ipython",
    "version": 3
   },
   "file_extension": ".py",
   "mimetype": "text/x-python",
   "name": "python",
   "nbconvert_exporter": "python",
   "pygments_lexer": "ipython3",
   "version": "3.13.4"
  }
 },
 "nbformat": 4,
 "nbformat_minor": 5
}
