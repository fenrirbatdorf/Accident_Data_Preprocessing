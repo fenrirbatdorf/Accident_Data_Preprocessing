{
 "cells": [
  {
   "cell_type": "code",
   "execution_count": null,
   "id": "70412304",
   "metadata": {},
   "outputs": [],
   "source": [
    "# From dr olsen lecture: copy/paste\n",
    "param_grid = {'C': [0.0001, 0.001, 1, 10], 'kernel': ['linear']} # dict clarifying param list, C and kernal are keys,\n",
    "# values are values of hyperparams\n",
    "\n",
    "gs_simple = GridSearchCV(estimator = SVC(),\n",
    "                         param_grid = param_grid,\n",
    "                         scoring = 'accuracy',\n",
    "                         refit = True,\n",
    "                         cv = 10)\n",
    "\n",
    "gs_simple = gs_simple.fit(X_train, y_train)\n",
    "print(gs_simple.best_scores_)\n",
    "print(gs_simple.best_params_)\n"
   ]
  },
  {
   "cell_type": "code",
   "execution_count": null,
   "id": "07804af6",
   "metadata": {},
   "outputs": [],
   "source": [
    "pipe_svc = Pipeline([('mms', MinMaxScaler()),\n",
    "                     ('pca', PCA(n_components = 0.95)),\n",
    "                     ('svc', SVC())])\n",
    "\n",
    "param_grid = [{'svc__C': param_range,\n",
    "               'svc__kernel': ['linear']},\n",
    "              {'svc__C': param_range,\n",
    "               'svc__gamma': param_range,\n",
    "               'svc__kernel': ['rbf']}]\n",
    "\n",
    "rs = RandomizedSearchCV(estimator = pipe_svc,\n",
    "                        param_distributions = param_grid,\n",
    "                        scoring = 'accuracy',\n",
    "                        refit = True,\n",
    "                        n_iter = 20,\n",
    "                        cv = 10,\n",
    "                        verbose = 1)"
   ]
  },
  {
   "cell_type": "code",
   "execution_count": 2,
   "id": "a3d2baf8",
   "metadata": {},
   "outputs": [],
   "source": [
    "# From pipeline textbook chapter, adapted for full accident control data\n",
    "import pandas as pd\n",
    "df = pd.read_csv('C:\\\\Users\\\\bkb3\\\\Accident_Data_Preprocessing\\\\Data_Cleaned\\\\feat_eng_datasets_unbin\\\\Feat_Eng_Unmerge\\\\feat_eng_ohe.csv', low_memory=False)\n"
   ]
  },
  {
   "cell_type": "code",
   "execution_count": 4,
   "id": "736f49b4",
   "metadata": {},
   "outputs": [
    {
     "data": {
      "text/plain": [
       "array([1, 2, 3, 4])"
      ]
     },
     "execution_count": 4,
     "metadata": {},
     "output_type": "execute_result"
    }
   ],
   "source": [
    "from sklearn.preprocessing import LabelEncoder\n",
    "X = df.iloc[:, 1:].values\n",
    "y = df.iloc[:, 0].values\n",
    "le = LabelEncoder()\n",
    "y = le.fit_transform(y)\n",
    "le.classes_"
   ]
  },
  {
   "cell_type": "code",
   "execution_count": 5,
   "id": "4c899f21",
   "metadata": {},
   "outputs": [],
   "source": [
    "from sklearn.model_selection import train_test_split\n",
    "X_train, X_test, y_train, y_test = train_test_split(X, y,\n",
    "                                                    test_size = 0.20,\n",
    "                                                    stratify = y,\n",
    "                                                    random_state = 1)"
   ]
  },
  {
   "cell_type": "code",
   "execution_count": 6,
   "id": "abaff7c7",
   "metadata": {},
   "outputs": [
    {
     "name": "stdout",
     "output_type": "stream",
     "text": [
      "Test Accuracy: 0.786\n"
     ]
    }
   ],
   "source": [
    "from sklearn.preprocessing import StandardScaler\n",
    "from sklearn.decomposition import PCA\n",
    "from sklearn.linear_model import LogisticRegression\n",
    "from sklearn.pipeline import make_pipeline\n",
    "pipe_lr = make_pipeline(StandardScaler(),\n",
    "                        PCA(n_components = 2),\n",
    "                        LogisticRegression())\n",
    "\n",
    "pipe_lr.fit(X_train, y_train)\n",
    "y_pred = pipe_lr.predict(X_test)\n",
    "test_acc = pipe_lr.score(X_test, y_test)\n",
    "print(f\"Test Accuracy: {test_acc:.3f}\")"
   ]
  }
 ],
 "metadata": {
  "kernelspec": {
   "display_name": "base",
   "language": "python",
   "name": "python3"
  },
  "language_info": {
   "codemirror_mode": {
    "name": "ipython",
    "version": 3
   },
   "file_extension": ".py",
   "mimetype": "text/x-python",
   "name": "python",
   "nbconvert_exporter": "python",
   "pygments_lexer": "ipython3",
   "version": "3.13.4"
  }
 },
 "nbformat": 4,
 "nbformat_minor": 5
}
