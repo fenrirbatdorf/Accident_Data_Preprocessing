{
 "cells": [
  {
   "cell_type": "markdown",
   "id": "8a0af2fc-fc93-4f5e-8773-fd2cf0783682",
   "metadata": {},
   "source": [
    "Creating another variation on the initial data"
   ]
  },
  {
   "cell_type": "code",
   "execution_count": 1,
   "id": "1c264cdf-75b0-41d1-b70e-0619dae705a8",
   "metadata": {},
   "outputs": [],
   "source": [
    "import pandas as pd\n",
    "import matplotlib.pyplot as plt\n",
    "import numpy as np"
   ]
  },
  {
   "cell_type": "code",
   "execution_count": 2,
   "id": "82b7ccb2-ccbc-4a4d-8f27-3f697904e436",
   "metadata": {},
   "outputs": [],
   "source": [
    "df = pd.read_csv(\"C:\\\\Users\\\\bkb3\\\\Accident_Data_Preprocessing\\\\Data_Raw\\\\mdtraffic.csv\")"
   ]
  },
  {
   "cell_type": "markdown",
   "id": "477f312b-4a81-4b30-a4ca-d5d077249036",
   "metadata": {},
   "source": [
    "## Drop columns unlikely to be useful\n",
    "\n",
    "Too focused on timing or too fine grained or unique"
   ]
  },
  {
   "cell_type": "code",
   "execution_count": 3,
   "id": "f66cbf70-dd6d-40a0-ac9b-6cae069ac21f",
   "metadata": {},
   "outputs": [
    {
     "data": {
      "text/plain": [
       "Index(['ID', 'Source', 'Severity', 'Start_Time', 'End_Time', 'Start_Lat',\n",
       "       'Start_Lng', 'End_Lat', 'End_Lng', 'Distance(mi)', 'Description',\n",
       "       'Street', 'City', 'County', 'State', 'Zipcode', 'Country', 'Timezone',\n",
       "       'Airport_Code', 'Weather_Timestamp', 'Temperature(F)', 'Wind_Chill(F)',\n",
       "       'Humidity(%)', 'Pressure(in)', 'Visibility(mi)', 'Wind_Direction',\n",
       "       'Wind_Speed(mph)', 'Precipitation(in)', 'Weather_Condition', 'Amenity',\n",
       "       'Bump', 'Crossing', 'Give_Way', 'Junction', 'No_Exit', 'Railway',\n",
       "       'Roundabout', 'Station', 'Stop', 'Traffic_Calming', 'Traffic_Signal',\n",
       "       'Turning_Loop', 'Sunrise_Sunset', 'Civil_Twilight', 'Nautical_Twilight',\n",
       "       'Astronomical_Twilight'],\n",
       "      dtype='object')"
      ]
     },
     "execution_count": 3,
     "metadata": {},
     "output_type": "execute_result"
    }
   ],
   "source": [
    "df.columns"
   ]
  },
  {
   "cell_type": "code",
   "execution_count": 4,
   "id": "a263d575-ba6d-4062-a883-77e2f1351f7f",
   "metadata": {},
   "outputs": [],
   "source": [
    "df.drop([\"ID\",\"Source\",\"Country\"],axis=1,inplace=True) # drop clearly unneeded columns"
   ]
  },
  {
   "cell_type": "code",
   "execution_count": 5,
   "id": "253123f7-3f79-4f37-8dbc-c68ac5a6cc4a",
   "metadata": {},
   "outputs": [],
   "source": [
    "df[\"Zipcode\"] = df.Zipcode.apply(lambda x: str(x).split(\"-\")[0]) # fix zipcodes so that they are all 5 digit"
   ]
  },
  {
   "cell_type": "code",
   "execution_count": 6,
   "id": "5676dde1-0dd8-42c7-ae2d-bba739b5261d",
   "metadata": {},
   "outputs": [],
   "source": [
    "df.drop([\"End_Time\",\"End_Lat\",\"End_Lng\"],axis=1,inplace=True) #can't know these things before it happens"
   ]
  },
  {
   "cell_type": "code",
   "execution_count": 7,
   "id": "f8490d26-3d72-4b4c-b7ec-f2241d14a849",
   "metadata": {},
   "outputs": [],
   "source": [
    "df.drop([\"Start_Lat\",\"Start_Lng\",\"State\",\"City\"],axis=1,inplace=True)# so much of location data is redundant and correlated"
   ]
  },
  {
   "cell_type": "code",
   "execution_count": 8,
   "id": "3997a3e0-f97e-48ae-b765-665dbeaabdcc",
   "metadata": {},
   "outputs": [],
   "source": [
    "df.drop([\"Timezone\",\"Weather_Timestamp\",\"Airport_Code\",\"Description\"],axis=1,inplace=True)"
   ]
  },
  {
   "cell_type": "code",
   "execution_count": 9,
   "id": "c1a48f8c-760e-42c7-a4e2-e2e27b3c1bed",
   "metadata": {},
   "outputs": [],
   "source": [
    "df.drop([\"Start_Time\",\"Zipcode\",\"County\"],axis=1,inplace=True)"
   ]
  },
  {
   "cell_type": "markdown",
   "id": "8834d156-764b-4af3-ad63-9f5640f80bdf",
   "metadata": {},
   "source": [
    "## Street Type"
   ]
  },
  {
   "cell_type": "code",
   "execution_count": 10,
   "id": "c9f523ac-61ee-4b5e-9601-51f58ec11f75",
   "metadata": {},
   "outputs": [],
   "source": [
    "df = df[~df.Street.str.contains(\"Francis Scott Key Bridge\",na=False)]"
   ]
  },
  {
   "cell_type": "code",
   "execution_count": 11,
   "id": "ff3fe748-a1d9-4fd2-9bc1-308cd3cd550e",
   "metadata": {},
   "outputs": [
    {
     "name": "stdout",
     "output_type": "stream",
     "text": [
      "(7620,)\n"
     ]
    },
    {
     "data": {
      "text/plain": [
       "Street\n",
       "I-95 S               5747\n",
       "I-95 N               5662\n",
       "Capital Beltway S    4052\n",
       "Capital Beltway N    3224\n",
       "Capital Beltway W    2892\n",
       "                     ... \n",
       "87th Ave                1\n",
       "Haverhill Rd            1\n",
       "N Dundalk Ave           1\n",
       "Freedom Way W           1\n",
       " Spa Rd                 1\n",
       "Name: count, Length: 7620, dtype: int64"
      ]
     },
     "execution_count": 11,
     "metadata": {},
     "output_type": "execute_result"
    }
   ],
   "source": [
    "print(df.Street.value_counts().shape)\n",
    "df.Street.value_counts()"
   ]
  },
  {
   "cell_type": "code",
   "execution_count": 12,
   "id": "83ffea59-2519-4549-bd58-6076a30b7ed9",
   "metadata": {},
   "outputs": [],
   "source": [
    "def nsew(x,r):\n",
    "    if x[-1] in [\"N\",\"S\",\"E\",\"W\"]:\n",
    "        r= r+x[-1]\n",
    "    return r"
   ]
  },
  {
   "cell_type": "code",
   "execution_count": 13,
   "id": "1ac7e240-c085-45f8-a3f7-d78193f00e38",
   "metadata": {},
   "outputs": [],
   "source": [
    "def street_type(x):\n",
    "    if \"Tunl\" in x or \"Tunnel\" in x:\n",
    "        return \"Tunnel\"#nsew(x,\"Tunnel\")\n",
    "    if \"I-\" in x:\n",
    "        return \"Interstate\"\n",
    "    if \" Dr \" in x or \" Ave \" in x or \" Rd \" in x or \" Xing\" in x or \" Way \" in x:\n",
    "        return \"local\"\n",
    "    if \"Beltway\" in x:\n",
    "        return \"Beltway\"\n",
    "    if \"US-\" in x[:4] or \"MD-\" in x[:4] or \"Expy\" in x:\n",
    "        return \"Highway\"\n",
    "    if \"Hwy\" in x or \"Fwy\" in x or \"Highway\" in x or \"Route\" in x or \"Connector\" in x or \"Byp\" in x or \"Bypass\" in x or \"Gtwy\" in x or \"Brg\" in x or \"Trwy\" in x:\n",
    "        return \"Highway\"\n",
    "    if x[-2:] in [\"St\",\"Pl\",\"Dr\",\"Sq\"]:\n",
    "        return \"local\"\n",
    "    if \"Ln\" in x or \"Rd\" in x or \"Ct\" in x:\n",
    "        return \"local\"\n",
    "    if x[-3:] in [\"Way\",\"Cir\",\"Ter\",\"Trl\",\"Plz\",\"Aly\",\"Grn\",\"way\",\"Ext\"]:\n",
    "        return \"local\"\n",
    "    if \"Ave\" in x[-5:] or \" Blvd\" in x or \" Pike\" in x or \"Pkwy\" in x or \"Crse\" in x or \"Alameda\" in x:\n",
    "        return \"large_local\"\n",
    "    if \"Garth\" in x or \"Spell\" in x or \"Psge\" in x or \"Chase\" in x or \"Cutoff\" in x or \"Spire\" in x:\n",
    "        return \"local\"\n",
    "    if \"Overlook\" in x or \"Battlefield\" in x or \"Cemetery\" in x or \"Park\" in x or \"Base\" in x or \"Concourse\" in x or \"Memorial\" in x:\n",
    "        return \"special\"\n",
    "    if \"Loop\" in x or \"Greenway\" in x or \"West\" in x or \"ville\" in x or \"wood\" in x:\n",
    "        return \"local\"\n",
    "    \n",
    "    return x"
   ]
  },
  {
   "cell_type": "code",
   "execution_count": 14,
   "id": "0d3ebea3",
   "metadata": {},
   "outputs": [],
   "source": [
    "df[\"Street\"] = df[\"Street\"].astype(str)\n",
    "df[\"Street\"] = df.Street.apply(street_type)"
   ]
  },
  {
   "cell_type": "code",
   "execution_count": 15,
   "id": "b3258126-dde4-4315-9823-0529d3f907ff",
   "metadata": {},
   "outputs": [],
   "source": [
    "df=df.loc[~df.Street.str.contains(\"special\")]"
   ]
  },
  {
   "cell_type": "code",
   "execution_count": 16,
   "id": "c6a52b5f-8f2c-4121-87b0-72c10b097833",
   "metadata": {},
   "outputs": [
    {
     "data": {
      "text/plain": [
       "Street\n",
       "Interstate                            38841\n",
       "local                                 34389\n",
       "large_local                           24719\n",
       "Highway                               24649\n",
       "Beltway                               14316\n",
       "                                      ...  \n",
       "Harriet Tubman Underground RR Bywy        1\n",
       "4B                                        1\n",
       "13C                                       1\n",
       " Fraternity Row                           1\n",
       "US 50                                     1\n",
       "Name: count, Length: 126, dtype: int64"
      ]
     },
     "execution_count": 16,
     "metadata": {},
     "output_type": "execute_result"
    }
   ],
   "source": [
    "df.Street.value_counts()"
   ]
  },
  {
   "cell_type": "markdown",
   "id": "31fc26bf-c479-4dba-a358-d67540cca1ce",
   "metadata": {},
   "source": [
    "## Weather Condition"
   ]
  },
  {
   "cell_type": "code",
   "execution_count": 17,
   "id": "9012d61c-12f5-4ba6-8a31-acc907447bf8",
   "metadata": {},
   "outputs": [
    {
     "data": {
      "text/plain": [
       "Weather_Condition\n",
       "Fair                       38849\n",
       "Cloudy                     18089\n",
       "Mostly Cloudy              14777\n",
       "Partly Cloudy               9907\n",
       "Clear                       9385\n",
       "                           ...  \n",
       "Drizzle and Fog                2\n",
       "Light Snow Shower              1\n",
       "Heavy Ice Pellets              1\n",
       "Showers in the Vicinity        1\n",
       "Squalls / Windy                1\n",
       "Name: count, Length: 71, dtype: int64"
      ]
     },
     "execution_count": 17,
     "metadata": {},
     "output_type": "execute_result"
    }
   ],
   "source": [
    "df[\"Weather_Condition\"].value_counts()"
   ]
  },
  {
   "cell_type": "code",
   "execution_count": 18,
   "id": "28a20b2d-f507-4290-a1dc-6a28e82c29d8",
   "metadata": {},
   "outputs": [],
   "source": [
    "df = df.loc[(df.Weather_Condition != \"Sand\")] # too few values"
   ]
  },
  {
   "cell_type": "code",
   "execution_count": 19,
   "id": "1170e7a9-e558-4c33-881c-af8bdeb06ea8",
   "metadata": {},
   "outputs": [],
   "source": [
    "# missing values count as a float\n",
    "# change to \"unknown\" instead. Later we can decide if we want to keep\n",
    "df[\"Weather_Condition\"] = df[\"Weather_Condition\"].fillna(\"unknown\")"
   ]
  },
  {
   "cell_type": "code",
   "execution_count": 20,
   "id": "e7f348e8-5930-4444-8069-7f7b046b6de6",
   "metadata": {},
   "outputs": [],
   "source": [
    "df[\"Weather_Condition\"] = df[\"Weather_Condition\"].apply(lambda x: \"None\" if \"N/A\" in x else x)"
   ]
  },
  {
   "cell_type": "code",
   "execution_count": 21,
   "id": "a3742bfd-971d-4716-bfce-b29019d27290",
   "metadata": {},
   "outputs": [],
   "source": [
    "df[\"Weather_Condition\"]=df[\"Weather_Condition\"].apply(lambda x: \"Windy\" if \"Windy\" in x else x)"
   ]
  },
  {
   "cell_type": "code",
   "execution_count": 22,
   "id": "ff510354-b176-4f22-af77-2f87ffbf8d3a",
   "metadata": {},
   "outputs": [],
   "source": [
    "def mapping_1(x):\n",
    "    tomap = {\"Light Drizzle\":\"Drizzle\",\n",
    "            \"Light Rain with Thunder\":\"Light Thunderstorms and Rain\",\n",
    "            \"Thunder in the Vicinity\":\"Thunder\",\n",
    "            \"Heavy Drizzle\":\"Rain\",\n",
    "            \"Mist\":\"Fog\",\n",
    "            \"Light Freezing Drizzle\":\"Light Freezing Rain\"}\n",
    "    if x in tomap:\n",
    "        return tomap[x]\n",
    "    return x"
   ]
  },
  {
   "cell_type": "code",
   "execution_count": 23,
   "id": "32284e8f-d495-40f0-8689-0743084121b6",
   "metadata": {},
   "outputs": [],
   "source": [
    "def mapping_2(x):\n",
    "    tomap = {\"Light Rain Shower\":\"Drizzle\",\n",
    "             \"Light Rain\":\"Drizzle\",\n",
    "            \"Light Ice Pellets\":\"Ice Pellets\",\n",
    "            \"Shallow Fog\":\"Fog\"}\n",
    "    if x in tomap:\n",
    "        return tomap[x]\n",
    "    return x"
   ]
  },
  {
   "cell_type": "code",
   "execution_count": 24,
   "id": "724633ef-a3b0-41a3-aab8-b1fbc65dc635",
   "metadata": {},
   "outputs": [],
   "source": [
    "def mapping_3(x):\n",
    "    tomap = {\"Heavy Ice Pellets\":\"Ice Pellets\",\n",
    "            \"Drizzle and Fog\":\"Fog\",\n",
    "            \"Patches of Fog\":\"Fog\",\n",
    "            \"Heavy Snow\":\"Snow\",\n",
    "            \"Heavy Thunderstorms and Rain\":\"Thunderstorms\",\n",
    "            \"T-Storm\":\"Thunderstorms\",\n",
    "            \"Heavy T-Storm\":\"Thunderstorms\",\n",
    "            \"Thunderstorms and Rain\":\"Thunderstorms\"}\n",
    "    if x in tomap:\n",
    "        return tomap[x]\n",
    "    return x"
   ]
  },
  {
   "cell_type": "code",
   "execution_count": 25,
   "id": "a5743b07-fb57-4deb-9669-795c49f28a7b",
   "metadata": {},
   "outputs": [],
   "source": [
    "def mapping_4(x):\n",
    "    tomap = {\"Light Snow Shower\":\"Snow\",\n",
    "            \"Light Snow\":\"Snow\",\n",
    "            \"Light Rain Showers\":\"Drizzle\",\n",
    "            \"Light Thunderstorms and Rain\":\"Thunderstorms\"}\n",
    "    if x in tomap:\n",
    "        return tomap[x]\n",
    "    return x"
   ]
  },
  {
   "cell_type": "code",
   "execution_count": 26,
   "id": "5a059f29-da8f-475c-aca4-c73da0ddaeb9",
   "metadata": {},
   "outputs": [],
   "source": [
    "df[\"Weather_Condition\"]=df[\"Weather_Condition\"].apply(mapping_1)                        "
   ]
  },
  {
   "cell_type": "code",
   "execution_count": 27,
   "id": "85bd3cf8-b404-46f8-8fbb-abf69763461e",
   "metadata": {},
   "outputs": [],
   "source": [
    "df[\"Weather_Condition\"]=df[\"Weather_Condition\"].apply(mapping_2)"
   ]
  },
  {
   "cell_type": "code",
   "execution_count": 28,
   "id": "dad0bcb1-a5d9-484a-b81e-e05adb9d130d",
   "metadata": {},
   "outputs": [],
   "source": [
    "df[\"Weather_Condition\"]=df[\"Weather_Condition\"].apply(mapping_3)"
   ]
  },
  {
   "cell_type": "code",
   "execution_count": 29,
   "id": "408da93d-cf4c-420c-a4ba-60dce1fe22b0",
   "metadata": {},
   "outputs": [],
   "source": [
    "df[\"Weather_Condition\"]=df[\"Weather_Condition\"].apply(mapping_4)"
   ]
  },
  {
   "cell_type": "code",
   "execution_count": 30,
   "id": "0efd2235-3d11-4863-9268-15f13984b53b",
   "metadata": {},
   "outputs": [
    {
     "data": {
      "text/plain": [
       "Weather_Condition\n",
       "Fair                       38849\n",
       "unknown                    26830\n",
       "Cloudy                     18089\n",
       "Mostly Cloudy              14777\n",
       "Partly Cloudy               9907\n",
       "Clear                       9385\n",
       "Overcast                    5943\n",
       "Drizzle                     5516\n",
       "Scattered Clouds            3145\n",
       "Snow                        1773\n",
       "Fog                         1594\n",
       "Rain                        1382\n",
       "Windy                       1048\n",
       "Wintry Mix                   418\n",
       "Heavy Rain                   385\n",
       "Haze                         365\n",
       "Thunderstorms                333\n",
       "Thunder                      158\n",
       "Light Freezing Rain          139\n",
       "Snow and Sleet                59\n",
       "None                          43\n",
       "Thunderstorm                  31\n",
       "Ice Pellets                   29\n",
       "Small Hail                    29\n",
       "Light Sleet                   26\n",
       "Sleet                         25\n",
       "Hail                          14\n",
       "Heavy Sleet                   13\n",
       "Light Freezing Fog            10\n",
       "Light Snow and Sleet          10\n",
       "Freezing Rain                  6\n",
       "Snow Grains                    5\n",
       "Showers in the Vicinity        1\n",
       "Name: count, dtype: int64"
      ]
     },
     "execution_count": 30,
     "metadata": {},
     "output_type": "execute_result"
    }
   ],
   "source": [
    "df.Weather_Condition.value_counts()"
   ]
  },
  {
   "cell_type": "markdown",
   "id": "aa8c051e-75ed-40c6-891e-ab82a6e76461",
   "metadata": {},
   "source": [
    "None and Light Sleet have almost no rows will values, drop them.\n",
    "Light Freezing Fog has 10 rows. Change to Fog.\n",
    "Leave others for now. Will need to decide if further combinations are necessary."
   ]
  },
  {
   "cell_type": "code",
   "execution_count": 31,
   "id": "0a94cf27-8b4f-4a1f-b8da-ae25f2fdbb12",
   "metadata": {},
   "outputs": [],
   "source": [
    "df = df.loc[(df.Weather_Condition != \"None\") & (df.Weather_Condition != \"Light Sleet\")]"
   ]
  },
  {
   "cell_type": "code",
   "execution_count": 32,
   "id": "13dd0f0f-0108-4471-8ad4-52158f2921fe",
   "metadata": {},
   "outputs": [],
   "source": [
    "df=df.reset_index(drop=True)"
   ]
  },
  {
   "cell_type": "code",
   "execution_count": 33,
   "id": "ca74de56-9432-4559-b5d1-b020a3e31d86",
   "metadata": {},
   "outputs": [
    {
     "data": {
      "text/plain": [
       "(140268, 29)"
      ]
     },
     "execution_count": 33,
     "metadata": {},
     "output_type": "execute_result"
    }
   ],
   "source": [
    "df.shape"
   ]
  },
  {
   "cell_type": "markdown",
   "id": "6f2cd5a8-84eb-4bcd-95a0-f0cc1fe27ffa",
   "metadata": {},
   "source": [
    "## Wind Direction"
   ]
  },
  {
   "cell_type": "code",
   "execution_count": 34,
   "id": "0f20db52-83a9-4a67-9964-2cf6b09b3156",
   "metadata": {},
   "outputs": [],
   "source": [
    "# Can decide later whether to keep or remove rows with unknown values\n",
    "df[\"Wind_Direction\"] = df.Wind_Direction.fillna(\"unknown\")"
   ]
  },
  {
   "cell_type": "code",
   "execution_count": 35,
   "id": "84715317-3782-4f7b-87f3-13aa14176b88",
   "metadata": {},
   "outputs": [
    {
     "data": {
      "text/plain": [
       "Wind_Direction\n",
       "CALM        22463\n",
       "unknown     20147\n",
       "WNW          8281\n",
       "North        7828\n",
       "NW           7672\n",
       "Calm         7425\n",
       "S            6370\n",
       "W            6224\n",
       "NNW          5692\n",
       "SSW          5230\n",
       "N            4643\n",
       "SW           4328\n",
       "SSE          4007\n",
       "SE           3652\n",
       "WSW          3632\n",
       "NNE          3551\n",
       "NE           3243\n",
       "ENE          2972\n",
       "E            2769\n",
       "ESE          2582\n",
       "West         2150\n",
       "VAR          2088\n",
       "South        1600\n",
       "East         1022\n",
       "Variable      697\n",
       "Name: count, dtype: int64"
      ]
     },
     "execution_count": 35,
     "metadata": {},
     "output_type": "execute_result"
    }
   ],
   "source": [
    "df.Wind_Direction.value_counts()"
   ]
  },
  {
   "cell_type": "code",
   "execution_count": 36,
   "id": "0f9c7e05-1f82-417c-b5db-7c0630886e50",
   "metadata": {},
   "outputs": [],
   "source": [
    "# Basic cleanup of alternative spellings\n",
    "def wind_map(x):\n",
    "    tomap = {\"CALM\":\"Calm\",\"South\":\"S\",\"West\":\"W\",\"North\":\"N\",\"East\":\"E\",\"VAR\":\"Variable\"}\n",
    "    if x in tomap:\n",
    "        return tomap[x]\n",
    "    return x"
   ]
  },
  {
   "cell_type": "code",
   "execution_count": 37,
   "id": "20439a21-5f52-4b84-a42b-f530a90e001e",
   "metadata": {},
   "outputs": [],
   "source": [
    "# Less fine grained values\n",
    "def wind_2(x):\n",
    "    tomap = {\"WNW\":\"NW\",\"NNW\":\"NW\",\"SSW\":\"SW\",\"SSE\":\"SE\",\"WSW\":\"SW\",\"NNE\":\"NE\",\"ENE\":\"NE\",\"ESE\":\"SE\"}\n",
    "    if x in tomap:\n",
    "        return tomap[x]\n",
    "    return x"
   ]
  },
  {
   "cell_type": "code",
   "execution_count": 38,
   "id": "c187d0a7-d878-431f-9255-ee634b35c9d5",
   "metadata": {},
   "outputs": [],
   "source": [
    "df[\"Wind_Direction\"] = df.Wind_Direction.apply(wind_map)"
   ]
  },
  {
   "cell_type": "code",
   "execution_count": 39,
   "id": "66522fcd-1da9-467e-bf96-a18a2ecd190d",
   "metadata": {},
   "outputs": [],
   "source": [
    "df[\"Wind_Direction\"] = df.Wind_Direction.apply(wind_2)"
   ]
  },
  {
   "cell_type": "code",
   "execution_count": 40,
   "id": "4205ec9a-82ce-4514-8fa7-d33303ff093e",
   "metadata": {},
   "outputs": [
    {
     "data": {
      "text/plain": [
       "Wind_Direction\n",
       "Calm        29888\n",
       "NW          21645\n",
       "unknown     20147\n",
       "SW          13190\n",
       "N           12471\n",
       "SE          10241\n",
       "NE           9766\n",
       "W            8374\n",
       "S            7970\n",
       "E            3791\n",
       "Variable     2785\n",
       "Name: count, dtype: int64"
      ]
     },
     "execution_count": 40,
     "metadata": {},
     "output_type": "execute_result"
    }
   ],
   "source": [
    "df.Wind_Direction.value_counts()"
   ]
  },
  {
   "cell_type": "markdown",
   "id": "3d9d0801-d6fe-4e2c-bead-981a89b654d7",
   "metadata": {},
   "source": [
    "## Missing Values: drop columns"
   ]
  },
  {
   "cell_type": "code",
   "execution_count": 41,
   "id": "a999d4bc-5e53-427a-84a7-d750377629d2",
   "metadata": {},
   "outputs": [
    {
     "data": {
      "text/plain": [
       "Index(['Severity', 'Distance(mi)', 'Street', 'Temperature(F)', 'Wind_Chill(F)',\n",
       "       'Humidity(%)', 'Pressure(in)', 'Visibility(mi)', 'Wind_Direction',\n",
       "       'Wind_Speed(mph)', 'Precipitation(in)', 'Weather_Condition', 'Amenity',\n",
       "       'Bump', 'Crossing', 'Give_Way', 'Junction', 'No_Exit', 'Railway',\n",
       "       'Roundabout', 'Station', 'Stop', 'Traffic_Calming', 'Traffic_Signal',\n",
       "       'Turning_Loop', 'Sunrise_Sunset', 'Civil_Twilight', 'Nautical_Twilight',\n",
       "       'Astronomical_Twilight'],\n",
       "      dtype='object')"
      ]
     },
     "execution_count": 41,
     "metadata": {},
     "output_type": "execute_result"
    }
   ],
   "source": [
    "df.columns"
   ]
  },
  {
   "cell_type": "code",
   "execution_count": 42,
   "id": "a2d9933c-c4b7-44db-9e5f-b934335270b9",
   "metadata": {},
   "outputs": [
    {
     "data": {
      "text/plain": [
       "(140268, 29)"
      ]
     },
     "execution_count": 42,
     "metadata": {},
     "output_type": "execute_result"
    }
   ],
   "source": [
    "df.shape"
   ]
  },
  {
   "cell_type": "code",
   "execution_count": 43,
   "id": "07a28390-71a4-465f-a8b9-f45c40400847",
   "metadata": {},
   "outputs": [
    {
     "data": {
      "text/plain": [
       "Severity                     0\n",
       "Distance(mi)                 0\n",
       "Street                       0\n",
       "Temperature(F)           15672\n",
       "Wind_Chill(F)            47532\n",
       "Humidity(%)              15786\n",
       "Pressure(in)             14488\n",
       "Visibility(mi)           27400\n",
       "Wind_Direction               0\n",
       "Wind_Speed(mph)          34239\n",
       "Precipitation(in)        49440\n",
       "Weather_Condition            0\n",
       "Amenity                      0\n",
       "Bump                         0\n",
       "Crossing                     0\n",
       "Give_Way                     0\n",
       "Junction                     0\n",
       "No_Exit                      0\n",
       "Railway                      0\n",
       "Roundabout                   0\n",
       "Station                      0\n",
       "Stop                         0\n",
       "Traffic_Calming              0\n",
       "Traffic_Signal               0\n",
       "Turning_Loop                 0\n",
       "Sunrise_Sunset             286\n",
       "Civil_Twilight             286\n",
       "Nautical_Twilight          286\n",
       "Astronomical_Twilight      286\n",
       "dtype: int64"
      ]
     },
     "execution_count": 43,
     "metadata": {},
     "output_type": "execute_result"
    }
   ],
   "source": [
    "df.isna().sum()"
   ]
  },
  {
   "cell_type": "code",
   "execution_count": 44,
   "id": "088f87dc-684a-484d-ad58-b1c04b6b9da7",
   "metadata": {},
   "outputs": [],
   "source": [
    "# half of the rows are missing wind chill. Better to just drop the column\n",
    "df.drop([\"Wind_Chill(F)\"],axis=1,inplace=True)"
   ]
  },
  {
   "cell_type": "code",
   "execution_count": 45,
   "id": "92a78a94-a5d5-4566-aa30-ff734412f416",
   "metadata": {},
   "outputs": [],
   "source": [
    "# half of the rows are missing precipitation, and weather condition already\n",
    "# covers that situation more or less. So drop\n",
    "df.drop([\"Precipitation(in)\"],axis=1,inplace=True)"
   ]
  },
  {
   "cell_type": "code",
   "execution_count": 46,
   "id": "76c3262e-0843-4fdd-b6a3-deb91368fd40",
   "metadata": {},
   "outputs": [
    {
     "data": {
      "text/plain": [
       "<Axes: >"
      ]
     },
     "execution_count": 46,
     "metadata": {},
     "output_type": "execute_result"
    },
    {
     "data": {
      "image/png": "[encoded data removed]",
      "text/plain": [
       "<Figure size 640x480 with 1 Axes>"
      ]
     },
     "metadata": {},
     "output_type": "display_data"
    }
   ],
   "source": [
    "df[\"Wind_Speed(mph)\"].hist(bins=30)"
   ]
  },
  {
   "cell_type": "code",
   "execution_count": 47,
   "id": "7c7f056f-33f7-45a9-9808-5c93a5e5833a",
   "metadata": {},
   "outputs": [
    {
     "data": {
      "text/plain": [
       "18"
      ]
     },
     "execution_count": 47,
     "metadata": {},
     "output_type": "execute_result"
    }
   ],
   "source": [
    "df[df[\"Wind_Speed(mph)\"] > 40].shape[0]"
   ]
  },
  {
   "cell_type": "markdown",
   "id": "fd3f4c3f-4c9f-450a-bb4d-d8a6d871ee87",
   "metadata": {},
   "source": [
    "Wind speed has a significant number of missing values. It is also a fairly tight distribution other than 11 values that are larger. Although wind speed could be useful in predicting severity, it may not be worth keeping in this situation. I think we try without it first."
   ]
  },
  {
   "cell_type": "code",
   "execution_count": 48,
   "id": "9924ce03-3f75-4d11-832d-cc0cac99295f",
   "metadata": {},
   "outputs": [],
   "source": [
    "df.drop([\"Wind_Speed(mph)\"],inplace=True,axis=1)"
   ]
  },
  {
   "cell_type": "code",
   "execution_count": 49,
   "id": "f31c7493-043a-4c96-b6a6-b6e70187f83d",
   "metadata": {},
   "outputs": [
    {
     "data": {
      "text/plain": [
       "Severity                     0\n",
       "Distance(mi)                 0\n",
       "Street                       0\n",
       "Temperature(F)           15672\n",
       "Humidity(%)              15786\n",
       "Pressure(in)             14488\n",
       "Visibility(mi)           27400\n",
       "Wind_Direction               0\n",
       "Weather_Condition            0\n",
       "Amenity                      0\n",
       "Bump                         0\n",
       "Crossing                     0\n",
       "Give_Way                     0\n",
       "Junction                     0\n",
       "No_Exit                      0\n",
       "Railway                      0\n",
       "Roundabout                   0\n",
       "Station                      0\n",
       "Stop                         0\n",
       "Traffic_Calming              0\n",
       "Traffic_Signal               0\n",
       "Turning_Loop                 0\n",
       "Sunrise_Sunset             286\n",
       "Civil_Twilight             286\n",
       "Nautical_Twilight          286\n",
       "Astronomical_Twilight      286\n",
       "dtype: int64"
      ]
     },
     "execution_count": 49,
     "metadata": {},
     "output_type": "execute_result"
    }
   ],
   "source": [
    "df.isna().sum()"
   ]
  },
  {
   "cell_type": "code",
   "execution_count": 50,
   "id": "ce8dd527-25b4-4ef6-b79f-72de9da790eb",
   "metadata": {},
   "outputs": [
    {
     "data": {
      "text/plain": [
       "(111309, 26)"
      ]
     },
     "execution_count": 50,
     "metadata": {},
     "output_type": "execute_result"
    }
   ],
   "source": [
    "df.dropna().shape"
   ]
  },
  {
   "cell_type": "markdown",
   "id": "ecbbbdb4-c2b7-40d0-b0e1-c5f4f98471a3",
   "metadata": {},
   "source": [
    "It looks like dropping NA values doesn't remove too many rows, there must be rows with multiple NA values. So let's drop NA rows."
   ]
  },
  {
   "cell_type": "code",
   "execution_count": 51,
   "id": "6864932f-351e-400a-8413-77d7a328413e",
   "metadata": {},
   "outputs": [],
   "source": [
    "df.dropna(inplace=True)"
   ]
  },
  {
   "cell_type": "markdown",
   "id": "d482d59f-83cf-40cd-8668-341974756279",
   "metadata": {},
   "source": [
    "## Twilights\n",
    "\n",
    "We don't need four different twilights."
   ]
  },
  {
   "cell_type": "code",
   "execution_count": 52,
   "id": "68a2192d-d6d1-4441-9d92-2bf0863976c1",
   "metadata": {},
   "outputs": [
    {
     "data": {
      "text/plain": [
       "Index(['Severity', 'Distance(mi)', 'Street', 'Temperature(F)', 'Humidity(%)',\n",
       "       'Pressure(in)', 'Visibility(mi)', 'Wind_Direction', 'Weather_Condition',\n",
       "       'Amenity', 'Bump', 'Crossing', 'Give_Way', 'Junction', 'No_Exit',\n",
       "       'Railway', 'Roundabout', 'Station', 'Stop', 'Traffic_Calming',\n",
       "       'Traffic_Signal', 'Turning_Loop', 'Sunrise_Sunset', 'Civil_Twilight',\n",
       "       'Nautical_Twilight', 'Astronomical_Twilight'],\n",
       "      dtype='object')"
      ]
     },
     "execution_count": 52,
     "metadata": {},
     "output_type": "execute_result"
    }
   ],
   "source": [
    "df.columns"
   ]
  },
  {
   "cell_type": "code",
   "execution_count": 53,
   "id": "f17843bb-22a8-476e-bb99-d1b2653c9cdc",
   "metadata": {},
   "outputs": [],
   "source": [
    "df.drop(['Civil_Twilight','Nautical_Twilight', 'Astronomical_Twilight'],inplace=True,axis=1)"
   ]
  },
  {
   "cell_type": "markdown",
   "id": "6643f7c5-ca45-4bf3-9088-3b6cade45229",
   "metadata": {},
   "source": [
    "## Any columns have too little info?"
   ]
  },
  {
   "cell_type": "code",
   "execution_count": 54,
   "id": "1cd7b877-9200-4e00-80eb-e593096c0112",
   "metadata": {},
   "outputs": [
    {
     "name": "stdout",
     "output_type": "stream",
     "text": [
      "Amenity\n",
      "False    110672\n",
      "True        637\n",
      "Name: count, dtype: int64\n",
      "Bump\n",
      "False    111290\n",
      "True         19\n",
      "Name: count, dtype: int64\n",
      "Crossing\n",
      "False    104708\n",
      "True       6601\n",
      "Name: count, dtype: int64\n",
      "Give_Way\n",
      "False    111016\n",
      "True        293\n",
      "Name: count, dtype: int64\n",
      "Junction\n",
      "False    97725\n",
      "True     13584\n",
      "Name: count, dtype: int64\n",
      "No_Exit\n",
      "False    111148\n",
      "True        161\n",
      "Name: count, dtype: int64\n",
      "Railway\n",
      "False    111074\n",
      "True        235\n",
      "Name: count, dtype: int64\n",
      "Roundabout\n",
      "False    111306\n",
      "True          3\n",
      "Name: count, dtype: int64\n",
      "Station\n",
      "False    110109\n",
      "True       1200\n",
      "Name: count, dtype: int64\n",
      "Stop\n",
      "False    110020\n",
      "True       1289\n",
      "Name: count, dtype: int64\n",
      "Traffic_Calming\n",
      "False    110921\n",
      "True        388\n",
      "Name: count, dtype: int64\n",
      "Traffic_Signal\n",
      "False    98709\n",
      "True     12600\n",
      "Name: count, dtype: int64\n",
      "Turning_Loop\n",
      "False    111309\n",
      "Name: count, dtype: int64\n"
     ]
    }
   ],
   "source": [
    "for col in ['Amenity', 'Bump', 'Crossing', 'Give_Way', 'Junction', 'No_Exit',\n",
    "       'Railway', 'Roundabout', 'Station', 'Stop', 'Traffic_Calming',\n",
    "       'Traffic_Signal', 'Turning_Loop']:\n",
    "    print(df[col].value_counts())"
   ]
  },
  {
   "cell_type": "markdown",
   "id": "e687dc74-13b1-4117-b5b8-8e04f54a3b9d",
   "metadata": {},
   "source": [
    "Bump, Give_Way, No_Exit, Roundabout, have almost no True values, so drop.\n",
    "All values in Turning_Loop are identical, so drop."
   ]
  },
  {
   "cell_type": "code",
   "execution_count": 55,
   "id": "5afbd469-6197-4289-8403-f67f44e9bb4a",
   "metadata": {},
   "outputs": [],
   "source": [
    "df.drop(['Bump', 'Give_Way', 'No_Exit', 'Roundabout','Turning_Loop'],inplace=True,axis=1)"
   ]
  },
  {
   "cell_type": "markdown",
   "id": "e5244108-49a6-4503-b1f4-ac4571884a6f",
   "metadata": {},
   "source": [
    "Will need to consider if it is worth keeping all of these or combining in some way."
   ]
  },
  {
   "cell_type": "code",
   "execution_count": 56,
   "id": "32591322-30f0-4130-b8d2-8d117a0aded3",
   "metadata": {},
   "outputs": [
    {
     "data": {
      "text/plain": [
       "Index(['Severity', 'Distance(mi)', 'Street', 'Temperature(F)', 'Humidity(%)',\n",
       "       'Pressure(in)', 'Visibility(mi)', 'Wind_Direction', 'Weather_Condition',\n",
       "       'Amenity', 'Crossing', 'Junction', 'Railway', 'Station', 'Stop',\n",
       "       'Traffic_Calming', 'Traffic_Signal', 'Sunrise_Sunset'],\n",
       "      dtype='object')"
      ]
     },
     "execution_count": 56,
     "metadata": {},
     "output_type": "execute_result"
    }
   ],
   "source": [
    "df.columns"
   ]
  },
  {
   "cell_type": "code",
   "execution_count": 57,
   "id": "92e9f955-107d-4c81-97d0-70f14f579632",
   "metadata": {},
   "outputs": [
    {
     "data": {
      "text/plain": [
       "(111309, 18)"
      ]
     },
     "execution_count": 57,
     "metadata": {},
     "output_type": "execute_result"
    }
   ],
   "source": [
    "df.shape"
   ]
  },
  {
   "cell_type": "markdown",
   "id": "573b7afc-14d5-486e-8ce8-5ff267a65390",
   "metadata": {},
   "source": [
    "## Examine Severity\n",
    "\n",
    "For our project we want to wait to decide what to do about imbalance, and wait to one hot encode. Code below considers these issues, but the dataset saved is the one that exists without changing Severity or one hot encoding anything."
   ]
  },
  {
   "cell_type": "code",
   "execution_count": 58,
   "id": "0255cd55-be58-4564-8950-49684dd153a8",
   "metadata": {},
   "outputs": [
    {
     "data": {
      "text/plain": [
       "Severity\n",
       "2    83497\n",
       "3    18327\n",
       "4     9080\n",
       "1      405\n",
       "Name: count, dtype: int64"
      ]
     },
     "execution_count": 58,
     "metadata": {},
     "output_type": "execute_result"
    }
   ],
   "source": [
    "df.Severity.value_counts()"
   ]
  },
  {
   "cell_type": "code",
   "execution_count": 59,
   "id": "eea391ba-bd6b-424b-856d-86d968f28526",
   "metadata": {},
   "outputs": [],
   "source": [
    "#df.Severity = df.Severity.apply(lambda x: 2 if x == 1 else x)"
   ]
  },
  {
   "cell_type": "code",
   "execution_count": 60,
   "id": "299034e2-3368-416c-baa0-19eba9200f58",
   "metadata": {},
   "outputs": [
    {
     "name": "stdout",
     "output_type": "stream",
     "text": [
      "Severity\n",
      "Distance(mi)\n",
      "Street\n",
      "Temperature(F)\n",
      "Humidity(%)\n",
      "Pressure(in)\n",
      "Visibility(mi)\n",
      "Wind_Direction\n",
      "Weather_Condition\n",
      "Amenity\n",
      "Crossing\n",
      "Junction\n",
      "Railway\n",
      "Station\n",
      "Stop\n",
      "Traffic_Calming\n",
      "Traffic_Signal\n",
      "Sunrise_Sunset\n"
     ]
    }
   ],
   "source": [
    "for c in df.columns:\n",
    "    print(c)"
   ]
  },
  {
   "cell_type": "code",
   "execution_count": 61,
   "id": "c82568c3-9a75-44ad-8638-bb46c40bd980",
   "metadata": {},
   "outputs": [],
   "source": [
    "df_ohe = pd.get_dummies(df,drop_first=True)"
   ]
  },
  {
   "cell_type": "code",
   "execution_count": 62,
   "id": "5f0969ff-9dac-45b1-ac3e-290cf6e430fe",
   "metadata": {},
   "outputs": [
    {
     "data": {
      "text/plain": [
       "(111309, 164)"
      ]
     },
     "execution_count": 62,
     "metadata": {},
     "output_type": "execute_result"
    }
   ],
   "source": [
    "df_ohe.shape"
   ]
  },
  {
   "cell_type": "code",
   "execution_count": 63,
   "id": "e7d30d33-55cf-405f-919d-7388e55052ca",
   "metadata": {},
   "outputs": [
    {
     "data": {
      "text/plain": [
       "Index(['Severity', 'Distance(mi)', 'Temperature(F)', 'Humidity(%)',\n",
       "       'Pressure(in)', 'Visibility(mi)', 'Amenity', 'Crossing', 'Junction',\n",
       "       'Railway',\n",
       "       ...\n",
       "       'Weather_Condition_Snow', 'Weather_Condition_Snow Grains',\n",
       "       'Weather_Condition_Snow and Sleet', 'Weather_Condition_Thunder',\n",
       "       'Weather_Condition_Thunderstorm', 'Weather_Condition_Thunderstorms',\n",
       "       'Weather_Condition_Windy', 'Weather_Condition_Wintry Mix',\n",
       "       'Weather_Condition_unknown', 'Sunrise_Sunset_Night'],\n",
       "      dtype='object', length=164)"
      ]
     },
     "execution_count": 63,
     "metadata": {},
     "output_type": "execute_result"
    }
   ],
   "source": [
    "df_ohe.columns"
   ]
  },
  {
   "cell_type": "code",
   "execution_count": 64,
   "id": "de010857",
   "metadata": {},
   "outputs": [],
   "source": [
    "# OPTIONAL: CODE TO MERGE CLASSES\n",
    "#df_ohe['Severity']=df_ohe['Severity'].replace([1, 2], 0)\n",
    "#df_ohe['Severity']=df_ohe['Severity'].replace([3, 4], 1)\n",
    "#df_ohe[\"Severity\"].value_counts()"
   ]
  },
  {
   "cell_type": "code",
   "execution_count": 65,
   "id": "b08599da",
   "metadata": {},
   "outputs": [],
   "source": [
    "def control_class_merge(df, c1, c2, c3, c4):\n",
    "    df['Severity'] = df['Severity'].replace(c1, 0)\n",
    "    df['Severity'] = df['Severity'].replace([c2, c3, c4], 1)\n",
    "    df_c1 = df[df.Severity != 1]\n",
    "    df_c2 = df[df.Severity != 0]\n",
    "    df_c1.to_csv(f\"control_class{c1}.csv\", index = False)\n",
    "    df_c2.to_csv(f\"control_class{c2}_{c3}_{c4}_merge.csv\", index = False)\n",
    "    \n",
    "    df['Severity'] = df['Severity'].replace(c2, 0)\n",
    "    df['Severity'] = df['Severity'].replace([c1, c3, c4], 1)\n",
    "    df_c1 = df[df.Severity != 1]\n",
    "    df_c2 = df[df.Severity != 0]\n",
    "    df_c1.to_csv(f\"control_class{c2}.csv\", index = False)\n",
    "    df_c2.to_csv(f\"control_class{c1}_{c3}_{c4}_merge.csv\", index = False)\n",
    "    \n",
    "    df['Severity'] = df['Severity'].replace(c3, 0)\n",
    "    df['Severity'] = df['Severity'].replace([c2, c1, c4], 1)\n",
    "    df_c1 = df[df.Severity != 1]\n",
    "    df_c2 = df[df.Severity != 0]\n",
    "    df_c1.to_csv(f\"control_class{c3}.csv\", index = False)\n",
    "    df_c2.to_csv(f\"control_class{c2}_{c1}_{c4}_merge.csv\", index = False)\n",
    "    \n",
    "    df['Severity'] = df['Severity'].replace(c4, 0)\n",
    "    df['Severity'] = df['Severity'].replace([c2, c3, c1], 1)\n",
    "    df_c1 = df[df.Severity != 1]\n",
    "    df_c2 = df[df.Severity != 0]\n",
    "    df_c1.to_csv(f\"control_class{c4}.csv\", index = False)\n",
    "    df_c2.to_csv(f\"control_class{c2}_{c3}_{c1}_merge.csv\", index = False)"
   ]
  },
  {
   "cell_type": "code",
   "execution_count": 66,
   "id": "b1c6f422",
   "metadata": {},
   "outputs": [],
   "source": [
    "control_class_merge(df_ohe, 1, 2, 3, 4)"
   ]
  }
 ],
 "metadata": {
  "kernelspec": {
   "display_name": "base",
   "language": "python",
   "name": "python3"
  },
  "language_info": {
   "codemirror_mode": {
    "name": "ipython",
    "version": 3
   },
   "file_extension": ".py",
   "mimetype": "text/x-python",
   "name": "python",
   "nbconvert_exporter": "python",
   "pygments_lexer": "ipython3",
   "version": "3.13.4"
  }
 },
 "nbformat": 4,
 "nbformat_minor": 5
}
