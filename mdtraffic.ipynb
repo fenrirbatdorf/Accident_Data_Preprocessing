{
 "cells": [
  {
   "cell_type": "markdown",
   "id": "8a0af2fc-fc93-4f5e-8773-fd2cf0783682",
   "metadata": {},
   "source": [
    "Creating another variation on the initial data"
   ]
  },
  {
   "cell_type": "code",
   "execution_count": 1,
   "id": "1c264cdf-75b0-41d1-b70e-0619dae705a8",
   "metadata": {},
   "outputs": [],
   "source": [
    "import pandas as pd\n",
    "import matplotlib.pyplot as plt\n",
    "import numpy as np"
   ]
  },
  {
   "cell_type": "code",
   "execution_count": 34,
   "id": "82b7ccb2-ccbc-4a4d-8f27-3f697904e436",
   "metadata": {},
   "outputs": [],
   "source": [
    "df = pd.read_csv(\"mdtraffic.csv\")"
   ]
  },
  {
   "cell_type": "markdown",
   "id": "477f312b-4a81-4b30-a4ca-d5d077249036",
   "metadata": {},
   "source": [
    "## Drop columns unlikely to be useful\n",
    "\n",
    "Too focused on timing or too fine grained or unique"
   ]
  },
  {
   "cell_type": "code",
   "execution_count": 36,
   "id": "f66cbf70-dd6d-40a0-ac9b-6cae069ac21f",
   "metadata": {},
   "outputs": [
    {
     "data": {
      "text/plain": [
       "Index(['TMC', 'Severity', 'Start_Time', 'End_Time', 'Start_Lat', 'Start_Lng',\n",
       "       'End_Lat', 'End_Lng', 'Distance(mi)', 'Description', 'Number', 'Street',\n",
       "       'Side', 'City', 'County', 'State', 'Zipcode', 'Timezone',\n",
       "       'Airport_Code', 'Weather_Timestamp', 'Temperature(F)', 'Wind_Chill(F)',\n",
       "       'Humidity(%)', 'Pressure(in)', 'Visibility(mi)', 'Wind_Direction',\n",
       "       'Wind_Speed(mph)', 'Precipitation(in)', 'Weather_Condition', 'Amenity',\n",
       "       'Bump', 'Crossing', 'Give_Way', 'Junction', 'No_Exit', 'Railway',\n",
       "       'Roundabout', 'Station', 'Stop', 'Traffic_Calming', 'Traffic_Signal',\n",
       "       'Turning_Loop', 'Sunrise_Sunset', 'Civil_Twilight', 'Nautical_Twilight',\n",
       "       'Astronomical_Twilight'],\n",
       "      dtype='object')"
      ]
     },
     "execution_count": 36,
     "metadata": {},
     "output_type": "execute_result"
    }
   ],
   "source": [
    "df.columns"
   ]
  },
  {
   "cell_type": "code",
   "execution_count": 35,
   "id": "a263d575-ba6d-4062-a883-77e2f1351f7f",
   "metadata": {},
   "outputs": [],
   "source": [
    "df.drop([\"ID\",\"Source\",\"Country\"],axis=1,inplace=True) # drop clearly unneeded columns"
   ]
  },
  {
   "cell_type": "code",
   "execution_count": 37,
   "id": "253123f7-3f79-4f37-8dbc-c68ac5a6cc4a",
   "metadata": {},
   "outputs": [],
   "source": [
    "df[\"Zipcode\"] = df.Zipcode.apply(lambda x: str(x).split(\"-\")[0]) # fix zipcodes so that they are all 5 digit"
   ]
  },
  {
   "cell_type": "code",
   "execution_count": 38,
   "id": "5676dde1-0dd8-42c7-ae2d-bba739b5261d",
   "metadata": {},
   "outputs": [],
   "source": [
    "df.drop([\"End_Time\",\"End_Lat\",\"End_Lng\"],axis=1,inplace=True) #can't know these things before it happens"
   ]
  },
  {
   "cell_type": "code",
   "execution_count": 39,
   "id": "f8490d26-3d72-4b4c-b7ec-f2241d14a849",
   "metadata": {},
   "outputs": [],
   "source": [
    "df.drop([\"Start_Lat\",\"Start_Lng\",\"State\",\"City\"],axis=1,inplace=True)# so much of location data is redundant and correlated"
   ]
  },
  {
   "cell_type": "code",
   "execution_count": 40,
   "id": "3997a3e0-f97e-48ae-b765-665dbeaabdcc",
   "metadata": {},
   "outputs": [],
   "source": [
    "df.drop([\"Timezone\",\"Weather_Timestamp\",\"Airport_Code\",\"TMC\",\"Description\"],axis=1,inplace=True)"
   ]
  },
  {
   "cell_type": "code",
   "execution_count": 74,
   "id": "c1a48f8c-760e-42c7-a4e2-e2e27b3c1bed",
   "metadata": {},
   "outputs": [],
   "source": [
    "df.drop([\"Start_Time\",\"Zipcode\",\"County\",\"Number\",\"Side\"],axis=1,inplace=True)"
   ]
  },
  {
   "cell_type": "markdown",
   "id": "8834d156-764b-4af3-ad63-9f5640f80bdf",
   "metadata": {},
   "source": [
    "## Street Type"
   ]
  },
  {
   "cell_type": "code",
   "execution_count": 41,
   "id": "c9f523ac-61ee-4b5e-9601-51f58ec11f75",
   "metadata": {},
   "outputs": [],
   "source": [
    "df = df[~df.Street.str.contains(\"Francis Scott Key Bridge\")]"
   ]
  },
  {
   "cell_type": "code",
   "execution_count": 42,
   "id": "ff3fe748-a1d9-4fd2-9bc1-308cd3cd550e",
   "metadata": {},
   "outputs": [
    {
     "name": "stdout",
     "output_type": "stream",
     "text": [
      "(5188,)\n"
     ]
    },
    {
     "data": {
      "text/plain": [
       "Street\n",
       "I-95 N                 3287\n",
       "I-95 S                 2959\n",
       "Capital Beltway S      2342\n",
       "Capital Beltway N      1678\n",
       "I-695 E                1647\n",
       "                       ... \n",
       " Whaleyville Rd           1\n",
       " Executive Blvd           1\n",
       "I-895B N                  1\n",
       " E Mount Harmony Rd       1\n",
       "Emack Rd                  1\n",
       "Name: count, Length: 5188, dtype: int64"
      ]
     },
     "execution_count": 42,
     "metadata": {},
     "output_type": "execute_result"
    }
   ],
   "source": [
    "print(df.Street.value_counts().shape)\n",
    "df.Street.value_counts()"
   ]
  },
  {
   "cell_type": "code",
   "execution_count": 43,
   "id": "83ffea59-2519-4549-bd58-6076a30b7ed9",
   "metadata": {},
   "outputs": [],
   "source": [
    "def nsew(x,r):\n",
    "    if x[-1] in [\"N\",\"S\",\"E\",\"W\"]:\n",
    "        r= r+x[-1]\n",
    "    return r"
   ]
  },
  {
   "cell_type": "code",
   "execution_count": 44,
   "id": "1ac7e240-c085-45f8-a3f7-d78193f00e38",
   "metadata": {},
   "outputs": [],
   "source": [
    "def street_type(x):\n",
    "    if \"Tunl\" in x or \"Tunnel\" in x:\n",
    "        return \"Tunnel\"#nsew(x,\"Tunnel\")\n",
    "    if \"I-\" in x:\n",
    "        return \"Interstate\"\n",
    "    if \" Dr \" in x or \" Ave \" in x or \" Rd \" in x or \" Xing\" in x or \" Way \" in x:\n",
    "        return \"local\"\n",
    "    if \"Beltway\" in x:\n",
    "        return \"Beltway\"\n",
    "    if \"US-\" in x[:4] or \"MD-\" in x[:4] or \"Expy\" in x:\n",
    "        return \"Highway\"\n",
    "    if \"Hwy\" in x or \"Fwy\" in x or \"Highway\" in x or \"Route\" in x or \"Connector\" in x or \"Byp\" in x or \"Bypass\" in x or \"Gtwy\" in x or \"Brg\" in x or \"Trwy\" in x:\n",
    "        return \"Highway\"\n",
    "    if x[-2:] in [\"St\",\"Pl\",\"Dr\",\"Sq\"]:\n",
    "        return \"local\"\n",
    "    if \"Ln\" in x or \"Rd\" in x or \"Ct\" in x:\n",
    "        return \"local\"\n",
    "    if x[-3:] in [\"Way\",\"Cir\",\"Ter\",\"Trl\",\"Plz\",\"Aly\",\"Grn\",\"way\",\"Ext\"]:\n",
    "        return \"local\"\n",
    "    if \"Ave\" in x[-5:] or \" Blvd\" in x or \" Pike\" in x or \"Pkwy\" in x or \"Crse\" in x or \"Alameda\" in x:\n",
    "        return \"large_local\"\n",
    "    if \"Garth\" in x or \"Spell\" in x or \"Psge\" in x or \"Chase\" in x or \"Cutoff\" in x or \"Spire\" in x:\n",
    "        return \"local\"\n",
    "    if \"Overlook\" in x or \"Battlefield\" in x or \"Cemetery\" in x or \"Park\" in x or \"Base\" in x or \"Concourse\" in x or \"Memorial\" in x:\n",
    "        return \"special\"\n",
    "    if \"Loop\" in x or \"Greenway\" in x or \"West\" in x or \"ville\" in x or \"wood\" in x:\n",
    "        return \"local\"\n",
    "    \n",
    "    return x"
   ]
  },
  {
   "cell_type": "code",
   "execution_count": 45,
   "id": "0d3ebea3",
   "metadata": {},
   "outputs": [],
   "source": [
    "df[\"Street\"] = df.Street.apply(street_type)"
   ]
  },
  {
   "cell_type": "code",
   "execution_count": 46,
   "id": "b3258126-dde4-4315-9823-0529d3f907ff",
   "metadata": {},
   "outputs": [],
   "source": [
    "df=df.loc[~df.Street.str.contains(\"special\")]"
   ]
  },
  {
   "cell_type": "code",
   "execution_count": 47,
   "id": "c6a52b5f-8f2c-4121-87b0-72c10b097833",
   "metadata": {},
   "outputs": [
    {
     "data": {
      "text/plain": [
       "Street\n",
       "Interstate     18618\n",
       "local          18323\n",
       "large_local    13341\n",
       "Highway        11607\n",
       "Beltway         7031\n",
       "Tunnel          1014\n",
       "Name: count, dtype: int64"
      ]
     },
     "execution_count": 47,
     "metadata": {},
     "output_type": "execute_result"
    }
   ],
   "source": [
    "df.Street.value_counts()"
   ]
  },
  {
   "cell_type": "markdown",
   "id": "31fc26bf-c479-4dba-a358-d67540cca1ce",
   "metadata": {},
   "source": [
    "## Weather Condition"
   ]
  },
  {
   "cell_type": "code",
   "execution_count": 48,
   "id": "9012d61c-12f5-4ba6-8a31-acc907447bf8",
   "metadata": {},
   "outputs": [
    {
     "data": {
      "text/plain": [
       "Weather_Condition\n",
       "Fair                            11776\n",
       "Clear                            9368\n",
       "Mostly Cloudy                    7676\n",
       "Cloudy                           6853\n",
       "Overcast                         5928\n",
       "Partly Cloudy                    4177\n",
       "Scattered Clouds                 3144\n",
       "Light Rain                       2245\n",
       "Rain                              716\n",
       "Fog                               656\n",
       "Light Snow                        457\n",
       "Light Drizzle                     330\n",
       "Haze                              183\n",
       "Heavy Rain                        178\n",
       "Fair / Windy                      115\n",
       "Snow                              105\n",
       "Mostly Cloudy / Windy              86\n",
       "Partly Cloudy / Windy              69\n",
       "Light Freezing Rain                64\n",
       "Cloudy / Windy                     58\n",
       "Drizzle                            57\n",
       "T-Storm                            44\n",
       "Shallow Fog                        38\n",
       "Light Rain / Windy                 37\n",
       "Wintry Mix                         36\n",
       "Thunderstorm                       31\n",
       "Light Thunderstorms and Rain       24\n",
       "Light Rain with Thunder            24\n",
       "Light Ice Pellets                  24\n",
       "Thunder in the Vicinity            23\n",
       "Mist                               23\n",
       "Light Rain Showers                 22\n",
       "Thunder                            21\n",
       "Heavy Thunderstorms and Rain       19\n",
       "Rain / Windy                       18\n",
       "Heavy Snow                         16\n",
       "Patches of Fog                     16\n",
       "Thunderstorms and Rain             16\n",
       "Light Freezing Fog                 10\n",
       "Heavy T-Storm                       9\n",
       "Light Rain Shower                   6\n",
       "T-Storm / Windy                     5\n",
       "Ice Pellets                         4\n",
       "Heavy Drizzle                       4\n",
       "Light Sleet / Windy                 4\n",
       "Sand                                3\n",
       "Light Freezing Drizzle              3\n",
       "N/A Precipitation                   3\n",
       "Heavy Rain / Windy                  2\n",
       "Heavy T-Storm / Windy               2\n",
       "Light Sleet                         1\n",
       "Light Snow Shower                   1\n",
       "Drizzle and Fog                     1\n",
       "Heavy Ice Pellets                   1\n",
       "Light Drizzle / Windy               1\n",
       "Name: count, dtype: int64"
      ]
     },
     "execution_count": 48,
     "metadata": {},
     "output_type": "execute_result"
    }
   ],
   "source": [
    "df[\"Weather_Condition\"].value_counts()"
   ]
  },
  {
   "cell_type": "code",
   "execution_count": 49,
   "id": "28a20b2d-f507-4290-a1dc-6a28e82c29d8",
   "metadata": {},
   "outputs": [],
   "source": [
    "df = df.loc[(df.Weather_Condition != \"Sand\")] # too few values"
   ]
  },
  {
   "cell_type": "code",
   "execution_count": 50,
   "id": "1170e7a9-e558-4c33-881c-af8bdeb06ea8",
   "metadata": {},
   "outputs": [],
   "source": [
    "# missing values count as a float\n",
    "# change to \"unknown\" instead. Later we can decide if we want to keep\n",
    "df[\"Weather_Condition\"] = df[\"Weather_Condition\"].fillna(\"unknown\")"
   ]
  },
  {
   "cell_type": "code",
   "execution_count": 51,
   "id": "e7f348e8-5930-4444-8069-7f7b046b6de6",
   "metadata": {},
   "outputs": [],
   "source": [
    "df[\"Weather_Condition\"] = df[\"Weather_Condition\"].apply(lambda x: \"None\" if \"N/A\" in x else x)"
   ]
  },
  {
   "cell_type": "code",
   "execution_count": 52,
   "id": "a3742bfd-971d-4716-bfce-b29019d27290",
   "metadata": {},
   "outputs": [],
   "source": [
    "df[\"Weather_Condition\"]=df[\"Weather_Condition\"].apply(lambda x: \"Windy\" if \"Windy\" in x else x)"
   ]
  },
  {
   "cell_type": "code",
   "execution_count": 53,
   "id": "ff510354-b176-4f22-af77-2f87ffbf8d3a",
   "metadata": {},
   "outputs": [],
   "source": [
    "def mapping_1(x):\n",
    "    tomap = {\"Light Drizzle\":\"Drizzle\",\n",
    "            \"Light Rain with Thunder\":\"Light Thunderstorms and Rain\",\n",
    "            \"Thunder in the Vicinity\":\"Thunder\",\n",
    "            \"Heavy Drizzle\":\"Rain\",\n",
    "            \"Mist\":\"Fog\",\n",
    "            \"Light Freezing Drizzle\":\"Light Freezing Rain\"}\n",
    "    if x in tomap:\n",
    "        return tomap[x]\n",
    "    return x"
   ]
  },
  {
   "cell_type": "code",
   "execution_count": 54,
   "id": "32284e8f-d495-40f0-8689-0743084121b6",
   "metadata": {},
   "outputs": [],
   "source": [
    "def mapping_2(x):\n",
    "    tomap = {\"Light Rain Shower\":\"Drizzle\",\n",
    "             \"Light Rain\":\"Drizzle\",\n",
    "            \"Light Ice Pellets\":\"Ice Pellets\",\n",
    "            \"Shallow Fog\":\"Fog\"}\n",
    "    if x in tomap:\n",
    "        return tomap[x]\n",
    "    return x"
   ]
  },
  {
   "cell_type": "code",
   "execution_count": 55,
   "id": "724633ef-a3b0-41a3-aab8-b1fbc65dc635",
   "metadata": {},
   "outputs": [],
   "source": [
    "def mapping_3(x):\n",
    "    tomap = {\"Heavy Ice Pellets\":\"Ice Pellets\",\n",
    "            \"Drizzle and Fog\":\"Fog\",\n",
    "            \"Patches of Fog\":\"Fog\",\n",
    "            \"Heavy Snow\":\"Snow\",\n",
    "            \"Heavy Thunderstorms and Rain\":\"Thunderstorms\",\n",
    "            \"T-Storm\":\"Thunderstorms\",\n",
    "            \"Heavy T-Storm\":\"Thunderstorms\",\n",
    "            \"Thunderstorms and Rain\":\"Thunderstorms\"}\n",
    "    if x in tomap:\n",
    "        return tomap[x]\n",
    "    return x"
   ]
  },
  {
   "cell_type": "code",
   "execution_count": 56,
   "id": "a5743b07-fb57-4deb-9669-795c49f28a7b",
   "metadata": {},
   "outputs": [],
   "source": [
    "def mapping_4(x):\n",
    "    tomap = {\"Light Snow Shower\":\"Snow\",\n",
    "            \"Light Snow\":\"Snow\",\n",
    "            \"Light Rain Showers\":\"Drizzle\",\n",
    "            \"Light Thunderstorms and Rain\":\"Thunderstorms\"}\n",
    "    if x in tomap:\n",
    "        return tomap[x]\n",
    "    return x"
   ]
  },
  {
   "cell_type": "code",
   "execution_count": 57,
   "id": "5a059f29-da8f-475c-aca4-c73da0ddaeb9",
   "metadata": {},
   "outputs": [],
   "source": [
    "df[\"Weather_Condition\"]=df[\"Weather_Condition\"].apply(mapping_1)                        "
   ]
  },
  {
   "cell_type": "code",
   "execution_count": 58,
   "id": "85bd3cf8-b404-46f8-8fbb-abf69763461e",
   "metadata": {},
   "outputs": [],
   "source": [
    "df[\"Weather_Condition\"]=df[\"Weather_Condition\"].apply(mapping_2)"
   ]
  },
  {
   "cell_type": "code",
   "execution_count": 59,
   "id": "dad0bcb1-a5d9-484a-b81e-e05adb9d130d",
   "metadata": {},
   "outputs": [],
   "source": [
    "df[\"Weather_Condition\"]=df[\"Weather_Condition\"].apply(mapping_3)"
   ]
  },
  {
   "cell_type": "code",
   "execution_count": 60,
   "id": "408da93d-cf4c-420c-a4ba-60dce1fe22b0",
   "metadata": {},
   "outputs": [],
   "source": [
    "df[\"Weather_Condition\"]=df[\"Weather_Condition\"].apply(mapping_4)"
   ]
  },
  {
   "cell_type": "code",
   "execution_count": 61,
   "id": "0efd2235-3d11-4863-9268-15f13984b53b",
   "metadata": {},
   "outputs": [
    {
     "data": {
      "text/plain": [
       "Weather_Condition\n",
       "unknown                15201\n",
       "Fair                   11776\n",
       "Clear                   9368\n",
       "Mostly Cloudy           7676\n",
       "Cloudy                  6853\n",
       "Overcast                5928\n",
       "Partly Cloudy           4177\n",
       "Scattered Clouds        3144\n",
       "Drizzle                 2660\n",
       "Fog                      734\n",
       "Rain                     720\n",
       "Snow                     579\n",
       "Windy                    397\n",
       "Haze                     183\n",
       "Heavy Rain               178\n",
       "Thunderstorms            136\n",
       "Light Freezing Rain       67\n",
       "Thunder                   44\n",
       "Wintry Mix                36\n",
       "Thunderstorm              31\n",
       "Ice Pellets               29\n",
       "Light Freezing Fog        10\n",
       "None                       3\n",
       "Light Sleet                1\n",
       "Name: count, dtype: int64"
      ]
     },
     "execution_count": 61,
     "metadata": {},
     "output_type": "execute_result"
    }
   ],
   "source": [
    "df.Weather_Condition.value_counts()"
   ]
  },
  {
   "cell_type": "markdown",
   "id": "aa8c051e-75ed-40c6-891e-ab82a6e76461",
   "metadata": {},
   "source": [
    "None and Light Sleet have almost no rows will values, drop them.\n",
    "Light Freezing Fog has 10 rows. Change to Fog.\n",
    "Leave others for now. Will need to decide if further combinations are necessary."
   ]
  },
  {
   "cell_type": "code",
   "execution_count": 63,
   "id": "0a94cf27-8b4f-4a1f-b8da-ae25f2fdbb12",
   "metadata": {},
   "outputs": [],
   "source": [
    "df = df.loc[(df.Weather_Condition != \"None\") & (df.Weather_Condition != \"Light Sleet\")]"
   ]
  },
  {
   "cell_type": "code",
   "execution_count": 64,
   "id": "13dd0f0f-0108-4471-8ad4-52158f2921fe",
   "metadata": {},
   "outputs": [],
   "source": [
    "df=df.reset_index(drop=True)"
   ]
  },
  {
   "cell_type": "code",
   "execution_count": 65,
   "id": "ca74de56-9432-4559-b5d1-b020a3e31d86",
   "metadata": {},
   "outputs": [
    {
     "data": {
      "text/plain": [
       "(69927, 34)"
      ]
     },
     "execution_count": 65,
     "metadata": {},
     "output_type": "execute_result"
    }
   ],
   "source": [
    "df.shape"
   ]
  },
  {
   "cell_type": "markdown",
   "id": "6f2cd5a8-84eb-4bcd-95a0-f0cc1fe27ffa",
   "metadata": {},
   "source": [
    "## Wind Direction"
   ]
  },
  {
   "cell_type": "code",
   "execution_count": 66,
   "id": "0f20db52-83a9-4a67-9964-2cf6b09b3156",
   "metadata": {},
   "outputs": [],
   "source": [
    "# Can decide later whether to keep or remove rows with unknown values\n",
    "df[\"Wind_Direction\"] = df.Wind_Direction.fillna(\"unknown\")"
   ]
  },
  {
   "cell_type": "code",
   "execution_count": 67,
   "id": "84715317-3782-4f7b-87f3-13aa14176b88",
   "metadata": {},
   "outputs": [
    {
     "data": {
      "text/plain": [
       "Wind_Direction\n",
       "unknown     8411\n",
       "CALM        8262\n",
       "North       7824\n",
       "Calm        7413\n",
       "WNW         4140\n",
       "NW          3614\n",
       "NNW         2521\n",
       "SSW         2295\n",
       "West        2145\n",
       "SW          1960\n",
       "W           1940\n",
       "SSE         1878\n",
       "S           1865\n",
       "SE          1800\n",
       "WSW         1767\n",
       "NNE         1713\n",
       "South       1599\n",
       "NE          1491\n",
       "N           1410\n",
       "ENE         1372\n",
       "ESE         1164\n",
       "East        1021\n",
       "E            850\n",
       "VAR          775\n",
       "Variable     697\n",
       "Name: count, dtype: int64"
      ]
     },
     "execution_count": 67,
     "metadata": {},
     "output_type": "execute_result"
    }
   ],
   "source": [
    "df.Wind_Direction.value_counts()"
   ]
  },
  {
   "cell_type": "code",
   "execution_count": 68,
   "id": "0f9c7e05-1f82-417c-b5db-7c0630886e50",
   "metadata": {},
   "outputs": [],
   "source": [
    "# Basic cleanup of alternative spellings\n",
    "def wind_map(x):\n",
    "    tomap = {\"CALM\":\"Calm\",\"South\":\"S\",\"West\":\"W\",\"North\":\"N\",\"East\":\"E\",\"VAR\":\"Variable\"}\n",
    "    if x in tomap:\n",
    "        return tomap[x]\n",
    "    return x"
   ]
  },
  {
   "cell_type": "code",
   "execution_count": 69,
   "id": "20439a21-5f52-4b84-a42b-f530a90e001e",
   "metadata": {},
   "outputs": [],
   "source": [
    "# Less fine grained values\n",
    "def wind_2(x):\n",
    "    tomap = {\"WNW\":\"NW\",\"NNW\":\"NW\",\"SSW\":\"SW\",\"SSE\":\"SE\",\"WSW\":\"SW\",\"NNE\":\"NE\",\"ENE\":\"NE\",\"ESE\":\"SE\"}\n",
    "    if x in tomap:\n",
    "        return tomap[x]\n",
    "    return x"
   ]
  },
  {
   "cell_type": "code",
   "execution_count": 70,
   "id": "c187d0a7-d878-431f-9255-ee634b35c9d5",
   "metadata": {},
   "outputs": [],
   "source": [
    "df[\"Wind_Direction\"] = df.Wind_Direction.apply(wind_map)"
   ]
  },
  {
   "cell_type": "code",
   "execution_count": 71,
   "id": "66522fcd-1da9-467e-bf96-a18a2ecd190d",
   "metadata": {},
   "outputs": [],
   "source": [
    "df[\"Wind_Direction\"] = df.Wind_Direction.apply(wind_2)"
   ]
  },
  {
   "cell_type": "code",
   "execution_count": 72,
   "id": "4205ec9a-82ce-4514-8fa7-d33303ff093e",
   "metadata": {},
   "outputs": [
    {
     "data": {
      "text/plain": [
       "Wind_Direction\n",
       "Calm        15675\n",
       "NW          10275\n",
       "N            9234\n",
       "unknown      8411\n",
       "SW           6022\n",
       "SE           4842\n",
       "NE           4576\n",
       "W            4085\n",
       "S            3464\n",
       "E            1871\n",
       "Variable     1472\n",
       "Name: count, dtype: int64"
      ]
     },
     "execution_count": 72,
     "metadata": {},
     "output_type": "execute_result"
    }
   ],
   "source": [
    "df.Wind_Direction.value_counts()"
   ]
  },
  {
   "cell_type": "markdown",
   "id": "3d9d0801-d6fe-4e2c-bead-981a89b654d7",
   "metadata": {},
   "source": [
    "## Missing Values: drop columns"
   ]
  },
  {
   "cell_type": "code",
   "execution_count": 75,
   "id": "a999d4bc-5e53-427a-84a7-d750377629d2",
   "metadata": {},
   "outputs": [
    {
     "data": {
      "text/plain": [
       "Index(['Severity', 'Distance(mi)', 'Street', 'Temperature(F)', 'Wind_Chill(F)',\n",
       "       'Humidity(%)', 'Pressure(in)', 'Visibility(mi)', 'Wind_Direction',\n",
       "       'Wind_Speed(mph)', 'Precipitation(in)', 'Weather_Condition', 'Amenity',\n",
       "       'Bump', 'Crossing', 'Give_Way', 'Junction', 'No_Exit', 'Railway',\n",
       "       'Roundabout', 'Station', 'Stop', 'Traffic_Calming', 'Traffic_Signal',\n",
       "       'Turning_Loop', 'Sunrise_Sunset', 'Civil_Twilight', 'Nautical_Twilight',\n",
       "       'Astronomical_Twilight'],\n",
       "      dtype='object')"
      ]
     },
     "execution_count": 75,
     "metadata": {},
     "output_type": "execute_result"
    }
   ],
   "source": [
    "df.columns"
   ]
  },
  {
   "cell_type": "code",
   "execution_count": 77,
   "id": "a2d9933c-c4b7-44db-9e5f-b934335270b9",
   "metadata": {},
   "outputs": [
    {
     "data": {
      "text/plain": [
       "(69927, 29)"
      ]
     },
     "execution_count": 77,
     "metadata": {},
     "output_type": "execute_result"
    }
   ],
   "source": [
    "df.shape"
   ]
  },
  {
   "cell_type": "code",
   "execution_count": 76,
   "id": "07a28390-71a4-465f-a8b9-f45c40400847",
   "metadata": {},
   "outputs": [
    {
     "data": {
      "text/plain": [
       "Severity                     0\n",
       "Distance(mi)                 0\n",
       "Street                       0\n",
       "Temperature(F)            5948\n",
       "Wind_Chill(F)            35083\n",
       "Humidity(%)               6010\n",
       "Pressure(in)              5561\n",
       "Visibility(mi)           15111\n",
       "Wind_Direction               0\n",
       "Wind_Speed(mph)          22487\n",
       "Precipitation(in)        37268\n",
       "Weather_Condition            0\n",
       "Amenity                      0\n",
       "Bump                         0\n",
       "Crossing                     0\n",
       "Give_Way                     0\n",
       "Junction                     0\n",
       "No_Exit                      0\n",
       "Railway                      0\n",
       "Roundabout                   0\n",
       "Station                      0\n",
       "Stop                         0\n",
       "Traffic_Calming              0\n",
       "Traffic_Signal               0\n",
       "Turning_Loop                 0\n",
       "Sunrise_Sunset               4\n",
       "Civil_Twilight               4\n",
       "Nautical_Twilight            4\n",
       "Astronomical_Twilight        4\n",
       "dtype: int64"
      ]
     },
     "execution_count": 76,
     "metadata": {},
     "output_type": "execute_result"
    }
   ],
   "source": [
    "df.isna().sum()"
   ]
  },
  {
   "cell_type": "code",
   "execution_count": 78,
   "id": "088f87dc-684a-484d-ad58-b1c04b6b9da7",
   "metadata": {},
   "outputs": [],
   "source": [
    "# half of the rows are missing wind chill. Better to just drop the column\n",
    "df.drop([\"Wind_Chill(F)\"],axis=1,inplace=True)"
   ]
  },
  {
   "cell_type": "code",
   "execution_count": 79,
   "id": "92a78a94-a5d5-4566-aa30-ff734412f416",
   "metadata": {},
   "outputs": [],
   "source": [
    "# half of the rows are missing precipitation, and weather condition already\n",
    "# covers that situation more or less. So drop\n",
    "df.drop([\"Precipitation(in)\"],axis=1,inplace=True)"
   ]
  },
  {
   "cell_type": "code",
   "execution_count": 84,
   "id": "76c3262e-0843-4fdd-b6a3-deb91368fd40",
   "metadata": {},
   "outputs": [
    {
     "data": {
      "text/plain": [
       "<Axes: >"
      ]
     },
     "execution_count": 84,
     "metadata": {},
     "output_type": "execute_result"
    },
    {
     "data": {
      "image/png": "[encoded data removed]",
      "text/plain": [
       "<Figure size 640x480 with 1 Axes>"
      ]
     },
     "metadata": {},
     "output_type": "display_data"
    }
   ],
   "source": [
    "df[\"Wind_Speed(mph)\"].hist(bins=30)"
   ]
  },
  {
   "cell_type": "code",
   "execution_count": 88,
   "id": "7c7f056f-33f7-45a9-9808-5c93a5e5833a",
   "metadata": {},
   "outputs": [
    {
     "data": {
      "text/plain": [
       "11"
      ]
     },
     "execution_count": 88,
     "metadata": {},
     "output_type": "execute_result"
    }
   ],
   "source": [
    "df[df[\"Wind_Speed(mph)\"] > 40].shape[0]"
   ]
  },
  {
   "cell_type": "markdown",
   "id": "fd3f4c3f-4c9f-450a-bb4d-d8a6d871ee87",
   "metadata": {},
   "source": [
    "Wind speed has a significant number of missing values. It is also a fairly tight distribution other than 11 values that are larger. Although wind speed could be useful in predicting severity, it may not be worth keeping in this situation. I think we try without it first."
   ]
  },
  {
   "cell_type": "code",
   "execution_count": 89,
   "id": "9924ce03-3f75-4d11-832d-cc0cac99295f",
   "metadata": {},
   "outputs": [],
   "source": [
    "df.drop([\"Wind_Speed(mph)\"],inplace=True,axis=1)"
   ]
  },
  {
   "cell_type": "code",
   "execution_count": 90,
   "id": "f31c7493-043a-4c96-b6a6-b6e70187f83d",
   "metadata": {},
   "outputs": [
    {
     "data": {
      "text/plain": [
       "Severity                     0\n",
       "Distance(mi)                 0\n",
       "Street                       0\n",
       "Temperature(F)            5948\n",
       "Humidity(%)               6010\n",
       "Pressure(in)              5561\n",
       "Visibility(mi)           15111\n",
       "Wind_Direction               0\n",
       "Weather_Condition            0\n",
       "Amenity                      0\n",
       "Bump                         0\n",
       "Crossing                     0\n",
       "Give_Way                     0\n",
       "Junction                     0\n",
       "No_Exit                      0\n",
       "Railway                      0\n",
       "Roundabout                   0\n",
       "Station                      0\n",
       "Stop                         0\n",
       "Traffic_Calming              0\n",
       "Traffic_Signal               0\n",
       "Turning_Loop                 0\n",
       "Sunrise_Sunset               4\n",
       "Civil_Twilight               4\n",
       "Nautical_Twilight            4\n",
       "Astronomical_Twilight        4\n",
       "dtype: int64"
      ]
     },
     "execution_count": 90,
     "metadata": {},
     "output_type": "execute_result"
    }
   ],
   "source": [
    "df.isna().sum()"
   ]
  },
  {
   "cell_type": "code",
   "execution_count": 91,
   "id": "ce8dd527-25b4-4ef6-b79f-72de9da790eb",
   "metadata": {},
   "outputs": [
    {
     "data": {
      "text/plain": [
       "(54243, 26)"
      ]
     },
     "execution_count": 91,
     "metadata": {},
     "output_type": "execute_result"
    }
   ],
   "source": [
    "df.dropna().shape"
   ]
  },
  {
   "cell_type": "markdown",
   "id": "ecbbbdb4-c2b7-40d0-b0e1-c5f4f98471a3",
   "metadata": {},
   "source": [
    "It looks like dropping NA values doesn't remove too many rows, there must be rows with multiple NA values. So let's drop NA rows."
   ]
  },
  {
   "cell_type": "code",
   "execution_count": 92,
   "id": "6864932f-351e-400a-8413-77d7a328413e",
   "metadata": {},
   "outputs": [],
   "source": [
    "df.dropna(inplace=True)"
   ]
  },
  {
   "cell_type": "markdown",
   "id": "d482d59f-83cf-40cd-8668-341974756279",
   "metadata": {},
   "source": [
    "## Twilights\n",
    "\n",
    "We don't need four different twilights."
   ]
  },
  {
   "cell_type": "code",
   "execution_count": 93,
   "id": "68a2192d-d6d1-4441-9d92-2bf0863976c1",
   "metadata": {},
   "outputs": [
    {
     "data": {
      "text/plain": [
       "Index(['Severity', 'Distance(mi)', 'Street', 'Temperature(F)', 'Humidity(%)',\n",
       "       'Pressure(in)', 'Visibility(mi)', 'Wind_Direction', 'Weather_Condition',\n",
       "       'Amenity', 'Bump', 'Crossing', 'Give_Way', 'Junction', 'No_Exit',\n",
       "       'Railway', 'Roundabout', 'Station', 'Stop', 'Traffic_Calming',\n",
       "       'Traffic_Signal', 'Turning_Loop', 'Sunrise_Sunset', 'Civil_Twilight',\n",
       "       'Nautical_Twilight', 'Astronomical_Twilight'],\n",
       "      dtype='object')"
      ]
     },
     "execution_count": 93,
     "metadata": {},
     "output_type": "execute_result"
    }
   ],
   "source": [
    "df.columns"
   ]
  },
  {
   "cell_type": "code",
   "execution_count": 94,
   "id": "f17843bb-22a8-476e-bb99-d1b2653c9cdc",
   "metadata": {},
   "outputs": [],
   "source": [
    "df.drop(['Civil_Twilight','Nautical_Twilight', 'Astronomical_Twilight'],inplace=True,axis=1)"
   ]
  },
  {
   "cell_type": "markdown",
   "id": "6643f7c5-ca45-4bf3-9088-3b6cade45229",
   "metadata": {},
   "source": [
    "## Any columns have too little info?"
   ]
  },
  {
   "cell_type": "code",
   "execution_count": 97,
   "id": "1cd7b877-9200-4e00-80eb-e593096c0112",
   "metadata": {},
   "outputs": [
    {
     "name": "stdout",
     "output_type": "stream",
     "text": [
      "Amenity\n",
      "False    53968\n",
      "True       275\n",
      "Name: count, dtype: int64\n",
      "Bump\n",
      "False    54230\n",
      "True        13\n",
      "Name: count, dtype: int64\n",
      "Crossing\n",
      "False    51876\n",
      "True      2367\n",
      "Name: count, dtype: int64\n",
      "Give_Way\n",
      "False    54172\n",
      "True        71\n",
      "Name: count, dtype: int64\n",
      "Junction\n",
      "False    47466\n",
      "True      6777\n",
      "Name: count, dtype: int64\n",
      "No_Exit\n",
      "False    54201\n",
      "True        42\n",
      "Name: count, dtype: int64\n",
      "Railway\n",
      "False    54148\n",
      "True        95\n",
      "Name: count, dtype: int64\n",
      "Roundabout\n",
      "False    54241\n",
      "True         2\n",
      "Name: count, dtype: int64\n",
      "Station\n",
      "False    53671\n",
      "True       572\n",
      "Name: count, dtype: int64\n",
      "Stop\n",
      "False    53979\n",
      "True       264\n",
      "Name: count, dtype: int64\n",
      "Traffic_Calming\n",
      "False    54059\n",
      "True       184\n",
      "Name: count, dtype: int64\n",
      "Traffic_Signal\n",
      "False    47444\n",
      "True      6799\n",
      "Name: count, dtype: int64\n",
      "Turning_Loop\n",
      "False    54243\n",
      "Name: count, dtype: int64\n"
     ]
    }
   ],
   "source": [
    "for col in ['Amenity', 'Bump', 'Crossing', 'Give_Way', 'Junction', 'No_Exit',\n",
    "       'Railway', 'Roundabout', 'Station', 'Stop', 'Traffic_Calming',\n",
    "       'Traffic_Signal', 'Turning_Loop']:\n",
    "    print(df[col].value_counts())"
   ]
  },
  {
   "cell_type": "markdown",
   "id": "e687dc74-13b1-4117-b5b8-8e04f54a3b9d",
   "metadata": {},
   "source": [
    "Bump, Give_Way, No_Exit, Roundabout, have almost no True values, so drop.\n",
    "All values in Turning_Loop are identical, so drop."
   ]
  },
  {
   "cell_type": "code",
   "execution_count": 99,
   "id": "5afbd469-6197-4289-8403-f67f44e9bb4a",
   "metadata": {},
   "outputs": [],
   "source": [
    "df.drop(['Bump', 'Give_Way', 'No_Exit', 'Roundabout','Turning_Loop'],inplace=True,axis=1)"
   ]
  },
  {
   "cell_type": "markdown",
   "id": "e5244108-49a6-4503-b1f4-ac4571884a6f",
   "metadata": {},
   "source": [
    "Will need to consider if it is worth keeping all of these or combining in some way."
   ]
  },
  {
   "cell_type": "code",
   "execution_count": 100,
   "id": "32591322-30f0-4130-b8d2-8d117a0aded3",
   "metadata": {},
   "outputs": [
    {
     "data": {
      "text/plain": [
       "Index(['Severity', 'Distance(mi)', 'Street', 'Temperature(F)', 'Humidity(%)',\n",
       "       'Pressure(in)', 'Visibility(mi)', 'Wind_Direction', 'Weather_Condition',\n",
       "       'Amenity', 'Crossing', 'Junction', 'Railway', 'Station', 'Stop',\n",
       "       'Traffic_Calming', 'Traffic_Signal', 'Sunrise_Sunset'],\n",
       "      dtype='object')"
      ]
     },
     "execution_count": 100,
     "metadata": {},
     "output_type": "execute_result"
    }
   ],
   "source": [
    "df.columns"
   ]
  },
  {
   "cell_type": "code",
   "execution_count": 101,
   "id": "92e9f955-107d-4c81-97d0-70f14f579632",
   "metadata": {},
   "outputs": [
    {
     "data": {
      "text/plain": [
       "(54243, 18)"
      ]
     },
     "execution_count": 101,
     "metadata": {},
     "output_type": "execute_result"
    }
   ],
   "source": [
    "df.shape"
   ]
  },
  {
   "cell_type": "markdown",
   "id": "573b7afc-14d5-486e-8ce8-5ff267a65390",
   "metadata": {},
   "source": [
    "## Examine Severity\n",
    "\n",
    "For our project we want to wait to decide what to do about imbalance, and wait to one hot encode. Code below considers these issues, but the dataset saved is the one that exists without changing Severity or one hot encoding anything."
   ]
  },
  {
   "cell_type": "code",
   "execution_count": 103,
   "id": "0255cd55-be58-4564-8950-49684dd153a8",
   "metadata": {},
   "outputs": [
    {
     "data": {
      "text/plain": [
       "Severity\n",
       "2    31956\n",
       "3    16250\n",
       "4     5771\n",
       "1      266\n",
       "Name: count, dtype: int64"
      ]
     },
     "execution_count": 103,
     "metadata": {},
     "output_type": "execute_result"
    }
   ],
   "source": [
    "df.Severity.value_counts()"
   ]
  },
  {
   "cell_type": "code",
   "execution_count": 385,
   "id": "eea391ba-bd6b-424b-856d-86d968f28526",
   "metadata": {},
   "outputs": [],
   "source": [
    "#df.Severity = df.Severity.apply(lambda x: 2 if x == 1 else x)"
   ]
  },
  {
   "cell_type": "code",
   "execution_count": 104,
   "id": "299034e2-3368-416c-baa0-19eba9200f58",
   "metadata": {},
   "outputs": [
    {
     "name": "stdout",
     "output_type": "stream",
     "text": [
      "Severity\n",
      "Distance(mi)\n",
      "Street\n",
      "Temperature(F)\n",
      "Humidity(%)\n",
      "Pressure(in)\n",
      "Visibility(mi)\n",
      "Wind_Direction\n",
      "Weather_Condition\n",
      "Amenity\n",
      "Crossing\n",
      "Junction\n",
      "Railway\n",
      "Station\n",
      "Stop\n",
      "Traffic_Calming\n",
      "Traffic_Signal\n",
      "Sunrise_Sunset\n"
     ]
    }
   ],
   "source": [
    "for c in df.columns:\n",
    "    print(c)"
   ]
  },
  {
   "cell_type": "code",
   "execution_count": 105,
   "id": "c82568c3-9a75-44ad-8638-bb46c40bd980",
   "metadata": {},
   "outputs": [],
   "source": [
    "df_ohe = pd.get_dummies(df,drop_first=True)"
   ]
  },
  {
   "cell_type": "code",
   "execution_count": 106,
   "id": "5f0969ff-9dac-45b1-ac3e-290cf6e430fe",
   "metadata": {},
   "outputs": [
    {
     "data": {
      "text/plain": [
       "(54243, 51)"
      ]
     },
     "execution_count": 106,
     "metadata": {},
     "output_type": "execute_result"
    }
   ],
   "source": [
    "df_ohe.shape"
   ]
  },
  {
   "cell_type": "code",
   "execution_count": 107,
   "id": "e7d30d33-55cf-405f-919d-7388e55052ca",
   "metadata": {},
   "outputs": [
    {
     "data": {
      "text/plain": [
       "Index(['Severity', 'Distance(mi)', 'Temperature(F)', 'Humidity(%)',\n",
       "       'Pressure(in)', 'Visibility(mi)', 'Amenity', 'Crossing', 'Junction',\n",
       "       'Railway', 'Station', 'Stop', 'Traffic_Calming', 'Traffic_Signal',\n",
       "       'Street_Highway', 'Street_Interstate', 'Street_Tunnel',\n",
       "       'Street_large_local', 'Street_local', 'Wind_Direction_E',\n",
       "       'Wind_Direction_N', 'Wind_Direction_NE', 'Wind_Direction_NW',\n",
       "       'Wind_Direction_S', 'Wind_Direction_SE', 'Wind_Direction_SW',\n",
       "       'Wind_Direction_Variable', 'Wind_Direction_W', 'Wind_Direction_unknown',\n",
       "       'Weather_Condition_Cloudy', 'Weather_Condition_Drizzle',\n",
       "       'Weather_Condition_Fair', 'Weather_Condition_Fog',\n",
       "       'Weather_Condition_Haze', 'Weather_Condition_Heavy Rain',\n",
       "       'Weather_Condition_Ice Pellets', 'Weather_Condition_Light Freezing Fog',\n",
       "       'Weather_Condition_Light Freezing Rain',\n",
       "       'Weather_Condition_Mostly Cloudy', 'Weather_Condition_Overcast',\n",
       "       'Weather_Condition_Partly Cloudy', 'Weather_Condition_Rain',\n",
       "       'Weather_Condition_Scattered Clouds', 'Weather_Condition_Snow',\n",
       "       'Weather_Condition_Thunder', 'Weather_Condition_Thunderstorm',\n",
       "       'Weather_Condition_Thunderstorms', 'Weather_Condition_Windy',\n",
       "       'Weather_Condition_Wintry Mix', 'Weather_Condition_unknown',\n",
       "       'Sunrise_Sunset_Night'],\n",
       "      dtype='object')"
      ]
     },
     "execution_count": 107,
     "metadata": {},
     "output_type": "execute_result"
    }
   ],
   "source": [
    "df_ohe.columns"
   ]
  },
  {
   "cell_type": "code",
   "execution_count": null,
   "id": "a13642bb-78c4-4363-931e-20b7169f29bd",
   "metadata": {},
   "outputs": [],
   "source": [
    "# Save dataset with 4 classes and "
   ]
  }
 ],
 "metadata": {
  "kernelspec": {
   "display_name": "python_ML_3.13",
   "language": "python",
   "name": "python_ml_3.13"
  },
  "language_info": {
   "codemirror_mode": {
    "name": "ipython",
    "version": 3
   },
   "file_extension": ".py",
   "mimetype": "text/x-python",
   "name": "python",
   "nbconvert_exporter": "python",
   "pygments_lexer": "ipython3",
   "version": "3.13.1"
  }
 },
 "nbformat": 4,
 "nbformat_minor": 5
}
